{
 "cells": [
  {
   "cell_type": "code",
   "execution_count": 102,
   "metadata": {},
   "outputs": [],
   "source": [
    "import numpy as np\n",
    "import pandas as pd\n",
    "from scipy import stats\n",
    "import seaborn as sns\n",
    "import plotly.io as pio\n",
    "import plotly.express as px\n",
    "import plotly.graph_objects as go\n",
    "import matplotlib.pyplot as plt\n",
    "from sklearn.cluster import KMeans\n",
    "import plotly.figure_factory as ff\n",
    "from prettytable import PrettyTable\n",
    "from sklearn.preprocessing import RobustScaler\n",
    "\n",
    "from plotly.subplots import make_subplots\n",
    "\n",
    "\n",
    "#Modeling\n",
    "from sklearn.preprocessing import LabelEncoder\n",
    "from sklearn.model_selection import RepeatedKFold\n",
    "import lightgbm as lgbm\n",
    "from yellowbrick.cluster import KElbowVisualizer\n",
    "from sklearn.metrics import mean_squared_error, mean_absolute_error, r2_score      \n",
    "from sklearn.svm import SVR\n",
    "from sklearn.linear_model import LinearRegression, Ridge, Lasso\n",
    "from sklearn.linear_model import ElasticNet, BayesianRidge\n",
    "from sklearn.ensemble import AdaBoostRegressor\n",
    "\n",
    "\n",
    "\n",
    "\n",
    "from catboost import CatBoostRegressor\n",
    "\n",
    "#from sklego.linear_model import LADRegression\n",
    "from xgboost import XGBRegressor\n",
    "from scipy.stats import yeojohnson\n",
    "from sklearn.ensemble import VotingRegressor\n",
    "from sklearn.ensemble import IsolationForest\n",
    "from sklearn.preprocessing import StandardScaler\n",
    "from sklearn.model_selection import train_test_split\n",
    "from scipy.stats import skew\n",
    "from scipy.special import boxcox1p\n",
    "from scipy.stats import boxcox_normmax\n",
    "from mlxtend.regressor import StackingCVRegressor\n",
    "from sklearn.preprocessing import PolynomialFeatures\n",
    "\n",
    "import warnings\n",
    "warnings.filterwarnings('ignore')"
   ]
  },
  {
   "cell_type": "markdown",
   "metadata": {},
   "source": [
    "# **2. Data Collection**"
   ]
  },
  {
   "cell_type": "code",
   "execution_count": 103,
   "metadata": {},
   "outputs": [
    {
     "data": {
      "text/html": [
       "<div>\n",
       "<style scoped>\n",
       "    .dataframe tbody tr th:only-of-type {\n",
       "        vertical-align: middle;\n",
       "    }\n",
       "\n",
       "    .dataframe tbody tr th {\n",
       "        vertical-align: top;\n",
       "    }\n",
       "\n",
       "    .dataframe thead th {\n",
       "        text-align: right;\n",
       "    }\n",
       "</style>\n",
       "<table border=\"1\" class=\"dataframe\">\n",
       "  <thead>\n",
       "    <tr style=\"text-align: right;\">\n",
       "      <th></th>\n",
       "      <th>booking_status</th>\n",
       "      <th>booking_guest_number</th>\n",
       "      <th>booking_earned</th>\n",
       "      <th>booking_currency</th>\n",
       "      <th>review_sentiment_score</th>\n",
       "      <th>cancellation_policy</th>\n",
       "      <th>booking_earned_in_idr</th>\n",
       "      <th>length_of_stay</th>\n",
       "      <th>booking_window</th>\n",
       "      <th>seasonality</th>\n",
       "      <th>...</th>\n",
       "      <th>wifi</th>\n",
       "      <th>tv</th>\n",
       "      <th>cable_tv</th>\n",
       "      <th>ac</th>\n",
       "      <th>workspace</th>\n",
       "      <th>pool</th>\n",
       "      <th>parking</th>\n",
       "      <th>gym</th>\n",
       "      <th>kitchen</th>\n",
       "      <th>airport_pickup_price_idr</th>\n",
       "    </tr>\n",
       "  </thead>\n",
       "  <tbody>\n",
       "    <tr>\n",
       "      <th>count</th>\n",
       "      <td>56825.000000</td>\n",
       "      <td>9015.000000</td>\n",
       "      <td>5.682500e+04</td>\n",
       "      <td>56825.000000</td>\n",
       "      <td>6030.000000</td>\n",
       "      <td>0.0</td>\n",
       "      <td>5.682500e+04</td>\n",
       "      <td>56825.000000</td>\n",
       "      <td>30445.000000</td>\n",
       "      <td>56825.000000</td>\n",
       "      <td>...</td>\n",
       "      <td>42082.000000</td>\n",
       "      <td>42082.000000</td>\n",
       "      <td>42082.000000</td>\n",
       "      <td>42082.000000</td>\n",
       "      <td>42082.000000</td>\n",
       "      <td>42082.000000</td>\n",
       "      <td>42082.000000</td>\n",
       "      <td>42082.000000</td>\n",
       "      <td>42082.000000</td>\n",
       "      <td>48044.000000</td>\n",
       "    </tr>\n",
       "    <tr>\n",
       "      <th>mean</th>\n",
       "      <td>1.063968</td>\n",
       "      <td>2.618525</td>\n",
       "      <td>1.571828e+06</td>\n",
       "      <td>1.233295</td>\n",
       "      <td>0.729690</td>\n",
       "      <td>NaN</td>\n",
       "      <td>2.675725e+06</td>\n",
       "      <td>2.839366</td>\n",
       "      <td>23.068944</td>\n",
       "      <td>0.372107</td>\n",
       "      <td>...</td>\n",
       "      <td>0.989449</td>\n",
       "      <td>0.576137</td>\n",
       "      <td>0.213892</td>\n",
       "      <td>0.991754</td>\n",
       "      <td>0.936101</td>\n",
       "      <td>0.820755</td>\n",
       "      <td>0.947032</td>\n",
       "      <td>0.005988</td>\n",
       "      <td>0.321468</td>\n",
       "      <td>325682.499376</td>\n",
       "    </tr>\n",
       "    <tr>\n",
       "      <th>std</th>\n",
       "      <td>0.281550</td>\n",
       "      <td>2.274074</td>\n",
       "      <td>3.034301e+06</td>\n",
       "      <td>0.427279</td>\n",
       "      <td>0.413806</td>\n",
       "      <td>NaN</td>\n",
       "      <td>4.568150e+06</td>\n",
       "      <td>2.982119</td>\n",
       "      <td>36.979856</td>\n",
       "      <td>0.483371</td>\n",
       "      <td>...</td>\n",
       "      <td>0.102175</td>\n",
       "      <td>0.494175</td>\n",
       "      <td>0.410056</td>\n",
       "      <td>0.090432</td>\n",
       "      <td>0.244576</td>\n",
       "      <td>0.383562</td>\n",
       "      <td>0.223972</td>\n",
       "      <td>0.077153</td>\n",
       "      <td>0.467045</td>\n",
       "      <td>39039.625935</td>\n",
       "    </tr>\n",
       "    <tr>\n",
       "      <th>min</th>\n",
       "      <td>1.000000</td>\n",
       "      <td>0.000000</td>\n",
       "      <td>0.000000e+00</td>\n",
       "      <td>1.000000</td>\n",
       "      <td>-0.998203</td>\n",
       "      <td>NaN</td>\n",
       "      <td>0.000000e+00</td>\n",
       "      <td>-30.000000</td>\n",
       "      <td>0.000000</td>\n",
       "      <td>0.000000</td>\n",
       "      <td>...</td>\n",
       "      <td>0.000000</td>\n",
       "      <td>0.000000</td>\n",
       "      <td>0.000000</td>\n",
       "      <td>0.000000</td>\n",
       "      <td>0.000000</td>\n",
       "      <td>0.000000</td>\n",
       "      <td>0.000000</td>\n",
       "      <td>0.000000</td>\n",
       "      <td>0.000000</td>\n",
       "      <td>195000.000000</td>\n",
       "    </tr>\n",
       "    <tr>\n",
       "      <th>25%</th>\n",
       "      <td>1.000000</td>\n",
       "      <td>2.000000</td>\n",
       "      <td>6.450000e+02</td>\n",
       "      <td>1.000000</td>\n",
       "      <td>0.704758</td>\n",
       "      <td>NaN</td>\n",
       "      <td>6.984000e+05</td>\n",
       "      <td>1.000000</td>\n",
       "      <td>1.000000</td>\n",
       "      <td>0.000000</td>\n",
       "      <td>...</td>\n",
       "      <td>1.000000</td>\n",
       "      <td>0.000000</td>\n",
       "      <td>0.000000</td>\n",
       "      <td>1.000000</td>\n",
       "      <td>1.000000</td>\n",
       "      <td>1.000000</td>\n",
       "      <td>1.000000</td>\n",
       "      <td>0.000000</td>\n",
       "      <td>0.000000</td>\n",
       "      <td>325000.000000</td>\n",
       "    </tr>\n",
       "    <tr>\n",
       "      <th>50%</th>\n",
       "      <td>1.000000</td>\n",
       "      <td>2.000000</td>\n",
       "      <td>7.992800e+05</td>\n",
       "      <td>1.000000</td>\n",
       "      <td>0.887651</td>\n",
       "      <td>NaN</td>\n",
       "      <td>1.374490e+06</td>\n",
       "      <td>2.000000</td>\n",
       "      <td>6.000000</td>\n",
       "      <td>0.000000</td>\n",
       "      <td>...</td>\n",
       "      <td>1.000000</td>\n",
       "      <td>1.000000</td>\n",
       "      <td>0.000000</td>\n",
       "      <td>1.000000</td>\n",
       "      <td>1.000000</td>\n",
       "      <td>1.000000</td>\n",
       "      <td>1.000000</td>\n",
       "      <td>0.000000</td>\n",
       "      <td>0.000000</td>\n",
       "      <td>325000.000000</td>\n",
       "    </tr>\n",
       "    <tr>\n",
       "      <th>75%</th>\n",
       "      <td>1.000000</td>\n",
       "      <td>2.000000</td>\n",
       "      <td>1.778367e+06</td>\n",
       "      <td>1.000000</td>\n",
       "      <td>0.972097</td>\n",
       "      <td>NaN</td>\n",
       "      <td>2.789421e+06</td>\n",
       "      <td>3.000000</td>\n",
       "      <td>31.000000</td>\n",
       "      <td>1.000000</td>\n",
       "      <td>...</td>\n",
       "      <td>1.000000</td>\n",
       "      <td>1.000000</td>\n",
       "      <td>0.000000</td>\n",
       "      <td>1.000000</td>\n",
       "      <td>1.000000</td>\n",
       "      <td>1.000000</td>\n",
       "      <td>1.000000</td>\n",
       "      <td>0.000000</td>\n",
       "      <td>1.000000</td>\n",
       "      <td>325000.000000</td>\n",
       "    </tr>\n",
       "    <tr>\n",
       "      <th>max</th>\n",
       "      <td>6.000000</td>\n",
       "      <td>30.000000</td>\n",
       "      <td>9.429215e+07</td>\n",
       "      <td>3.000000</td>\n",
       "      <td>0.999999</td>\n",
       "      <td>NaN</td>\n",
       "      <td>1.303185e+08</td>\n",
       "      <td>349.000000</td>\n",
       "      <td>383.000000</td>\n",
       "      <td>1.000000</td>\n",
       "      <td>...</td>\n",
       "      <td>1.000000</td>\n",
       "      <td>1.000000</td>\n",
       "      <td>1.000000</td>\n",
       "      <td>1.000000</td>\n",
       "      <td>1.000000</td>\n",
       "      <td>1.000000</td>\n",
       "      <td>1.000000</td>\n",
       "      <td>1.000000</td>\n",
       "      <td>1.000000</td>\n",
       "      <td>585000.000000</td>\n",
       "    </tr>\n",
       "  </tbody>\n",
       "</table>\n",
       "<p>8 rows × 27 columns</p>\n",
       "</div>"
      ],
      "text/plain": [
       "       booking_status  booking_guest_number  booking_earned  booking_currency   \n",
       "count    56825.000000           9015.000000    5.682500e+04      56825.000000  \\\n",
       "mean         1.063968              2.618525    1.571828e+06          1.233295   \n",
       "std          0.281550              2.274074    3.034301e+06          0.427279   \n",
       "min          1.000000              0.000000    0.000000e+00          1.000000   \n",
       "25%          1.000000              2.000000    6.450000e+02          1.000000   \n",
       "50%          1.000000              2.000000    7.992800e+05          1.000000   \n",
       "75%          1.000000              2.000000    1.778367e+06          1.000000   \n",
       "max          6.000000             30.000000    9.429215e+07          3.000000   \n",
       "\n",
       "       review_sentiment_score  cancellation_policy  booking_earned_in_idr   \n",
       "count             6030.000000                  0.0           5.682500e+04  \\\n",
       "mean                 0.729690                  NaN           2.675725e+06   \n",
       "std                  0.413806                  NaN           4.568150e+06   \n",
       "min                 -0.998203                  NaN           0.000000e+00   \n",
       "25%                  0.704758                  NaN           6.984000e+05   \n",
       "50%                  0.887651                  NaN           1.374490e+06   \n",
       "75%                  0.972097                  NaN           2.789421e+06   \n",
       "max                  0.999999                  NaN           1.303185e+08   \n",
       "\n",
       "       length_of_stay  booking_window   seasonality  ...          wifi   \n",
       "count    56825.000000    30445.000000  56825.000000  ...  42082.000000  \\\n",
       "mean         2.839366       23.068944      0.372107  ...      0.989449   \n",
       "std          2.982119       36.979856      0.483371  ...      0.102175   \n",
       "min        -30.000000        0.000000      0.000000  ...      0.000000   \n",
       "25%          1.000000        1.000000      0.000000  ...      1.000000   \n",
       "50%          2.000000        6.000000      0.000000  ...      1.000000   \n",
       "75%          3.000000       31.000000      1.000000  ...      1.000000   \n",
       "max        349.000000      383.000000      1.000000  ...      1.000000   \n",
       "\n",
       "                 tv      cable_tv            ac     workspace          pool   \n",
       "count  42082.000000  42082.000000  42082.000000  42082.000000  42082.000000  \\\n",
       "mean       0.576137      0.213892      0.991754      0.936101      0.820755   \n",
       "std        0.494175      0.410056      0.090432      0.244576      0.383562   \n",
       "min        0.000000      0.000000      0.000000      0.000000      0.000000   \n",
       "25%        0.000000      0.000000      1.000000      1.000000      1.000000   \n",
       "50%        1.000000      0.000000      1.000000      1.000000      1.000000   \n",
       "75%        1.000000      0.000000      1.000000      1.000000      1.000000   \n",
       "max        1.000000      1.000000      1.000000      1.000000      1.000000   \n",
       "\n",
       "            parking           gym       kitchen  airport_pickup_price_idr  \n",
       "count  42082.000000  42082.000000  42082.000000              48044.000000  \n",
       "mean       0.947032      0.005988      0.321468             325682.499376  \n",
       "std        0.223972      0.077153      0.467045              39039.625935  \n",
       "min        0.000000      0.000000      0.000000             195000.000000  \n",
       "25%        1.000000      0.000000      0.000000             325000.000000  \n",
       "50%        1.000000      0.000000      0.000000             325000.000000  \n",
       "75%        1.000000      0.000000      1.000000             325000.000000  \n",
       "max        1.000000      1.000000      1.000000             585000.000000  \n",
       "\n",
       "[8 rows x 27 columns]"
      ]
     },
     "execution_count": 103,
     "metadata": {},
     "output_type": "execute_result"
    }
   ],
   "source": [
    "import pandas as pd\n",
    "\n",
    "# Definisikan nama file\n",
    "filename = \"booking_dataset_2024_06_03.csv\"\n",
    "\n",
    "# Membaca dataset dari file CSV\n",
    "raw_data = pd.read_csv(filename)\n",
    "df = raw_data\n",
    "data_eda =raw_data\n",
    "\n",
    "# Menampilkan 5 baris pertama dari dataset\n",
    "raw_data.describe()"
   ]
  },
  {
   "cell_type": "code",
   "execution_count": 104,
   "metadata": {},
   "outputs": [],
   "source": [
    "raw_data = raw_data.drop(['booking_earned_in_idr','avg_daily_rate_per_unit','seasonality','property_id1','cancellation_policy','booking_status','booking_guest_number'\n",
    "                          ,'review_sentiment','review_sentiment_score','booking_earned'\n",
    "], axis = 1)\n"
   ]
  },
  {
   "cell_type": "code",
   "execution_count": 105,
   "metadata": {},
   "outputs": [],
   "source": [
    "df = raw_data\n",
    "data_eda =raw_data"
   ]
  },
  {
   "cell_type": "code",
   "execution_count": 106,
   "metadata": {},
   "outputs": [
    {
     "name": "stdout",
     "output_type": "stream",
     "text": [
      "<class 'pandas.core.frame.DataFrame'>\n",
      "RangeIndex: 56825 entries, 0 to 56824\n",
      "Data columns (total 29 columns):\n",
      " #   Column                      Non-Null Count  Dtype  \n",
      "---  ------                      --------------  -----  \n",
      " 0   booking_id                  56825 non-null  object \n",
      " 1   booking_check_in            56825 non-null  object \n",
      " 2   booking_check_out           56825 non-null  object \n",
      " 3   booking_currency            56825 non-null  int64  \n",
      " 4   booking_received_timestamp  30445 non-null  object \n",
      " 5   listing_id                  56825 non-null  object \n",
      " 6   length_of_stay              56825 non-null  int64  \n",
      " 7   booking_window              30445 non-null  float64\n",
      " 8   average_daily_rate          56825 non-null  float64\n",
      " 9   unit_id                     56811 non-null  object \n",
      " 10  status                      56378 non-null  float64\n",
      " 11  bedroom                     56312 non-null  float64\n",
      " 12  bathroom                    45230 non-null  float64\n",
      " 13  beds                        45230 non-null  float64\n",
      " 14  capacity                    41269 non-null  float64\n",
      " 15  property_id                 56378 non-null  object \n",
      " 16  wifi                        42082 non-null  float64\n",
      " 17  tv                          42082 non-null  float64\n",
      " 18  cable_tv                    42082 non-null  float64\n",
      " 19  ac                          42082 non-null  float64\n",
      " 20  workspace                   42082 non-null  float64\n",
      " 21  pool                        42082 non-null  float64\n",
      " 22  parking                     42082 non-null  float64\n",
      " 23  gym                         42082 non-null  float64\n",
      " 24  kitchen                     42082 non-null  float64\n",
      " 25  area_id                     56247 non-null  object \n",
      " 26  area_name                   56247 non-null  object \n",
      " 27  area_distance_to_airport    55356 non-null  object \n",
      " 28  airport_pickup_price_idr    48044 non-null  float64\n",
      "dtypes: float64(17), int64(2), object(10)\n",
      "memory usage: 12.6+ MB\n"
     ]
    }
   ],
   "source": [
    "raw_data.info()"
   ]
  },
  {
   "cell_type": "code",
   "execution_count": 107,
   "metadata": {},
   "outputs": [
    {
     "data": {
      "text/html": [
       "<div>\n",
       "<style scoped>\n",
       "    .dataframe tbody tr th:only-of-type {\n",
       "        vertical-align: middle;\n",
       "    }\n",
       "\n",
       "    .dataframe tbody tr th {\n",
       "        vertical-align: top;\n",
       "    }\n",
       "\n",
       "    .dataframe thead th {\n",
       "        text-align: right;\n",
       "    }\n",
       "</style>\n",
       "<table border=\"1\" class=\"dataframe\">\n",
       "  <thead>\n",
       "    <tr style=\"text-align: right;\">\n",
       "      <th></th>\n",
       "      <th>booking_currency</th>\n",
       "      <th>length_of_stay</th>\n",
       "      <th>booking_window</th>\n",
       "      <th>average_daily_rate</th>\n",
       "      <th>status</th>\n",
       "      <th>bedroom</th>\n",
       "      <th>bathroom</th>\n",
       "      <th>beds</th>\n",
       "      <th>capacity</th>\n",
       "      <th>wifi</th>\n",
       "      <th>tv</th>\n",
       "      <th>cable_tv</th>\n",
       "      <th>ac</th>\n",
       "      <th>workspace</th>\n",
       "      <th>pool</th>\n",
       "      <th>parking</th>\n",
       "      <th>gym</th>\n",
       "      <th>kitchen</th>\n",
       "      <th>airport_pickup_price_idr</th>\n",
       "    </tr>\n",
       "  </thead>\n",
       "  <tbody>\n",
       "    <tr>\n",
       "      <th>count</th>\n",
       "      <td>56825.000000</td>\n",
       "      <td>56825.000000</td>\n",
       "      <td>30445.000000</td>\n",
       "      <td>5.682500e+04</td>\n",
       "      <td>56378.000000</td>\n",
       "      <td>56312.000000</td>\n",
       "      <td>45230.000000</td>\n",
       "      <td>45230.000000</td>\n",
       "      <td>41269.000000</td>\n",
       "      <td>42082.000000</td>\n",
       "      <td>42082.000000</td>\n",
       "      <td>42082.000000</td>\n",
       "      <td>42082.000000</td>\n",
       "      <td>42082.000000</td>\n",
       "      <td>42082.000000</td>\n",
       "      <td>42082.000000</td>\n",
       "      <td>42082.000000</td>\n",
       "      <td>42082.000000</td>\n",
       "      <td>48044.000000</td>\n",
       "    </tr>\n",
       "    <tr>\n",
       "      <th>mean</th>\n",
       "      <td>1.233295</td>\n",
       "      <td>2.839366</td>\n",
       "      <td>23.068944</td>\n",
       "      <td>9.214800e+05</td>\n",
       "      <td>1.725460</td>\n",
       "      <td>1.455214</td>\n",
       "      <td>1.084656</td>\n",
       "      <td>1.100951</td>\n",
       "      <td>2.531658</td>\n",
       "      <td>0.989449</td>\n",
       "      <td>0.576137</td>\n",
       "      <td>0.213892</td>\n",
       "      <td>0.991754</td>\n",
       "      <td>0.936101</td>\n",
       "      <td>0.820755</td>\n",
       "      <td>0.947032</td>\n",
       "      <td>0.005988</td>\n",
       "      <td>0.321468</td>\n",
       "      <td>325682.499376</td>\n",
       "    </tr>\n",
       "    <tr>\n",
       "      <th>std</th>\n",
       "      <td>0.427279</td>\n",
       "      <td>2.982119</td>\n",
       "      <td>36.979856</td>\n",
       "      <td>1.015294e+06</td>\n",
       "      <td>0.446286</td>\n",
       "      <td>0.969231</td>\n",
       "      <td>0.733510</td>\n",
       "      <td>0.725542</td>\n",
       "      <td>1.328878</td>\n",
       "      <td>0.102175</td>\n",
       "      <td>0.494175</td>\n",
       "      <td>0.410056</td>\n",
       "      <td>0.090432</td>\n",
       "      <td>0.244576</td>\n",
       "      <td>0.383562</td>\n",
       "      <td>0.223972</td>\n",
       "      <td>0.077153</td>\n",
       "      <td>0.467045</td>\n",
       "      <td>39039.625935</td>\n",
       "    </tr>\n",
       "    <tr>\n",
       "      <th>min</th>\n",
       "      <td>1.000000</td>\n",
       "      <td>-30.000000</td>\n",
       "      <td>0.000000</td>\n",
       "      <td>-4.938270e+04</td>\n",
       "      <td>1.000000</td>\n",
       "      <td>1.000000</td>\n",
       "      <td>0.000000</td>\n",
       "      <td>0.000000</td>\n",
       "      <td>0.000000</td>\n",
       "      <td>0.000000</td>\n",
       "      <td>0.000000</td>\n",
       "      <td>0.000000</td>\n",
       "      <td>0.000000</td>\n",
       "      <td>0.000000</td>\n",
       "      <td>0.000000</td>\n",
       "      <td>0.000000</td>\n",
       "      <td>0.000000</td>\n",
       "      <td>0.000000</td>\n",
       "      <td>195000.000000</td>\n",
       "    </tr>\n",
       "    <tr>\n",
       "      <th>25%</th>\n",
       "      <td>1.000000</td>\n",
       "      <td>1.000000</td>\n",
       "      <td>1.000000</td>\n",
       "      <td>3.571995e+05</td>\n",
       "      <td>1.000000</td>\n",
       "      <td>1.000000</td>\n",
       "      <td>1.000000</td>\n",
       "      <td>1.000000</td>\n",
       "      <td>2.000000</td>\n",
       "      <td>1.000000</td>\n",
       "      <td>0.000000</td>\n",
       "      <td>0.000000</td>\n",
       "      <td>1.000000</td>\n",
       "      <td>1.000000</td>\n",
       "      <td>1.000000</td>\n",
       "      <td>1.000000</td>\n",
       "      <td>0.000000</td>\n",
       "      <td>0.000000</td>\n",
       "      <td>325000.000000</td>\n",
       "    </tr>\n",
       "    <tr>\n",
       "      <th>50%</th>\n",
       "      <td>1.000000</td>\n",
       "      <td>2.000000</td>\n",
       "      <td>6.000000</td>\n",
       "      <td>5.588180e+05</td>\n",
       "      <td>2.000000</td>\n",
       "      <td>1.000000</td>\n",
       "      <td>1.000000</td>\n",
       "      <td>1.000000</td>\n",
       "      <td>2.000000</td>\n",
       "      <td>1.000000</td>\n",
       "      <td>1.000000</td>\n",
       "      <td>0.000000</td>\n",
       "      <td>1.000000</td>\n",
       "      <td>1.000000</td>\n",
       "      <td>1.000000</td>\n",
       "      <td>1.000000</td>\n",
       "      <td>0.000000</td>\n",
       "      <td>0.000000</td>\n",
       "      <td>325000.000000</td>\n",
       "    </tr>\n",
       "    <tr>\n",
       "      <th>75%</th>\n",
       "      <td>1.000000</td>\n",
       "      <td>3.000000</td>\n",
       "      <td>31.000000</td>\n",
       "      <td>1.164000e+06</td>\n",
       "      <td>2.000000</td>\n",
       "      <td>1.000000</td>\n",
       "      <td>1.000000</td>\n",
       "      <td>1.000000</td>\n",
       "      <td>2.000000</td>\n",
       "      <td>1.000000</td>\n",
       "      <td>1.000000</td>\n",
       "      <td>0.000000</td>\n",
       "      <td>1.000000</td>\n",
       "      <td>1.000000</td>\n",
       "      <td>1.000000</td>\n",
       "      <td>1.000000</td>\n",
       "      <td>0.000000</td>\n",
       "      <td>1.000000</td>\n",
       "      <td>325000.000000</td>\n",
       "    </tr>\n",
       "    <tr>\n",
       "      <th>max</th>\n",
       "      <td>3.000000</td>\n",
       "      <td>349.000000</td>\n",
       "      <td>383.000000</td>\n",
       "      <td>2.129842e+07</td>\n",
       "      <td>2.000000</td>\n",
       "      <td>8.000000</td>\n",
       "      <td>8.000000</td>\n",
       "      <td>8.000000</td>\n",
       "      <td>9.000000</td>\n",
       "      <td>1.000000</td>\n",
       "      <td>1.000000</td>\n",
       "      <td>1.000000</td>\n",
       "      <td>1.000000</td>\n",
       "      <td>1.000000</td>\n",
       "      <td>1.000000</td>\n",
       "      <td>1.000000</td>\n",
       "      <td>1.000000</td>\n",
       "      <td>1.000000</td>\n",
       "      <td>585000.000000</td>\n",
       "    </tr>\n",
       "  </tbody>\n",
       "</table>\n",
       "</div>"
      ],
      "text/plain": [
       "       booking_currency  length_of_stay  booking_window  average_daily_rate   \n",
       "count      56825.000000    56825.000000    30445.000000        5.682500e+04  \\\n",
       "mean           1.233295        2.839366       23.068944        9.214800e+05   \n",
       "std            0.427279        2.982119       36.979856        1.015294e+06   \n",
       "min            1.000000      -30.000000        0.000000       -4.938270e+04   \n",
       "25%            1.000000        1.000000        1.000000        3.571995e+05   \n",
       "50%            1.000000        2.000000        6.000000        5.588180e+05   \n",
       "75%            1.000000        3.000000       31.000000        1.164000e+06   \n",
       "max            3.000000      349.000000      383.000000        2.129842e+07   \n",
       "\n",
       "             status       bedroom      bathroom          beds      capacity   \n",
       "count  56378.000000  56312.000000  45230.000000  45230.000000  41269.000000  \\\n",
       "mean       1.725460      1.455214      1.084656      1.100951      2.531658   \n",
       "std        0.446286      0.969231      0.733510      0.725542      1.328878   \n",
       "min        1.000000      1.000000      0.000000      0.000000      0.000000   \n",
       "25%        1.000000      1.000000      1.000000      1.000000      2.000000   \n",
       "50%        2.000000      1.000000      1.000000      1.000000      2.000000   \n",
       "75%        2.000000      1.000000      1.000000      1.000000      2.000000   \n",
       "max        2.000000      8.000000      8.000000      8.000000      9.000000   \n",
       "\n",
       "               wifi            tv      cable_tv            ac     workspace   \n",
       "count  42082.000000  42082.000000  42082.000000  42082.000000  42082.000000  \\\n",
       "mean       0.989449      0.576137      0.213892      0.991754      0.936101   \n",
       "std        0.102175      0.494175      0.410056      0.090432      0.244576   \n",
       "min        0.000000      0.000000      0.000000      0.000000      0.000000   \n",
       "25%        1.000000      0.000000      0.000000      1.000000      1.000000   \n",
       "50%        1.000000      1.000000      0.000000      1.000000      1.000000   \n",
       "75%        1.000000      1.000000      0.000000      1.000000      1.000000   \n",
       "max        1.000000      1.000000      1.000000      1.000000      1.000000   \n",
       "\n",
       "               pool       parking           gym       kitchen   \n",
       "count  42082.000000  42082.000000  42082.000000  42082.000000  \\\n",
       "mean       0.820755      0.947032      0.005988      0.321468   \n",
       "std        0.383562      0.223972      0.077153      0.467045   \n",
       "min        0.000000      0.000000      0.000000      0.000000   \n",
       "25%        1.000000      1.000000      0.000000      0.000000   \n",
       "50%        1.000000      1.000000      0.000000      0.000000   \n",
       "75%        1.000000      1.000000      0.000000      1.000000   \n",
       "max        1.000000      1.000000      1.000000      1.000000   \n",
       "\n",
       "       airport_pickup_price_idr  \n",
       "count              48044.000000  \n",
       "mean              325682.499376  \n",
       "std                39039.625935  \n",
       "min               195000.000000  \n",
       "25%               325000.000000  \n",
       "50%               325000.000000  \n",
       "75%               325000.000000  \n",
       "max               585000.000000  "
      ]
     },
     "execution_count": 107,
     "metadata": {},
     "output_type": "execute_result"
    }
   ],
   "source": [
    "raw_data.describe()"
   ]
  },
  {
   "cell_type": "code",
   "execution_count": 108,
   "metadata": {},
   "outputs": [
    {
     "data": {
      "text/plain": [
       "booking_id                        0\n",
       "booking_check_in                  0\n",
       "booking_check_out                 0\n",
       "booking_currency                  0\n",
       "booking_received_timestamp    26380\n",
       "listing_id                        0\n",
       "length_of_stay                    0\n",
       "booking_window                26380\n",
       "average_daily_rate                0\n",
       "unit_id                          14\n",
       "status                          447\n",
       "bedroom                         513\n",
       "bathroom                      11595\n",
       "beds                          11595\n",
       "capacity                      15556\n",
       "property_id                     447\n",
       "wifi                          14743\n",
       "tv                            14743\n",
       "cable_tv                      14743\n",
       "ac                            14743\n",
       "workspace                     14743\n",
       "pool                          14743\n",
       "parking                       14743\n",
       "gym                           14743\n",
       "kitchen                       14743\n",
       "area_id                         578\n",
       "area_name                       578\n",
       "area_distance_to_airport       1469\n",
       "airport_pickup_price_idr       8781\n",
       "dtype: int64"
      ]
     },
     "execution_count": 108,
     "metadata": {},
     "output_type": "execute_result"
    }
   ],
   "source": [
    "raw_data.isnull().sum()"
   ]
  },
  {
   "cell_type": "markdown",
   "metadata": {},
   "source": [
    "# **3. EDA** \n",
    "\n",
    "**Analisis Data Eksplorasi (EDA)** adalah salah satu teknik yang digunakan untuk mengekstraksi fitur dan tren vital yang digunakan oleh pembelajaran mesin dan model pembelajaran mendalam dalam Sains Data. Memahami data secara menyeluruh membutuhkan eksplorasi dari setiap aspek. Fitur yang berdampak memungkinkan pengambilan keputusan yang bermakna dan bermanfaat; oleh karena itu, EDA menempati tempat yang tak ternilai dalam Sains Data.\n",
    "\n",
    "**Types of Exploratory Data Analysis**\n",
    "\n",
    "1. Univariate\n",
    "2. Bivariate\n",
    "3. Multivariate\n"
   ]
  },
  {
   "cell_type": "markdown",
   "metadata": {},
   "source": [
    "## 3.1 **Distribution Features** <a class=\"anchor\" id=\"1.1\"></a>\n"
   ]
  },
  {
   "cell_type": "code",
   "execution_count": 109,
   "metadata": {},
   "outputs": [
    {
     "data": {
      "application/vnd.plotly.v1+json": {
       "config": {
        "plotlyServerURL": "https://plot.ly"
       },
       "data": [
        {
         "hole": 0.5,
         "hoverinfo": "label+value",
         "labels": [
          "Uluwatu",
          "Canggu",
          "Bingin",
          "Balangan",
          "Nusa Penida",
          "Padang Padang",
          "Jimbaran",
          "Yogyakarta",
          "Ungasan",
          "Ubud"
         ],
         "textfont": {
          "size": 12
         },
         "textinfo": "label+percent",
         "title": {
          "font": {
           "family": "Serif",
           "size": 18
          },
          "text": "Top 10 Frequent of area"
         },
         "type": "pie",
         "values": [
          13063,
          9920,
          8748,
          7729,
          5967,
          3121,
          1946,
          1471,
          1332,
          851
         ]
        }
       ],
       "layout": {
        "height": 700,
        "showlegend": false,
        "template": {},
        "title": {
         "font": {
          "family": "Serif",
          "size": 24
         },
         "text": "<b>Count of daerah properti<b>"
        },
        "width": 700
       }
      }
     },
     "metadata": {},
     "output_type": "display_data"
    }
   ],
   "source": [
    "mask = df['area_name'].value_counts().reset_index(name='count').sort_values('count', ascending=False)\n",
    "total_count = mask['count'].sum()\n",
    "mask['percentage'] = round((mask['count'] / total_count) * 100)\n",
    "mask = mask.head(10)\n",
    "\n",
    "fig = go.Figure()\n",
    "fig.add_trace(\n",
    "    go.Pie(\n",
    "        labels=mask['area_name'],\n",
    "        title=\"Top 10 Frequent of area\",\n",
    "                  titlefont={'size':18, 'family': 'Serif',},\n",
    "         values=mask['count'],\n",
    "        hole=0.5,\n",
    "        )\n",
    "    )\n",
    "fig.update_traces(\n",
    "    hoverinfo='label+value',\n",
    "    textinfo='label+percent',\n",
    "    textfont_size=12,\n",
    "    )\n",
    "fig.layout.update(title=\"<b>Count of daerah properti<b>\",\n",
    "                  titlefont={'size':24, 'family': 'Serif',},\n",
    "                  showlegend=False, \n",
    "                  height=700, \n",
    "                  width=700, \n",
    "                  template=None, \n",
    "                 )\n",
    "\n",
    "fig.show()"
   ]
  },
  {
   "cell_type": "code",
   "execution_count": 110,
   "metadata": {},
   "outputs": [
    {
     "name": "stdout",
     "output_type": "stream",
     "text": [
      "Index(['property_id', 'count', 'percentage'], dtype='object')\n"
     ]
    },
    {
     "data": {
      "application/vnd.plotly.v1+json": {
       "config": {
        "plotlyServerURL": "https://plot.ly"
       },
       "data": [
        {
         "text": [
          9,
          9,
          3,
          3,
          3,
          3,
          2,
          2,
          2,
          2
         ],
         "textposition": "auto",
         "type": "bar",
         "x": [
          "PR0238",
          "PR0245",
          "PR0254",
          "PR0168",
          "PR0198",
          "PR0170",
          "PR0282",
          "PR0188",
          "PR0115",
          "PR0160"
         ],
         "y": [
          4999,
          4871,
          1855,
          1794,
          1577,
          1518,
          1339,
          1092,
          1082,
          1066
         ]
        }
       ],
       "layout": {
        "height": 700,
        "showlegend": false,
        "template": {},
        "title": {
         "font": {
          "family": "Serif",
          "size": 24
         },
         "text": "<b>Count of Property ID<b>"
        },
        "width": 700,
        "xaxis": {
         "title": {
          "text": "Property ID"
         }
        },
        "yaxis": {
         "title": {
          "text": "Count"
         }
        }
       }
      }
     },
     "metadata": {},
     "output_type": "display_data"
    }
   ],
   "source": [
    "import plotly.graph_objects as go\n",
    "\n",
    "# Assuming df is already defined\n",
    "mask = df['property_id'].value_counts().reset_index(name='count').sort_values('count', ascending=False)\n",
    "total_count = mask['count'].sum()\n",
    "mask['percentage'] = round((mask['count'] / total_count) * 100)\n",
    "mask = mask.head(10)\n",
    "\n",
    "print(mask.columns)  # To verify the column names\n",
    "\n",
    "fig = go.Figure()\n",
    "fig.add_trace(\n",
    "    go.Bar(\n",
    "        x=mask.iloc[:, 0],  # Using iloc to access the first column\n",
    "        y=mask['count'],\n",
    "        text=mask['percentage'],\n",
    "        textposition='auto',\n",
    "    )\n",
    ")\n",
    "\n",
    "fig.update_layout(\n",
    "    title=\"<b>Count of Property ID<b>\",\n",
    "    titlefont={'size':24, 'family': 'Serif'},\n",
    "    xaxis_title=\"Property ID\",\n",
    "    yaxis_title=\"Count\",\n",
    "    showlegend=False,\n",
    "    height=700,\n",
    "    width=700,\n",
    "    template=None,\n",
    ")\n",
    "\n",
    "fig.show()\n"
   ]
  },
  {
   "cell_type": "markdown",
   "metadata": {},
   "source": [
    "## 3.2 **Multivariate Analysis** <a class=\"anchor\" id=\"1.1\"></a>\n",
    "Analisis multivariat ini bertujuan untuk menjelajahi hubungan antara beberapa variabel secara bersama-sama. Dalam konteks ini, kita akan melihat korelasi antara variabel-variabel "
   ]
  },
  {
   "cell_type": "code",
   "execution_count": 111,
   "metadata": {},
   "outputs": [
    {
     "data": {
      "image/png": "[encoded data removed]",
      "text/plain": [
       "<Figure size 1500x800 with 1 Axes>"
      ]
     },
     "metadata": {},
     "output_type": "display_data"
    },
    {
     "name": "stdout",
     "output_type": "stream",
     "text": [
      "Lower, Upper Bounds, and Median for Quartiles:\n",
      "+--------------------------+-------------+-------------+-----------+\n",
      "|          Column          | Lower Bound | Upper Bound |   Median  |\n",
      "+--------------------------+-------------+-------------+-----------+\n",
      "|      length_of_stay      |     1.0     |     6.0     |    2.00   |\n",
      "| airport_pickup_price_idr |   325000.0  |   325000.0  | 325000.00 |\n",
      "|    average_daily_rate    |   357199.5  |  2374200.75 | 558818.00 |\n",
      "+--------------------------+-------------+-------------+-----------+\n"
     ]
    }
   ],
   "source": [
    "columns = df[['length_of_stay', 'airport_pickup_price_idr','average_daily_rate']]\n",
    "pal = ['#163020', '#3A4D39', '#4F6F52', '#739072', '#98BF97', '#B1DEAF', '#B9E8B7', '#C7F7C6']\n",
    "\n",
    "plt.figure(figsize=(15, 8))\n",
    "sns.boxplot(data=columns,palette=pal)\n",
    "plt.title('Boxplot Groups')\n",
    "plt.show()\n",
    "\n",
    "table_bounds = PrettyTable()\n",
    "table_bounds.field_names = [\"Column\", \"Lower Bound\", \"Upper Bound\", \"Median\"]\n",
    "\n",
    "for column in columns.columns:\n",
    "    Q1 = columns[column].quantile(0.25)\n",
    "    Q2 = columns[column].median()\n",
    "    Q3 = columns[column].quantile(0.75)\n",
    "    IQR = Q3 - Q1\n",
    "\n",
    "    lower_bound = Q1\n",
    "    upper_bound = Q3 + 1.5 * IQR\n",
    "\n",
    "    table_bounds.add_row([column, f'{lower_bound}', f'{upper_bound}', f'{Q2:.2f}'])\n",
    "\n",
    "print(\"Lower, Upper Bounds, and Median for Quartiles:\")\n",
    "print(table_bounds)"
   ]
  },
  {
   "cell_type": "code",
   "execution_count": 112,
   "metadata": {},
   "outputs": [
    {
     "data": {
      "application/vnd.plotly.v1+json": {
       "config": {
        "plotlyServerURL": "https://plot.ly"
       },
       "data": [
        {
         "colorbar": {
          "thickness": 30,
          "ticklen": 3
         },
         "colorscale": [
          [
           0,
           "rgb(161, 105, 40)"
          ],
          [
           0.16666666666666666,
           "rgb(189, 146, 90)"
          ],
          [
           0.3333333333333333,
           "rgb(214, 189, 141)"
          ],
          [
           0.5,
           "rgb(237, 234, 194)"
          ],
          [
           0.6666666666666666,
           "rgb(181, 200, 184)"
          ],
          [
           0.8333333333333334,
           "rgb(121, 167, 172)"
          ],
          [
           1,
           "rgb(40, 135, 161)"
          ]
         ],
         "reversescale": false,
         "showscale": false,
         "type": "heatmap",
         "x": [
          "length_of_stay",
          "booking_window",
          "average_daily_rate",
          "status",
          "bedroom",
          "bathroom",
          "beds",
          "capacity",
          "wifi",
          "tv",
          "cable_tv",
          "ac",
          "workspace",
          "pool",
          "parking",
          "gym",
          "kitchen",
          "airport_pickup_price_idr"
         ],
         "xgap": 3,
         "y": [
          "length_of_stay",
          "booking_window",
          "average_daily_rate",
          "status",
          "bedroom",
          "bathroom",
          "beds",
          "capacity",
          "wifi",
          "tv",
          "cable_tv",
          "ac",
          "workspace",
          "pool",
          "parking",
          "gym",
          "kitchen",
          "airport_pickup_price_idr"
         ],
         "ygap": 3,
         "z": [
          [
           1,
           0.13,
           0.02,
           0.02,
           0.03,
           0.03,
           0.02,
           0.01,
           -0.01,
           0.03,
           0.01,
           0,
           0.03,
           0.05,
           0,
           0.02,
           0.11,
           -0.02
          ],
          [
           0.13,
           1,
           0.23,
           -0.02,
           0.08,
           0.06,
           0.07,
           0.09,
           0.03,
           0.1,
           0.02,
           0.02,
           0.02,
           0.09,
           -0.02,
           -0.02,
           0.08,
           -0.01
          ],
          [
           0.02,
           0.23,
           1,
           0.04,
           0.29,
           0.33,
           0.32,
           0.57,
           0.01,
           0.03,
           0.09,
           0.03,
           0.06,
           0.12,
           -0.04,
           -0.02,
           0.2,
           0.03
          ],
          [
           0.02,
           -0.02,
           0.04,
           1,
           0.12,
           -0.13,
           -0.11,
           0,
           -0.08,
           -0.11,
           -0.04,
           0.12,
           0.03,
           0.15,
           0.19,
           0,
           0.01,
           0.03
          ],
          [
           0.03,
           0.08,
           0.29,
           0.12,
           1,
           0.82,
           0.88,
           0.73,
           -0.08,
           0.14,
           0.11,
           0.03,
           0.06,
           0.02,
           -0.03,
           -0.01,
           0.31,
           0.04
          ],
          [
           0.03,
           0.06,
           0.33,
           -0.13,
           0.82,
           1,
           0.93,
           0.68,
           -0.03,
           0.14,
           0.12,
           -0.1,
           0.04,
           0.05,
           -0.02,
           -0.05,
           0.27,
           -0.03
          ],
          [
           0.02,
           0.07,
           0.32,
           -0.11,
           0.88,
           0.93,
           1,
           0.73,
           -0.09,
           0.11,
           0.07,
           0.03,
           0.05,
           0.02,
           -0.03,
           -0.05,
           0.29,
           -0.05
          ],
          [
           0.01,
           0.09,
           0.57,
           0,
           0.73,
           0.68,
           0.73,
           1,
           -0.08,
           0.06,
           0.13,
           0.04,
           0.08,
           0.04,
           0,
           0.02,
           0.33,
           -0.03
          ],
          [
           -0.01,
           0.03,
           0.01,
           -0.08,
           -0.08,
           -0.03,
           -0.09,
           -0.08,
           1,
           -0.09,
           0.05,
           -0.01,
           -0.03,
           0.11,
           0.15,
           -0.02,
           -0.08,
           0.17
          ],
          [
           0.03,
           0.1,
           0.03,
           -0.11,
           0.14,
           0.14,
           0.11,
           0.06,
           -0.09,
           1,
           0.45,
           0.09,
           0.05,
           0.14,
           0.07,
           0.07,
           0.17,
           -0.15
          ],
          [
           0.01,
           0.02,
           0.09,
           -0.04,
           0.11,
           0.12,
           0.07,
           0.13,
           0.05,
           0.45,
           1,
           0.05,
           0.14,
           0.22,
           0.1,
           0.09,
           -0.05,
           -0.04
          ],
          [
           0,
           0.02,
           0.03,
           0.12,
           0.03,
           -0.1,
           0.03,
           0.04,
           -0.01,
           0.09,
           0.05,
           1,
           -0.02,
           0.2,
           0.35,
           0.01,
           0.06,
           -0.07
          ],
          [
           0.03,
           0.02,
           0.06,
           0.03,
           0.06,
           0.04,
           0.05,
           0.08,
           -0.03,
           0.05,
           0.14,
           -0.02,
           1,
           0.2,
           0.13,
           -0.07,
           0.11,
           -0.08
          ],
          [
           0.05,
           0.09,
           0.12,
           0.15,
           0.02,
           0.05,
           0.02,
           0.04,
           0.11,
           0.14,
           0.22,
           0.2,
           0.2,
           1,
           0.27,
           0.04,
           0.05,
           0.02
          ],
          [
           0,
           -0.02,
           -0.04,
           0.19,
           -0.03,
           -0.02,
           -0.03,
           0,
           0.15,
           0.07,
           0.1,
           0.35,
           0.13,
           0.27,
           1,
           -0.11,
           0,
           0.08
          ],
          [
           0.02,
           -0.02,
           -0.02,
           0,
           -0.01,
           -0.05,
           -0.05,
           0.02,
           -0.02,
           0.07,
           0.09,
           0.01,
           -0.07,
           0.04,
           -0.11,
           1,
           0.05,
           -0.11
          ],
          [
           0.11,
           0.08,
           0.2,
           0.01,
           0.31,
           0.27,
           0.29,
           0.33,
           -0.08,
           0.17,
           -0.05,
           0.06,
           0.11,
           0.05,
           0,
           0.05,
           1,
           -0.16
          ],
          [
           -0.02,
           -0.01,
           0.03,
           0.03,
           0.04,
           -0.03,
           -0.05,
           -0.03,
           0.17,
           -0.15,
           -0.04,
           -0.07,
           -0.08,
           0.02,
           0.08,
           -0.11,
           -0.16,
           1
          ]
         ],
         "zmax": 1,
         "zmin": -1
        }
       ],
       "layout": {
        "annotations": [
         {
          "font": {
           "color": "#FFFFFF"
          },
          "showarrow": false,
          "text": "1.0",
          "x": "length_of_stay",
          "xref": "x",
          "y": "length_of_stay",
          "yref": "y"
         },
         {
          "font": {
           "color": "#FFFFFF"
          },
          "showarrow": false,
          "text": "0.13",
          "x": "booking_window",
          "xref": "x",
          "y": "length_of_stay",
          "yref": "y"
         },
         {
          "font": {
           "color": "#FFFFFF"
          },
          "showarrow": false,
          "text": "0.02",
          "x": "average_daily_rate",
          "xref": "x",
          "y": "length_of_stay",
          "yref": "y"
         },
         {
          "font": {
           "color": "#FFFFFF"
          },
          "showarrow": false,
          "text": "0.02",
          "x": "status",
          "xref": "x",
          "y": "length_of_stay",
          "yref": "y"
         },
         {
          "font": {
           "color": "#FFFFFF"
          },
          "showarrow": false,
          "text": "0.03",
          "x": "bedroom",
          "xref": "x",
          "y": "length_of_stay",
          "yref": "y"
         },
         {
          "font": {
           "color": "#FFFFFF"
          },
          "showarrow": false,
          "text": "0.03",
          "x": "bathroom",
          "xref": "x",
          "y": "length_of_stay",
          "yref": "y"
         },
         {
          "font": {
           "color": "#FFFFFF"
          },
          "showarrow": false,
          "text": "0.02",
          "x": "beds",
          "xref": "x",
          "y": "length_of_stay",
          "yref": "y"
         },
         {
          "font": {
           "color": "#FFFFFF"
          },
          "showarrow": false,
          "text": "0.01",
          "x": "capacity",
          "xref": "x",
          "y": "length_of_stay",
          "yref": "y"
         },
         {
          "font": {
           "color": "#FFFFFF"
          },
          "showarrow": false,
          "text": "-0.01",
          "x": "wifi",
          "xref": "x",
          "y": "length_of_stay",
          "yref": "y"
         },
         {
          "font": {
           "color": "#FFFFFF"
          },
          "showarrow": false,
          "text": "0.03",
          "x": "tv",
          "xref": "x",
          "y": "length_of_stay",
          "yref": "y"
         },
         {
          "font": {
           "color": "#FFFFFF"
          },
          "showarrow": false,
          "text": "0.01",
          "x": "cable_tv",
          "xref": "x",
          "y": "length_of_stay",
          "yref": "y"
         },
         {
          "font": {
           "color": "#FFFFFF"
          },
          "showarrow": false,
          "text": "-0.0",
          "x": "ac",
          "xref": "x",
          "y": "length_of_stay",
          "yref": "y"
         },
         {
          "font": {
           "color": "#FFFFFF"
          },
          "showarrow": false,
          "text": "0.03",
          "x": "workspace",
          "xref": "x",
          "y": "length_of_stay",
          "yref": "y"
         },
         {
          "font": {
           "color": "#FFFFFF"
          },
          "showarrow": false,
          "text": "0.05",
          "x": "pool",
          "xref": "x",
          "y": "length_of_stay",
          "yref": "y"
         },
         {
          "font": {
           "color": "#FFFFFF"
          },
          "showarrow": false,
          "text": "0.0",
          "x": "parking",
          "xref": "x",
          "y": "length_of_stay",
          "yref": "y"
         },
         {
          "font": {
           "color": "#FFFFFF"
          },
          "showarrow": false,
          "text": "0.02",
          "x": "gym",
          "xref": "x",
          "y": "length_of_stay",
          "yref": "y"
         },
         {
          "font": {
           "color": "#FFFFFF"
          },
          "showarrow": false,
          "text": "0.11",
          "x": "kitchen",
          "xref": "x",
          "y": "length_of_stay",
          "yref": "y"
         },
         {
          "font": {
           "color": "#FFFFFF"
          },
          "showarrow": false,
          "text": "-0.02",
          "x": "airport_pickup_price_idr",
          "xref": "x",
          "y": "length_of_stay",
          "yref": "y"
         },
         {
          "font": {
           "color": "#FFFFFF"
          },
          "showarrow": false,
          "text": "0.13",
          "x": "length_of_stay",
          "xref": "x",
          "y": "booking_window",
          "yref": "y"
         },
         {
          "font": {
           "color": "#FFFFFF"
          },
          "showarrow": false,
          "text": "1.0",
          "x": "booking_window",
          "xref": "x",
          "y": "booking_window",
          "yref": "y"
         },
         {
          "font": {
           "color": "#FFFFFF"
          },
          "showarrow": false,
          "text": "0.23",
          "x": "average_daily_rate",
          "xref": "x",
          "y": "booking_window",
          "yref": "y"
         },
         {
          "font": {
           "color": "#FFFFFF"
          },
          "showarrow": false,
          "text": "-0.02",
          "x": "status",
          "xref": "x",
          "y": "booking_window",
          "yref": "y"
         },
         {
          "font": {
           "color": "#FFFFFF"
          },
          "showarrow": false,
          "text": "0.08",
          "x": "bedroom",
          "xref": "x",
          "y": "booking_window",
          "yref": "y"
         },
         {
          "font": {
           "color": "#FFFFFF"
          },
          "showarrow": false,
          "text": "0.06",
          "x": "bathroom",
          "xref": "x",
          "y": "booking_window",
          "yref": "y"
         },
         {
          "font": {
           "color": "#FFFFFF"
          },
          "showarrow": false,
          "text": "0.07",
          "x": "beds",
          "xref": "x",
          "y": "booking_window",
          "yref": "y"
         },
         {
          "font": {
           "color": "#FFFFFF"
          },
          "showarrow": false,
          "text": "0.09",
          "x": "capacity",
          "xref": "x",
          "y": "booking_window",
          "yref": "y"
         },
         {
          "font": {
           "color": "#FFFFFF"
          },
          "showarrow": false,
          "text": "0.03",
          "x": "wifi",
          "xref": "x",
          "y": "booking_window",
          "yref": "y"
         },
         {
          "font": {
           "color": "#FFFFFF"
          },
          "showarrow": false,
          "text": "0.1",
          "x": "tv",
          "xref": "x",
          "y": "booking_window",
          "yref": "y"
         },
         {
          "font": {
           "color": "#FFFFFF"
          },
          "showarrow": false,
          "text": "0.02",
          "x": "cable_tv",
          "xref": "x",
          "y": "booking_window",
          "yref": "y"
         },
         {
          "font": {
           "color": "#FFFFFF"
          },
          "showarrow": false,
          "text": "0.02",
          "x": "ac",
          "xref": "x",
          "y": "booking_window",
          "yref": "y"
         },
         {
          "font": {
           "color": "#FFFFFF"
          },
          "showarrow": false,
          "text": "0.02",
          "x": "workspace",
          "xref": "x",
          "y": "booking_window",
          "yref": "y"
         },
         {
          "font": {
           "color": "#FFFFFF"
          },
          "showarrow": false,
          "text": "0.09",
          "x": "pool",
          "xref": "x",
          "y": "booking_window",
          "yref": "y"
         },
         {
          "font": {
           "color": "#FFFFFF"
          },
          "showarrow": false,
          "text": "-0.02",
          "x": "parking",
          "xref": "x",
          "y": "booking_window",
          "yref": "y"
         },
         {
          "font": {
           "color": "#FFFFFF"
          },
          "showarrow": false,
          "text": "-0.02",
          "x": "gym",
          "xref": "x",
          "y": "booking_window",
          "yref": "y"
         },
         {
          "font": {
           "color": "#FFFFFF"
          },
          "showarrow": false,
          "text": "0.08",
          "x": "kitchen",
          "xref": "x",
          "y": "booking_window",
          "yref": "y"
         },
         {
          "font": {
           "color": "#FFFFFF"
          },
          "showarrow": false,
          "text": "-0.01",
          "x": "airport_pickup_price_idr",
          "xref": "x",
          "y": "booking_window",
          "yref": "y"
         },
         {
          "font": {
           "color": "#FFFFFF"
          },
          "showarrow": false,
          "text": "0.02",
          "x": "length_of_stay",
          "xref": "x",
          "y": "average_daily_rate",
          "yref": "y"
         },
         {
          "font": {
           "color": "#FFFFFF"
          },
          "showarrow": false,
          "text": "0.23",
          "x": "booking_window",
          "xref": "x",
          "y": "average_daily_rate",
          "yref": "y"
         },
         {
          "font": {
           "color": "#FFFFFF"
          },
          "showarrow": false,
          "text": "1.0",
          "x": "average_daily_rate",
          "xref": "x",
          "y": "average_daily_rate",
          "yref": "y"
         },
         {
          "font": {
           "color": "#FFFFFF"
          },
          "showarrow": false,
          "text": "0.04",
          "x": "status",
          "xref": "x",
          "y": "average_daily_rate",
          "yref": "y"
         },
         {
          "font": {
           "color": "#FFFFFF"
          },
          "showarrow": false,
          "text": "0.29",
          "x": "bedroom",
          "xref": "x",
          "y": "average_daily_rate",
          "yref": "y"
         },
         {
          "font": {
           "color": "#FFFFFF"
          },
          "showarrow": false,
          "text": "0.33",
          "x": "bathroom",
          "xref": "x",
          "y": "average_daily_rate",
          "yref": "y"
         },
         {
          "font": {
           "color": "#FFFFFF"
          },
          "showarrow": false,
          "text": "0.32",
          "x": "beds",
          "xref": "x",
          "y": "average_daily_rate",
          "yref": "y"
         },
         {
          "font": {
           "color": "#FFFFFF"
          },
          "showarrow": false,
          "text": "0.57",
          "x": "capacity",
          "xref": "x",
          "y": "average_daily_rate",
          "yref": "y"
         },
         {
          "font": {
           "color": "#FFFFFF"
          },
          "showarrow": false,
          "text": "0.01",
          "x": "wifi",
          "xref": "x",
          "y": "average_daily_rate",
          "yref": "y"
         },
         {
          "font": {
           "color": "#FFFFFF"
          },
          "showarrow": false,
          "text": "0.03",
          "x": "tv",
          "xref": "x",
          "y": "average_daily_rate",
          "yref": "y"
         },
         {
          "font": {
           "color": "#FFFFFF"
          },
          "showarrow": false,
          "text": "0.09",
          "x": "cable_tv",
          "xref": "x",
          "y": "average_daily_rate",
          "yref": "y"
         },
         {
          "font": {
           "color": "#FFFFFF"
          },
          "showarrow": false,
          "text": "0.03",
          "x": "ac",
          "xref": "x",
          "y": "average_daily_rate",
          "yref": "y"
         },
         {
          "font": {
           "color": "#FFFFFF"
          },
          "showarrow": false,
          "text": "0.06",
          "x": "workspace",
          "xref": "x",
          "y": "average_daily_rate",
          "yref": "y"
         },
         {
          "font": {
           "color": "#FFFFFF"
          },
          "showarrow": false,
          "text": "0.12",
          "x": "pool",
          "xref": "x",
          "y": "average_daily_rate",
          "yref": "y"
         },
         {
          "font": {
           "color": "#FFFFFF"
          },
          "showarrow": false,
          "text": "-0.04",
          "x": "parking",
          "xref": "x",
          "y": "average_daily_rate",
          "yref": "y"
         },
         {
          "font": {
           "color": "#FFFFFF"
          },
          "showarrow": false,
          "text": "-0.02",
          "x": "gym",
          "xref": "x",
          "y": "average_daily_rate",
          "yref": "y"
         },
         {
          "font": {
           "color": "#FFFFFF"
          },
          "showarrow": false,
          "text": "0.2",
          "x": "kitchen",
          "xref": "x",
          "y": "average_daily_rate",
          "yref": "y"
         },
         {
          "font": {
           "color": "#FFFFFF"
          },
          "showarrow": false,
          "text": "0.03",
          "x": "airport_pickup_price_idr",
          "xref": "x",
          "y": "average_daily_rate",
          "yref": "y"
         },
         {
          "font": {
           "color": "#FFFFFF"
          },
          "showarrow": false,
          "text": "0.02",
          "x": "length_of_stay",
          "xref": "x",
          "y": "status",
          "yref": "y"
         },
         {
          "font": {
           "color": "#FFFFFF"
          },
          "showarrow": false,
          "text": "-0.02",
          "x": "booking_window",
          "xref": "x",
          "y": "status",
          "yref": "y"
         },
         {
          "font": {
           "color": "#FFFFFF"
          },
          "showarrow": false,
          "text": "0.04",
          "x": "average_daily_rate",
          "xref": "x",
          "y": "status",
          "yref": "y"
         },
         {
          "font": {
           "color": "#FFFFFF"
          },
          "showarrow": false,
          "text": "1.0",
          "x": "status",
          "xref": "x",
          "y": "status",
          "yref": "y"
         },
         {
          "font": {
           "color": "#FFFFFF"
          },
          "showarrow": false,
          "text": "0.12",
          "x": "bedroom",
          "xref": "x",
          "y": "status",
          "yref": "y"
         },
         {
          "font": {
           "color": "#FFFFFF"
          },
          "showarrow": false,
          "text": "-0.13",
          "x": "bathroom",
          "xref": "x",
          "y": "status",
          "yref": "y"
         },
         {
          "font": {
           "color": "#FFFFFF"
          },
          "showarrow": false,
          "text": "-0.11",
          "x": "beds",
          "xref": "x",
          "y": "status",
          "yref": "y"
         },
         {
          "font": {
           "color": "#FFFFFF"
          },
          "showarrow": false,
          "text": "-0.0",
          "x": "capacity",
          "xref": "x",
          "y": "status",
          "yref": "y"
         },
         {
          "font": {
           "color": "#FFFFFF"
          },
          "showarrow": false,
          "text": "-0.08",
          "x": "wifi",
          "xref": "x",
          "y": "status",
          "yref": "y"
         },
         {
          "font": {
           "color": "#FFFFFF"
          },
          "showarrow": false,
          "text": "-0.11",
          "x": "tv",
          "xref": "x",
          "y": "status",
          "yref": "y"
         },
         {
          "font": {
           "color": "#FFFFFF"
          },
          "showarrow": false,
          "text": "-0.04",
          "x": "cable_tv",
          "xref": "x",
          "y": "status",
          "yref": "y"
         },
         {
          "font": {
           "color": "#FFFFFF"
          },
          "showarrow": false,
          "text": "0.12",
          "x": "ac",
          "xref": "x",
          "y": "status",
          "yref": "y"
         },
         {
          "font": {
           "color": "#FFFFFF"
          },
          "showarrow": false,
          "text": "0.03",
          "x": "workspace",
          "xref": "x",
          "y": "status",
          "yref": "y"
         },
         {
          "font": {
           "color": "#FFFFFF"
          },
          "showarrow": false,
          "text": "0.15",
          "x": "pool",
          "xref": "x",
          "y": "status",
          "yref": "y"
         },
         {
          "font": {
           "color": "#FFFFFF"
          },
          "showarrow": false,
          "text": "0.19",
          "x": "parking",
          "xref": "x",
          "y": "status",
          "yref": "y"
         },
         {
          "font": {
           "color": "#FFFFFF"
          },
          "showarrow": false,
          "text": "-0.0",
          "x": "gym",
          "xref": "x",
          "y": "status",
          "yref": "y"
         },
         {
          "font": {
           "color": "#FFFFFF"
          },
          "showarrow": false,
          "text": "0.01",
          "x": "kitchen",
          "xref": "x",
          "y": "status",
          "yref": "y"
         },
         {
          "font": {
           "color": "#FFFFFF"
          },
          "showarrow": false,
          "text": "0.03",
          "x": "airport_pickup_price_idr",
          "xref": "x",
          "y": "status",
          "yref": "y"
         },
         {
          "font": {
           "color": "#FFFFFF"
          },
          "showarrow": false,
          "text": "0.03",
          "x": "length_of_stay",
          "xref": "x",
          "y": "bedroom",
          "yref": "y"
         },
         {
          "font": {
           "color": "#FFFFFF"
          },
          "showarrow": false,
          "text": "0.08",
          "x": "booking_window",
          "xref": "x",
          "y": "bedroom",
          "yref": "y"
         },
         {
          "font": {
           "color": "#FFFFFF"
          },
          "showarrow": false,
          "text": "0.29",
          "x": "average_daily_rate",
          "xref": "x",
          "y": "bedroom",
          "yref": "y"
         },
         {
          "font": {
           "color": "#FFFFFF"
          },
          "showarrow": false,
          "text": "0.12",
          "x": "status",
          "xref": "x",
          "y": "bedroom",
          "yref": "y"
         },
         {
          "font": {
           "color": "#FFFFFF"
          },
          "showarrow": false,
          "text": "1.0",
          "x": "bedroom",
          "xref": "x",
          "y": "bedroom",
          "yref": "y"
         },
         {
          "font": {
           "color": "#FFFFFF"
          },
          "showarrow": false,
          "text": "0.82",
          "x": "bathroom",
          "xref": "x",
          "y": "bedroom",
          "yref": "y"
         },
         {
          "font": {
           "color": "#FFFFFF"
          },
          "showarrow": false,
          "text": "0.88",
          "x": "beds",
          "xref": "x",
          "y": "bedroom",
          "yref": "y"
         },
         {
          "font": {
           "color": "#FFFFFF"
          },
          "showarrow": false,
          "text": "0.73",
          "x": "capacity",
          "xref": "x",
          "y": "bedroom",
          "yref": "y"
         },
         {
          "font": {
           "color": "#FFFFFF"
          },
          "showarrow": false,
          "text": "-0.08",
          "x": "wifi",
          "xref": "x",
          "y": "bedroom",
          "yref": "y"
         },
         {
          "font": {
           "color": "#FFFFFF"
          },
          "showarrow": false,
          "text": "0.14",
          "x": "tv",
          "xref": "x",
          "y": "bedroom",
          "yref": "y"
         },
         {
          "font": {
           "color": "#FFFFFF"
          },
          "showarrow": false,
          "text": "0.11",
          "x": "cable_tv",
          "xref": "x",
          "y": "bedroom",
          "yref": "y"
         },
         {
          "font": {
           "color": "#FFFFFF"
          },
          "showarrow": false,
          "text": "0.03",
          "x": "ac",
          "xref": "x",
          "y": "bedroom",
          "yref": "y"
         },
         {
          "font": {
           "color": "#FFFFFF"
          },
          "showarrow": false,
          "text": "0.06",
          "x": "workspace",
          "xref": "x",
          "y": "bedroom",
          "yref": "y"
         },
         {
          "font": {
           "color": "#FFFFFF"
          },
          "showarrow": false,
          "text": "0.02",
          "x": "pool",
          "xref": "x",
          "y": "bedroom",
          "yref": "y"
         },
         {
          "font": {
           "color": "#FFFFFF"
          },
          "showarrow": false,
          "text": "-0.03",
          "x": "parking",
          "xref": "x",
          "y": "bedroom",
          "yref": "y"
         },
         {
          "font": {
           "color": "#FFFFFF"
          },
          "showarrow": false,
          "text": "-0.01",
          "x": "gym",
          "xref": "x",
          "y": "bedroom",
          "yref": "y"
         },
         {
          "font": {
           "color": "#FFFFFF"
          },
          "showarrow": false,
          "text": "0.31",
          "x": "kitchen",
          "xref": "x",
          "y": "bedroom",
          "yref": "y"
         },
         {
          "font": {
           "color": "#FFFFFF"
          },
          "showarrow": false,
          "text": "0.04",
          "x": "airport_pickup_price_idr",
          "xref": "x",
          "y": "bedroom",
          "yref": "y"
         },
         {
          "font": {
           "color": "#FFFFFF"
          },
          "showarrow": false,
          "text": "0.03",
          "x": "length_of_stay",
          "xref": "x",
          "y": "bathroom",
          "yref": "y"
         },
         {
          "font": {
           "color": "#FFFFFF"
          },
          "showarrow": false,
          "text": "0.06",
          "x": "booking_window",
          "xref": "x",
          "y": "bathroom",
          "yref": "y"
         },
         {
          "font": {
           "color": "#FFFFFF"
          },
          "showarrow": false,
          "text": "0.33",
          "x": "average_daily_rate",
          "xref": "x",
          "y": "bathroom",
          "yref": "y"
         },
         {
          "font": {
           "color": "#FFFFFF"
          },
          "showarrow": false,
          "text": "-0.13",
          "x": "status",
          "xref": "x",
          "y": "bathroom",
          "yref": "y"
         },
         {
          "font": {
           "color": "#FFFFFF"
          },
          "showarrow": false,
          "text": "0.82",
          "x": "bedroom",
          "xref": "x",
          "y": "bathroom",
          "yref": "y"
         },
         {
          "font": {
           "color": "#FFFFFF"
          },
          "showarrow": false,
          "text": "1.0",
          "x": "bathroom",
          "xref": "x",
          "y": "bathroom",
          "yref": "y"
         },
         {
          "font": {
           "color": "#FFFFFF"
          },
          "showarrow": false,
          "text": "0.93",
          "x": "beds",
          "xref": "x",
          "y": "bathroom",
          "yref": "y"
         },
         {
          "font": {
           "color": "#FFFFFF"
          },
          "showarrow": false,
          "text": "0.68",
          "x": "capacity",
          "xref": "x",
          "y": "bathroom",
          "yref": "y"
         },
         {
          "font": {
           "color": "#FFFFFF"
          },
          "showarrow": false,
          "text": "-0.03",
          "x": "wifi",
          "xref": "x",
          "y": "bathroom",
          "yref": "y"
         },
         {
          "font": {
           "color": "#FFFFFF"
          },
          "showarrow": false,
          "text": "0.14",
          "x": "tv",
          "xref": "x",
          "y": "bathroom",
          "yref": "y"
         },
         {
          "font": {
           "color": "#FFFFFF"
          },
          "showarrow": false,
          "text": "0.12",
          "x": "cable_tv",
          "xref": "x",
          "y": "bathroom",
          "yref": "y"
         },
         {
          "font": {
           "color": "#FFFFFF"
          },
          "showarrow": false,
          "text": "-0.1",
          "x": "ac",
          "xref": "x",
          "y": "bathroom",
          "yref": "y"
         },
         {
          "font": {
           "color": "#FFFFFF"
          },
          "showarrow": false,
          "text": "0.04",
          "x": "workspace",
          "xref": "x",
          "y": "bathroom",
          "yref": "y"
         },
         {
          "font": {
           "color": "#FFFFFF"
          },
          "showarrow": false,
          "text": "0.05",
          "x": "pool",
          "xref": "x",
          "y": "bathroom",
          "yref": "y"
         },
         {
          "font": {
           "color": "#FFFFFF"
          },
          "showarrow": false,
          "text": "-0.02",
          "x": "parking",
          "xref": "x",
          "y": "bathroom",
          "yref": "y"
         },
         {
          "font": {
           "color": "#FFFFFF"
          },
          "showarrow": false,
          "text": "-0.05",
          "x": "gym",
          "xref": "x",
          "y": "bathroom",
          "yref": "y"
         },
         {
          "font": {
           "color": "#FFFFFF"
          },
          "showarrow": false,
          "text": "0.27",
          "x": "kitchen",
          "xref": "x",
          "y": "bathroom",
          "yref": "y"
         },
         {
          "font": {
           "color": "#FFFFFF"
          },
          "showarrow": false,
          "text": "-0.03",
          "x": "airport_pickup_price_idr",
          "xref": "x",
          "y": "bathroom",
          "yref": "y"
         },
         {
          "font": {
           "color": "#FFFFFF"
          },
          "showarrow": false,
          "text": "0.02",
          "x": "length_of_stay",
          "xref": "x",
          "y": "beds",
          "yref": "y"
         },
         {
          "font": {
           "color": "#FFFFFF"
          },
          "showarrow": false,
          "text": "0.07",
          "x": "booking_window",
          "xref": "x",
          "y": "beds",
          "yref": "y"
         },
         {
          "font": {
           "color": "#FFFFFF"
          },
          "showarrow": false,
          "text": "0.32",
          "x": "average_daily_rate",
          "xref": "x",
          "y": "beds",
          "yref": "y"
         },
         {
          "font": {
           "color": "#FFFFFF"
          },
          "showarrow": false,
          "text": "-0.11",
          "x": "status",
          "xref": "x",
          "y": "beds",
          "yref": "y"
         },
         {
          "font": {
           "color": "#FFFFFF"
          },
          "showarrow": false,
          "text": "0.88",
          "x": "bedroom",
          "xref": "x",
          "y": "beds",
          "yref": "y"
         },
         {
          "font": {
           "color": "#FFFFFF"
          },
          "showarrow": false,
          "text": "0.93",
          "x": "bathroom",
          "xref": "x",
          "y": "beds",
          "yref": "y"
         },
         {
          "font": {
           "color": "#FFFFFF"
          },
          "showarrow": false,
          "text": "1.0",
          "x": "beds",
          "xref": "x",
          "y": "beds",
          "yref": "y"
         },
         {
          "font": {
           "color": "#FFFFFF"
          },
          "showarrow": false,
          "text": "0.73",
          "x": "capacity",
          "xref": "x",
          "y": "beds",
          "yref": "y"
         },
         {
          "font": {
           "color": "#FFFFFF"
          },
          "showarrow": false,
          "text": "-0.09",
          "x": "wifi",
          "xref": "x",
          "y": "beds",
          "yref": "y"
         },
         {
          "font": {
           "color": "#FFFFFF"
          },
          "showarrow": false,
          "text": "0.11",
          "x": "tv",
          "xref": "x",
          "y": "beds",
          "yref": "y"
         },
         {
          "font": {
           "color": "#FFFFFF"
          },
          "showarrow": false,
          "text": "0.07",
          "x": "cable_tv",
          "xref": "x",
          "y": "beds",
          "yref": "y"
         },
         {
          "font": {
           "color": "#FFFFFF"
          },
          "showarrow": false,
          "text": "0.03",
          "x": "ac",
          "xref": "x",
          "y": "beds",
          "yref": "y"
         },
         {
          "font": {
           "color": "#FFFFFF"
          },
          "showarrow": false,
          "text": "0.05",
          "x": "workspace",
          "xref": "x",
          "y": "beds",
          "yref": "y"
         },
         {
          "font": {
           "color": "#FFFFFF"
          },
          "showarrow": false,
          "text": "0.02",
          "x": "pool",
          "xref": "x",
          "y": "beds",
          "yref": "y"
         },
         {
          "font": {
           "color": "#FFFFFF"
          },
          "showarrow": false,
          "text": "-0.03",
          "x": "parking",
          "xref": "x",
          "y": "beds",
          "yref": "y"
         },
         {
          "font": {
           "color": "#FFFFFF"
          },
          "showarrow": false,
          "text": "-0.05",
          "x": "gym",
          "xref": "x",
          "y": "beds",
          "yref": "y"
         },
         {
          "font": {
           "color": "#FFFFFF"
          },
          "showarrow": false,
          "text": "0.29",
          "x": "kitchen",
          "xref": "x",
          "y": "beds",
          "yref": "y"
         },
         {
          "font": {
           "color": "#FFFFFF"
          },
          "showarrow": false,
          "text": "-0.05",
          "x": "airport_pickup_price_idr",
          "xref": "x",
          "y": "beds",
          "yref": "y"
         },
         {
          "font": {
           "color": "#FFFFFF"
          },
          "showarrow": false,
          "text": "0.01",
          "x": "length_of_stay",
          "xref": "x",
          "y": "capacity",
          "yref": "y"
         },
         {
          "font": {
           "color": "#FFFFFF"
          },
          "showarrow": false,
          "text": "0.09",
          "x": "booking_window",
          "xref": "x",
          "y": "capacity",
          "yref": "y"
         },
         {
          "font": {
           "color": "#FFFFFF"
          },
          "showarrow": false,
          "text": "0.57",
          "x": "average_daily_rate",
          "xref": "x",
          "y": "capacity",
          "yref": "y"
         },
         {
          "font": {
           "color": "#FFFFFF"
          },
          "showarrow": false,
          "text": "-0.0",
          "x": "status",
          "xref": "x",
          "y": "capacity",
          "yref": "y"
         },
         {
          "font": {
           "color": "#FFFFFF"
          },
          "showarrow": false,
          "text": "0.73",
          "x": "bedroom",
          "xref": "x",
          "y": "capacity",
          "yref": "y"
         },
         {
          "font": {
           "color": "#FFFFFF"
          },
          "showarrow": false,
          "text": "0.68",
          "x": "bathroom",
          "xref": "x",
          "y": "capacity",
          "yref": "y"
         },
         {
          "font": {
           "color": "#FFFFFF"
          },
          "showarrow": false,
          "text": "0.73",
          "x": "beds",
          "xref": "x",
          "y": "capacity",
          "yref": "y"
         },
         {
          "font": {
           "color": "#FFFFFF"
          },
          "showarrow": false,
          "text": "1.0",
          "x": "capacity",
          "xref": "x",
          "y": "capacity",
          "yref": "y"
         },
         {
          "font": {
           "color": "#FFFFFF"
          },
          "showarrow": false,
          "text": "-0.08",
          "x": "wifi",
          "xref": "x",
          "y": "capacity",
          "yref": "y"
         },
         {
          "font": {
           "color": "#FFFFFF"
          },
          "showarrow": false,
          "text": "0.06",
          "x": "tv",
          "xref": "x",
          "y": "capacity",
          "yref": "y"
         },
         {
          "font": {
           "color": "#FFFFFF"
          },
          "showarrow": false,
          "text": "0.13",
          "x": "cable_tv",
          "xref": "x",
          "y": "capacity",
          "yref": "y"
         },
         {
          "font": {
           "color": "#FFFFFF"
          },
          "showarrow": false,
          "text": "0.04",
          "x": "ac",
          "xref": "x",
          "y": "capacity",
          "yref": "y"
         },
         {
          "font": {
           "color": "#FFFFFF"
          },
          "showarrow": false,
          "text": "0.08",
          "x": "workspace",
          "xref": "x",
          "y": "capacity",
          "yref": "y"
         },
         {
          "font": {
           "color": "#FFFFFF"
          },
          "showarrow": false,
          "text": "0.04",
          "x": "pool",
          "xref": "x",
          "y": "capacity",
          "yref": "y"
         },
         {
          "font": {
           "color": "#FFFFFF"
          },
          "showarrow": false,
          "text": "-0.0",
          "x": "parking",
          "xref": "x",
          "y": "capacity",
          "yref": "y"
         },
         {
          "font": {
           "color": "#FFFFFF"
          },
          "showarrow": false,
          "text": "0.02",
          "x": "gym",
          "xref": "x",
          "y": "capacity",
          "yref": "y"
         },
         {
          "font": {
           "color": "#FFFFFF"
          },
          "showarrow": false,
          "text": "0.33",
          "x": "kitchen",
          "xref": "x",
          "y": "capacity",
          "yref": "y"
         },
         {
          "font": {
           "color": "#FFFFFF"
          },
          "showarrow": false,
          "text": "-0.03",
          "x": "airport_pickup_price_idr",
          "xref": "x",
          "y": "capacity",
          "yref": "y"
         },
         {
          "font": {
           "color": "#FFFFFF"
          },
          "showarrow": false,
          "text": "-0.01",
          "x": "length_of_stay",
          "xref": "x",
          "y": "wifi",
          "yref": "y"
         },
         {
          "font": {
           "color": "#FFFFFF"
          },
          "showarrow": false,
          "text": "0.03",
          "x": "booking_window",
          "xref": "x",
          "y": "wifi",
          "yref": "y"
         },
         {
          "font": {
           "color": "#FFFFFF"
          },
          "showarrow": false,
          "text": "0.01",
          "x": "average_daily_rate",
          "xref": "x",
          "y": "wifi",
          "yref": "y"
         },
         {
          "font": {
           "color": "#FFFFFF"
          },
          "showarrow": false,
          "text": "-0.08",
          "x": "status",
          "xref": "x",
          "y": "wifi",
          "yref": "y"
         },
         {
          "font": {
           "color": "#FFFFFF"
          },
          "showarrow": false,
          "text": "-0.08",
          "x": "bedroom",
          "xref": "x",
          "y": "wifi",
          "yref": "y"
         },
         {
          "font": {
           "color": "#FFFFFF"
          },
          "showarrow": false,
          "text": "-0.03",
          "x": "bathroom",
          "xref": "x",
          "y": "wifi",
          "yref": "y"
         },
         {
          "font": {
           "color": "#FFFFFF"
          },
          "showarrow": false,
          "text": "-0.09",
          "x": "beds",
          "xref": "x",
          "y": "wifi",
          "yref": "y"
         },
         {
          "font": {
           "color": "#FFFFFF"
          },
          "showarrow": false,
          "text": "-0.08",
          "x": "capacity",
          "xref": "x",
          "y": "wifi",
          "yref": "y"
         },
         {
          "font": {
           "color": "#FFFFFF"
          },
          "showarrow": false,
          "text": "1.0",
          "x": "wifi",
          "xref": "x",
          "y": "wifi",
          "yref": "y"
         },
         {
          "font": {
           "color": "#FFFFFF"
          },
          "showarrow": false,
          "text": "-0.09",
          "x": "tv",
          "xref": "x",
          "y": "wifi",
          "yref": "y"
         },
         {
          "font": {
           "color": "#FFFFFF"
          },
          "showarrow": false,
          "text": "0.05",
          "x": "cable_tv",
          "xref": "x",
          "y": "wifi",
          "yref": "y"
         },
         {
          "font": {
           "color": "#FFFFFF"
          },
          "showarrow": false,
          "text": "-0.01",
          "x": "ac",
          "xref": "x",
          "y": "wifi",
          "yref": "y"
         },
         {
          "font": {
           "color": "#FFFFFF"
          },
          "showarrow": false,
          "text": "-0.03",
          "x": "workspace",
          "xref": "x",
          "y": "wifi",
          "yref": "y"
         },
         {
          "font": {
           "color": "#FFFFFF"
          },
          "showarrow": false,
          "text": "0.11",
          "x": "pool",
          "xref": "x",
          "y": "wifi",
          "yref": "y"
         },
         {
          "font": {
           "color": "#FFFFFF"
          },
          "showarrow": false,
          "text": "0.15",
          "x": "parking",
          "xref": "x",
          "y": "wifi",
          "yref": "y"
         },
         {
          "font": {
           "color": "#FFFFFF"
          },
          "showarrow": false,
          "text": "-0.02",
          "x": "gym",
          "xref": "x",
          "y": "wifi",
          "yref": "y"
         },
         {
          "font": {
           "color": "#FFFFFF"
          },
          "showarrow": false,
          "text": "-0.08",
          "x": "kitchen",
          "xref": "x",
          "y": "wifi",
          "yref": "y"
         },
         {
          "font": {
           "color": "#FFFFFF"
          },
          "showarrow": false,
          "text": "0.17",
          "x": "airport_pickup_price_idr",
          "xref": "x",
          "y": "wifi",
          "yref": "y"
         },
         {
          "font": {
           "color": "#FFFFFF"
          },
          "showarrow": false,
          "text": "0.03",
          "x": "length_of_stay",
          "xref": "x",
          "y": "tv",
          "yref": "y"
         },
         {
          "font": {
           "color": "#FFFFFF"
          },
          "showarrow": false,
          "text": "0.1",
          "x": "booking_window",
          "xref": "x",
          "y": "tv",
          "yref": "y"
         },
         {
          "font": {
           "color": "#FFFFFF"
          },
          "showarrow": false,
          "text": "0.03",
          "x": "average_daily_rate",
          "xref": "x",
          "y": "tv",
          "yref": "y"
         },
         {
          "font": {
           "color": "#FFFFFF"
          },
          "showarrow": false,
          "text": "-0.11",
          "x": "status",
          "xref": "x",
          "y": "tv",
          "yref": "y"
         },
         {
          "font": {
           "color": "#FFFFFF"
          },
          "showarrow": false,
          "text": "0.14",
          "x": "bedroom",
          "xref": "x",
          "y": "tv",
          "yref": "y"
         },
         {
          "font": {
           "color": "#FFFFFF"
          },
          "showarrow": false,
          "text": "0.14",
          "x": "bathroom",
          "xref": "x",
          "y": "tv",
          "yref": "y"
         },
         {
          "font": {
           "color": "#FFFFFF"
          },
          "showarrow": false,
          "text": "0.11",
          "x": "beds",
          "xref": "x",
          "y": "tv",
          "yref": "y"
         },
         {
          "font": {
           "color": "#FFFFFF"
          },
          "showarrow": false,
          "text": "0.06",
          "x": "capacity",
          "xref": "x",
          "y": "tv",
          "yref": "y"
         },
         {
          "font": {
           "color": "#FFFFFF"
          },
          "showarrow": false,
          "text": "-0.09",
          "x": "wifi",
          "xref": "x",
          "y": "tv",
          "yref": "y"
         },
         {
          "font": {
           "color": "#FFFFFF"
          },
          "showarrow": false,
          "text": "1.0",
          "x": "tv",
          "xref": "x",
          "y": "tv",
          "yref": "y"
         },
         {
          "font": {
           "color": "#FFFFFF"
          },
          "showarrow": false,
          "text": "0.45",
          "x": "cable_tv",
          "xref": "x",
          "y": "tv",
          "yref": "y"
         },
         {
          "font": {
           "color": "#FFFFFF"
          },
          "showarrow": false,
          "text": "0.09",
          "x": "ac",
          "xref": "x",
          "y": "tv",
          "yref": "y"
         },
         {
          "font": {
           "color": "#FFFFFF"
          },
          "showarrow": false,
          "text": "0.05",
          "x": "workspace",
          "xref": "x",
          "y": "tv",
          "yref": "y"
         },
         {
          "font": {
           "color": "#FFFFFF"
          },
          "showarrow": false,
          "text": "0.14",
          "x": "pool",
          "xref": "x",
          "y": "tv",
          "yref": "y"
         },
         {
          "font": {
           "color": "#FFFFFF"
          },
          "showarrow": false,
          "text": "0.07",
          "x": "parking",
          "xref": "x",
          "y": "tv",
          "yref": "y"
         },
         {
          "font": {
           "color": "#FFFFFF"
          },
          "showarrow": false,
          "text": "0.07",
          "x": "gym",
          "xref": "x",
          "y": "tv",
          "yref": "y"
         },
         {
          "font": {
           "color": "#FFFFFF"
          },
          "showarrow": false,
          "text": "0.17",
          "x": "kitchen",
          "xref": "x",
          "y": "tv",
          "yref": "y"
         },
         {
          "font": {
           "color": "#FFFFFF"
          },
          "showarrow": false,
          "text": "-0.15",
          "x": "airport_pickup_price_idr",
          "xref": "x",
          "y": "tv",
          "yref": "y"
         },
         {
          "font": {
           "color": "#FFFFFF"
          },
          "showarrow": false,
          "text": "0.01",
          "x": "length_of_stay",
          "xref": "x",
          "y": "cable_tv",
          "yref": "y"
         },
         {
          "font": {
           "color": "#FFFFFF"
          },
          "showarrow": false,
          "text": "0.02",
          "x": "booking_window",
          "xref": "x",
          "y": "cable_tv",
          "yref": "y"
         },
         {
          "font": {
           "color": "#FFFFFF"
          },
          "showarrow": false,
          "text": "0.09",
          "x": "average_daily_rate",
          "xref": "x",
          "y": "cable_tv",
          "yref": "y"
         },
         {
          "font": {
           "color": "#FFFFFF"
          },
          "showarrow": false,
          "text": "-0.04",
          "x": "status",
          "xref": "x",
          "y": "cable_tv",
          "yref": "y"
         },
         {
          "font": {
           "color": "#FFFFFF"
          },
          "showarrow": false,
          "text": "0.11",
          "x": "bedroom",
          "xref": "x",
          "y": "cable_tv",
          "yref": "y"
         },
         {
          "font": {
           "color": "#FFFFFF"
          },
          "showarrow": false,
          "text": "0.12",
          "x": "bathroom",
          "xref": "x",
          "y": "cable_tv",
          "yref": "y"
         },
         {
          "font": {
           "color": "#FFFFFF"
          },
          "showarrow": false,
          "text": "0.07",
          "x": "beds",
          "xref": "x",
          "y": "cable_tv",
          "yref": "y"
         },
         {
          "font": {
           "color": "#FFFFFF"
          },
          "showarrow": false,
          "text": "0.13",
          "x": "capacity",
          "xref": "x",
          "y": "cable_tv",
          "yref": "y"
         },
         {
          "font": {
           "color": "#FFFFFF"
          },
          "showarrow": false,
          "text": "0.05",
          "x": "wifi",
          "xref": "x",
          "y": "cable_tv",
          "yref": "y"
         },
         {
          "font": {
           "color": "#FFFFFF"
          },
          "showarrow": false,
          "text": "0.45",
          "x": "tv",
          "xref": "x",
          "y": "cable_tv",
          "yref": "y"
         },
         {
          "font": {
           "color": "#FFFFFF"
          },
          "showarrow": false,
          "text": "1.0",
          "x": "cable_tv",
          "xref": "x",
          "y": "cable_tv",
          "yref": "y"
         },
         {
          "font": {
           "color": "#FFFFFF"
          },
          "showarrow": false,
          "text": "0.05",
          "x": "ac",
          "xref": "x",
          "y": "cable_tv",
          "yref": "y"
         },
         {
          "font": {
           "color": "#FFFFFF"
          },
          "showarrow": false,
          "text": "0.14",
          "x": "workspace",
          "xref": "x",
          "y": "cable_tv",
          "yref": "y"
         },
         {
          "font": {
           "color": "#FFFFFF"
          },
          "showarrow": false,
          "text": "0.22",
          "x": "pool",
          "xref": "x",
          "y": "cable_tv",
          "yref": "y"
         },
         {
          "font": {
           "color": "#FFFFFF"
          },
          "showarrow": false,
          "text": "0.1",
          "x": "parking",
          "xref": "x",
          "y": "cable_tv",
          "yref": "y"
         },
         {
          "font": {
           "color": "#FFFFFF"
          },
          "showarrow": false,
          "text": "0.09",
          "x": "gym",
          "xref": "x",
          "y": "cable_tv",
          "yref": "y"
         },
         {
          "font": {
           "color": "#FFFFFF"
          },
          "showarrow": false,
          "text": "-0.05",
          "x": "kitchen",
          "xref": "x",
          "y": "cable_tv",
          "yref": "y"
         },
         {
          "font": {
           "color": "#FFFFFF"
          },
          "showarrow": false,
          "text": "-0.04",
          "x": "airport_pickup_price_idr",
          "xref": "x",
          "y": "cable_tv",
          "yref": "y"
         },
         {
          "font": {
           "color": "#FFFFFF"
          },
          "showarrow": false,
          "text": "-0.0",
          "x": "length_of_stay",
          "xref": "x",
          "y": "ac",
          "yref": "y"
         },
         {
          "font": {
           "color": "#FFFFFF"
          },
          "showarrow": false,
          "text": "0.02",
          "x": "booking_window",
          "xref": "x",
          "y": "ac",
          "yref": "y"
         },
         {
          "font": {
           "color": "#FFFFFF"
          },
          "showarrow": false,
          "text": "0.03",
          "x": "average_daily_rate",
          "xref": "x",
          "y": "ac",
          "yref": "y"
         },
         {
          "font": {
           "color": "#FFFFFF"
          },
          "showarrow": false,
          "text": "0.12",
          "x": "status",
          "xref": "x",
          "y": "ac",
          "yref": "y"
         },
         {
          "font": {
           "color": "#FFFFFF"
          },
          "showarrow": false,
          "text": "0.03",
          "x": "bedroom",
          "xref": "x",
          "y": "ac",
          "yref": "y"
         },
         {
          "font": {
           "color": "#FFFFFF"
          },
          "showarrow": false,
          "text": "-0.1",
          "x": "bathroom",
          "xref": "x",
          "y": "ac",
          "yref": "y"
         },
         {
          "font": {
           "color": "#FFFFFF"
          },
          "showarrow": false,
          "text": "0.03",
          "x": "beds",
          "xref": "x",
          "y": "ac",
          "yref": "y"
         },
         {
          "font": {
           "color": "#FFFFFF"
          },
          "showarrow": false,
          "text": "0.04",
          "x": "capacity",
          "xref": "x",
          "y": "ac",
          "yref": "y"
         },
         {
          "font": {
           "color": "#FFFFFF"
          },
          "showarrow": false,
          "text": "-0.01",
          "x": "wifi",
          "xref": "x",
          "y": "ac",
          "yref": "y"
         },
         {
          "font": {
           "color": "#FFFFFF"
          },
          "showarrow": false,
          "text": "0.09",
          "x": "tv",
          "xref": "x",
          "y": "ac",
          "yref": "y"
         },
         {
          "font": {
           "color": "#FFFFFF"
          },
          "showarrow": false,
          "text": "0.05",
          "x": "cable_tv",
          "xref": "x",
          "y": "ac",
          "yref": "y"
         },
         {
          "font": {
           "color": "#FFFFFF"
          },
          "showarrow": false,
          "text": "1.0",
          "x": "ac",
          "xref": "x",
          "y": "ac",
          "yref": "y"
         },
         {
          "font": {
           "color": "#FFFFFF"
          },
          "showarrow": false,
          "text": "-0.02",
          "x": "workspace",
          "xref": "x",
          "y": "ac",
          "yref": "y"
         },
         {
          "font": {
           "color": "#FFFFFF"
          },
          "showarrow": false,
          "text": "0.2",
          "x": "pool",
          "xref": "x",
          "y": "ac",
          "yref": "y"
         },
         {
          "font": {
           "color": "#FFFFFF"
          },
          "showarrow": false,
          "text": "0.35",
          "x": "parking",
          "xref": "x",
          "y": "ac",
          "yref": "y"
         },
         {
          "font": {
           "color": "#FFFFFF"
          },
          "showarrow": false,
          "text": "0.01",
          "x": "gym",
          "xref": "x",
          "y": "ac",
          "yref": "y"
         },
         {
          "font": {
           "color": "#FFFFFF"
          },
          "showarrow": false,
          "text": "0.06",
          "x": "kitchen",
          "xref": "x",
          "y": "ac",
          "yref": "y"
         },
         {
          "font": {
           "color": "#FFFFFF"
          },
          "showarrow": false,
          "text": "-0.07",
          "x": "airport_pickup_price_idr",
          "xref": "x",
          "y": "ac",
          "yref": "y"
         },
         {
          "font": {
           "color": "#FFFFFF"
          },
          "showarrow": false,
          "text": "0.03",
          "x": "length_of_stay",
          "xref": "x",
          "y": "workspace",
          "yref": "y"
         },
         {
          "font": {
           "color": "#FFFFFF"
          },
          "showarrow": false,
          "text": "0.02",
          "x": "booking_window",
          "xref": "x",
          "y": "workspace",
          "yref": "y"
         },
         {
          "font": {
           "color": "#FFFFFF"
          },
          "showarrow": false,
          "text": "0.06",
          "x": "average_daily_rate",
          "xref": "x",
          "y": "workspace",
          "yref": "y"
         },
         {
          "font": {
           "color": "#FFFFFF"
          },
          "showarrow": false,
          "text": "0.03",
          "x": "status",
          "xref": "x",
          "y": "workspace",
          "yref": "y"
         },
         {
          "font": {
           "color": "#FFFFFF"
          },
          "showarrow": false,
          "text": "0.06",
          "x": "bedroom",
          "xref": "x",
          "y": "workspace",
          "yref": "y"
         },
         {
          "font": {
           "color": "#FFFFFF"
          },
          "showarrow": false,
          "text": "0.04",
          "x": "bathroom",
          "xref": "x",
          "y": "workspace",
          "yref": "y"
         },
         {
          "font": {
           "color": "#FFFFFF"
          },
          "showarrow": false,
          "text": "0.05",
          "x": "beds",
          "xref": "x",
          "y": "workspace",
          "yref": "y"
         },
         {
          "font": {
           "color": "#FFFFFF"
          },
          "showarrow": false,
          "text": "0.08",
          "x": "capacity",
          "xref": "x",
          "y": "workspace",
          "yref": "y"
         },
         {
          "font": {
           "color": "#FFFFFF"
          },
          "showarrow": false,
          "text": "-0.03",
          "x": "wifi",
          "xref": "x",
          "y": "workspace",
          "yref": "y"
         },
         {
          "font": {
           "color": "#FFFFFF"
          },
          "showarrow": false,
          "text": "0.05",
          "x": "tv",
          "xref": "x",
          "y": "workspace",
          "yref": "y"
         },
         {
          "font": {
           "color": "#FFFFFF"
          },
          "showarrow": false,
          "text": "0.14",
          "x": "cable_tv",
          "xref": "x",
          "y": "workspace",
          "yref": "y"
         },
         {
          "font": {
           "color": "#FFFFFF"
          },
          "showarrow": false,
          "text": "-0.02",
          "x": "ac",
          "xref": "x",
          "y": "workspace",
          "yref": "y"
         },
         {
          "font": {
           "color": "#FFFFFF"
          },
          "showarrow": false,
          "text": "1.0",
          "x": "workspace",
          "xref": "x",
          "y": "workspace",
          "yref": "y"
         },
         {
          "font": {
           "color": "#FFFFFF"
          },
          "showarrow": false,
          "text": "0.2",
          "x": "pool",
          "xref": "x",
          "y": "workspace",
          "yref": "y"
         },
         {
          "font": {
           "color": "#FFFFFF"
          },
          "showarrow": false,
          "text": "0.13",
          "x": "parking",
          "xref": "x",
          "y": "workspace",
          "yref": "y"
         },
         {
          "font": {
           "color": "#FFFFFF"
          },
          "showarrow": false,
          "text": "-0.07",
          "x": "gym",
          "xref": "x",
          "y": "workspace",
          "yref": "y"
         },
         {
          "font": {
           "color": "#FFFFFF"
          },
          "showarrow": false,
          "text": "0.11",
          "x": "kitchen",
          "xref": "x",
          "y": "workspace",
          "yref": "y"
         },
         {
          "font": {
           "color": "#FFFFFF"
          },
          "showarrow": false,
          "text": "-0.08",
          "x": "airport_pickup_price_idr",
          "xref": "x",
          "y": "workspace",
          "yref": "y"
         },
         {
          "font": {
           "color": "#FFFFFF"
          },
          "showarrow": false,
          "text": "0.05",
          "x": "length_of_stay",
          "xref": "x",
          "y": "pool",
          "yref": "y"
         },
         {
          "font": {
           "color": "#FFFFFF"
          },
          "showarrow": false,
          "text": "0.09",
          "x": "booking_window",
          "xref": "x",
          "y": "pool",
          "yref": "y"
         },
         {
          "font": {
           "color": "#FFFFFF"
          },
          "showarrow": false,
          "text": "0.12",
          "x": "average_daily_rate",
          "xref": "x",
          "y": "pool",
          "yref": "y"
         },
         {
          "font": {
           "color": "#FFFFFF"
          },
          "showarrow": false,
          "text": "0.15",
          "x": "status",
          "xref": "x",
          "y": "pool",
          "yref": "y"
         },
         {
          "font": {
           "color": "#FFFFFF"
          },
          "showarrow": false,
          "text": "0.02",
          "x": "bedroom",
          "xref": "x",
          "y": "pool",
          "yref": "y"
         },
         {
          "font": {
           "color": "#FFFFFF"
          },
          "showarrow": false,
          "text": "0.05",
          "x": "bathroom",
          "xref": "x",
          "y": "pool",
          "yref": "y"
         },
         {
          "font": {
           "color": "#FFFFFF"
          },
          "showarrow": false,
          "text": "0.02",
          "x": "beds",
          "xref": "x",
          "y": "pool",
          "yref": "y"
         },
         {
          "font": {
           "color": "#FFFFFF"
          },
          "showarrow": false,
          "text": "0.04",
          "x": "capacity",
          "xref": "x",
          "y": "pool",
          "yref": "y"
         },
         {
          "font": {
           "color": "#FFFFFF"
          },
          "showarrow": false,
          "text": "0.11",
          "x": "wifi",
          "xref": "x",
          "y": "pool",
          "yref": "y"
         },
         {
          "font": {
           "color": "#FFFFFF"
          },
          "showarrow": false,
          "text": "0.14",
          "x": "tv",
          "xref": "x",
          "y": "pool",
          "yref": "y"
         },
         {
          "font": {
           "color": "#FFFFFF"
          },
          "showarrow": false,
          "text": "0.22",
          "x": "cable_tv",
          "xref": "x",
          "y": "pool",
          "yref": "y"
         },
         {
          "font": {
           "color": "#FFFFFF"
          },
          "showarrow": false,
          "text": "0.2",
          "x": "ac",
          "xref": "x",
          "y": "pool",
          "yref": "y"
         },
         {
          "font": {
           "color": "#FFFFFF"
          },
          "showarrow": false,
          "text": "0.2",
          "x": "workspace",
          "xref": "x",
          "y": "pool",
          "yref": "y"
         },
         {
          "font": {
           "color": "#FFFFFF"
          },
          "showarrow": false,
          "text": "1.0",
          "x": "pool",
          "xref": "x",
          "y": "pool",
          "yref": "y"
         },
         {
          "font": {
           "color": "#FFFFFF"
          },
          "showarrow": false,
          "text": "0.27",
          "x": "parking",
          "xref": "x",
          "y": "pool",
          "yref": "y"
         },
         {
          "font": {
           "color": "#FFFFFF"
          },
          "showarrow": false,
          "text": "0.04",
          "x": "gym",
          "xref": "x",
          "y": "pool",
          "yref": "y"
         },
         {
          "font": {
           "color": "#FFFFFF"
          },
          "showarrow": false,
          "text": "0.05",
          "x": "kitchen",
          "xref": "x",
          "y": "pool",
          "yref": "y"
         },
         {
          "font": {
           "color": "#FFFFFF"
          },
          "showarrow": false,
          "text": "0.02",
          "x": "airport_pickup_price_idr",
          "xref": "x",
          "y": "pool",
          "yref": "y"
         },
         {
          "font": {
           "color": "#FFFFFF"
          },
          "showarrow": false,
          "text": "0.0",
          "x": "length_of_stay",
          "xref": "x",
          "y": "parking",
          "yref": "y"
         },
         {
          "font": {
           "color": "#FFFFFF"
          },
          "showarrow": false,
          "text": "-0.02",
          "x": "booking_window",
          "xref": "x",
          "y": "parking",
          "yref": "y"
         },
         {
          "font": {
           "color": "#FFFFFF"
          },
          "showarrow": false,
          "text": "-0.04",
          "x": "average_daily_rate",
          "xref": "x",
          "y": "parking",
          "yref": "y"
         },
         {
          "font": {
           "color": "#FFFFFF"
          },
          "showarrow": false,
          "text": "0.19",
          "x": "status",
          "xref": "x",
          "y": "parking",
          "yref": "y"
         },
         {
          "font": {
           "color": "#FFFFFF"
          },
          "showarrow": false,
          "text": "-0.03",
          "x": "bedroom",
          "xref": "x",
          "y": "parking",
          "yref": "y"
         },
         {
          "font": {
           "color": "#FFFFFF"
          },
          "showarrow": false,
          "text": "-0.02",
          "x": "bathroom",
          "xref": "x",
          "y": "parking",
          "yref": "y"
         },
         {
          "font": {
           "color": "#FFFFFF"
          },
          "showarrow": false,
          "text": "-0.03",
          "x": "beds",
          "xref": "x",
          "y": "parking",
          "yref": "y"
         },
         {
          "font": {
           "color": "#FFFFFF"
          },
          "showarrow": false,
          "text": "-0.0",
          "x": "capacity",
          "xref": "x",
          "y": "parking",
          "yref": "y"
         },
         {
          "font": {
           "color": "#FFFFFF"
          },
          "showarrow": false,
          "text": "0.15",
          "x": "wifi",
          "xref": "x",
          "y": "parking",
          "yref": "y"
         },
         {
          "font": {
           "color": "#FFFFFF"
          },
          "showarrow": false,
          "text": "0.07",
          "x": "tv",
          "xref": "x",
          "y": "parking",
          "yref": "y"
         },
         {
          "font": {
           "color": "#FFFFFF"
          },
          "showarrow": false,
          "text": "0.1",
          "x": "cable_tv",
          "xref": "x",
          "y": "parking",
          "yref": "y"
         },
         {
          "font": {
           "color": "#FFFFFF"
          },
          "showarrow": false,
          "text": "0.35",
          "x": "ac",
          "xref": "x",
          "y": "parking",
          "yref": "y"
         },
         {
          "font": {
           "color": "#FFFFFF"
          },
          "showarrow": false,
          "text": "0.13",
          "x": "workspace",
          "xref": "x",
          "y": "parking",
          "yref": "y"
         },
         {
          "font": {
           "color": "#FFFFFF"
          },
          "showarrow": false,
          "text": "0.27",
          "x": "pool",
          "xref": "x",
          "y": "parking",
          "yref": "y"
         },
         {
          "font": {
           "color": "#FFFFFF"
          },
          "showarrow": false,
          "text": "1.0",
          "x": "parking",
          "xref": "x",
          "y": "parking",
          "yref": "y"
         },
         {
          "font": {
           "color": "#FFFFFF"
          },
          "showarrow": false,
          "text": "-0.11",
          "x": "gym",
          "xref": "x",
          "y": "parking",
          "yref": "y"
         },
         {
          "font": {
           "color": "#FFFFFF"
          },
          "showarrow": false,
          "text": "0.0",
          "x": "kitchen",
          "xref": "x",
          "y": "parking",
          "yref": "y"
         },
         {
          "font": {
           "color": "#FFFFFF"
          },
          "showarrow": false,
          "text": "0.08",
          "x": "airport_pickup_price_idr",
          "xref": "x",
          "y": "parking",
          "yref": "y"
         },
         {
          "font": {
           "color": "#FFFFFF"
          },
          "showarrow": false,
          "text": "0.02",
          "x": "length_of_stay",
          "xref": "x",
          "y": "gym",
          "yref": "y"
         },
         {
          "font": {
           "color": "#FFFFFF"
          },
          "showarrow": false,
          "text": "-0.02",
          "x": "booking_window",
          "xref": "x",
          "y": "gym",
          "yref": "y"
         },
         {
          "font": {
           "color": "#FFFFFF"
          },
          "showarrow": false,
          "text": "-0.02",
          "x": "average_daily_rate",
          "xref": "x",
          "y": "gym",
          "yref": "y"
         },
         {
          "font": {
           "color": "#FFFFFF"
          },
          "showarrow": false,
          "text": "-0.0",
          "x": "status",
          "xref": "x",
          "y": "gym",
          "yref": "y"
         },
         {
          "font": {
           "color": "#FFFFFF"
          },
          "showarrow": false,
          "text": "-0.01",
          "x": "bedroom",
          "xref": "x",
          "y": "gym",
          "yref": "y"
         },
         {
          "font": {
           "color": "#FFFFFF"
          },
          "showarrow": false,
          "text": "-0.05",
          "x": "bathroom",
          "xref": "x",
          "y": "gym",
          "yref": "y"
         },
         {
          "font": {
           "color": "#FFFFFF"
          },
          "showarrow": false,
          "text": "-0.05",
          "x": "beds",
          "xref": "x",
          "y": "gym",
          "yref": "y"
         },
         {
          "font": {
           "color": "#FFFFFF"
          },
          "showarrow": false,
          "text": "0.02",
          "x": "capacity",
          "xref": "x",
          "y": "gym",
          "yref": "y"
         },
         {
          "font": {
           "color": "#FFFFFF"
          },
          "showarrow": false,
          "text": "-0.02",
          "x": "wifi",
          "xref": "x",
          "y": "gym",
          "yref": "y"
         },
         {
          "font": {
           "color": "#FFFFFF"
          },
          "showarrow": false,
          "text": "0.07",
          "x": "tv",
          "xref": "x",
          "y": "gym",
          "yref": "y"
         },
         {
          "font": {
           "color": "#FFFFFF"
          },
          "showarrow": false,
          "text": "0.09",
          "x": "cable_tv",
          "xref": "x",
          "y": "gym",
          "yref": "y"
         },
         {
          "font": {
           "color": "#FFFFFF"
          },
          "showarrow": false,
          "text": "0.01",
          "x": "ac",
          "xref": "x",
          "y": "gym",
          "yref": "y"
         },
         {
          "font": {
           "color": "#FFFFFF"
          },
          "showarrow": false,
          "text": "-0.07",
          "x": "workspace",
          "xref": "x",
          "y": "gym",
          "yref": "y"
         },
         {
          "font": {
           "color": "#FFFFFF"
          },
          "showarrow": false,
          "text": "0.04",
          "x": "pool",
          "xref": "x",
          "y": "gym",
          "yref": "y"
         },
         {
          "font": {
           "color": "#FFFFFF"
          },
          "showarrow": false,
          "text": "-0.11",
          "x": "parking",
          "xref": "x",
          "y": "gym",
          "yref": "y"
         },
         {
          "font": {
           "color": "#FFFFFF"
          },
          "showarrow": false,
          "text": "1.0",
          "x": "gym",
          "xref": "x",
          "y": "gym",
          "yref": "y"
         },
         {
          "font": {
           "color": "#FFFFFF"
          },
          "showarrow": false,
          "text": "0.05",
          "x": "kitchen",
          "xref": "x",
          "y": "gym",
          "yref": "y"
         },
         {
          "font": {
           "color": "#FFFFFF"
          },
          "showarrow": false,
          "text": "-0.11",
          "x": "airport_pickup_price_idr",
          "xref": "x",
          "y": "gym",
          "yref": "y"
         },
         {
          "font": {
           "color": "#FFFFFF"
          },
          "showarrow": false,
          "text": "0.11",
          "x": "length_of_stay",
          "xref": "x",
          "y": "kitchen",
          "yref": "y"
         },
         {
          "font": {
           "color": "#FFFFFF"
          },
          "showarrow": false,
          "text": "0.08",
          "x": "booking_window",
          "xref": "x",
          "y": "kitchen",
          "yref": "y"
         },
         {
          "font": {
           "color": "#FFFFFF"
          },
          "showarrow": false,
          "text": "0.2",
          "x": "average_daily_rate",
          "xref": "x",
          "y": "kitchen",
          "yref": "y"
         },
         {
          "font": {
           "color": "#FFFFFF"
          },
          "showarrow": false,
          "text": "0.01",
          "x": "status",
          "xref": "x",
          "y": "kitchen",
          "yref": "y"
         },
         {
          "font": {
           "color": "#FFFFFF"
          },
          "showarrow": false,
          "text": "0.31",
          "x": "bedroom",
          "xref": "x",
          "y": "kitchen",
          "yref": "y"
         },
         {
          "font": {
           "color": "#FFFFFF"
          },
          "showarrow": false,
          "text": "0.27",
          "x": "bathroom",
          "xref": "x",
          "y": "kitchen",
          "yref": "y"
         },
         {
          "font": {
           "color": "#FFFFFF"
          },
          "showarrow": false,
          "text": "0.29",
          "x": "beds",
          "xref": "x",
          "y": "kitchen",
          "yref": "y"
         },
         {
          "font": {
           "color": "#FFFFFF"
          },
          "showarrow": false,
          "text": "0.33",
          "x": "capacity",
          "xref": "x",
          "y": "kitchen",
          "yref": "y"
         },
         {
          "font": {
           "color": "#FFFFFF"
          },
          "showarrow": false,
          "text": "-0.08",
          "x": "wifi",
          "xref": "x",
          "y": "kitchen",
          "yref": "y"
         },
         {
          "font": {
           "color": "#FFFFFF"
          },
          "showarrow": false,
          "text": "0.17",
          "x": "tv",
          "xref": "x",
          "y": "kitchen",
          "yref": "y"
         },
         {
          "font": {
           "color": "#FFFFFF"
          },
          "showarrow": false,
          "text": "-0.05",
          "x": "cable_tv",
          "xref": "x",
          "y": "kitchen",
          "yref": "y"
         },
         {
          "font": {
           "color": "#FFFFFF"
          },
          "showarrow": false,
          "text": "0.06",
          "x": "ac",
          "xref": "x",
          "y": "kitchen",
          "yref": "y"
         },
         {
          "font": {
           "color": "#FFFFFF"
          },
          "showarrow": false,
          "text": "0.11",
          "x": "workspace",
          "xref": "x",
          "y": "kitchen",
          "yref": "y"
         },
         {
          "font": {
           "color": "#FFFFFF"
          },
          "showarrow": false,
          "text": "0.05",
          "x": "pool",
          "xref": "x",
          "y": "kitchen",
          "yref": "y"
         },
         {
          "font": {
           "color": "#FFFFFF"
          },
          "showarrow": false,
          "text": "0.0",
          "x": "parking",
          "xref": "x",
          "y": "kitchen",
          "yref": "y"
         },
         {
          "font": {
           "color": "#FFFFFF"
          },
          "showarrow": false,
          "text": "0.05",
          "x": "gym",
          "xref": "x",
          "y": "kitchen",
          "yref": "y"
         },
         {
          "font": {
           "color": "#FFFFFF"
          },
          "showarrow": false,
          "text": "1.0",
          "x": "kitchen",
          "xref": "x",
          "y": "kitchen",
          "yref": "y"
         },
         {
          "font": {
           "color": "#FFFFFF"
          },
          "showarrow": false,
          "text": "-0.16",
          "x": "airport_pickup_price_idr",
          "xref": "x",
          "y": "kitchen",
          "yref": "y"
         },
         {
          "font": {
           "color": "#FFFFFF"
          },
          "showarrow": false,
          "text": "-0.02",
          "x": "length_of_stay",
          "xref": "x",
          "y": "airport_pickup_price_idr",
          "yref": "y"
         },
         {
          "font": {
           "color": "#FFFFFF"
          },
          "showarrow": false,
          "text": "-0.01",
          "x": "booking_window",
          "xref": "x",
          "y": "airport_pickup_price_idr",
          "yref": "y"
         },
         {
          "font": {
           "color": "#FFFFFF"
          },
          "showarrow": false,
          "text": "0.03",
          "x": "average_daily_rate",
          "xref": "x",
          "y": "airport_pickup_price_idr",
          "yref": "y"
         },
         {
          "font": {
           "color": "#FFFFFF"
          },
          "showarrow": false,
          "text": "0.03",
          "x": "status",
          "xref": "x",
          "y": "airport_pickup_price_idr",
          "yref": "y"
         },
         {
          "font": {
           "color": "#FFFFFF"
          },
          "showarrow": false,
          "text": "0.04",
          "x": "bedroom",
          "xref": "x",
          "y": "airport_pickup_price_idr",
          "yref": "y"
         },
         {
          "font": {
           "color": "#FFFFFF"
          },
          "showarrow": false,
          "text": "-0.03",
          "x": "bathroom",
          "xref": "x",
          "y": "airport_pickup_price_idr",
          "yref": "y"
         },
         {
          "font": {
           "color": "#FFFFFF"
          },
          "showarrow": false,
          "text": "-0.05",
          "x": "beds",
          "xref": "x",
          "y": "airport_pickup_price_idr",
          "yref": "y"
         },
         {
          "font": {
           "color": "#FFFFFF"
          },
          "showarrow": false,
          "text": "-0.03",
          "x": "capacity",
          "xref": "x",
          "y": "airport_pickup_price_idr",
          "yref": "y"
         },
         {
          "font": {
           "color": "#FFFFFF"
          },
          "showarrow": false,
          "text": "0.17",
          "x": "wifi",
          "xref": "x",
          "y": "airport_pickup_price_idr",
          "yref": "y"
         },
         {
          "font": {
           "color": "#FFFFFF"
          },
          "showarrow": false,
          "text": "-0.15",
          "x": "tv",
          "xref": "x",
          "y": "airport_pickup_price_idr",
          "yref": "y"
         },
         {
          "font": {
           "color": "#FFFFFF"
          },
          "showarrow": false,
          "text": "-0.04",
          "x": "cable_tv",
          "xref": "x",
          "y": "airport_pickup_price_idr",
          "yref": "y"
         },
         {
          "font": {
           "color": "#FFFFFF"
          },
          "showarrow": false,
          "text": "-0.07",
          "x": "ac",
          "xref": "x",
          "y": "airport_pickup_price_idr",
          "yref": "y"
         },
         {
          "font": {
           "color": "#FFFFFF"
          },
          "showarrow": false,
          "text": "-0.08",
          "x": "workspace",
          "xref": "x",
          "y": "airport_pickup_price_idr",
          "yref": "y"
         },
         {
          "font": {
           "color": "#FFFFFF"
          },
          "showarrow": false,
          "text": "0.02",
          "x": "pool",
          "xref": "x",
          "y": "airport_pickup_price_idr",
          "yref": "y"
         },
         {
          "font": {
           "color": "#FFFFFF"
          },
          "showarrow": false,
          "text": "0.08",
          "x": "parking",
          "xref": "x",
          "y": "airport_pickup_price_idr",
          "yref": "y"
         },
         {
          "font": {
           "color": "#FFFFFF"
          },
          "showarrow": false,
          "text": "-0.11",
          "x": "gym",
          "xref": "x",
          "y": "airport_pickup_price_idr",
          "yref": "y"
         },
         {
          "font": {
           "color": "#FFFFFF"
          },
          "showarrow": false,
          "text": "-0.16",
          "x": "kitchen",
          "xref": "x",
          "y": "airport_pickup_price_idr",
          "yref": "y"
         },
         {
          "font": {
           "color": "#FFFFFF"
          },
          "showarrow": false,
          "text": "1.0",
          "x": "airport_pickup_price_idr",
          "xref": "x",
          "y": "airport_pickup_price_idr",
          "yref": "y"
         }
        ],
        "height": 750,
        "margin": {
         "b": 100,
         "l": 150,
         "r": 100,
         "t": 100
        },
        "template": {
         "data": {
          "bar": [
           {
            "error_x": {
             "color": "#2a3f5f"
            },
            "error_y": {
             "color": "#2a3f5f"
            },
            "marker": {
             "line": {
              "color": "#E5ECF6",
              "width": 0.5
             },
             "pattern": {
              "fillmode": "overlay",
              "size": 10,
              "solidity": 0.2
             }
            },
            "type": "bar"
           }
          ],
          "barpolar": [
           {
            "marker": {
             "line": {
              "color": "#E5ECF6",
              "width": 0.5
             },
             "pattern": {
              "fillmode": "overlay",
              "size": 10,
              "solidity": 0.2
             }
            },
            "type": "barpolar"
           }
          ],
          "carpet": [
           {
            "aaxis": {
             "endlinecolor": "#2a3f5f",
             "gridcolor": "white",
             "linecolor": "white",
             "minorgridcolor": "white",
             "startlinecolor": "#2a3f5f"
            },
            "baxis": {
             "endlinecolor": "#2a3f5f",
             "gridcolor": "white",
             "linecolor": "white",
             "minorgridcolor": "white",
             "startlinecolor": "#2a3f5f"
            },
            "type": "carpet"
           }
          ],
          "choropleth": [
           {
            "colorbar": {
             "outlinewidth": 0,
             "ticks": ""
            },
            "type": "choropleth"
           }
          ],
          "contour": [
           {
            "colorbar": {
             "outlinewidth": 0,
             "ticks": ""
            },
            "colorscale": [
             [
              0,
              "#0d0887"
             ],
             [
              0.1111111111111111,
              "#46039f"
             ],
             [
              0.2222222222222222,
              "#7201a8"
             ],
             [
              0.3333333333333333,
              "#9c179e"
             ],
             [
              0.4444444444444444,
              "#bd3786"
             ],
             [
              0.5555555555555556,
              "#d8576b"
             ],
             [
              0.6666666666666666,
              "#ed7953"
             ],
             [
              0.7777777777777778,
              "#fb9f3a"
             ],
             [
              0.8888888888888888,
              "#fdca26"
             ],
             [
              1,
              "#f0f921"
             ]
            ],
            "type": "contour"
           }
          ],
          "contourcarpet": [
           {
            "colorbar": {
             "outlinewidth": 0,
             "ticks": ""
            },
            "type": "contourcarpet"
           }
          ],
          "heatmap": [
           {
            "colorbar": {
             "outlinewidth": 0,
             "ticks": ""
            },
            "colorscale": [
             [
              0,
              "#0d0887"
             ],
             [
              0.1111111111111111,
              "#46039f"
             ],
             [
              0.2222222222222222,
              "#7201a8"
             ],
             [
              0.3333333333333333,
              "#9c179e"
             ],
             [
              0.4444444444444444,
              "#bd3786"
             ],
             [
              0.5555555555555556,
              "#d8576b"
             ],
             [
              0.6666666666666666,
              "#ed7953"
             ],
             [
              0.7777777777777778,
              "#fb9f3a"
             ],
             [
              0.8888888888888888,
              "#fdca26"
             ],
             [
              1,
              "#f0f921"
             ]
            ],
            "type": "heatmap"
           }
          ],
          "heatmapgl": [
           {
            "colorbar": {
             "outlinewidth": 0,
             "ticks": ""
            },
            "colorscale": [
             [
              0,
              "#0d0887"
             ],
             [
              0.1111111111111111,
              "#46039f"
             ],
             [
              0.2222222222222222,
              "#7201a8"
             ],
             [
              0.3333333333333333,
              "#9c179e"
             ],
             [
              0.4444444444444444,
              "#bd3786"
             ],
             [
              0.5555555555555556,
              "#d8576b"
             ],
             [
              0.6666666666666666,
              "#ed7953"
             ],
             [
              0.7777777777777778,
              "#fb9f3a"
             ],
             [
              0.8888888888888888,
              "#fdca26"
             ],
             [
              1,
              "#f0f921"
             ]
            ],
            "type": "heatmapgl"
           }
          ],
          "histogram": [
           {
            "marker": {
             "pattern": {
              "fillmode": "overlay",
              "size": 10,
              "solidity": 0.2
             }
            },
            "type": "histogram"
           }
          ],
          "histogram2d": [
           {
            "colorbar": {
             "outlinewidth": 0,
             "ticks": ""
            },
            "colorscale": [
             [
              0,
              "#0d0887"
             ],
             [
              0.1111111111111111,
              "#46039f"
             ],
             [
              0.2222222222222222,
              "#7201a8"
             ],
             [
              0.3333333333333333,
              "#9c179e"
             ],
             [
              0.4444444444444444,
              "#bd3786"
             ],
             [
              0.5555555555555556,
              "#d8576b"
             ],
             [
              0.6666666666666666,
              "#ed7953"
             ],
             [
              0.7777777777777778,
              "#fb9f3a"
             ],
             [
              0.8888888888888888,
              "#fdca26"
             ],
             [
              1,
              "#f0f921"
             ]
            ],
            "type": "histogram2d"
           }
          ],
          "histogram2dcontour": [
           {
            "colorbar": {
             "outlinewidth": 0,
             "ticks": ""
            },
            "colorscale": [
             [
              0,
              "#0d0887"
             ],
             [
              0.1111111111111111,
              "#46039f"
             ],
             [
              0.2222222222222222,
              "#7201a8"
             ],
             [
              0.3333333333333333,
              "#9c179e"
             ],
             [
              0.4444444444444444,
              "#bd3786"
             ],
             [
              0.5555555555555556,
              "#d8576b"
             ],
             [
              0.6666666666666666,
              "#ed7953"
             ],
             [
              0.7777777777777778,
              "#fb9f3a"
             ],
             [
              0.8888888888888888,
              "#fdca26"
             ],
             [
              1,
              "#f0f921"
             ]
            ],
            "type": "histogram2dcontour"
           }
          ],
          "mesh3d": [
           {
            "colorbar": {
             "outlinewidth": 0,
             "ticks": ""
            },
            "type": "mesh3d"
           }
          ],
          "parcoords": [
           {
            "line": {
             "colorbar": {
              "outlinewidth": 0,
              "ticks": ""
             }
            },
            "type": "parcoords"
           }
          ],
          "pie": [
           {
            "automargin": true,
            "type": "pie"
           }
          ],
          "scatter": [
           {
            "fillpattern": {
             "fillmode": "overlay",
             "size": 10,
             "solidity": 0.2
            },
            "type": "scatter"
           }
          ],
          "scatter3d": [
           {
            "line": {
             "colorbar": {
              "outlinewidth": 0,
              "ticks": ""
             }
            },
            "marker": {
             "colorbar": {
              "outlinewidth": 0,
              "ticks": ""
             }
            },
            "type": "scatter3d"
           }
          ],
          "scattercarpet": [
           {
            "marker": {
             "colorbar": {
              "outlinewidth": 0,
              "ticks": ""
             }
            },
            "type": "scattercarpet"
           }
          ],
          "scattergeo": [
           {
            "marker": {
             "colorbar": {
              "outlinewidth": 0,
              "ticks": ""
             }
            },
            "type": "scattergeo"
           }
          ],
          "scattergl": [
           {
            "marker": {
             "colorbar": {
              "outlinewidth": 0,
              "ticks": ""
             }
            },
            "type": "scattergl"
           }
          ],
          "scattermapbox": [
           {
            "marker": {
             "colorbar": {
              "outlinewidth": 0,
              "ticks": ""
             }
            },
            "type": "scattermapbox"
           }
          ],
          "scatterpolar": [
           {
            "marker": {
             "colorbar": {
              "outlinewidth": 0,
              "ticks": ""
             }
            },
            "type": "scatterpolar"
           }
          ],
          "scatterpolargl": [
           {
            "marker": {
             "colorbar": {
              "outlinewidth": 0,
              "ticks": ""
             }
            },
            "type": "scatterpolargl"
           }
          ],
          "scatterternary": [
           {
            "marker": {
             "colorbar": {
              "outlinewidth": 0,
              "ticks": ""
             }
            },
            "type": "scatterternary"
           }
          ],
          "surface": [
           {
            "colorbar": {
             "outlinewidth": 0,
             "ticks": ""
            },
            "colorscale": [
             [
              0,
              "#0d0887"
             ],
             [
              0.1111111111111111,
              "#46039f"
             ],
             [
              0.2222222222222222,
              "#7201a8"
             ],
             [
              0.3333333333333333,
              "#9c179e"
             ],
             [
              0.4444444444444444,
              "#bd3786"
             ],
             [
              0.5555555555555556,
              "#d8576b"
             ],
             [
              0.6666666666666666,
              "#ed7953"
             ],
             [
              0.7777777777777778,
              "#fb9f3a"
             ],
             [
              0.8888888888888888,
              "#fdca26"
             ],
             [
              1,
              "#f0f921"
             ]
            ],
            "type": "surface"
           }
          ],
          "table": [
           {
            "cells": {
             "fill": {
              "color": "#EBF0F8"
             },
             "line": {
              "color": "white"
             }
            },
            "header": {
             "fill": {
              "color": "#C8D4E3"
             },
             "line": {
              "color": "white"
             }
            },
            "type": "table"
           }
          ]
         },
         "layout": {
          "annotationdefaults": {
           "arrowcolor": "#2a3f5f",
           "arrowhead": 0,
           "arrowwidth": 1
          },
          "autotypenumbers": "strict",
          "coloraxis": {
           "colorbar": {
            "outlinewidth": 0,
            "ticks": ""
           }
          },
          "colorscale": {
           "diverging": [
            [
             0,
             "#8e0152"
            ],
            [
             0.1,
             "#c51b7d"
            ],
            [
             0.2,
             "#de77ae"
            ],
            [
             0.3,
             "#f1b6da"
            ],
            [
             0.4,
             "#fde0ef"
            ],
            [
             0.5,
             "#f7f7f7"
            ],
            [
             0.6,
             "#e6f5d0"
            ],
            [
             0.7,
             "#b8e186"
            ],
            [
             0.8,
             "#7fbc41"
            ],
            [
             0.9,
             "#4d9221"
            ],
            [
             1,
             "#276419"
            ]
           ],
           "sequential": [
            [
             0,
             "#0d0887"
            ],
            [
             0.1111111111111111,
             "#46039f"
            ],
            [
             0.2222222222222222,
             "#7201a8"
            ],
            [
             0.3333333333333333,
             "#9c179e"
            ],
            [
             0.4444444444444444,
             "#bd3786"
            ],
            [
             0.5555555555555556,
             "#d8576b"
            ],
            [
             0.6666666666666666,
             "#ed7953"
            ],
            [
             0.7777777777777778,
             "#fb9f3a"
            ],
            [
             0.8888888888888888,
             "#fdca26"
            ],
            [
             1,
             "#f0f921"
            ]
           ],
           "sequentialminus": [
            [
             0,
             "#0d0887"
            ],
            [
             0.1111111111111111,
             "#46039f"
            ],
            [
             0.2222222222222222,
             "#7201a8"
            ],
            [
             0.3333333333333333,
             "#9c179e"
            ],
            [
             0.4444444444444444,
             "#bd3786"
            ],
            [
             0.5555555555555556,
             "#d8576b"
            ],
            [
             0.6666666666666666,
             "#ed7953"
            ],
            [
             0.7777777777777778,
             "#fb9f3a"
            ],
            [
             0.8888888888888888,
             "#fdca26"
            ],
            [
             1,
             "#f0f921"
            ]
           ]
          },
          "colorway": [
           "#636efa",
           "#EF553B",
           "#00cc96",
           "#ab63fa",
           "#FFA15A",
           "#19d3f3",
           "#FF6692",
           "#B6E880",
           "#FF97FF",
           "#FECB52"
          ],
          "font": {
           "color": "#2a3f5f"
          },
          "geo": {
           "bgcolor": "white",
           "lakecolor": "white",
           "landcolor": "#E5ECF6",
           "showlakes": true,
           "showland": true,
           "subunitcolor": "white"
          },
          "hoverlabel": {
           "align": "left"
          },
          "hovermode": "closest",
          "mapbox": {
           "style": "light"
          },
          "paper_bgcolor": "white",
          "plot_bgcolor": "#E5ECF6",
          "polar": {
           "angularaxis": {
            "gridcolor": "white",
            "linecolor": "white",
            "ticks": ""
           },
           "bgcolor": "#E5ECF6",
           "radialaxis": {
            "gridcolor": "white",
            "linecolor": "white",
            "ticks": ""
           }
          },
          "scene": {
           "xaxis": {
            "backgroundcolor": "#E5ECF6",
            "gridcolor": "white",
            "gridwidth": 2,
            "linecolor": "white",
            "showbackground": true,
            "ticks": "",
            "zerolinecolor": "white"
           },
           "yaxis": {
            "backgroundcolor": "#E5ECF6",
            "gridcolor": "white",
            "gridwidth": 2,
            "linecolor": "white",
            "showbackground": true,
            "ticks": "",
            "zerolinecolor": "white"
           },
           "zaxis": {
            "backgroundcolor": "#E5ECF6",
            "gridcolor": "white",
            "gridwidth": 2,
            "linecolor": "white",
            "showbackground": true,
            "ticks": "",
            "zerolinecolor": "white"
           }
          },
          "shapedefaults": {
           "line": {
            "color": "#2a3f5f"
           }
          },
          "ternary": {
           "aaxis": {
            "gridcolor": "white",
            "linecolor": "white",
            "ticks": ""
           },
           "baxis": {
            "gridcolor": "white",
            "linecolor": "white",
            "ticks": ""
           },
           "bgcolor": "#E5ECF6",
           "caxis": {
            "gridcolor": "white",
            "linecolor": "white",
            "ticks": ""
           }
          },
          "title": {
           "x": 0.05
          },
          "xaxis": {
           "automargin": true,
           "gridcolor": "white",
           "linecolor": "white",
           "ticks": "",
           "title": {
            "standoff": 15
           },
           "zerolinecolor": "white",
           "zerolinewidth": 2
          },
          "yaxis": {
           "automargin": true,
           "gridcolor": "white",
           "linecolor": "white",
           "ticks": "",
           "title": {
            "standoff": 15
           },
           "zerolinecolor": "white",
           "zerolinewidth": 2
          }
         }
        },
        "title": {
         "font": {
          "size": 24
         },
         "text": "<b>Correlation Matrix (cont. features)<b>",
         "x": 0.5
        },
        "width": 1000,
        "xaxis": {
         "dtick": 1,
         "gridcolor": "rgb(0, 0, 0)",
         "showgrid": false,
         "side": "bottom",
         "ticks": ""
        },
        "yaxis": {
         "autorange": "reversed",
         "dtick": 1,
         "showgrid": false,
         "ticks": "",
         "ticksuffix": "  "
        }
       }
      }
     },
     "metadata": {},
     "output_type": "display_data"
    }
   ],
   "source": [
    "cols = [col for col in df.columns if df[col].dtype != 'object'][1:]\n",
    "corr = df[cols].corr()\n",
    "\n",
    "fig = ff.create_annotated_heatmap(\n",
    "    z=corr.to_numpy().round(2),\n",
    "    x=list(corr.index.values),\n",
    "    y=list(corr.columns.values),       \n",
    "    xgap=3, ygap=3,\n",
    "    zmin=-1, zmax=1,\n",
    "    colorscale='earth',\n",
    "    colorbar_thickness=30,\n",
    "    colorbar_ticklen=3,\n",
    ")\n",
    "fig.update_layout(title_text='<b>Correlation Matrix (cont. features)<b>',\n",
    "                  title_x=0.5,\n",
    "                  titlefont={'size': 24},\n",
    "                  width=1000, height=750,\n",
    "                  margin=dict(l=150, r=100, b=100, t=100),\n",
    "                  xaxis_showgrid=False,\n",
    "                  xaxis={'side': 'bottom'},\n",
    "                  yaxis_showgrid=False,\n",
    "                  yaxis_autorange='reversed',                   \n",
    "                  paper_bgcolor=None,\n",
    "                  )\n",
    "fig.show()\n"
   ]
  },
  {
   "cell_type": "code",
   "execution_count": null,
   "metadata": {},
   "outputs": [],
   "source": []
  },
  {
   "cell_type": "markdown",
   "metadata": {},
   "source": [
    "## **4 Data Pre-Prosessing**\n",
    "\n",
    "**Data Pre-Prosessing** adalah tahapan untuk menghilangkan beberapa permasalahan yang bisa mengganggu saat pemrosesan data. Hal tersebut karena banyak data yang formatnya tidak konsisten. Data preprocessing merupakan teknik sebelum melakukan modeling.\n"
   ]
  },
  {
   "cell_type": "markdown",
   "metadata": {},
   "source": [
    "penanganan outlier"
   ]
  },
  {
   "cell_type": "code",
   "execution_count": 113,
   "metadata": {},
   "outputs": [],
   "source": [
    "def replace_outliers(column, lower_bound, upper_bound):\n",
    "    mask = (column < lower_bound) | (column > upper_bound)\n",
    "    column[mask] = column.clip(lower=lower_bound, upper=upper_bound)\n",
    "\n",
    "# Define columns and their corresponding bounds\n",
    "columns_and_bounds = {\n",
    "    'average_daily_rate': (357199.5, 2374200.75 )}\n",
    "\n",
    "# Replace outliers for each column\n",
    "for column, (lower_bound, upper_bound) in columns_and_bounds.items():\n",
    "    replace_outliers(raw_data['average_daily_rate'], lower_bound, upper_bound)\n"
   ]
  },
  {
   "cell_type": "markdown",
   "metadata": {},
   "source": [
    "transformasi data check ini dan check out"
   ]
  },
  {
   "cell_type": "code",
   "execution_count": 114,
   "metadata": {},
   "outputs": [],
   "source": [
    "\n",
    "raw_data['booking_check_in'] = pd.to_datetime(raw_data['booking_check_in'])\n",
    "raw_data['booking_check_out'] = pd.to_datetime(raw_data['booking_check_out'])\n",
    "\n",
    "def convert_to_minutes(time_str):\n",
    "    if pd.isna(time_str):\n",
    "        return None\n",
    "    if 'hour' in time_str:\n",
    "        hours = int(time_str.split()[0])\n",
    "        return hours * 60\n",
    "    elif 'minute' in time_str:\n",
    "        minutes = int(time_str.split()[0])\n",
    "        return minutes\n",
    "    else:\n",
    "        return None\n",
    "\n",
    "raw_data['area_distance_to_airport'] = raw_data['area_distance_to_airport'].apply(convert_to_minutes)\n",
    "\n",
    "raw_data['booking_check_in_date'] = raw_data['booking_check_in'].dt.day\n",
    "raw_data['booking_check_in_month'] = raw_data['booking_check_in'].dt.month\n",
    "raw_data['booking_check_in_year'] = raw_data['booking_check_in'].dt.year\n",
    "\n",
    "raw_data['booking_check_out_date'] = raw_data['booking_check_out'].dt.day\n",
    "raw_data['booking_check_out_month'] = raw_data['booking_check_out'].dt.month\n",
    "raw_data['booking_check_out_year'] = raw_data['booking_check_out'].dt.year\n",
    "\n"
   ]
  },
  {
   "cell_type": "code",
   "execution_count": 115,
   "metadata": {},
   "outputs": [],
   "source": [
    "raw_data = raw_data.drop(['booking_id','booking_check_in','booking_check_out','booking_received_timestamp','status','booking_window'\n",
    "], axis = 1)\n"
   ]
  },
  {
   "cell_type": "markdown",
   "metadata": {},
   "source": [
    "label encoder"
   ]
  },
  {
   "cell_type": "code",
   "execution_count": 117,
   "metadata": {},
   "outputs": [
    {
     "name": "stdout",
     "output_type": "stream",
     "text": [
      "   unit_id  listing_id  property_id  area_id  area_name\n",
      "0      335        1817          154       11         13\n",
      "1      334        1893          192       11         13\n",
      "2      334        1893          192       11         13\n",
      "3      335        1817          154       11         13\n",
      "4      335        1817          154       11         13\n"
     ]
    }
   ],
   "source": [
    "from sklearn.preprocessing import LabelEncoder\n",
    "\n",
    "# Inisialisasi LabelEncoder\n",
    "label_encoder = LabelEncoder()\n",
    "\n",
    "# Menggunakan LabelEncoder untuk kolom unit_id\n",
    "raw_data['listing_id'] = label_encoder.fit_transform(raw_data['listing_id'])\n",
    "\n",
    "raw_data['unit_id'] = label_encoder.fit_transform(raw_data['unit_id'])\n",
    "\n",
    "raw_data['unit_id'] = label_encoder.fit_transform(raw_data['unit_id'])\n",
    "\n",
    "raw_data['property_id'] = label_encoder.fit_transform(raw_data['property_id'])\n",
    "\n",
    "raw_data['area_id'] = label_encoder.fit_transform(raw_data['area_id'])\n",
    "\n",
    "raw_data['area_name'] = label_encoder.fit_transform(raw_data['area_name'])\n",
    "\n",
    "print(raw_data[['unit_id','listing_id','property_id', 'area_id', 'area_name']].head())\n"
   ]
  },
  {
   "cell_type": "markdown",
   "metadata": {},
   "source": [
    "cluster maping untuk data kategorik"
   ]
  },
  {
   "cell_type": "code",
   "execution_count": 118,
   "metadata": {},
   "outputs": [
    {
     "name": "stdout",
     "output_type": "stream",
     "text": [
      "\n",
      "Jumlah nilai yang hilang setelah imputasi:\n",
      " booking_currency               0\n",
      "listing_id                     0\n",
      "length_of_stay                 0\n",
      "average_daily_rate             0\n",
      "unit_id                        0\n",
      "bedroom                        0\n",
      "bathroom                       0\n",
      "beds                           0\n",
      "capacity                       0\n",
      "property_id                    0\n",
      "wifi                           0\n",
      "tv                             0\n",
      "cable_tv                       0\n",
      "ac                             0\n",
      "workspace                      0\n",
      "pool                           0\n",
      "parking                        0\n",
      "gym                            0\n",
      "kitchen                        0\n",
      "area_id                        0\n",
      "area_name                      0\n",
      "area_distance_to_airport    1469\n",
      "airport_pickup_price_idr    8781\n",
      "booking_check_in_date          0\n",
      "booking_check_in_month         0\n",
      "booking_check_in_year          0\n",
      "booking_check_out_date         0\n",
      "booking_check_out_month        0\n",
      "booking_check_out_year         0\n",
      "cluster                        0\n",
      "dtype: int64\n"
     ]
    }
   ],
   "source": [
    "from sklearn.cluster import KMeans\n",
    "from sklearn.impute import SimpleImputer\n",
    "from sklearn.preprocessing import StandardScaler\n",
    "# Memilih kolom yang akan digunakan untuk clustering\n",
    "columns_for_clustering = ['bedroom', 'bathroom', 'beds', 'capacity','wifi','tv','cable_tv','ac','workspace','pool',\n",
    "                          'parking','gym','kitchen']\n",
    "\n",
    "# Mengisi nilai yang hilang sementara dengan SimpleImputer (mean strategy)\n",
    "imputer = SimpleImputer(strategy='mean')\n",
    "data_imputed = imputer.fit_transform(raw_data[columns_for_clustering])\n",
    "\n",
    "# Normalisasi data sebelum clustering\n",
    "scaler = StandardScaler()\n",
    "data_scaled = scaler.fit_transform(data_imputed)\n",
    "\n",
    "# Menentukan jumlah cluster (misalnya, 5)\n",
    "kmeans = KMeans(n_clusters=5, random_state=42)\n",
    "clusters = kmeans.fit_predict(data_scaled)\n",
    "\n",
    "# Menambahkan kolom cluster ke DataFrame asli\n",
    "raw_data['cluster'] = clusters\n",
    "\n",
    "# Mengisi nilai yang hilang dengan centroid dari masing-masing cluster\n",
    "for column in columns_for_clustering:\n",
    "    for cluster in range(5):\n",
    "        cluster_mean = raw_data[raw_data['cluster'] == cluster][column].mean()\n",
    "        raw_data.loc[(raw_data[column].isnull()) & (raw_data['cluster'] == cluster), column] = cluster_mean\n",
    "\n",
    "# Mengecek kembali nilai yang hilang setelah imputasi\n",
    "print(\"\\nJumlah nilai yang hilang setelah imputasi:\\n\", raw_data.isnull().sum())\n",
    "\n",
    "# Menghapus kolom cluster karena sudah tidak diperlukan\n",
    "raw_data.drop(columns=['cluster'], inplace=True)"
   ]
  },
  {
   "cell_type": "code",
   "execution_count": 119,
   "metadata": {},
   "outputs": [
    {
     "name": "stdout",
     "output_type": "stream",
     "text": [
      "\n",
      "Jumlah nilai yang hilang setelah imputasi:\n",
      " booking_currency               0\n",
      "listing_id                     0\n",
      "length_of_stay                 0\n",
      "average_daily_rate             0\n",
      "unit_id                        0\n",
      "bedroom                        0\n",
      "bathroom                       0\n",
      "beds                           0\n",
      "capacity                       0\n",
      "property_id                    0\n",
      "wifi                           0\n",
      "tv                             0\n",
      "cable_tv                       0\n",
      "ac                             0\n",
      "workspace                      0\n",
      "pool                           0\n",
      "parking                        0\n",
      "gym                            0\n",
      "kitchen                        0\n",
      "area_id                        0\n",
      "area_name                      0\n",
      "area_distance_to_airport    1469\n",
      "airport_pickup_price_idr    8781\n",
      "booking_check_in_date          0\n",
      "booking_check_in_month         0\n",
      "booking_check_in_year          0\n",
      "booking_check_out_date         0\n",
      "booking_check_out_month        0\n",
      "booking_check_out_year         0\n",
      "cluster                        0\n",
      "dtype: int64\n"
     ]
    }
   ],
   "source": [
    "from sklearn.cluster import KMeans\n",
    "from sklearn.impute import SimpleImputer\n",
    "from sklearn.preprocessing import StandardScaler\n",
    "# Memilih kolom yang akan digunakan untuk clustering\n",
    "columns_for_clustering = ['booking_check_in_date','booking_check_in_month','booking_check_in_year',\n",
    "                          'booking_check_in_year','booking_check_out_month','booking_check_out_year']\n",
    "\n",
    "# Mengisi nilai yang hilang sementara dengan SimpleImputer (mean strategy)\n",
    "imputer = SimpleImputer(strategy='mean')\n",
    "data_imputed = imputer.fit_transform(raw_data[columns_for_clustering])\n",
    "\n",
    "# Normalisasi data sebelum clustering\n",
    "scaler = StandardScaler()\n",
    "data_scaled = scaler.fit_transform(data_imputed)\n",
    "\n",
    "# Menentukan jumlah cluster (misalnya, 5)\n",
    "kmeans = KMeans(n_clusters=5, random_state=42)\n",
    "clusters = kmeans.fit_predict(data_scaled)\n",
    "\n",
    "# Menambahkan kolom cluster ke DataFrame asli\n",
    "raw_data['cluster'] = clusters\n",
    "\n",
    "# Mengisi nilai yang hilang dengan centroid dari masing-masing cluster\n",
    "for column in columns_for_clustering:\n",
    "    for cluster in range(5):\n",
    "        cluster_mean = raw_data[raw_data['cluster'] == cluster][column].mean()\n",
    "        raw_data.loc[(raw_data[column].isnull()) & (raw_data['cluster'] == cluster), column] = cluster_mean\n",
    "\n",
    "# Mengecek kembali nilai yang hilang setelah imputasi\n",
    "print(\"\\nJumlah nilai yang hilang setelah imputasi:\\n\", raw_data.isnull().sum())\n",
    "\n",
    "# Menghapus kolom cluster karena sudah tidak diperlukan\n",
    "raw_data.drop(columns=['cluster'], inplace=True)"
   ]
  },
  {
   "cell_type": "markdown",
   "metadata": {},
   "source": [
    "interative imputer untuk data numerik"
   ]
  },
  {
   "cell_type": "code",
   "execution_count": 120,
   "metadata": {},
   "outputs": [
    {
     "name": "stdout",
     "output_type": "stream",
     "text": [
      "Hasil imputasi untuk kolom area_distance_to_airport dan airport_pickup_price_idr:\n",
      "   airport_pickup_price_idr  area_distance_to_airport\n",
      "0                  325000.0                      45.0\n",
      "1                  325000.0                      45.0\n",
      "2                  325000.0                      45.0\n",
      "3                  325000.0                      45.0\n",
      "4                  325000.0                      45.0\n"
     ]
    },
    {
     "data": {
      "text/plain": [
       "booking_currency            0\n",
       "listing_id                  0\n",
       "length_of_stay              0\n",
       "average_daily_rate          0\n",
       "unit_id                     0\n",
       "bedroom                     0\n",
       "bathroom                    0\n",
       "beds                        0\n",
       "capacity                    0\n",
       "property_id                 0\n",
       "wifi                        0\n",
       "tv                          0\n",
       "cable_tv                    0\n",
       "ac                          0\n",
       "workspace                   0\n",
       "pool                        0\n",
       "parking                     0\n",
       "gym                         0\n",
       "kitchen                     0\n",
       "area_id                     0\n",
       "area_name                   0\n",
       "area_distance_to_airport    0\n",
       "airport_pickup_price_idr    0\n",
       "booking_check_in_date       0\n",
       "booking_check_in_month      0\n",
       "booking_check_in_year       0\n",
       "booking_check_out_date      0\n",
       "booking_check_out_month     0\n",
       "booking_check_out_year      0\n",
       "dtype: int64"
      ]
     },
     "execution_count": 120,
     "metadata": {},
     "output_type": "execute_result"
    }
   ],
   "source": [
    "from sklearn.experimental import enable_iterative_imputer\n",
    "from sklearn.impute import IterativeImputer\n",
    "import pandas as pd\n",
    "import numpy as np\n",
    "from sklearn.preprocessing import StandardScaler\n",
    "columns_to_impute = [ 'airport_pickup_price_idr','area_distance_to_airport',]\n",
    "imputer = IterativeImputer(max_iter=10, random_state=0)\n",
    "\n",
    "# Memilih subset data untuk kolom-kolom yang akan diimputasi\n",
    "data_to_impute = raw_data[columns_to_impute]\n",
    "\n",
    "# Melakukan imputasi\n",
    "data_imputed = imputer.fit_transform(data_to_impute)\n",
    "\n",
    "# Mengganti nilai yang telah diimputasi kembali ke dataset asli\n",
    "raw_data[columns_to_impute] = data_imputed\n",
    "\n",
    "# Menampilkan hasil imputasi\n",
    "print(\"Hasil imputasi untuk kolom area_distance_to_airport dan airport_pickup_price_idr:\")\n",
    "print(raw_data[columns_to_impute].head())\n",
    "raw_data.isnull().sum()"
   ]
  },
  {
   "cell_type": "markdown",
   "metadata": {},
   "source": [
    "merubah jenis data untuk label"
   ]
  },
  {
   "cell_type": "code",
   "execution_count": 121,
   "metadata": {},
   "outputs": [
    {
     "name": "stdout",
     "output_type": "stream",
     "text": [
      "int64\n"
     ]
    }
   ],
   "source": [
    "raw_data['average_daily_rate'] = raw_data['average_daily_rate'].astype('int64')\n",
    "\n",
    "# Jika Anda ingin melihat hasilnya\n",
    "print(raw_data['average_daily_rate'].dtypes)\n"
   ]
  },
  {
   "cell_type": "code",
   "execution_count": 154,
   "metadata": {},
   "outputs": [],
   "source": [
    "data=raw_data"
   ]
  },
  {
   "cell_type": "code",
   "execution_count": 124,
   "metadata": {},
   "outputs": [
    {
     "data": {
      "text/plain": [
       "booking_currency            0\n",
       "listing_id                  0\n",
       "length_of_stay              0\n",
       "average_daily_rate          0\n",
       "unit_id                     0\n",
       "bedroom                     0\n",
       "bathroom                    0\n",
       "beds                        0\n",
       "capacity                    0\n",
       "property_id                 0\n",
       "wifi                        0\n",
       "tv                          0\n",
       "cable_tv                    0\n",
       "ac                          0\n",
       "workspace                   0\n",
       "pool                        0\n",
       "parking                     0\n",
       "gym                         0\n",
       "kitchen                     0\n",
       "area_id                     0\n",
       "area_name                   0\n",
       "area_distance_to_airport    0\n",
       "airport_pickup_price_idr    0\n",
       "booking_check_in_date       0\n",
       "booking_check_in_month      0\n",
       "booking_check_in_year       0\n",
       "booking_check_out_date      0\n",
       "booking_check_out_month     0\n",
       "booking_check_out_year      0\n",
       "dtype: int64"
      ]
     },
     "execution_count": 124,
     "metadata": {},
     "output_type": "execute_result"
    }
   ],
   "source": [
    "data.isnull().sum()"
   ]
  },
  {
   "cell_type": "code",
   "execution_count": 125,
   "metadata": {},
   "outputs": [
    {
     "name": "stdout",
     "output_type": "stream",
     "text": [
      "Dimensi data latih: (45460, 28) (45460,)\n",
      "Dimensi data uji: (11365, 28) (11365,)\n"
     ]
    }
   ],
   "source": [
    "from sklearn.model_selection import train_test_split\n",
    "\n",
    "# Memisahkan fitur-fitur dan target\n",
    "X = data.drop(columns=['average_daily_rate'])\n",
    "y = data['average_daily_rate']\n",
    "\n",
    "# Memisahkan data menjadi data latih dan data uji\n",
    "X_train, X_test, y_train, y_test = train_test_split(X, y, test_size=0.2, random_state=42)\n",
    "\n",
    "# Menampilkan dimensi dari data latih dan data uji\n",
    "print(\"Dimensi data latih:\", X_train.shape, y_train.shape)\n",
    "print(\"Dimensi data uji:\", X_test.shape, y_test.shape)"
   ]
  },
  {
   "cell_type": "code",
   "execution_count": 127,
   "metadata": {},
   "outputs": [],
   "source": [
    "y = data['average_daily_rate']\n",
    "x = data.drop('average_daily_rate', axis=1)"
   ]
  },
  {
   "cell_type": "code",
   "execution_count": 130,
   "metadata": {},
   "outputs": [
    {
     "data": {
      "text/html": [
       "<div>\n",
       "<style scoped>\n",
       "    .dataframe tbody tr th:only-of-type {\n",
       "        vertical-align: middle;\n",
       "    }\n",
       "\n",
       "    .dataframe tbody tr th {\n",
       "        vertical-align: top;\n",
       "    }\n",
       "\n",
       "    .dataframe thead th {\n",
       "        text-align: right;\n",
       "    }\n",
       "</style>\n",
       "<table border=\"1\" class=\"dataframe\">\n",
       "  <thead>\n",
       "    <tr style=\"text-align: right;\">\n",
       "      <th></th>\n",
       "      <th>index</th>\n",
       "      <th>skew</th>\n",
       "    </tr>\n",
       "  </thead>\n",
       "  <tbody>\n",
       "    <tr>\n",
       "      <th>0</th>\n",
       "      <td>booking_currency</td>\n",
       "      <td>1.332097</td>\n",
       "    </tr>\n",
       "    <tr>\n",
       "      <th>2</th>\n",
       "      <td>length_of_stay</td>\n",
       "      <td>33.478140</td>\n",
       "    </tr>\n",
       "    <tr>\n",
       "      <th>3</th>\n",
       "      <td>unit_id</td>\n",
       "      <td>0.585091</td>\n",
       "    </tr>\n",
       "    <tr>\n",
       "      <th>4</th>\n",
       "      <td>bedroom</td>\n",
       "      <td>2.225604</td>\n",
       "    </tr>\n",
       "    <tr>\n",
       "      <th>5</th>\n",
       "      <td>bathroom</td>\n",
       "      <td>3.878138</td>\n",
       "    </tr>\n",
       "    <tr>\n",
       "      <th>6</th>\n",
       "      <td>beds</td>\n",
       "      <td>3.325409</td>\n",
       "    </tr>\n",
       "    <tr>\n",
       "      <th>7</th>\n",
       "      <td>capacity</td>\n",
       "      <td>2.542168</td>\n",
       "    </tr>\n",
       "    <tr>\n",
       "      <th>9</th>\n",
       "      <td>wifi</td>\n",
       "      <td>10.565240</td>\n",
       "    </tr>\n",
       "    <tr>\n",
       "      <th>11</th>\n",
       "      <td>cable_tv</td>\n",
       "      <td>1.404153</td>\n",
       "    </tr>\n",
       "    <tr>\n",
       "      <th>12</th>\n",
       "      <td>ac</td>\n",
       "      <td>12.679391</td>\n",
       "    </tr>\n",
       "    <tr>\n",
       "      <th>13</th>\n",
       "      <td>workspace</td>\n",
       "      <td>4.172166</td>\n",
       "    </tr>\n",
       "    <tr>\n",
       "      <th>14</th>\n",
       "      <td>pool</td>\n",
       "      <td>1.993002</td>\n",
       "    </tr>\n",
       "    <tr>\n",
       "      <th>15</th>\n",
       "      <td>parking</td>\n",
       "      <td>4.591550</td>\n",
       "    </tr>\n",
       "    <tr>\n",
       "      <th>16</th>\n",
       "      <td>gym</td>\n",
       "      <td>14.916450</td>\n",
       "    </tr>\n",
       "    <tr>\n",
       "      <th>17</th>\n",
       "      <td>kitchen</td>\n",
       "      <td>0.574937</td>\n",
       "    </tr>\n",
       "    <tr>\n",
       "      <th>18</th>\n",
       "      <td>area_id</td>\n",
       "      <td>1.118048</td>\n",
       "    </tr>\n",
       "    <tr>\n",
       "      <th>20</th>\n",
       "      <td>area_distance_to_airport</td>\n",
       "      <td>1.884929</td>\n",
       "    </tr>\n",
       "    <tr>\n",
       "      <th>21</th>\n",
       "      <td>airport_pickup_price_idr</td>\n",
       "      <td>4.354770</td>\n",
       "    </tr>\n",
       "    <tr>\n",
       "      <th>24</th>\n",
       "      <td>booking_check_in_year</td>\n",
       "      <td>0.864928</td>\n",
       "    </tr>\n",
       "    <tr>\n",
       "      <th>27</th>\n",
       "      <td>booking_check_out_year</td>\n",
       "      <td>0.871742</td>\n",
       "    </tr>\n",
       "  </tbody>\n",
       "</table>\n",
       "</div>"
      ],
      "text/plain": [
       "                       index       skew\n",
       "0           booking_currency   1.332097\n",
       "2             length_of_stay  33.478140\n",
       "3                    unit_id   0.585091\n",
       "4                    bedroom   2.225604\n",
       "5                   bathroom   3.878138\n",
       "6                       beds   3.325409\n",
       "7                   capacity   2.542168\n",
       "9                       wifi  10.565240\n",
       "11                  cable_tv   1.404153\n",
       "12                        ac  12.679391\n",
       "13                 workspace   4.172166\n",
       "14                      pool   1.993002\n",
       "15                   parking   4.591550\n",
       "16                       gym  14.916450\n",
       "17                   kitchen   0.574937\n",
       "18                   area_id   1.118048\n",
       "20  area_distance_to_airport   1.884929\n",
       "21  airport_pickup_price_idr   4.354770\n",
       "24     booking_check_in_year   0.864928\n",
       "27    booking_check_out_year   0.871742"
      ]
     },
     "execution_count": 130,
     "metadata": {},
     "output_type": "execute_result"
    }
   ],
   "source": [
    "#checking high skewed (> 0.5)\n",
    "skew_check = x.apply(lambda x: abs(skew(x)))\n",
    "skew_check = skew_check.reset_index(name='skew')\n",
    "skewness = skew_check[skew_check['skew']>0.5]\n",
    "skewed_feats = skewness['index']\n",
    "skewness"
   ]
  },
  {
   "cell_type": "code",
   "execution_count": 131,
   "metadata": {},
   "outputs": [],
   "source": [
    "from sklearn.preprocessing import MinMaxScaler\n",
    "# Inisialisasi MinMaxScaler\n",
    "scaler = MinMaxScaler()\n",
    "\n",
    "# Terapkan normalisasi Min-Max pada fitur numerik\n",
    "x_scaled = pd.DataFrame(scaler.fit_transform(x), columns=x.columns)\n",
    "\n",
    "# Gabungkan kembali fitur yang sudah dinormalisasi dengan label\n",
    "data_normalized = pd.concat([x_scaled, y.reset_index(drop=True)], axis=1)"
   ]
  },
  {
   "cell_type": "code",
   "execution_count": 132,
   "metadata": {},
   "outputs": [],
   "source": [
    "# apply polynomial since the features are not very linear with the label, and set the degree to 2 to prevent overfitting\n",
    "poly = PolynomialFeatures(degree=2, include_bias=False)\n",
    "X_train_poly = poly.fit_transform(x)"
   ]
  },
  {
   "cell_type": "markdown",
   "metadata": {},
   "source": [
    "### MODELING"
   ]
  },
  {
   "cell_type": "code",
   "execution_count": 133,
   "metadata": {},
   "outputs": [
    {
     "name": "stdout",
     "output_type": "stream",
     "text": [
      "FOLD 0 | MAE: 163041.48306 | R²: 0.77464\n",
      "FOLD 1 | MAE: 163841.09894 | R²: 0.77799\n",
      "FOLD 2 | MAE: 163906.10390 | R²: 0.77027\n",
      "FOLD 3 | MAE: 167010.96905 | R²: 0.75092\n",
      "FOLD 4 | MAE: 158910.48996 | R²: 0.79009\n",
      "FOLD 5 | MAE: 162974.26812 | R²: 0.77222\n",
      "FOLD 6 | MAE: 162519.29983 | R²: 0.76958\n",
      "FOLD 7 | MAE: 161409.81645 | R²: 0.77925\n",
      "FOLD 8 | MAE: 165735.02416 | R²: 0.76907\n",
      "FOLD 9 | MAE: 164326.17130 | R²: 0.77164\n",
      "Average MAE across all folds knn: 163367.47248\n",
      "Average R² across all folds knn: 0.77257\n",
      "FOLD 0 | MAE: 193816.59366 | R²: 0.75853\n",
      "FOLD 1 | MAE: 197372.26661 | R²: 0.75582\n",
      "FOLD 2 | MAE: 194975.20835 | R²: 0.76015\n",
      "FOLD 3 | MAE: 199042.69954 | R²: 0.73752\n",
      "FOLD 4 | MAE: 195040.83087 | R²: 0.76346\n",
      "FOLD 5 | MAE: 197087.21918 | R²: 0.75061\n",
      "FOLD 6 | MAE: 193189.62457 | R²: 0.75809\n",
      "FOLD 7 | MAE: 192937.95743 | R²: 0.76479\n",
      "FOLD 8 | MAE: 193148.10331 | R²: 0.75941\n",
      "FOLD 9 | MAE: 198859.77855 | R²: 0.74380\n",
      "Average MAE across all folds hist gradient boosting: 195547.02821\n",
      "Average R² across all folds hist gradient boosting: 0.75522\n",
      "FOLD 0 | MAE: 139076.10611 | R²: 0.72551\n",
      "FOLD 1 | MAE: 136092.84182 | R²: 0.74368\n",
      "FOLD 2 | MAE: 136491.41224 | R²: 0.73464\n",
      "FOLD 3 | MAE: 142191.52690 | R²: 0.71742\n",
      "FOLD 4 | MAE: 137293.44210 | R²: 0.72813\n",
      "FOLD 5 | MAE: 137895.19315 | R²: 0.72895\n",
      "FOLD 6 | MAE: 139811.29498 | R²: 0.71934\n",
      "FOLD 7 | MAE: 139807.28265 | R²: 0.72958\n",
      "FOLD 8 | MAE: 135965.43683 | R²: 0.74177\n",
      "FOLD 9 | MAE: 147514.22217 | R²: 0.70668\n",
      "Average MAE across all folds decision tree: 139213.87589\n",
      "Average R² across all folds decision tree: 0.72757\n",
      "FOLD 0 | MAE: 119505.87009 | R²: 0.84642\n",
      "FOLD 1 | MAE: 121312.19635 | R²: 0.84778\n",
      "FOLD 2 | MAE: 118667.53960 | R²: 0.85218\n",
      "FOLD 3 | MAE: 125637.11887 | R²: 0.82722\n",
      "FOLD 4 | MAE: 117769.47547 | R²: 0.85563\n",
      "FOLD 5 | MAE: 118753.40682 | R²: 0.84908\n",
      "FOLD 6 | MAE: 119264.08051 | R²: 0.84657\n",
      "FOLD 7 | MAE: 119116.54532 | R²: 0.84927\n",
      "FOLD 8 | MAE: 119837.66234 | R²: 0.85131\n",
      "FOLD 9 | MAE: 123748.58855 | R²: 0.83595\n",
      "Average MAE across all folds bagging: 120361.24839\n",
      "Average R² across all folds bagging: 0.84614\n",
      "FOLD 0 | MAE: 112888.46817 | R²: 0.81767\n",
      "FOLD 1 | MAE: 111210.55739 | R²: 0.82763\n",
      "FOLD 2 | MAE: 110886.35984 | R²: 0.82418\n",
      "FOLD 3 | MAE: 119769.73489 | R²: 0.79717\n",
      "FOLD 4 | MAE: 111767.93684 | R²: 0.82282\n",
      "FOLD 5 | MAE: 110282.18004 | R²: 0.82589\n",
      "FOLD 6 | MAE: 110437.98125 | R²: 0.82437\n",
      "FOLD 7 | MAE: 114295.68216 | R²: 0.82207\n",
      "FOLD 8 | MAE: 111176.12773 | R²: 0.82886\n",
      "FOLD 9 | MAE: 116375.80563 | R²: 0.80886\n",
      "Average MAE across all folds adaboost: 112909.08339\n",
      "Average R² across all folds adaboost: 0.81995\n",
      "FOLD 0 | MAE Val: 128850.88107 | R² Val: 0.85486 | MAE Train: 137742.86963 | R² Train: 0.83582\n",
      "FOLD 1 | MAE Val: 129962.46620 | R² Val: 0.85732 | MAE Train: 137464.97335 | R² Train: 0.83500\n",
      "FOLD 2 | MAE Val: 130111.14604 | R² Val: 0.85336 | MAE Train: 137427.80339 | R² Train: 0.83610\n",
      "FOLD 3 | MAE Val: 131987.37631 | R² Val: 0.84175 | MAE Train: 136958.74582 | R² Train: 0.83903\n",
      "FOLD 4 | MAE Val: 158910.48996 | R² Val: 0.79009 | MAE Train: 130227.96741 | R² Train: 0.85187\n",
      "FOLD 5 | MAE Val: 136427.68371 | R² Val: 0.83700 | MAE Train: 135848.66897 | R² Train: 0.84021\n",
      "FOLD 6 | MAE Val: 135260.39557 | R² Val: 0.84017 | MAE Train: 136140.49101 | R² Train: 0.83942\n",
      "FOLD 7 | MAE Val: 134079.12575 | R² Val: 0.84251 | MAE Train: 136435.80846 | R² Train: 0.83883\n",
      "FOLD 8 | MAE Val: 137758.28443 | R² Val: 0.83850 | MAE Train: 135516.01879 | R² Train: 0.83984\n",
      "FOLD 9 | MAE Val: 136296.87013 | R² Val: 0.83965 | MAE Train: 135881.37237 | R² Train: 0.83955\n",
      "Average MAE Val: 135964.47192 | Average R² Val: 0.83952 | Average MAE Train: 135964.47192 | Average R² Train: 0.83957\n",
      "FOLD 0 | MAE Val: 186863.38673 | R² Val: 0.77682 | MAE Train: 189839.80896 | R² Train: 0.77278\n",
      "FOLD 1 | MAE Val: 189739.97539 | R² Val: 0.77521 | MAE Train: 189120.66180 | R² Train: 0.77315\n",
      "FOLD 2 | MAE Val: 187568.39986 | R² Val: 0.77861 | MAE Train: 189663.55568 | R² Train: 0.77231\n",
      "FOLD 3 | MAE Val: 194619.83157 | R² Val: 0.75465 | MAE Train: 187900.69775 | R² Train: 0.77826\n",
      "FOLD 4 | MAE Val: 187431.02903 | R² Val: 0.78245 | MAE Train: 189697.89839 | R² Train: 0.77137\n",
      "FOLD 5 | MAE Val: 189527.59047 | R² Val: 0.77424 | MAE Train: 189173.75803 | R² Train: 0.77341\n",
      "FOLD 6 | MAE Val: 185264.38346 | R² Val: 0.78232 | MAE Train: 190239.55978 | R² Train: 0.77145\n",
      "FOLD 7 | MAE Val: 192937.95743 | R² Val: 0.76479 | MAE Train: 188321.16629 | R² Train: 0.77579\n",
      "FOLD 8 | MAE Val: 187596.45793 | R² Val: 0.77659 | MAE Train: 189656.54116 | R² Train: 0.77282\n",
      "FOLD 9 | MAE Val: 190896.23330 | R² Val: 0.77020 | MAE Train: 188831.59732 | R² Train: 0.77443\n",
      "Average MAE Val: 189244.52452 | Average R² Val: 0.77359 | Average MAE Train: 189244.52452 | Average R² Train: 0.77358\n",
      "FOLD 0 | MAE Val: 30158.66585 | R² Val: 0.94112 | MAE Train: 28323.63330 | R² Train: 0.94683\n",
      "FOLD 1 | MAE Val: 27199.20307 | R² Val: 0.95049 | MAE Train: 29063.49900 | R² Train: 0.94447\n",
      "FOLD 2 | MAE Val: 30157.61473 | R² Val: 0.94048 | MAE Train: 28323.89608 | R² Train: 0.94702\n",
      "FOLD 3 | MAE Val: 27885.39208 | R² Val: 0.94751 | MAE Train: 28891.95174 | R² Train: 0.94526\n",
      "FOLD 4 | MAE Val: 28052.32332 | R² Val: 0.94879 | MAE Train: 28850.21893 | R² Train: 0.94494\n",
      "FOLD 5 | MAE Val: 1993.45920 | R² Val: 0.99648 | MAE Train: 35364.93496 | R² Train: 0.93301\n",
      "FOLD 6 | MAE Val: 1451.17337 | R² Val: 0.99776 | MAE Train: 35500.50642 | R² Train: 0.93301\n",
      "FOLD 7 | MAE Val: 1967.79232 | R² Val: 0.99669 | MAE Train: 35371.35169 | R² Train: 0.93286\n",
      "FOLD 8 | MAE Val: 135965.43683 | R² Val: 0.74177 | MAE Train: 1871.94056 | R² Train: 0.99692\n",
      "FOLD 9 | MAE Val: 2075.33734 | R² Val: 0.99676 | MAE Train: 35344.46543 | R² Train: 0.93279\n",
      "Average MAE Val: 28690.63981 | Average R² Val: 0.94579 | Average MAE Train: 28690.63981 | Average R² Train: 0.94571\n",
      "FOLD 0 | MAE Val: 45786.68880 | R² Val: 0.97568 | MAE Train: 63995.94412 | R² Train: 0.94628\n",
      "FOLD 1 | MAE Val: 45413.89699 | R² Val: 0.97733 | MAE Train: 64089.14208 | R² Train: 0.94557\n",
      "FOLD 2 | MAE Val: 45405.01305 | R² Val: 0.97683 | MAE Train: 64091.36306 | R² Train: 0.94584\n",
      "FOLD 3 | MAE Val: 47395.39099 | R² Val: 0.97428 | MAE Train: 63593.76858 | R² Train: 0.94657\n",
      "FOLD 4 | MAE Val: 117769.47547 | R² Val: 0.85563 | MAE Train: 46000.24746 | R² Train: 0.97604\n",
      "FOLD 5 | MAE Val: 60081.02245 | R² Val: 0.95167 | MAE Train: 60422.36071 | R² Train: 0.95217\n",
      "FOLD 6 | MAE Val: 57985.46017 | R² Val: 0.95611 | MAE Train: 60946.25128 | R² Train: 0.95108\n",
      "FOLD 7 | MAE Val: 60786.76185 | R² Val: 0.95014 | MAE Train: 60245.92586 | R² Train: 0.95255\n",
      "FOLD 8 | MAE Val: 61002.34799 | R² Val: 0.95165 | MAE Train: 60192.02933 | R² Train: 0.95217\n",
      "FOLD 9 | MAE Val: 61914.87284 | R² Val: 0.95087 | MAE Train: 59963.89811 | R² Train: 0.95237\n",
      "Average MAE Val: 60354.09306 | Average R² Val: 0.95202 | Average MAE Train: 60354.09306 | Average R² Train: 0.95206\n",
      "FOLD 0 | MAE Val: 29139.62719 | R² Val: 0.96077 | MAE Train: 30081.83677 | R² Train: 0.96070\n",
      "FOLD 1 | MAE Val: 30893.66266 | R² Val: 0.96201 | MAE Train: 29643.32790 | R² Train: 0.96038\n",
      "FOLD 2 | MAE Val: 29372.61453 | R² Val: 0.96305 | MAE Train: 30023.58994 | R² Train: 0.96012\n",
      "FOLD 3 | MAE Val: 31069.68386 | R² Val: 0.95472 | MAE Train: 29599.32260 | R² Train: 0.96219\n",
      "FOLD 4 | MAE Val: 28991.38603 | R² Val: 0.96292 | MAE Train: 30118.89706 | R² Train: 0.96016\n",
      "FOLD 5 | MAE Val: 110282.18004 | R² Val: 0.82589 | MAE Train: 9796.19856 | R² Train: 0.99442\n",
      "FOLD 6 | MAE Val: 9310.03415 | R² Val: 0.99484 | MAE Train: 35039.23503 | R² Train: 0.95239\n",
      "FOLD 7 | MAE Val: 9417.79148 | R² Val: 0.99484 | MAE Train: 35012.29570 | R² Train: 0.95211\n",
      "FOLD 8 | MAE Val: 9906.20702 | R² Val: 0.99387 | MAE Train: 34890.19181 | R² Train: 0.95238\n",
      "FOLD 9 | MAE Val: 10550.76158 | R² Val: 0.99414 | MAE Train: 34729.05317 | R² Train: 0.95225\n",
      "Average MAE Val: 29893.39485 | Average R² Val: 0.96070 | Average MAE Train: 29893.39485 | Average R² Train: 0.96071\n",
      "Final MAE: 13432.09237 | Final R²: 0.99254\n",
      "                feature  importance\n",
      "0                   KNN    0.000802\n",
      "1  HistGradientBoosting    0.001370\n",
      "2          DecisionTree    0.045023\n",
      "3               Bagging    0.875457\n",
      "4              AdaBoost    0.077349\n"
     ]
    }
   ],
   "source": [
    "import numpy as np\n",
    "from sklearn.model_selection import RepeatedKFold\n",
    "from sklearn.tree import DecisionTreeRegressor\n",
    "from sklearn.ensemble import RandomForestRegressor, HistGradientBoostingRegressor, BaggingRegressor, AdaBoostRegressor\n",
    "from sklearn.metrics import mean_absolute_error, r2_score\n",
    "from sklearn.neighbors import KNeighborsRegressor\n",
    "import pandas as pd\n",
    "\n",
    "class Model:\n",
    "    def __init__(self, x, y, n_splits, repeated, rdm_seed, model, params):\n",
    "        self.x = x\n",
    "        self.y = y\n",
    "        self.n_splits = n_splits\n",
    "        self.repeated = repeated\n",
    "        self.rdm_seed = rdm_seed\n",
    "        self.model = model\n",
    "        self.params = params\n",
    "        self.cv_splitter = None\n",
    "        self.best_model = None\n",
    "        self.best_mae = float('inf')\n",
    "        self.best_r2 = float('-inf')\n",
    "\n",
    "    def split_data(self):\n",
    "        cv = RepeatedKFold(n_splits=self.n_splits, n_repeats=self.repeated, random_state=self.rdm_seed)\n",
    "        for fold, (train_idx, val_idx) in enumerate(cv.split(self.x, self.y)):\n",
    "            X_train = self.x[train_idx]\n",
    "            X_val = self.x[val_idx]\n",
    "            y_train = self.y[train_idx]\n",
    "            y_val = self.y[val_idx]\n",
    "            yield X_train, X_val, y_train, y_val\n",
    "\n",
    "    def fit(self, key):\n",
    "        if key == 'knn':\n",
    "            self._fit_knn()\n",
    "        elif key == 'hist_gradient_boosting':\n",
    "            self._fit_hist_gradient_boosting()\n",
    "        elif key == 'decision_tree':\n",
    "            self._fit_decision_tree()\n",
    "        elif key == 'bagging':\n",
    "            self._fit_bagging()\n",
    "        elif key == 'adaboost':\n",
    "            self._fit_adaboost()\n",
    "\n",
    "    def _fit_knn(self):\n",
    "        mae_per_fold = []\n",
    "        r2_per_fold = []\n",
    "        self.cv_splitter = self.split_data()\n",
    "\n",
    "        for fold, (X_train, X_val, y_train, y_val) in enumerate(self.cv_splitter):\n",
    "            model = KNeighborsRegressor(**self.params)\n",
    "            model.fit(X_train, y_train)\n",
    "            y_val_preds = model.predict(X_val)\n",
    "            val_mae = mean_absolute_error(y_val, y_val_preds)\n",
    "            val_r2 = r2_score(y_val, y_val_preds)\n",
    "\n",
    "            if val_mae < self.best_mae:\n",
    "                self.best_mae = val_mae\n",
    "                self.best_model = model\n",
    "            if val_r2 > self.best_r2:\n",
    "                self.best_r2 = val_r2\n",
    "\n",
    "            print(f\"FOLD {fold} | MAE: {val_mae:.5f} | R²: {val_r2:.5f}\")\n",
    "            mae_per_fold.append(val_mae)\n",
    "            r2_per_fold.append(val_r2)\n",
    "\n",
    "        print(f\"Average MAE across all folds knn: {np.mean(mae_per_fold):.5f}\")\n",
    "        print(f\"Average R² across all folds knn: {np.mean(r2_per_fold):.5f}\")\n",
    "\n",
    "    def _fit_hist_gradient_boosting(self):\n",
    "        mae_per_fold = []\n",
    "        r2_per_fold = []\n",
    "        self.cv_splitter = self.split_data()\n",
    "\n",
    "        for fold, (X_train, X_val, y_train, y_val) in enumerate(self.cv_splitter):\n",
    "            model = HistGradientBoostingRegressor(**self.params)\n",
    "            model.fit(X_train, y_train)\n",
    "\n",
    "            y_val_preds = model.predict(X_val)\n",
    "            val_mae = mean_absolute_error(y_val, y_val_preds)\n",
    "            val_r2 = r2_score(y_val, y_val_preds)\n",
    "\n",
    "            if val_mae < self.best_mae:\n",
    "                self.best_mae = val_mae\n",
    "                self.best_model = model\n",
    "            if val_r2 > self.best_r2:\n",
    "                self.best_r2 = val_r2\n",
    "\n",
    "            print(f\"FOLD {fold} | MAE: {val_mae:.5f} | R²: {val_r2:.5f}\")\n",
    "            mae_per_fold.append(val_mae)\n",
    "            r2_per_fold.append(val_r2)\n",
    "\n",
    "        print(f\"Average MAE across all folds hist gradient boosting: {np.mean(mae_per_fold):.5f}\")\n",
    "        print(f\"Average R² across all folds hist gradient boosting: {np.mean(r2_per_fold):.5f}\")\n",
    "\n",
    "    def _fit_decision_tree(self):\n",
    "        mae_per_fold = []\n",
    "        r2_per_fold = []\n",
    "        self.cv_splitter = self.split_data()\n",
    "\n",
    "        for fold, (X_train, X_val, y_train, y_val) in enumerate(self.cv_splitter):\n",
    "            model = DecisionTreeRegressor(**self.params)\n",
    "            model.fit(X_train, y_train)\n",
    "\n",
    "            y_val_preds = model.predict(X_val)\n",
    "            val_mae = mean_absolute_error(y_val, y_val_preds)\n",
    "            val_r2 = r2_score(y_val, y_val_preds)\n",
    "\n",
    "            if val_mae < self.best_mae:\n",
    "                self.best_mae = val_mae\n",
    "                self.best_model = model\n",
    "            if val_r2 > self.best_r2:\n",
    "                self.best_r2 = val_r2\n",
    "\n",
    "            print(f\"FOLD {fold} | MAE: {val_mae:.5f} | R²: {val_r2:.5f}\")\n",
    "            mae_per_fold.append(val_mae)\n",
    "            r2_per_fold.append(val_r2)\n",
    "\n",
    "        print(f\"Average MAE across all folds decision tree: {np.mean(mae_per_fold):.5f}\")\n",
    "        print(f\"Average R² across all folds decision tree: {np.mean(r2_per_fold):.5f}\")\n",
    "\n",
    "    def _fit_bagging(self):\n",
    "        mae_per_fold = []\n",
    "        r2_per_fold = []\n",
    "        self.cv_splitter = self.split_data()\n",
    "\n",
    "        for fold, (X_train, X_val, y_train, y_val) in enumerate(self.cv_splitter):\n",
    "            model = BaggingRegressor(base_estimator=DecisionTreeRegressor(), **self.params)\n",
    "            model.fit(X_train, y_train)\n",
    "            y_val_preds = model.predict(X_val)\n",
    "            val_mae = mean_absolute_error(y_val, y_val_preds)\n",
    "            val_r2 = r2_score(y_val, y_val_preds)\n",
    "\n",
    "            if val_mae < self.best_mae:\n",
    "                self.best_mae = val_mae\n",
    "                self.best_model = model\n",
    "            if val_r2 > self.best_r2:\n",
    "                self.best_r2 = val_r2\n",
    "\n",
    "            print(f\"FOLD {fold} | MAE: {val_mae:.5f} | R²: {val_r2:.5f}\")\n",
    "            mae_per_fold.append(val_mae)\n",
    "            r2_per_fold.append(val_r2)\n",
    "\n",
    "        print(f\"Average MAE across all folds bagging: {np.mean(mae_per_fold):.5f}\")\n",
    "        print(f\"Average R² across all folds bagging: {np.mean(r2_per_fold):.5f}\")\n",
    "\n",
    "    def _fit_adaboost(self):\n",
    "        mae_per_fold = []\n",
    "        r2_per_fold = []\n",
    "        self.cv_splitter = self.split_data()\n",
    "\n",
    "        for fold, (X_train, X_val, y_train, y_val) in enumerate(self.cv_splitter):\n",
    "            model = AdaBoostRegressor(base_estimator=DecisionTreeRegressor(), **self.params)\n",
    "            model.fit(X_train, y_train)\n",
    "            y_val_preds = model.predict(X_val)\n",
    "            val_mae = mean_absolute_error(y_val, y_val_preds)\n",
    "            val_r2 = r2_score(y_val, y_val_preds)\n",
    "\n",
    "            if val_mae < self.best_mae:\n",
    "                self.best_mae = val_mae\n",
    "                self.best_model = model\n",
    "            if val_r2 > self.best_r2:\n",
    "                self.best_r2 = val_r2\n",
    "\n",
    "            print(f\"FOLD {fold} | MAE: {val_mae:.5f} | R²: {val_r2:.5f}\")\n",
    "            mae_per_fold.append(val_mae)\n",
    "            r2_per_fold.append(val_r2)\n",
    "\n",
    "        print(f\"Average MAE across all folds adaboost: {np.mean(mae_per_fold):.5f}\")\n",
    "        print(f\"Average R² across all folds adaboost: {np.mean(r2_per_fold):.5f}\")\n",
    "\n",
    "    def predict(self):\n",
    "        self.cv_splitter = self.split_data()\n",
    "        all_mae = []\n",
    "        all_r2 = []\n",
    "        all_mae_train = []\n",
    "        all_r2_train = []\n",
    "        y_preds_list = []\n",
    "        y_val_list = []\n",
    "        for fold, (X_train, X_val, y_train, y_val) in enumerate(self.cv_splitter):\n",
    "            if self.best_model is None:\n",
    "                raise ValueError(\"Model has not been trained yet. Call 'fit()' method first.\")\n",
    "            else:\n",
    "                y_preds = self.best_model.predict(X_val)\n",
    "                mae = mean_absolute_error(y_val, y_preds)\n",
    "                r2 = r2_score(y_val, y_preds)\n",
    "                all_mae.append(mae)\n",
    "                all_r2.append(r2)\n",
    "                y_preds_list.append(y_preds)\n",
    "                y_val_list.append(y_val)\n",
    "\n",
    "                train_preds = self.best_model.predict(X_train)\n",
    "                train_mae = mean_absolute_error(y_train, train_preds)\n",
    "                train_r2 = r2_score(y_train, train_preds)\n",
    "                all_mae_train.append(train_mae)\n",
    "                all_r2_train.append(train_r2)\n",
    "                print(f\"FOLD {fold} | MAE Val: {mae:.5f} | R² Val: {r2:.5f} | MAE Train: {train_mae:.5f} | R² Train: {train_r2:.5f}\")\n",
    "\n",
    "        avg_mae = np.mean(all_mae)\n",
    "        avg_r2 = np.mean(all_r2)\n",
    "        avg_mae_train = np.mean(all_mae_train)\n",
    "        avg_r2_train = np.mean(all_r2_train)\n",
    "        print(f'Average MAE Val: {avg_mae:.5f} | Average R² Val: {avg_r2:.5f} | Average MAE Train: {avg_mae_train:.5f} | Average R² Train: {avg_r2_train:.5f}')\n",
    "        return all_mae, all_r2, y_preds_list, y_val_list\n",
    "\n",
    "    def feature_importance(self):\n",
    "        if hasattr(self.best_model, 'feature_importances_'):\n",
    "            feature_importances = self.best_model.feature_importances_\n",
    "            feature_names = list(x.columns)\n",
    "            feature_importances_df = pd.DataFrame({'feature': feature_names, 'importance': feature_importances})\n",
    "            feature_importances_df = feature_importances_df.sort_values('importance', ascending=False)\n",
    "            return feature_importances_df\n",
    "        else:\n",
    "            raise ValueError(\"The best model does not support feature importance\")\n",
    "\n",
    "    def inverse(self, y_preds, y_val):\n",
    "        y_preds = np.expm1(y_preds)\n",
    "        y_val = np.expm1(y_val)\n",
    "        return y_preds, y_val\n",
    "\n",
    "# Siapkan data\n",
    "\n",
    "# Memisahkan fitur-fitur dan target\n",
    "X = data.drop(columns=['average_daily_rate'])\n",
    "y = data['average_daily_rate']\n",
    "\n",
    "# Definisikan parameter model\n",
    "params_knn = {'n_neighbors': 5}\n",
    "params_hgb = {'max_iter': 100, 'learning_rate': 0.1, 'random_state': 42}\n",
    "params_dt = {'random_state': 42}\n",
    "params_bagging = {'n_estimators': 100, 'random_state': 42}\n",
    "params_adaboost = {'n_estimators': 100, 'random_state': 42}\n",
    "\n",
    "# Inisialisasi model\n",
    "model_knn = Model(X.values, y.values, n_splits=5, repeated=2, rdm_seed=42, model='knn', params=params_knn)\n",
    "model_hgb = Model(X.values, y.values, n_splits=5, repeated=2, rdm_seed=42, model='hist_gradient_boosting', params=params_hgb)\n",
    "model_dt = Model(X.values, y.values, n_splits=5, repeated=2, rdm_seed=42, model='decision_tree', params=params_dt)\n",
    "model_bagging = Model(X.values, y.values, n_splits=5, repeated=2, rdm_seed=42, model='bagging', params=params_bagging)\n",
    "model_adaboost = Model(X.values, y.values, n_splits=5, repeated=2, rdm_seed=42, model='adaboost', params=params_adaboost)\n",
    "\n",
    "# Fit model\n",
    "model_knn.fit('knn')\n",
    "model_hgb.fit('hist_gradient_boosting')\n",
    "model_dt.fit('decision_tree')\n",
    "model_bagging.fit('bagging')\n",
    "model_adaboost.fit('adaboost')\n",
    "\n",
    "# Prediksi\n",
    "mae_knn, r2_knn, preds_knn, y_vals_knn = model_knn.predict()\n",
    "mae_hgb, r2_hgb, preds_hgb, y_vals_hgb = model_hgb.predict()\n",
    "mae_dt, r2_dt, preds_dt, y_vals_dt = model_dt.predict()\n",
    "mae_bagging, r2_bagging, preds_bagging, y_vals_bagging = model_bagging.predict()\n",
    "mae_adaboost, r2_adaboost, preds_adaboost, y_vals_adaboost = model_adaboost.predict()\n",
    "\n",
    "\n",
    "\n",
    "\n",
    "\n",
    "# Stack prediksi sebagai fitur baru untuk meta model\n",
    "stacked_features_train = np.column_stack((preds_knn[0], preds_hgb[0], preds_dt[0], preds_bagging[0], preds_adaboost[0]))\n",
    "stacked_features_val = np.column_stack((preds_knn[1], preds_hgb[1], preds_dt[1], preds_bagging[1], preds_adaboost[1]))\n",
    "\n",
    "# Definisikan model meta menggunakan RandomForestRegressor\n",
    "meta_model = RandomForestRegressor(n_estimators=100, random_state=42)\n",
    "\n",
    "# Latih meta model\n",
    "meta_model.fit(stacked_features_train, y_vals_knn[0])\n",
    "\n",
    "# Prediksi menggunakan meta model\n",
    "final_preds = meta_model.predict(stacked_features_val)\n",
    "\n",
    "# Evaluasi model meta\n",
    "final_mae = mean_absolute_error(y_vals_knn[1], final_preds)\n",
    "final_r2 = r2_score(y_vals_knn[1], final_preds)\n",
    "print(f'Final MAE: {final_mae:.5f} | Final R²: {final_r2:.5f}')\n",
    "\n",
    "# Feature importance dari meta model\n",
    "feature_importances = meta_model.feature_importances_\n",
    "feature_names = ['KNN', 'HistGradientBoosting', 'DecisionTree', 'Bagging', 'AdaBoost']\n",
    "feature_importances_df = pd.DataFrame({'feature': feature_names, 'importance': feature_importances})\n",
    "\n",
    "print(feature_importances_df)\n",
    "\n"
   ]
  },
  {
   "cell_type": "markdown",
   "metadata": {},
   "source": [
    "bisa diambil kesimpulan dengan teknik stacking dengan:\n",
    "\n",
    "- meta model = random forest \n",
    "- base model = decision tree,knn,bagging,ada boost,HistGradientBoosting\n",
    "\n",
    "berhasil menangani data tersebut dengan matriks evaluasi\n",
    "- Average MAE Val: 29893.39485 | Average R² Val: 0.96070 \n",
    "- Average MAE Train: 29893.39485 | Average R² Train: 0.96071\n",
    "- Final MAE: 13432.09237 | Final R²: 0.99254\n",
    "\n",
    "dan base model yang sangat robust untuk data tersebut adalah bagging dengan besaran features importance\n",
    "\n",
    "- KNN    0.000802\n",
    "- HistGradientBoosting    0.001370\n",
    "- DecisionTree    0.045023\n",
    "- Bagging    0.875457\n",
    "- AdaBoost    0.077349\n",
    "\n",
    "\n",
    "\n",
    "\n"
   ]
  },
  {
   "cell_type": "markdown",
   "metadata": {},
   "source": [
    "### Features Importance"
   ]
  },
  {
   "cell_type": "code",
   "execution_count": 152,
   "metadata": {},
   "outputs": [
    {
     "name": "stdout",
     "output_type": "stream",
     "text": [
      "Feature importances for AdaBoost model:\n",
      "                     feature  importance\n",
      "1                 listing_id    0.164118\n",
      "3                    unit_id    0.097496\n",
      "20  area_distance_to_airport    0.091949\n",
      "8                property_id    0.075996\n",
      "25    booking_check_out_date    0.073704\n",
      "22     booking_check_in_date    0.071663\n",
      "2             length_of_stay    0.049653\n",
      "26   booking_check_out_month    0.049529\n",
      "23    booking_check_in_month    0.048687\n",
      "7                   capacity    0.047590\n",
      "19                 area_name    0.033432\n",
      "5                   bathroom    0.028718\n",
      "0           booking_currency    0.025891\n",
      "24     booking_check_in_year    0.019797\n",
      "4                    bedroom    0.018653\n",
      "18                   area_id    0.018598\n",
      "27    booking_check_out_year    0.016913\n",
      "21  airport_pickup_price_idr    0.015205\n",
      "14                      pool    0.010450\n",
      "17                   kitchen    0.009967\n",
      "10                        tv    0.007758\n",
      "6                       beds    0.007191\n",
      "11                  cable_tv    0.005187\n",
      "15                   parking    0.004991\n",
      "13                 workspace    0.003502\n",
      "9                       wifi    0.002843\n",
      "12                        ac    0.000280\n",
      "16                       gym    0.000238\n"
     ]
    },
    {
     "data": {
      "image/png": "[encoded data removed]",
      "text/plain": [
       "<Figure size 1000x600 with 1 Axes>"
      ]
     },
     "metadata": {},
     "output_type": "display_data"
    }
   ],
   "source": [
    "import matplotlib.pyplot as plt\n",
    "\n",
    "# Asumsi model_adaboost sudah di-fit dan siap digunakan untuk mengambil feature importances\n",
    "print(\"Feature importances for AdaBoost model:\")\n",
    "feature_importances_adaboost = model_adaboost.feature_importance()\n",
    "print(feature_importances_adaboost)\n",
    "\n",
    "# Membuat bar chart untuk feature importances\n",
    "if isinstance(feature_importances_adaboost, pd.DataFrame):\n",
    "    # Ambil 10 fitur teratas\n",
    "    top_10_features = feature_importances_adaboost.nlargest(10, 'importance')\n",
    "\n",
    "    fig, ax = plt.subplots(figsize=(10, 6))\n",
    "\n",
    "    bars = ax.barh(top_10_features['feature'], top_10_features['importance'], color='gray')\n",
    "    \n",
    "    # Warna khusus untuk fitur terpenting dan fitur terakhir\n",
    "    bars[0].set_color('lightseagreen')\n",
    "    bars[-1].set_color('lightsalmon')\n",
    "\n",
    "    ax.set_xlabel('Feature Importance')\n",
    "    ax.set_title('Top 10 Feature Importances for AdaBoost Model')\n",
    "    ax.invert_yaxis()  # Membalik sumbu y agar fitur dengan importance tertinggi berada di atas\n",
    "    ax.xaxis.grid(False)\n",
    "    ax.yaxis.grid(False)\n",
    "\n",
    "    plt.show()\n",
    "else:\n",
    "    print(\"The best model does not support feature importance or there was an error.\")\n"
   ]
  },
  {
   "cell_type": "code",
   "execution_count": 153,
   "metadata": {},
   "outputs": [
    {
     "name": "stdout",
     "output_type": "stream",
     "text": [
      "Feature importances for AdaBoost model:\n",
      "                     feature  importance\n",
      "1                 listing_id    0.225244\n",
      "20  area_distance_to_airport    0.191835\n",
      "7                   capacity    0.083721\n",
      "5                   bathroom    0.073061\n",
      "3                    unit_id    0.065328\n",
      "8                property_id    0.054223\n",
      "19                 area_name    0.053272\n",
      "0           booking_currency    0.042688\n",
      "25    booking_check_out_date    0.032645\n",
      "22     booking_check_in_date    0.031141\n",
      "26   booking_check_out_month    0.026017\n",
      "23    booking_check_in_month    0.025302\n",
      "2             length_of_stay    0.019203\n",
      "18                   area_id    0.018560\n",
      "24     booking_check_in_year    0.010991\n",
      "27    booking_check_out_year    0.008494\n",
      "10                        tv    0.008280\n",
      "4                    bedroom    0.006829\n",
      "6                       beds    0.006019\n",
      "14                      pool    0.004073\n",
      "17                   kitchen    0.003772\n",
      "21  airport_pickup_price_idr    0.003213\n",
      "11                  cable_tv    0.002114\n",
      "15                   parking    0.001300\n",
      "9                       wifi    0.000962\n",
      "12                        ac    0.000879\n",
      "13                 workspace    0.000831\n",
      "16                       gym    0.000002\n"
     ]
    },
    {
     "data": {
      "image/png": "[encoded data removed]",
      "text/plain": [
       "<Figure size 1000x600 with 1 Axes>"
      ]
     },
     "metadata": {},
     "output_type": "display_data"
    }
   ],
   "source": [
    "import matplotlib.pyplot as plt\n",
    "\n",
    "# Asumsi model_adaboost sudah di-fit dan siap digunakan untuk mengambil feature importances\n",
    "print(\"Feature importances for AdaBoost model:\")\n",
    "feature_importances_dt = model_dt.feature_importance()\n",
    "print(feature_importances_dt)\n",
    "\n",
    "# Membuat bar chart untuk feature importances\n",
    "if isinstance(feature_importances_dt, pd.DataFrame):\n",
    "    # Ambil 10 fitur teratas\n",
    "    top_10_features = feature_importances_dt.nlargest(10, 'importance')\n",
    "\n",
    "    fig, ax = plt.subplots(figsize=(10, 6))\n",
    "\n",
    "    bars = ax.barh(top_10_features['feature'], top_10_features['importance'], color='gray')\n",
    "    \n",
    "    # Warna khusus untuk fitur terpenting dan fitur terakhir\n",
    "    bars[0].set_color('lightseagreen')\n",
    "    bars[-1].set_color('lightsalmon')\n",
    "\n",
    "    ax.set_xlabel('Feature Importance')\n",
    "    ax.set_title('Top 10 Feature Importances for Decision Tree Model')\n",
    "    ax.invert_yaxis()  # Membalik sumbu y agar fitur dengan importance tertinggi berada di atas\n",
    "    ax.xaxis.grid(False)\n",
    "    ax.yaxis.grid(False)\n",
    "\n",
    "    plt.show()\n",
    "else:\n",
    "    print(\"The best model does not support feature importance or there was an error.\")\n"
   ]
  },
  {
   "cell_type": "code",
   "execution_count": 143,
   "metadata": {},
   "outputs": [
    {
     "name": "stdout",
     "output_type": "stream",
     "text": [
      "Feature importances for AdaBoost model:\n",
      "                     feature  importance\n",
      "1                 listing_id    0.164118\n",
      "3                    unit_id    0.097496\n",
      "20  area_distance_to_airport    0.091949\n",
      "8                property_id    0.075996\n",
      "25    booking_check_out_date    0.073704\n",
      "22     booking_check_in_date    0.071663\n",
      "2             length_of_stay    0.049653\n",
      "26   booking_check_out_month    0.049529\n",
      "23    booking_check_in_month    0.048687\n",
      "7                   capacity    0.047590\n",
      "19                 area_name    0.033432\n",
      "5                   bathroom    0.028718\n",
      "0           booking_currency    0.025891\n",
      "24     booking_check_in_year    0.019797\n",
      "4                    bedroom    0.018653\n",
      "18                   area_id    0.018598\n",
      "27    booking_check_out_year    0.016913\n",
      "21  airport_pickup_price_idr    0.015205\n",
      "14                      pool    0.010450\n",
      "17                   kitchen    0.009967\n",
      "10                        tv    0.007758\n",
      "6                       beds    0.007191\n",
      "11                  cable_tv    0.005187\n",
      "15                   parking    0.004991\n",
      "13                 workspace    0.003502\n",
      "9                       wifi    0.002843\n",
      "12                        ac    0.000280\n",
      "16                       gym    0.000238\n"
     ]
    }
   ],
   "source": [
    "\n",
    "print(\"Feature importances for AdaBoost model:\")\n",
    "print(model_adaboost.feature_importance())"
   ]
  }
 ],
 "metadata": {
  "kernelspec": {
   "display_name": "Python 3",
   "language": "python",
   "name": "python3"
  },
  "language_info": {
   "codemirror_mode": {
    "name": "ipython",
    "version": 3
   },
   "file_extension": ".py",
   "mimetype": "text/x-python",
   "name": "python",
   "nbconvert_exporter": "python",
   "pygments_lexer": "ipython3",
   "version": "3.11.0"
  }
 },
 "nbformat": 4,
 "nbformat_minor": 2
}
