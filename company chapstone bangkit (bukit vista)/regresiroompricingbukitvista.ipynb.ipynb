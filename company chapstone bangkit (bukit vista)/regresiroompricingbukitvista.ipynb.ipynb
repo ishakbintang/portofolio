{
 "cells": [
  {
   "cell_type": "code",
   "execution_count": 177,
   "metadata": {},
   "outputs": [],
   "source": [
    "import numpy as np\n",
    "import pandas as pd\n",
    "from scipy import stats\n",
    "import seaborn as sns\n",
    "import plotly.io as pio\n",
    "import plotly.express as px\n",
    "import plotly.graph_objects as go\n",
    "import matplotlib.pyplot as plt\n",
    "from sklearn.cluster import KMeans\n",
    "import plotly.figure_factory as ff\n",
    "from prettytable import PrettyTable\n",
    "\n",
    "from plotly.subplots import make_subplots\n",
    "\n",
    "\n",
    "#Modeling\n",
    "from sklearn.preprocessing import LabelEncoder\n",
    "from sklearn.model_selection import RepeatedKFold\n",
    "import lightgbm as lgbm\n",
    "from yellowbrick.cluster import KElbowVisualizer\n",
    "from sklearn.metrics import mean_squared_error, mean_absolute_error, r2_score      \n",
    "from sklearn.svm import SVR\n",
    "from sklearn.linear_model import LinearRegression, Ridge, Lasso\n",
    "from sklearn.linear_model import ElasticNet, BayesianRidge\n",
    "from sklearn.ensemble import AdaBoostRegressor\n",
    "\n",
    "\n",
    "\n",
    "\n",
    "from catboost import CatBoostRegressor\n",
    "\n",
    "#from sklego.linear_model import LADRegression\n",
    "from xgboost import XGBRegressor\n",
    "from scipy.stats import yeojohnson\n",
    "from sklearn.ensemble import VotingRegressor\n",
    "from sklearn.ensemble import IsolationForest\n",
    "from sklearn.preprocessing import StandardScaler\n",
    "from sklearn.model_selection import train_test_split\n",
    "from scipy.stats import skew\n",
    "from scipy.special import boxcox1p\n",
    "from scipy.stats import boxcox_normmax\n",
    "from mlxtend.regressor import StackingCVRegressor\n",
    "from sklearn.preprocessing import PolynomialFeatures\n",
    "\n",
    "import warnings\n",
    "warnings.filterwarnings('ignore')"
   ]
  },
  {
   "cell_type": "markdown",
   "metadata": {},
   "source": [
    "# **2. Data Collection**"
   ]
  },
  {
   "cell_type": "code",
   "execution_count": 178,
   "metadata": {},
   "outputs": [
    {
     "data": {
      "text/html": [
       "<div>\n",
       "<style scoped>\n",
       "    .dataframe tbody tr th:only-of-type {\n",
       "        vertical-align: middle;\n",
       "    }\n",
       "\n",
       "    .dataframe tbody tr th {\n",
       "        vertical-align: top;\n",
       "    }\n",
       "\n",
       "    .dataframe thead th {\n",
       "        text-align: right;\n",
       "    }\n",
       "</style>\n",
       "<table border=\"1\" class=\"dataframe\">\n",
       "  <thead>\n",
       "    <tr style=\"text-align: right;\">\n",
       "      <th></th>\n",
       "      <th>booking_id</th>\n",
       "      <th>booking_status</th>\n",
       "      <th>booking_check_in</th>\n",
       "      <th>booking_check_out</th>\n",
       "      <th>booking_guest_number</th>\n",
       "      <th>booking_earned</th>\n",
       "      <th>booking_currency</th>\n",
       "      <th>booking_received_timestamp</th>\n",
       "      <th>listing_id</th>\n",
       "      <th>review_sentiment</th>\n",
       "      <th>...</th>\n",
       "      <th>workspace</th>\n",
       "      <th>pool</th>\n",
       "      <th>parking</th>\n",
       "      <th>gym</th>\n",
       "      <th>kitchen</th>\n",
       "      <th>property_id1</th>\n",
       "      <th>area_id</th>\n",
       "      <th>area_name</th>\n",
       "      <th>area_distance_to_airport</th>\n",
       "      <th>airport_pickup_price_idr</th>\n",
       "    </tr>\n",
       "  </thead>\n",
       "  <tbody>\n",
       "    <tr>\n",
       "      <th>0</th>\n",
       "      <td>2REFMR</td>\n",
       "      <td>1</td>\n",
       "      <td>2016-04-06</td>\n",
       "      <td>2016-04-16</td>\n",
       "      <td>NaN</td>\n",
       "      <td>2549.0</td>\n",
       "      <td>2</td>\n",
       "      <td>NaN</td>\n",
       "      <td>6384209</td>\n",
       "      <td>positive</td>\n",
       "      <td>...</td>\n",
       "      <td>1.0</td>\n",
       "      <td>1.0</td>\n",
       "      <td>1.0</td>\n",
       "      <td>0.0</td>\n",
       "      <td>1.0</td>\n",
       "      <td>PR0196</td>\n",
       "      <td>A0012</td>\n",
       "      <td>Nusa Dua</td>\n",
       "      <td>45 minutes</td>\n",
       "      <td>325000.0</td>\n",
       "    </tr>\n",
       "    <tr>\n",
       "      <th>1</th>\n",
       "      <td>9NBTPK</td>\n",
       "      <td>1</td>\n",
       "      <td>2016-04-02</td>\n",
       "      <td>2016-04-05</td>\n",
       "      <td>NaN</td>\n",
       "      <td>986.0</td>\n",
       "      <td>2</td>\n",
       "      <td>NaN</td>\n",
       "      <td>945876</td>\n",
       "      <td>positive</td>\n",
       "      <td>...</td>\n",
       "      <td>1.0</td>\n",
       "      <td>1.0</td>\n",
       "      <td>1.0</td>\n",
       "      <td>0.0</td>\n",
       "      <td>1.0</td>\n",
       "      <td>PR0242</td>\n",
       "      <td>A0012</td>\n",
       "      <td>Nusa Dua</td>\n",
       "      <td>45 minutes</td>\n",
       "      <td>325000.0</td>\n",
       "    </tr>\n",
       "    <tr>\n",
       "      <th>2</th>\n",
       "      <td>A2SQJN</td>\n",
       "      <td>1</td>\n",
       "      <td>2016-10-06</td>\n",
       "      <td>2016-10-08</td>\n",
       "      <td>NaN</td>\n",
       "      <td>873.0</td>\n",
       "      <td>2</td>\n",
       "      <td>NaN</td>\n",
       "      <td>945876</td>\n",
       "      <td>positive</td>\n",
       "      <td>...</td>\n",
       "      <td>1.0</td>\n",
       "      <td>1.0</td>\n",
       "      <td>1.0</td>\n",
       "      <td>0.0</td>\n",
       "      <td>1.0</td>\n",
       "      <td>PR0242</td>\n",
       "      <td>A0012</td>\n",
       "      <td>Nusa Dua</td>\n",
       "      <td>45 minutes</td>\n",
       "      <td>325000.0</td>\n",
       "    </tr>\n",
       "    <tr>\n",
       "      <th>3</th>\n",
       "      <td>AKJCTJ</td>\n",
       "      <td>1</td>\n",
       "      <td>2015-10-30</td>\n",
       "      <td>2015-11-04</td>\n",
       "      <td>NaN</td>\n",
       "      <td>2182.0</td>\n",
       "      <td>2</td>\n",
       "      <td>NaN</td>\n",
       "      <td>6384209</td>\n",
       "      <td>positive</td>\n",
       "      <td>...</td>\n",
       "      <td>1.0</td>\n",
       "      <td>1.0</td>\n",
       "      <td>1.0</td>\n",
       "      <td>0.0</td>\n",
       "      <td>1.0</td>\n",
       "      <td>PR0196</td>\n",
       "      <td>A0012</td>\n",
       "      <td>Nusa Dua</td>\n",
       "      <td>45 minutes</td>\n",
       "      <td>325000.0</td>\n",
       "    </tr>\n",
       "    <tr>\n",
       "      <th>4</th>\n",
       "      <td>B3T92M</td>\n",
       "      <td>1</td>\n",
       "      <td>2016-10-10</td>\n",
       "      <td>2016-10-14</td>\n",
       "      <td>NaN</td>\n",
       "      <td>1967.0</td>\n",
       "      <td>2</td>\n",
       "      <td>NaN</td>\n",
       "      <td>6384209</td>\n",
       "      <td>positive</td>\n",
       "      <td>...</td>\n",
       "      <td>1.0</td>\n",
       "      <td>1.0</td>\n",
       "      <td>1.0</td>\n",
       "      <td>0.0</td>\n",
       "      <td>1.0</td>\n",
       "      <td>PR0196</td>\n",
       "      <td>A0012</td>\n",
       "      <td>Nusa Dua</td>\n",
       "      <td>45 minutes</td>\n",
       "      <td>325000.0</td>\n",
       "    </tr>\n",
       "  </tbody>\n",
       "</table>\n",
       "<p>5 rows × 39 columns</p>\n",
       "</div>"
      ],
      "text/plain": [
       "  booking_id  booking_status booking_check_in booking_check_out   \n",
       "0     2REFMR               1       2016-04-06        2016-04-16  \\\n",
       "1     9NBTPK               1       2016-04-02        2016-04-05   \n",
       "2     A2SQJN               1       2016-10-06        2016-10-08   \n",
       "3     AKJCTJ               1       2015-10-30        2015-11-04   \n",
       "4     B3T92M               1       2016-10-10        2016-10-14   \n",
       "\n",
       "   booking_guest_number  booking_earned  booking_currency   \n",
       "0                   NaN          2549.0                 2  \\\n",
       "1                   NaN           986.0                 2   \n",
       "2                   NaN           873.0                 2   \n",
       "3                   NaN          2182.0                 2   \n",
       "4                   NaN          1967.0                 2   \n",
       "\n",
       "  booking_received_timestamp listing_id review_sentiment  ...  workspace   \n",
       "0                        NaN    6384209         positive  ...        1.0  \\\n",
       "1                        NaN     945876         positive  ...        1.0   \n",
       "2                        NaN     945876         positive  ...        1.0   \n",
       "3                        NaN    6384209         positive  ...        1.0   \n",
       "4                        NaN    6384209         positive  ...        1.0   \n",
       "\n",
       "   pool  parking  gym  kitchen  property_id1  area_id area_name   \n",
       "0   1.0      1.0  0.0      1.0        PR0196    A0012  Nusa Dua  \\\n",
       "1   1.0      1.0  0.0      1.0        PR0242    A0012  Nusa Dua   \n",
       "2   1.0      1.0  0.0      1.0        PR0242    A0012  Nusa Dua   \n",
       "3   1.0      1.0  0.0      1.0        PR0196    A0012  Nusa Dua   \n",
       "4   1.0      1.0  0.0      1.0        PR0196    A0012  Nusa Dua   \n",
       "\n",
       "   area_distance_to_airport  airport_pickup_price_idr  \n",
       "0                45 minutes                  325000.0  \n",
       "1                45 minutes                  325000.0  \n",
       "2                45 minutes                  325000.0  \n",
       "3                45 minutes                  325000.0  \n",
       "4                45 minutes                  325000.0  \n",
       "\n",
       "[5 rows x 39 columns]"
      ]
     },
     "execution_count": 178,
     "metadata": {},
     "output_type": "execute_result"
    }
   ],
   "source": [
    "import pandas as pd\n",
    "\n",
    "# Definisikan nama file\n",
    "filename = \"booking_dataset_2024_06_03.csv\"\n",
    "\n",
    "# Membaca dataset dari file CSV\n",
    "raw_data = pd.read_csv(filename)\n",
    "df = raw_data\n",
    "data_eda =raw_data\n",
    "\n",
    "# Menampilkan 5 baris pertama dari dataset\n",
    "raw_data.head()"
   ]
  },
  {
   "cell_type": "code",
   "execution_count": 179,
   "metadata": {},
   "outputs": [],
   "source": [
    "df = raw_data\n",
    "data_eda =raw_data"
   ]
  },
  {
   "cell_type": "code",
   "execution_count": 180,
   "metadata": {},
   "outputs": [
    {
     "name": "stdout",
     "output_type": "stream",
     "text": [
      "<class 'pandas.core.frame.DataFrame'>\n",
      "RangeIndex: 56825 entries, 0 to 56824\n",
      "Data columns (total 39 columns):\n",
      " #   Column                      Non-Null Count  Dtype  \n",
      "---  ------                      --------------  -----  \n",
      " 0   booking_id                  56825 non-null  object \n",
      " 1   booking_status              56825 non-null  int64  \n",
      " 2   booking_check_in            56825 non-null  object \n",
      " 3   booking_check_out           56825 non-null  object \n",
      " 4   booking_guest_number        9015 non-null   float64\n",
      " 5   booking_earned              56825 non-null  float64\n",
      " 6   booking_currency            56825 non-null  int64  \n",
      " 7   booking_received_timestamp  30445 non-null  object \n",
      " 8   listing_id                  56825 non-null  object \n",
      " 9   review_sentiment            6030 non-null   object \n",
      " 10  review_sentiment_score      6030 non-null   float64\n",
      " 11  cancellation_policy         0 non-null      float64\n",
      " 12  booking_earned_in_idr       56825 non-null  float64\n",
      " 13  length_of_stay              56825 non-null  int64  \n",
      " 14  booking_window              30445 non-null  float64\n",
      " 15  seasonality                 56825 non-null  int64  \n",
      " 16  average_daily_rate          56825 non-null  float64\n",
      " 17  unit_id                     56811 non-null  object \n",
      " 18  status                      56378 non-null  float64\n",
      " 19  bedroom                     56312 non-null  float64\n",
      " 20  bathroom                    45230 non-null  float64\n",
      " 21  beds                        45230 non-null  float64\n",
      " 22  capacity                    41269 non-null  float64\n",
      " 23  property_id                 56378 non-null  object \n",
      " 24  avg_daily_rate_per_unit     56825 non-null  float64\n",
      " 25  wifi                        42082 non-null  float64\n",
      " 26  tv                          42082 non-null  float64\n",
      " 27  cable_tv                    42082 non-null  float64\n",
      " 28  ac                          42082 non-null  float64\n",
      " 29  workspace                   42082 non-null  float64\n",
      " 30  pool                        42082 non-null  float64\n",
      " 31  parking                     42082 non-null  float64\n",
      " 32  gym                         42082 non-null  float64\n",
      " 33  kitchen                     42082 non-null  float64\n",
      " 34  property_id1                56247 non-null  object \n",
      " 35  area_id                     56247 non-null  object \n",
      " 36  area_name                   56247 non-null  object \n",
      " 37  area_distance_to_airport    55356 non-null  object \n",
      " 38  airport_pickup_price_idr    48044 non-null  float64\n",
      "dtypes: float64(23), int64(4), object(12)\n",
      "memory usage: 16.9+ MB\n"
     ]
    }
   ],
   "source": [
    "raw_data.info()"
   ]
  },
  {
   "cell_type": "code",
   "execution_count": 181,
   "metadata": {},
   "outputs": [
    {
     "data": {
      "text/html": [
       "<div>\n",
       "<style scoped>\n",
       "    .dataframe tbody tr th:only-of-type {\n",
       "        vertical-align: middle;\n",
       "    }\n",
       "\n",
       "    .dataframe tbody tr th {\n",
       "        vertical-align: top;\n",
       "    }\n",
       "\n",
       "    .dataframe thead th {\n",
       "        text-align: right;\n",
       "    }\n",
       "</style>\n",
       "<table border=\"1\" class=\"dataframe\">\n",
       "  <thead>\n",
       "    <tr style=\"text-align: right;\">\n",
       "      <th></th>\n",
       "      <th>booking_status</th>\n",
       "      <th>booking_guest_number</th>\n",
       "      <th>booking_earned</th>\n",
       "      <th>booking_currency</th>\n",
       "      <th>review_sentiment_score</th>\n",
       "      <th>cancellation_policy</th>\n",
       "      <th>booking_earned_in_idr</th>\n",
       "      <th>length_of_stay</th>\n",
       "      <th>booking_window</th>\n",
       "      <th>seasonality</th>\n",
       "      <th>...</th>\n",
       "      <th>wifi</th>\n",
       "      <th>tv</th>\n",
       "      <th>cable_tv</th>\n",
       "      <th>ac</th>\n",
       "      <th>workspace</th>\n",
       "      <th>pool</th>\n",
       "      <th>parking</th>\n",
       "      <th>gym</th>\n",
       "      <th>kitchen</th>\n",
       "      <th>airport_pickup_price_idr</th>\n",
       "    </tr>\n",
       "  </thead>\n",
       "  <tbody>\n",
       "    <tr>\n",
       "      <th>count</th>\n",
       "      <td>56825.000000</td>\n",
       "      <td>9015.000000</td>\n",
       "      <td>5.682500e+04</td>\n",
       "      <td>56825.000000</td>\n",
       "      <td>6030.000000</td>\n",
       "      <td>0.0</td>\n",
       "      <td>5.682500e+04</td>\n",
       "      <td>56825.000000</td>\n",
       "      <td>30445.000000</td>\n",
       "      <td>56825.000000</td>\n",
       "      <td>...</td>\n",
       "      <td>42082.000000</td>\n",
       "      <td>42082.000000</td>\n",
       "      <td>42082.000000</td>\n",
       "      <td>42082.000000</td>\n",
       "      <td>42082.000000</td>\n",
       "      <td>42082.000000</td>\n",
       "      <td>42082.000000</td>\n",
       "      <td>42082.000000</td>\n",
       "      <td>42082.000000</td>\n",
       "      <td>48044.000000</td>\n",
       "    </tr>\n",
       "    <tr>\n",
       "      <th>mean</th>\n",
       "      <td>1.063968</td>\n",
       "      <td>2.618525</td>\n",
       "      <td>1.571828e+06</td>\n",
       "      <td>1.233295</td>\n",
       "      <td>0.729690</td>\n",
       "      <td>NaN</td>\n",
       "      <td>2.675725e+06</td>\n",
       "      <td>2.839366</td>\n",
       "      <td>23.068944</td>\n",
       "      <td>0.372107</td>\n",
       "      <td>...</td>\n",
       "      <td>0.989449</td>\n",
       "      <td>0.576137</td>\n",
       "      <td>0.213892</td>\n",
       "      <td>0.991754</td>\n",
       "      <td>0.936101</td>\n",
       "      <td>0.820755</td>\n",
       "      <td>0.947032</td>\n",
       "      <td>0.005988</td>\n",
       "      <td>0.321468</td>\n",
       "      <td>325682.499376</td>\n",
       "    </tr>\n",
       "    <tr>\n",
       "      <th>std</th>\n",
       "      <td>0.281550</td>\n",
       "      <td>2.274074</td>\n",
       "      <td>3.034301e+06</td>\n",
       "      <td>0.427279</td>\n",
       "      <td>0.413806</td>\n",
       "      <td>NaN</td>\n",
       "      <td>4.568150e+06</td>\n",
       "      <td>2.982119</td>\n",
       "      <td>36.979856</td>\n",
       "      <td>0.483371</td>\n",
       "      <td>...</td>\n",
       "      <td>0.102175</td>\n",
       "      <td>0.494175</td>\n",
       "      <td>0.410056</td>\n",
       "      <td>0.090432</td>\n",
       "      <td>0.244576</td>\n",
       "      <td>0.383562</td>\n",
       "      <td>0.223972</td>\n",
       "      <td>0.077153</td>\n",
       "      <td>0.467045</td>\n",
       "      <td>39039.625935</td>\n",
       "    </tr>\n",
       "    <tr>\n",
       "      <th>min</th>\n",
       "      <td>1.000000</td>\n",
       "      <td>0.000000</td>\n",
       "      <td>0.000000e+00</td>\n",
       "      <td>1.000000</td>\n",
       "      <td>-0.998203</td>\n",
       "      <td>NaN</td>\n",
       "      <td>0.000000e+00</td>\n",
       "      <td>-30.000000</td>\n",
       "      <td>0.000000</td>\n",
       "      <td>0.000000</td>\n",
       "      <td>...</td>\n",
       "      <td>0.000000</td>\n",
       "      <td>0.000000</td>\n",
       "      <td>0.000000</td>\n",
       "      <td>0.000000</td>\n",
       "      <td>0.000000</td>\n",
       "      <td>0.000000</td>\n",
       "      <td>0.000000</td>\n",
       "      <td>0.000000</td>\n",
       "      <td>0.000000</td>\n",
       "      <td>195000.000000</td>\n",
       "    </tr>\n",
       "    <tr>\n",
       "      <th>25%</th>\n",
       "      <td>1.000000</td>\n",
       "      <td>2.000000</td>\n",
       "      <td>6.450000e+02</td>\n",
       "      <td>1.000000</td>\n",
       "      <td>0.704758</td>\n",
       "      <td>NaN</td>\n",
       "      <td>6.984000e+05</td>\n",
       "      <td>1.000000</td>\n",
       "      <td>1.000000</td>\n",
       "      <td>0.000000</td>\n",
       "      <td>...</td>\n",
       "      <td>1.000000</td>\n",
       "      <td>0.000000</td>\n",
       "      <td>0.000000</td>\n",
       "      <td>1.000000</td>\n",
       "      <td>1.000000</td>\n",
       "      <td>1.000000</td>\n",
       "      <td>1.000000</td>\n",
       "      <td>0.000000</td>\n",
       "      <td>0.000000</td>\n",
       "      <td>325000.000000</td>\n",
       "    </tr>\n",
       "    <tr>\n",
       "      <th>50%</th>\n",
       "      <td>1.000000</td>\n",
       "      <td>2.000000</td>\n",
       "      <td>7.992800e+05</td>\n",
       "      <td>1.000000</td>\n",
       "      <td>0.887651</td>\n",
       "      <td>NaN</td>\n",
       "      <td>1.374490e+06</td>\n",
       "      <td>2.000000</td>\n",
       "      <td>6.000000</td>\n",
       "      <td>0.000000</td>\n",
       "      <td>...</td>\n",
       "      <td>1.000000</td>\n",
       "      <td>1.000000</td>\n",
       "      <td>0.000000</td>\n",
       "      <td>1.000000</td>\n",
       "      <td>1.000000</td>\n",
       "      <td>1.000000</td>\n",
       "      <td>1.000000</td>\n",
       "      <td>0.000000</td>\n",
       "      <td>0.000000</td>\n",
       "      <td>325000.000000</td>\n",
       "    </tr>\n",
       "    <tr>\n",
       "      <th>75%</th>\n",
       "      <td>1.000000</td>\n",
       "      <td>2.000000</td>\n",
       "      <td>1.778367e+06</td>\n",
       "      <td>1.000000</td>\n",
       "      <td>0.972097</td>\n",
       "      <td>NaN</td>\n",
       "      <td>2.789421e+06</td>\n",
       "      <td>3.000000</td>\n",
       "      <td>31.000000</td>\n",
       "      <td>1.000000</td>\n",
       "      <td>...</td>\n",
       "      <td>1.000000</td>\n",
       "      <td>1.000000</td>\n",
       "      <td>0.000000</td>\n",
       "      <td>1.000000</td>\n",
       "      <td>1.000000</td>\n",
       "      <td>1.000000</td>\n",
       "      <td>1.000000</td>\n",
       "      <td>0.000000</td>\n",
       "      <td>1.000000</td>\n",
       "      <td>325000.000000</td>\n",
       "    </tr>\n",
       "    <tr>\n",
       "      <th>max</th>\n",
       "      <td>6.000000</td>\n",
       "      <td>30.000000</td>\n",
       "      <td>9.429215e+07</td>\n",
       "      <td>3.000000</td>\n",
       "      <td>0.999999</td>\n",
       "      <td>NaN</td>\n",
       "      <td>1.303185e+08</td>\n",
       "      <td>349.000000</td>\n",
       "      <td>383.000000</td>\n",
       "      <td>1.000000</td>\n",
       "      <td>...</td>\n",
       "      <td>1.000000</td>\n",
       "      <td>1.000000</td>\n",
       "      <td>1.000000</td>\n",
       "      <td>1.000000</td>\n",
       "      <td>1.000000</td>\n",
       "      <td>1.000000</td>\n",
       "      <td>1.000000</td>\n",
       "      <td>1.000000</td>\n",
       "      <td>1.000000</td>\n",
       "      <td>585000.000000</td>\n",
       "    </tr>\n",
       "  </tbody>\n",
       "</table>\n",
       "<p>8 rows × 27 columns</p>\n",
       "</div>"
      ],
      "text/plain": [
       "       booking_status  booking_guest_number  booking_earned  booking_currency   \n",
       "count    56825.000000           9015.000000    5.682500e+04      56825.000000  \\\n",
       "mean         1.063968              2.618525    1.571828e+06          1.233295   \n",
       "std          0.281550              2.274074    3.034301e+06          0.427279   \n",
       "min          1.000000              0.000000    0.000000e+00          1.000000   \n",
       "25%          1.000000              2.000000    6.450000e+02          1.000000   \n",
       "50%          1.000000              2.000000    7.992800e+05          1.000000   \n",
       "75%          1.000000              2.000000    1.778367e+06          1.000000   \n",
       "max          6.000000             30.000000    9.429215e+07          3.000000   \n",
       "\n",
       "       review_sentiment_score  cancellation_policy  booking_earned_in_idr   \n",
       "count             6030.000000                  0.0           5.682500e+04  \\\n",
       "mean                 0.729690                  NaN           2.675725e+06   \n",
       "std                  0.413806                  NaN           4.568150e+06   \n",
       "min                 -0.998203                  NaN           0.000000e+00   \n",
       "25%                  0.704758                  NaN           6.984000e+05   \n",
       "50%                  0.887651                  NaN           1.374490e+06   \n",
       "75%                  0.972097                  NaN           2.789421e+06   \n",
       "max                  0.999999                  NaN           1.303185e+08   \n",
       "\n",
       "       length_of_stay  booking_window   seasonality  ...          wifi   \n",
       "count    56825.000000    30445.000000  56825.000000  ...  42082.000000  \\\n",
       "mean         2.839366       23.068944      0.372107  ...      0.989449   \n",
       "std          2.982119       36.979856      0.483371  ...      0.102175   \n",
       "min        -30.000000        0.000000      0.000000  ...      0.000000   \n",
       "25%          1.000000        1.000000      0.000000  ...      1.000000   \n",
       "50%          2.000000        6.000000      0.000000  ...      1.000000   \n",
       "75%          3.000000       31.000000      1.000000  ...      1.000000   \n",
       "max        349.000000      383.000000      1.000000  ...      1.000000   \n",
       "\n",
       "                 tv      cable_tv            ac     workspace          pool   \n",
       "count  42082.000000  42082.000000  42082.000000  42082.000000  42082.000000  \\\n",
       "mean       0.576137      0.213892      0.991754      0.936101      0.820755   \n",
       "std        0.494175      0.410056      0.090432      0.244576      0.383562   \n",
       "min        0.000000      0.000000      0.000000      0.000000      0.000000   \n",
       "25%        0.000000      0.000000      1.000000      1.000000      1.000000   \n",
       "50%        1.000000      0.000000      1.000000      1.000000      1.000000   \n",
       "75%        1.000000      0.000000      1.000000      1.000000      1.000000   \n",
       "max        1.000000      1.000000      1.000000      1.000000      1.000000   \n",
       "\n",
       "            parking           gym       kitchen  airport_pickup_price_idr  \n",
       "count  42082.000000  42082.000000  42082.000000              48044.000000  \n",
       "mean       0.947032      0.005988      0.321468             325682.499376  \n",
       "std        0.223972      0.077153      0.467045              39039.625935  \n",
       "min        0.000000      0.000000      0.000000             195000.000000  \n",
       "25%        1.000000      0.000000      0.000000             325000.000000  \n",
       "50%        1.000000      0.000000      0.000000             325000.000000  \n",
       "75%        1.000000      0.000000      1.000000             325000.000000  \n",
       "max        1.000000      1.000000      1.000000             585000.000000  \n",
       "\n",
       "[8 rows x 27 columns]"
      ]
     },
     "execution_count": 181,
     "metadata": {},
     "output_type": "execute_result"
    }
   ],
   "source": [
    "raw_data.describe()"
   ]
  },
  {
   "cell_type": "code",
   "execution_count": 182,
   "metadata": {},
   "outputs": [
    {
     "data": {
      "text/plain": [
       "booking_id                        0\n",
       "booking_status                    0\n",
       "booking_check_in                  0\n",
       "booking_check_out                 0\n",
       "booking_guest_number          47810\n",
       "booking_earned                    0\n",
       "booking_currency                  0\n",
       "booking_received_timestamp    26380\n",
       "listing_id                        0\n",
       "review_sentiment              50795\n",
       "review_sentiment_score        50795\n",
       "cancellation_policy           56825\n",
       "booking_earned_in_idr             0\n",
       "length_of_stay                    0\n",
       "booking_window                26380\n",
       "seasonality                       0\n",
       "average_daily_rate                0\n",
       "unit_id                          14\n",
       "status                          447\n",
       "bedroom                         513\n",
       "bathroom                      11595\n",
       "beds                          11595\n",
       "capacity                      15556\n",
       "property_id                     447\n",
       "avg_daily_rate_per_unit           0\n",
       "wifi                          14743\n",
       "tv                            14743\n",
       "cable_tv                      14743\n",
       "ac                            14743\n",
       "workspace                     14743\n",
       "pool                          14743\n",
       "parking                       14743\n",
       "gym                           14743\n",
       "kitchen                       14743\n",
       "property_id1                    578\n",
       "area_id                         578\n",
       "area_name                       578\n",
       "area_distance_to_airport       1469\n",
       "airport_pickup_price_idr       8781\n",
       "dtype: int64"
      ]
     },
     "execution_count": 182,
     "metadata": {},
     "output_type": "execute_result"
    }
   ],
   "source": [
    "raw_data.isnull().sum()"
   ]
  },
  {
   "cell_type": "markdown",
   "metadata": {},
   "source": [
    "# **3. EDA** \n",
    "\n",
    "**Analisis Data Eksplorasi (EDA)** adalah salah satu teknik yang digunakan untuk mengekstraksi fitur dan tren vital yang digunakan oleh pembelajaran mesin dan model pembelajaran mendalam dalam Sains Data. Memahami data secara menyeluruh membutuhkan eksplorasi dari setiap aspek. Fitur yang berdampak memungkinkan pengambilan keputusan yang bermakna dan bermanfaat; oleh karena itu, EDA menempati tempat yang tak ternilai dalam Sains Data.\n",
    "\n",
    "**Types of Exploratory Data Analysis**\n",
    "\n",
    "1. Univariate\n",
    "2. Bivariate\n",
    "3. Multivariate\n"
   ]
  },
  {
   "cell_type": "code",
   "execution_count": 183,
   "metadata": {},
   "outputs": [
    {
     "data": {
      "application/vnd.plotly.v1+json": {
       "config": {
        "plotlyServerURL": "https://plot.ly"
       },
       "data": [
        {
         "hole": 0.5,
         "hoverinfo": "label+value",
         "labels": [
          "Uluwatu",
          "Canggu",
          "Bingin",
          "Balangan",
          "Nusa Penida",
          "Padang Padang",
          "Jimbaran",
          "Yogyakarta",
          "Ungasan",
          "Ubud"
         ],
         "textfont": {
          "size": 12
         },
         "textinfo": "label+percent",
         "title": {
          "font": {
           "family": "Serif",
           "size": 18
          },
          "text": "Top 10 Frequent of area"
         },
         "type": "pie",
         "values": [
          13063,
          9920,
          8748,
          7729,
          5967,
          3121,
          1946,
          1471,
          1332,
          851
         ]
        }
       ],
       "layout": {
        "height": 700,
        "showlegend": false,
        "template": {},
        "title": {
         "font": {
          "family": "Serif",
          "size": 24
         },
         "text": "<b>Count of daerah properti<b>"
        },
        "width": 700
       }
      }
     },
     "metadata": {},
     "output_type": "display_data"
    }
   ],
   "source": [
    "mask = df['area_name'].value_counts().reset_index(name='count').sort_values('count', ascending=False)\n",
    "total_count = mask['count'].sum()\n",
    "mask['percentage'] = round((mask['count'] / total_count) * 100)\n",
    "mask = mask.head(10)\n",
    "\n",
    "fig = go.Figure()\n",
    "fig.add_trace(\n",
    "    go.Pie(\n",
    "        labels=mask['area_name'],\n",
    "        title=\"Top 10 Frequent of area\",\n",
    "                  titlefont={'size':18, 'family': 'Serif',},\n",
    "         values=mask['count'],\n",
    "        hole=0.5,\n",
    "        )\n",
    "    )\n",
    "fig.update_traces(\n",
    "    hoverinfo='label+value',\n",
    "    textinfo='label+percent',\n",
    "    textfont_size=12,\n",
    "    )\n",
    "fig.layout.update(title=\"<b>Count of daerah properti<b>\",\n",
    "                  titlefont={'size':24, 'family': 'Serif',},\n",
    "                  showlegend=False, \n",
    "                  height=700, \n",
    "                  width=700, \n",
    "                  template=None, \n",
    "                 )\n",
    "\n",
    "fig.show()"
   ]
  },
  {
   "cell_type": "code",
   "execution_count": 184,
   "metadata": {},
   "outputs": [
    {
     "name": "stdout",
     "output_type": "stream",
     "text": [
      "Index(['property_id', 'count', 'percentage'], dtype='object')\n"
     ]
    },
    {
     "data": {
      "application/vnd.plotly.v1+json": {
       "config": {
        "plotlyServerURL": "https://plot.ly"
       },
       "data": [
        {
         "text": [
          9,
          9,
          3,
          3,
          3,
          3,
          2,
          2,
          2,
          2
         ],
         "textposition": "auto",
         "type": "bar",
         "x": [
          "PR0238",
          "PR0245",
          "PR0254",
          "PR0168",
          "PR0198",
          "PR0170",
          "PR0282",
          "PR0188",
          "PR0115",
          "PR0160"
         ],
         "y": [
          4999,
          4871,
          1855,
          1794,
          1577,
          1518,
          1339,
          1092,
          1082,
          1066
         ]
        }
       ],
       "layout": {
        "height": 700,
        "showlegend": false,
        "template": {},
        "title": {
         "font": {
          "family": "Serif",
          "size": 24
         },
         "text": "<b>Count of Property ID<b>"
        },
        "width": 700,
        "xaxis": {
         "title": {
          "text": "Property ID"
         }
        },
        "yaxis": {
         "title": {
          "text": "Count"
         }
        }
       }
      }
     },
     "metadata": {},
     "output_type": "display_data"
    }
   ],
   "source": [
    "import plotly.graph_objects as go\n",
    "\n",
    "# Assuming df is already defined\n",
    "mask = df['property_id'].value_counts().reset_index(name='count').sort_values('count', ascending=False)\n",
    "total_count = mask['count'].sum()\n",
    "mask['percentage'] = round((mask['count'] / total_count) * 100)\n",
    "mask = mask.head(10)\n",
    "\n",
    "print(mask.columns)  # To verify the column names\n",
    "\n",
    "fig = go.Figure()\n",
    "fig.add_trace(\n",
    "    go.Bar(\n",
    "        x=mask.iloc[:, 0],  # Using iloc to access the first column\n",
    "        y=mask['count'],\n",
    "        text=mask['percentage'],\n",
    "        textposition='auto',\n",
    "    )\n",
    ")\n",
    "\n",
    "fig.update_layout(\n",
    "    title=\"<b>Count of Property ID<b>\",\n",
    "    titlefont={'size':24, 'family': 'Serif'},\n",
    "    xaxis_title=\"Property ID\",\n",
    "    yaxis_title=\"Count\",\n",
    "    showlegend=False,\n",
    "    height=700,\n",
    "    width=700,\n",
    "    template=None,\n",
    ")\n",
    "\n",
    "fig.show()\n"
   ]
  },
  {
   "cell_type": "code",
   "execution_count": 185,
   "metadata": {},
   "outputs": [
    {
     "data": {
      "image/png": "[encoded data removed]",
      "text/plain": [
       "<Figure size 1500x800 with 1 Axes>"
      ]
     },
     "metadata": {},
     "output_type": "display_data"
    },
    {
     "name": "stdout",
     "output_type": "stream",
     "text": [
      "Lower, Upper Bounds, and Median for Quartiles:\n",
      "+--------------------------+-------------------+--------------------+-----------+\n",
      "|          Column          |    Lower Bound    |    Upper Bound     |   Median  |\n",
      "+--------------------------+-------------------+--------------------+-----------+\n",
      "|      length_of_stay      |        1.0        |        6.0         |    2.00   |\n",
      "| airport_pickup_price_idr |      325000.0     |      325000.0      | 325000.00 |\n",
      "|    average_daily_rate    |      357199.5     |     2374200.75     | 558818.00 |\n",
      "| avg_daily_rate_per_unit  | 419382.3529411765 | 2374608.6242843624 | 649240.39 |\n",
      "+--------------------------+-------------------+--------------------+-----------+\n"
     ]
    }
   ],
   "source": [
    "columns = df[['length_of_stay', 'airport_pickup_price_idr','average_daily_rate', 'avg_daily_rate_per_unit']]\n",
    "pal = ['#163020', '#3A4D39', '#4F6F52', '#739072', '#98BF97', '#B1DEAF', '#B9E8B7', '#C7F7C6']\n",
    "\n",
    "plt.figure(figsize=(15, 8))\n",
    "sns.boxplot(data=columns,palette=pal)\n",
    "plt.title('Boxplot Groups')\n",
    "plt.show()\n",
    "\n",
    "table_bounds = PrettyTable()\n",
    "table_bounds.field_names = [\"Column\", \"Lower Bound\", \"Upper Bound\", \"Median\"]\n",
    "\n",
    "for column in columns.columns:\n",
    "    Q1 = columns[column].quantile(0.25)\n",
    "    Q2 = columns[column].median()\n",
    "    Q3 = columns[column].quantile(0.75)\n",
    "    IQR = Q3 - Q1\n",
    "\n",
    "    lower_bound = Q1\n",
    "    upper_bound = Q3 + 1.5 * IQR\n",
    "\n",
    "    table_bounds.add_row([column, f'{lower_bound}', f'{upper_bound}', f'{Q2:.2f}'])\n",
    "\n",
    "print(\"Lower, Upper Bounds, and Median for Quartiles:\")\n",
    "print(table_bounds)"
   ]
  },
  {
   "cell_type": "code",
   "execution_count": 186,
   "metadata": {},
   "outputs": [
    {
     "data": {
      "application/vnd.plotly.v1+json": {
       "config": {
        "plotlyServerURL": "https://plot.ly"
       },
       "data": [
        {
         "colorbar": {
          "thickness": 30,
          "ticklen": 3
         },
         "colorscale": [
          [
           0,
           "rgb(161, 105, 40)"
          ],
          [
           0.16666666666666666,
           "rgb(189, 146, 90)"
          ],
          [
           0.3333333333333333,
           "rgb(214, 189, 141)"
          ],
          [
           0.5,
           "rgb(237, 234, 194)"
          ],
          [
           0.6666666666666666,
           "rgb(181, 200, 184)"
          ],
          [
           0.8333333333333334,
           "rgb(121, 167, 172)"
          ],
          [
           1,
           "rgb(40, 135, 161)"
          ]
         ],
         "reversescale": false,
         "showscale": false,
         "type": "heatmap",
         "x": [
          "booking_guest_number",
          "booking_earned",
          "booking_currency",
          "review_sentiment_score",
          "cancellation_policy",
          "booking_earned_in_idr",
          "length_of_stay",
          "booking_window",
          "seasonality",
          "average_daily_rate",
          "status",
          "bedroom",
          "bathroom",
          "beds",
          "capacity",
          "avg_daily_rate_per_unit",
          "wifi",
          "tv",
          "cable_tv",
          "ac",
          "workspace",
          "pool",
          "parking",
          "gym",
          "kitchen",
          "airport_pickup_price_idr"
         ],
         "xgap": 3,
         "y": [
          "booking_guest_number",
          "booking_earned",
          "booking_currency",
          "review_sentiment_score",
          "cancellation_policy",
          "booking_earned_in_idr",
          "length_of_stay",
          "booking_window",
          "seasonality",
          "average_daily_rate",
          "status",
          "bedroom",
          "bathroom",
          "beds",
          "capacity",
          "avg_daily_rate_per_unit",
          "wifi",
          "tv",
          "cable_tv",
          "ac",
          "workspace",
          "pool",
          "parking",
          "gym",
          "kitchen",
          "airport_pickup_price_idr"
         ],
         "ygap": 3,
         "z": [
          [
           1,
           0.31,
           0.01,
           0.06,
           null,
           0.31,
           0,
           0.2,
           0.04,
           0.4,
           0.05,
           0.22,
           0.31,
           0.33,
           0.22,
           0.42,
           -0.01,
           0.15,
           0.01,
           0.03,
           0.04,
           0.04,
           0.01,
           -0.02,
           0.18,
           -0.01
          ],
          [
           0.31,
           1,
           -0.28,
           0.05,
           null,
           0.54,
           0.38,
           0.21,
           -0.03,
           0.33,
           0.05,
           0.04,
           0.11,
           0.1,
           0.09,
           0.15,
           -0.02,
           0.05,
           -0.03,
           0.05,
           0.05,
           0.11,
           0.05,
           0,
           0.13,
           0
          ],
          [
           0.01,
           -0.28,
           1,
           -0.03,
           null,
           0.26,
           0.03,
           0.11,
           0.06,
           0.33,
           0.04,
           0.17,
           0.06,
           0.05,
           0.27,
           0.41,
           0.04,
           -0.07,
           0.03,
           -0.17,
           0.02,
           0.04,
           -0.18,
           -0.03,
           -0.01,
           0.02
          ],
          [
           0.06,
           0.05,
           -0.03,
           1,
           null,
           0.02,
           0.02,
           0,
           0.02,
           0.01,
           -0.02,
           -0.05,
           -0.02,
           -0.02,
           0.01,
           0,
           0.03,
           -0.01,
           -0.02,
           0.04,
           -0.01,
           0.03,
           0.01,
           0,
           0.02,
           0
          ],
          [
           null,
           null,
           null,
           null,
           null,
           null,
           null,
           null,
           null,
           null,
           null,
           null,
           null,
           null,
           null,
           null,
           null,
           null,
           null,
           null,
           null,
           null,
           null,
           null,
           null,
           null
          ],
          [
           0.31,
           0.54,
           0.26,
           0.02,
           null,
           1,
           0.45,
           0.28,
           0,
           0.7,
           0.04,
           0.22,
           0.25,
           0.24,
           0.37,
           0.55,
           0,
           0.05,
           0.07,
           0.02,
           0.06,
           0.1,
           -0.02,
           -0.01,
           0.21,
           0.01
          ],
          [
           0,
           0.38,
           0.03,
           0.02,
           null,
           0.45,
           1,
           0.13,
           0.01,
           0.02,
           0.02,
           0.03,
           0.03,
           0.02,
           0.01,
           0.02,
           -0.01,
           0.03,
           0.01,
           0,
           0.03,
           0.05,
           0,
           0.02,
           0.11,
           -0.02
          ],
          [
           0.2,
           0.21,
           0.11,
           0,
           null,
           0.28,
           0.13,
           1,
           -0.05,
           0.23,
           -0.02,
           0.08,
           0.06,
           0.07,
           0.09,
           0.2,
           0.03,
           0.1,
           0.02,
           0.02,
           0.02,
           0.09,
           -0.02,
           -0.02,
           0.08,
           -0.01
          ],
          [
           0.04,
           -0.03,
           0.06,
           0.02,
           null,
           0,
           0.01,
           -0.05,
           1,
           -0.01,
           0.03,
           0.02,
           -0.01,
           0,
           0.02,
           0.05,
           0,
           0.03,
           0.04,
           0.04,
           0.05,
           0.04,
           0.03,
           -0.01,
           0.01,
           0
          ],
          [
           0.4,
           0.33,
           0.33,
           0.01,
           null,
           0.7,
           0.02,
           0.23,
           -0.01,
           1,
           0.04,
           0.29,
           0.33,
           0.32,
           0.57,
           0.81,
           0.01,
           0.03,
           0.09,
           0.03,
           0.06,
           0.12,
           -0.04,
           -0.02,
           0.2,
           0.03
          ],
          [
           0.05,
           0.05,
           0.04,
           -0.02,
           null,
           0.04,
           0.02,
           -0.02,
           0.03,
           0.04,
           1,
           0.12,
           -0.13,
           -0.11,
           0,
           0.05,
           -0.08,
           -0.11,
           -0.04,
           0.12,
           0.03,
           0.15,
           0.19,
           0,
           0.01,
           0.03
          ],
          [
           0.22,
           0.04,
           0.17,
           -0.05,
           null,
           0.22,
           0.03,
           0.08,
           0.02,
           0.29,
           0.12,
           1,
           0.82,
           0.88,
           0.73,
           0.37,
           -0.08,
           0.14,
           0.11,
           0.03,
           0.06,
           0.02,
           -0.03,
           -0.01,
           0.31,
           0.04
          ],
          [
           0.31,
           0.11,
           0.06,
           -0.02,
           null,
           0.25,
           0.03,
           0.06,
           -0.01,
           0.33,
           -0.13,
           0.82,
           1,
           0.93,
           0.68,
           0.42,
           -0.03,
           0.14,
           0.12,
           -0.1,
           0.04,
           0.05,
           -0.02,
           -0.05,
           0.27,
           -0.03
          ],
          [
           0.33,
           0.1,
           0.05,
           -0.02,
           null,
           0.24,
           0.02,
           0.07,
           0,
           0.32,
           -0.11,
           0.88,
           0.93,
           1,
           0.73,
           0.41,
           -0.09,
           0.11,
           0.07,
           0.03,
           0.05,
           0.02,
           -0.03,
           -0.05,
           0.29,
           -0.05
          ],
          [
           0.22,
           0.09,
           0.27,
           0.01,
           null,
           0.37,
           0.01,
           0.09,
           0.02,
           0.57,
           0,
           0.73,
           0.68,
           0.73,
           1,
           0.73,
           -0.08,
           0.06,
           0.13,
           0.04,
           0.08,
           0.04,
           0,
           0.02,
           0.33,
           -0.03
          ],
          [
           0.42,
           0.15,
           0.41,
           0,
           null,
           0.55,
           0.02,
           0.2,
           0.05,
           0.81,
           0.05,
           0.37,
           0.42,
           0.41,
           0.73,
           1,
           0.01,
           0.03,
           0.12,
           0.03,
           0.08,
           0.16,
           -0.05,
           -0.03,
           0.26,
           0.04
          ],
          [
           -0.01,
           -0.02,
           0.04,
           0.03,
           null,
           0,
           -0.01,
           0.03,
           0,
           0.01,
           -0.08,
           -0.08,
           -0.03,
           -0.09,
           -0.08,
           0.01,
           1,
           -0.09,
           0.05,
           -0.01,
           -0.03,
           0.11,
           0.15,
           -0.02,
           -0.08,
           0.17
          ],
          [
           0.15,
           0.05,
           -0.07,
           -0.01,
           null,
           0.05,
           0.03,
           0.1,
           0.03,
           0.03,
           -0.11,
           0.14,
           0.14,
           0.11,
           0.06,
           0.03,
           -0.09,
           1,
           0.45,
           0.09,
           0.05,
           0.14,
           0.07,
           0.07,
           0.17,
           -0.15
          ],
          [
           0.01,
           -0.03,
           0.03,
           -0.02,
           null,
           0.07,
           0.01,
           0.02,
           0.04,
           0.09,
           -0.04,
           0.11,
           0.12,
           0.07,
           0.13,
           0.12,
           0.05,
           0.45,
           1,
           0.05,
           0.14,
           0.22,
           0.1,
           0.09,
           -0.05,
           -0.04
          ],
          [
           0.03,
           0.05,
           -0.17,
           0.04,
           null,
           0.02,
           0,
           0.02,
           0.04,
           0.03,
           0.12,
           0.03,
           -0.1,
           0.03,
           0.04,
           0.03,
           -0.01,
           0.09,
           0.05,
           1,
           -0.02,
           0.2,
           0.35,
           0.01,
           0.06,
           -0.07
          ],
          [
           0.04,
           0.05,
           0.02,
           -0.01,
           null,
           0.06,
           0.03,
           0.02,
           0.05,
           0.06,
           0.03,
           0.06,
           0.04,
           0.05,
           0.08,
           0.08,
           -0.03,
           0.05,
           0.14,
           -0.02,
           1,
           0.2,
           0.13,
           -0.07,
           0.11,
           -0.08
          ],
          [
           0.04,
           0.11,
           0.04,
           0.03,
           null,
           0.1,
           0.05,
           0.09,
           0.04,
           0.12,
           0.15,
           0.02,
           0.05,
           0.02,
           0.04,
           0.16,
           0.11,
           0.14,
           0.22,
           0.2,
           0.2,
           1,
           0.27,
           0.04,
           0.05,
           0.02
          ],
          [
           0.01,
           0.05,
           -0.18,
           0.01,
           null,
           -0.02,
           0,
           -0.02,
           0.03,
           -0.04,
           0.19,
           -0.03,
           -0.02,
           -0.03,
           0,
           -0.05,
           0.15,
           0.07,
           0.1,
           0.35,
           0.13,
           0.27,
           1,
           -0.11,
           0,
           0.08
          ],
          [
           -0.02,
           0,
           -0.03,
           0,
           null,
           -0.01,
           0.02,
           -0.02,
           -0.01,
           -0.02,
           0,
           -0.01,
           -0.05,
           -0.05,
           0.02,
           -0.03,
           -0.02,
           0.07,
           0.09,
           0.01,
           -0.07,
           0.04,
           -0.11,
           1,
           0.05,
           -0.11
          ],
          [
           0.18,
           0.13,
           -0.01,
           0.02,
           null,
           0.21,
           0.11,
           0.08,
           0.01,
           0.2,
           0.01,
           0.31,
           0.27,
           0.29,
           0.33,
           0.26,
           -0.08,
           0.17,
           -0.05,
           0.06,
           0.11,
           0.05,
           0,
           0.05,
           1,
           -0.16
          ],
          [
           -0.01,
           0,
           0.02,
           0,
           null,
           0.01,
           -0.02,
           -0.01,
           0,
           0.03,
           0.03,
           0.04,
           -0.03,
           -0.05,
           -0.03,
           0.04,
           0.17,
           -0.15,
           -0.04,
           -0.07,
           -0.08,
           0.02,
           0.08,
           -0.11,
           -0.16,
           1
          ]
         ],
         "zmax": 1,
         "zmin": -1
        }
       ],
       "layout": {
        "annotations": [
         {
          "font": {
           "color": "#FFFFFF"
          },
          "showarrow": false,
          "text": "1.0",
          "x": "booking_guest_number",
          "xref": "x",
          "y": "booking_guest_number",
          "yref": "y"
         },
         {
          "font": {
           "color": "#FFFFFF"
          },
          "showarrow": false,
          "text": "0.31",
          "x": "booking_earned",
          "xref": "x",
          "y": "booking_guest_number",
          "yref": "y"
         },
         {
          "font": {
           "color": "#FFFFFF"
          },
          "showarrow": false,
          "text": "0.01",
          "x": "booking_currency",
          "xref": "x",
          "y": "booking_guest_number",
          "yref": "y"
         },
         {
          "font": {
           "color": "#FFFFFF"
          },
          "showarrow": false,
          "text": "0.06",
          "x": "review_sentiment_score",
          "xref": "x",
          "y": "booking_guest_number",
          "yref": "y"
         },
         {
          "font": {
           "color": "#FFFFFF"
          },
          "showarrow": false,
          "text": "nan",
          "x": "cancellation_policy",
          "xref": "x",
          "y": "booking_guest_number",
          "yref": "y"
         },
         {
          "font": {
           "color": "#FFFFFF"
          },
          "showarrow": false,
          "text": "0.31",
          "x": "booking_earned_in_idr",
          "xref": "x",
          "y": "booking_guest_number",
          "yref": "y"
         },
         {
          "font": {
           "color": "#FFFFFF"
          },
          "showarrow": false,
          "text": "0.0",
          "x": "length_of_stay",
          "xref": "x",
          "y": "booking_guest_number",
          "yref": "y"
         },
         {
          "font": {
           "color": "#FFFFFF"
          },
          "showarrow": false,
          "text": "0.2",
          "x": "booking_window",
          "xref": "x",
          "y": "booking_guest_number",
          "yref": "y"
         },
         {
          "font": {
           "color": "#FFFFFF"
          },
          "showarrow": false,
          "text": "0.04",
          "x": "seasonality",
          "xref": "x",
          "y": "booking_guest_number",
          "yref": "y"
         },
         {
          "font": {
           "color": "#FFFFFF"
          },
          "showarrow": false,
          "text": "0.4",
          "x": "average_daily_rate",
          "xref": "x",
          "y": "booking_guest_number",
          "yref": "y"
         },
         {
          "font": {
           "color": "#FFFFFF"
          },
          "showarrow": false,
          "text": "0.05",
          "x": "status",
          "xref": "x",
          "y": "booking_guest_number",
          "yref": "y"
         },
         {
          "font": {
           "color": "#FFFFFF"
          },
          "showarrow": false,
          "text": "0.22",
          "x": "bedroom",
          "xref": "x",
          "y": "booking_guest_number",
          "yref": "y"
         },
         {
          "font": {
           "color": "#FFFFFF"
          },
          "showarrow": false,
          "text": "0.31",
          "x": "bathroom",
          "xref": "x",
          "y": "booking_guest_number",
          "yref": "y"
         },
         {
          "font": {
           "color": "#FFFFFF"
          },
          "showarrow": false,
          "text": "0.33",
          "x": "beds",
          "xref": "x",
          "y": "booking_guest_number",
          "yref": "y"
         },
         {
          "font": {
           "color": "#FFFFFF"
          },
          "showarrow": false,
          "text": "0.22",
          "x": "capacity",
          "xref": "x",
          "y": "booking_guest_number",
          "yref": "y"
         },
         {
          "font": {
           "color": "#FFFFFF"
          },
          "showarrow": false,
          "text": "0.42",
          "x": "avg_daily_rate_per_unit",
          "xref": "x",
          "y": "booking_guest_number",
          "yref": "y"
         },
         {
          "font": {
           "color": "#FFFFFF"
          },
          "showarrow": false,
          "text": "-0.01",
          "x": "wifi",
          "xref": "x",
          "y": "booking_guest_number",
          "yref": "y"
         },
         {
          "font": {
           "color": "#FFFFFF"
          },
          "showarrow": false,
          "text": "0.15",
          "x": "tv",
          "xref": "x",
          "y": "booking_guest_number",
          "yref": "y"
         },
         {
          "font": {
           "color": "#FFFFFF"
          },
          "showarrow": false,
          "text": "0.01",
          "x": "cable_tv",
          "xref": "x",
          "y": "booking_guest_number",
          "yref": "y"
         },
         {
          "font": {
           "color": "#FFFFFF"
          },
          "showarrow": false,
          "text": "0.03",
          "x": "ac",
          "xref": "x",
          "y": "booking_guest_number",
          "yref": "y"
         },
         {
          "font": {
           "color": "#FFFFFF"
          },
          "showarrow": false,
          "text": "0.04",
          "x": "workspace",
          "xref": "x",
          "y": "booking_guest_number",
          "yref": "y"
         },
         {
          "font": {
           "color": "#FFFFFF"
          },
          "showarrow": false,
          "text": "0.04",
          "x": "pool",
          "xref": "x",
          "y": "booking_guest_number",
          "yref": "y"
         },
         {
          "font": {
           "color": "#FFFFFF"
          },
          "showarrow": false,
          "text": "0.01",
          "x": "parking",
          "xref": "x",
          "y": "booking_guest_number",
          "yref": "y"
         },
         {
          "font": {
           "color": "#FFFFFF"
          },
          "showarrow": false,
          "text": "-0.02",
          "x": "gym",
          "xref": "x",
          "y": "booking_guest_number",
          "yref": "y"
         },
         {
          "font": {
           "color": "#FFFFFF"
          },
          "showarrow": false,
          "text": "0.18",
          "x": "kitchen",
          "xref": "x",
          "y": "booking_guest_number",
          "yref": "y"
         },
         {
          "font": {
           "color": "#FFFFFF"
          },
          "showarrow": false,
          "text": "-0.01",
          "x": "airport_pickup_price_idr",
          "xref": "x",
          "y": "booking_guest_number",
          "yref": "y"
         },
         {
          "font": {
           "color": "#FFFFFF"
          },
          "showarrow": false,
          "text": "0.31",
          "x": "booking_guest_number",
          "xref": "x",
          "y": "booking_earned",
          "yref": "y"
         },
         {
          "font": {
           "color": "#FFFFFF"
          },
          "showarrow": false,
          "text": "1.0",
          "x": "booking_earned",
          "xref": "x",
          "y": "booking_earned",
          "yref": "y"
         },
         {
          "font": {
           "color": "#FFFFFF"
          },
          "showarrow": false,
          "text": "-0.28",
          "x": "booking_currency",
          "xref": "x",
          "y": "booking_earned",
          "yref": "y"
         },
         {
          "font": {
           "color": "#FFFFFF"
          },
          "showarrow": false,
          "text": "0.05",
          "x": "review_sentiment_score",
          "xref": "x",
          "y": "booking_earned",
          "yref": "y"
         },
         {
          "font": {
           "color": "#FFFFFF"
          },
          "showarrow": false,
          "text": "nan",
          "x": "cancellation_policy",
          "xref": "x",
          "y": "booking_earned",
          "yref": "y"
         },
         {
          "font": {
           "color": "#FFFFFF"
          },
          "showarrow": false,
          "text": "0.54",
          "x": "booking_earned_in_idr",
          "xref": "x",
          "y": "booking_earned",
          "yref": "y"
         },
         {
          "font": {
           "color": "#FFFFFF"
          },
          "showarrow": false,
          "text": "0.38",
          "x": "length_of_stay",
          "xref": "x",
          "y": "booking_earned",
          "yref": "y"
         },
         {
          "font": {
           "color": "#FFFFFF"
          },
          "showarrow": false,
          "text": "0.21",
          "x": "booking_window",
          "xref": "x",
          "y": "booking_earned",
          "yref": "y"
         },
         {
          "font": {
           "color": "#FFFFFF"
          },
          "showarrow": false,
          "text": "-0.03",
          "x": "seasonality",
          "xref": "x",
          "y": "booking_earned",
          "yref": "y"
         },
         {
          "font": {
           "color": "#FFFFFF"
          },
          "showarrow": false,
          "text": "0.33",
          "x": "average_daily_rate",
          "xref": "x",
          "y": "booking_earned",
          "yref": "y"
         },
         {
          "font": {
           "color": "#FFFFFF"
          },
          "showarrow": false,
          "text": "0.05",
          "x": "status",
          "xref": "x",
          "y": "booking_earned",
          "yref": "y"
         },
         {
          "font": {
           "color": "#FFFFFF"
          },
          "showarrow": false,
          "text": "0.04",
          "x": "bedroom",
          "xref": "x",
          "y": "booking_earned",
          "yref": "y"
         },
         {
          "font": {
           "color": "#FFFFFF"
          },
          "showarrow": false,
          "text": "0.11",
          "x": "bathroom",
          "xref": "x",
          "y": "booking_earned",
          "yref": "y"
         },
         {
          "font": {
           "color": "#FFFFFF"
          },
          "showarrow": false,
          "text": "0.1",
          "x": "beds",
          "xref": "x",
          "y": "booking_earned",
          "yref": "y"
         },
         {
          "font": {
           "color": "#FFFFFF"
          },
          "showarrow": false,
          "text": "0.09",
          "x": "capacity",
          "xref": "x",
          "y": "booking_earned",
          "yref": "y"
         },
         {
          "font": {
           "color": "#FFFFFF"
          },
          "showarrow": false,
          "text": "0.15",
          "x": "avg_daily_rate_per_unit",
          "xref": "x",
          "y": "booking_earned",
          "yref": "y"
         },
         {
          "font": {
           "color": "#FFFFFF"
          },
          "showarrow": false,
          "text": "-0.02",
          "x": "wifi",
          "xref": "x",
          "y": "booking_earned",
          "yref": "y"
         },
         {
          "font": {
           "color": "#FFFFFF"
          },
          "showarrow": false,
          "text": "0.05",
          "x": "tv",
          "xref": "x",
          "y": "booking_earned",
          "yref": "y"
         },
         {
          "font": {
           "color": "#FFFFFF"
          },
          "showarrow": false,
          "text": "-0.03",
          "x": "cable_tv",
          "xref": "x",
          "y": "booking_earned",
          "yref": "y"
         },
         {
          "font": {
           "color": "#FFFFFF"
          },
          "showarrow": false,
          "text": "0.05",
          "x": "ac",
          "xref": "x",
          "y": "booking_earned",
          "yref": "y"
         },
         {
          "font": {
           "color": "#FFFFFF"
          },
          "showarrow": false,
          "text": "0.05",
          "x": "workspace",
          "xref": "x",
          "y": "booking_earned",
          "yref": "y"
         },
         {
          "font": {
           "color": "#FFFFFF"
          },
          "showarrow": false,
          "text": "0.11",
          "x": "pool",
          "xref": "x",
          "y": "booking_earned",
          "yref": "y"
         },
         {
          "font": {
           "color": "#FFFFFF"
          },
          "showarrow": false,
          "text": "0.05",
          "x": "parking",
          "xref": "x",
          "y": "booking_earned",
          "yref": "y"
         },
         {
          "font": {
           "color": "#FFFFFF"
          },
          "showarrow": false,
          "text": "-0.0",
          "x": "gym",
          "xref": "x",
          "y": "booking_earned",
          "yref": "y"
         },
         {
          "font": {
           "color": "#FFFFFF"
          },
          "showarrow": false,
          "text": "0.13",
          "x": "kitchen",
          "xref": "x",
          "y": "booking_earned",
          "yref": "y"
         },
         {
          "font": {
           "color": "#FFFFFF"
          },
          "showarrow": false,
          "text": "0.0",
          "x": "airport_pickup_price_idr",
          "xref": "x",
          "y": "booking_earned",
          "yref": "y"
         },
         {
          "font": {
           "color": "#FFFFFF"
          },
          "showarrow": false,
          "text": "0.01",
          "x": "booking_guest_number",
          "xref": "x",
          "y": "booking_currency",
          "yref": "y"
         },
         {
          "font": {
           "color": "#FFFFFF"
          },
          "showarrow": false,
          "text": "-0.28",
          "x": "booking_earned",
          "xref": "x",
          "y": "booking_currency",
          "yref": "y"
         },
         {
          "font": {
           "color": "#FFFFFF"
          },
          "showarrow": false,
          "text": "1.0",
          "x": "booking_currency",
          "xref": "x",
          "y": "booking_currency",
          "yref": "y"
         },
         {
          "font": {
           "color": "#FFFFFF"
          },
          "showarrow": false,
          "text": "-0.03",
          "x": "review_sentiment_score",
          "xref": "x",
          "y": "booking_currency",
          "yref": "y"
         },
         {
          "font": {
           "color": "#FFFFFF"
          },
          "showarrow": false,
          "text": "nan",
          "x": "cancellation_policy",
          "xref": "x",
          "y": "booking_currency",
          "yref": "y"
         },
         {
          "font": {
           "color": "#FFFFFF"
          },
          "showarrow": false,
          "text": "0.26",
          "x": "booking_earned_in_idr",
          "xref": "x",
          "y": "booking_currency",
          "yref": "y"
         },
         {
          "font": {
           "color": "#FFFFFF"
          },
          "showarrow": false,
          "text": "0.03",
          "x": "length_of_stay",
          "xref": "x",
          "y": "booking_currency",
          "yref": "y"
         },
         {
          "font": {
           "color": "#FFFFFF"
          },
          "showarrow": false,
          "text": "0.11",
          "x": "booking_window",
          "xref": "x",
          "y": "booking_currency",
          "yref": "y"
         },
         {
          "font": {
           "color": "#FFFFFF"
          },
          "showarrow": false,
          "text": "0.06",
          "x": "seasonality",
          "xref": "x",
          "y": "booking_currency",
          "yref": "y"
         },
         {
          "font": {
           "color": "#FFFFFF"
          },
          "showarrow": false,
          "text": "0.33",
          "x": "average_daily_rate",
          "xref": "x",
          "y": "booking_currency",
          "yref": "y"
         },
         {
          "font": {
           "color": "#FFFFFF"
          },
          "showarrow": false,
          "text": "0.04",
          "x": "status",
          "xref": "x",
          "y": "booking_currency",
          "yref": "y"
         },
         {
          "font": {
           "color": "#FFFFFF"
          },
          "showarrow": false,
          "text": "0.17",
          "x": "bedroom",
          "xref": "x",
          "y": "booking_currency",
          "yref": "y"
         },
         {
          "font": {
           "color": "#FFFFFF"
          },
          "showarrow": false,
          "text": "0.06",
          "x": "bathroom",
          "xref": "x",
          "y": "booking_currency",
          "yref": "y"
         },
         {
          "font": {
           "color": "#FFFFFF"
          },
          "showarrow": false,
          "text": "0.05",
          "x": "beds",
          "xref": "x",
          "y": "booking_currency",
          "yref": "y"
         },
         {
          "font": {
           "color": "#FFFFFF"
          },
          "showarrow": false,
          "text": "0.27",
          "x": "capacity",
          "xref": "x",
          "y": "booking_currency",
          "yref": "y"
         },
         {
          "font": {
           "color": "#FFFFFF"
          },
          "showarrow": false,
          "text": "0.41",
          "x": "avg_daily_rate_per_unit",
          "xref": "x",
          "y": "booking_currency",
          "yref": "y"
         },
         {
          "font": {
           "color": "#FFFFFF"
          },
          "showarrow": false,
          "text": "0.04",
          "x": "wifi",
          "xref": "x",
          "y": "booking_currency",
          "yref": "y"
         },
         {
          "font": {
           "color": "#FFFFFF"
          },
          "showarrow": false,
          "text": "-0.07",
          "x": "tv",
          "xref": "x",
          "y": "booking_currency",
          "yref": "y"
         },
         {
          "font": {
           "color": "#FFFFFF"
          },
          "showarrow": false,
          "text": "0.03",
          "x": "cable_tv",
          "xref": "x",
          "y": "booking_currency",
          "yref": "y"
         },
         {
          "font": {
           "color": "#FFFFFF"
          },
          "showarrow": false,
          "text": "-0.17",
          "x": "ac",
          "xref": "x",
          "y": "booking_currency",
          "yref": "y"
         },
         {
          "font": {
           "color": "#FFFFFF"
          },
          "showarrow": false,
          "text": "0.02",
          "x": "workspace",
          "xref": "x",
          "y": "booking_currency",
          "yref": "y"
         },
         {
          "font": {
           "color": "#FFFFFF"
          },
          "showarrow": false,
          "text": "0.04",
          "x": "pool",
          "xref": "x",
          "y": "booking_currency",
          "yref": "y"
         },
         {
          "font": {
           "color": "#FFFFFF"
          },
          "showarrow": false,
          "text": "-0.18",
          "x": "parking",
          "xref": "x",
          "y": "booking_currency",
          "yref": "y"
         },
         {
          "font": {
           "color": "#FFFFFF"
          },
          "showarrow": false,
          "text": "-0.03",
          "x": "gym",
          "xref": "x",
          "y": "booking_currency",
          "yref": "y"
         },
         {
          "font": {
           "color": "#FFFFFF"
          },
          "showarrow": false,
          "text": "-0.01",
          "x": "kitchen",
          "xref": "x",
          "y": "booking_currency",
          "yref": "y"
         },
         {
          "font": {
           "color": "#FFFFFF"
          },
          "showarrow": false,
          "text": "0.02",
          "x": "airport_pickup_price_idr",
          "xref": "x",
          "y": "booking_currency",
          "yref": "y"
         },
         {
          "font": {
           "color": "#FFFFFF"
          },
          "showarrow": false,
          "text": "0.06",
          "x": "booking_guest_number",
          "xref": "x",
          "y": "review_sentiment_score",
          "yref": "y"
         },
         {
          "font": {
           "color": "#FFFFFF"
          },
          "showarrow": false,
          "text": "0.05",
          "x": "booking_earned",
          "xref": "x",
          "y": "review_sentiment_score",
          "yref": "y"
         },
         {
          "font": {
           "color": "#FFFFFF"
          },
          "showarrow": false,
          "text": "-0.03",
          "x": "booking_currency",
          "xref": "x",
          "y": "review_sentiment_score",
          "yref": "y"
         },
         {
          "font": {
           "color": "#FFFFFF"
          },
          "showarrow": false,
          "text": "1.0",
          "x": "review_sentiment_score",
          "xref": "x",
          "y": "review_sentiment_score",
          "yref": "y"
         },
         {
          "font": {
           "color": "#FFFFFF"
          },
          "showarrow": false,
          "text": "nan",
          "x": "cancellation_policy",
          "xref": "x",
          "y": "review_sentiment_score",
          "yref": "y"
         },
         {
          "font": {
           "color": "#FFFFFF"
          },
          "showarrow": false,
          "text": "0.02",
          "x": "booking_earned_in_idr",
          "xref": "x",
          "y": "review_sentiment_score",
          "yref": "y"
         },
         {
          "font": {
           "color": "#FFFFFF"
          },
          "showarrow": false,
          "text": "0.02",
          "x": "length_of_stay",
          "xref": "x",
          "y": "review_sentiment_score",
          "yref": "y"
         },
         {
          "font": {
           "color": "#FFFFFF"
          },
          "showarrow": false,
          "text": "-0.0",
          "x": "booking_window",
          "xref": "x",
          "y": "review_sentiment_score",
          "yref": "y"
         },
         {
          "font": {
           "color": "#FFFFFF"
          },
          "showarrow": false,
          "text": "0.02",
          "x": "seasonality",
          "xref": "x",
          "y": "review_sentiment_score",
          "yref": "y"
         },
         {
          "font": {
           "color": "#FFFFFF"
          },
          "showarrow": false,
          "text": "0.01",
          "x": "average_daily_rate",
          "xref": "x",
          "y": "review_sentiment_score",
          "yref": "y"
         },
         {
          "font": {
           "color": "#FFFFFF"
          },
          "showarrow": false,
          "text": "-0.02",
          "x": "status",
          "xref": "x",
          "y": "review_sentiment_score",
          "yref": "y"
         },
         {
          "font": {
           "color": "#FFFFFF"
          },
          "showarrow": false,
          "text": "-0.05",
          "x": "bedroom",
          "xref": "x",
          "y": "review_sentiment_score",
          "yref": "y"
         },
         {
          "font": {
           "color": "#FFFFFF"
          },
          "showarrow": false,
          "text": "-0.02",
          "x": "bathroom",
          "xref": "x",
          "y": "review_sentiment_score",
          "yref": "y"
         },
         {
          "font": {
           "color": "#FFFFFF"
          },
          "showarrow": false,
          "text": "-0.02",
          "x": "beds",
          "xref": "x",
          "y": "review_sentiment_score",
          "yref": "y"
         },
         {
          "font": {
           "color": "#FFFFFF"
          },
          "showarrow": false,
          "text": "0.01",
          "x": "capacity",
          "xref": "x",
          "y": "review_sentiment_score",
          "yref": "y"
         },
         {
          "font": {
           "color": "#FFFFFF"
          },
          "showarrow": false,
          "text": "-0.0",
          "x": "avg_daily_rate_per_unit",
          "xref": "x",
          "y": "review_sentiment_score",
          "yref": "y"
         },
         {
          "font": {
           "color": "#FFFFFF"
          },
          "showarrow": false,
          "text": "0.03",
          "x": "wifi",
          "xref": "x",
          "y": "review_sentiment_score",
          "yref": "y"
         },
         {
          "font": {
           "color": "#FFFFFF"
          },
          "showarrow": false,
          "text": "-0.01",
          "x": "tv",
          "xref": "x",
          "y": "review_sentiment_score",
          "yref": "y"
         },
         {
          "font": {
           "color": "#FFFFFF"
          },
          "showarrow": false,
          "text": "-0.02",
          "x": "cable_tv",
          "xref": "x",
          "y": "review_sentiment_score",
          "yref": "y"
         },
         {
          "font": {
           "color": "#FFFFFF"
          },
          "showarrow": false,
          "text": "0.04",
          "x": "ac",
          "xref": "x",
          "y": "review_sentiment_score",
          "yref": "y"
         },
         {
          "font": {
           "color": "#FFFFFF"
          },
          "showarrow": false,
          "text": "-0.01",
          "x": "workspace",
          "xref": "x",
          "y": "review_sentiment_score",
          "yref": "y"
         },
         {
          "font": {
           "color": "#FFFFFF"
          },
          "showarrow": false,
          "text": "0.03",
          "x": "pool",
          "xref": "x",
          "y": "review_sentiment_score",
          "yref": "y"
         },
         {
          "font": {
           "color": "#FFFFFF"
          },
          "showarrow": false,
          "text": "0.01",
          "x": "parking",
          "xref": "x",
          "y": "review_sentiment_score",
          "yref": "y"
         },
         {
          "font": {
           "color": "#FFFFFF"
          },
          "showarrow": false,
          "text": "0.0",
          "x": "gym",
          "xref": "x",
          "y": "review_sentiment_score",
          "yref": "y"
         },
         {
          "font": {
           "color": "#FFFFFF"
          },
          "showarrow": false,
          "text": "0.02",
          "x": "kitchen",
          "xref": "x",
          "y": "review_sentiment_score",
          "yref": "y"
         },
         {
          "font": {
           "color": "#FFFFFF"
          },
          "showarrow": false,
          "text": "0.0",
          "x": "airport_pickup_price_idr",
          "xref": "x",
          "y": "review_sentiment_score",
          "yref": "y"
         },
         {
          "font": {
           "color": "#FFFFFF"
          },
          "showarrow": false,
          "text": "nan",
          "x": "booking_guest_number",
          "xref": "x",
          "y": "cancellation_policy",
          "yref": "y"
         },
         {
          "font": {
           "color": "#FFFFFF"
          },
          "showarrow": false,
          "text": "nan",
          "x": "booking_earned",
          "xref": "x",
          "y": "cancellation_policy",
          "yref": "y"
         },
         {
          "font": {
           "color": "#FFFFFF"
          },
          "showarrow": false,
          "text": "nan",
          "x": "booking_currency",
          "xref": "x",
          "y": "cancellation_policy",
          "yref": "y"
         },
         {
          "font": {
           "color": "#FFFFFF"
          },
          "showarrow": false,
          "text": "nan",
          "x": "review_sentiment_score",
          "xref": "x",
          "y": "cancellation_policy",
          "yref": "y"
         },
         {
          "font": {
           "color": "#FFFFFF"
          },
          "showarrow": false,
          "text": "nan",
          "x": "cancellation_policy",
          "xref": "x",
          "y": "cancellation_policy",
          "yref": "y"
         },
         {
          "font": {
           "color": "#FFFFFF"
          },
          "showarrow": false,
          "text": "nan",
          "x": "booking_earned_in_idr",
          "xref": "x",
          "y": "cancellation_policy",
          "yref": "y"
         },
         {
          "font": {
           "color": "#FFFFFF"
          },
          "showarrow": false,
          "text": "nan",
          "x": "length_of_stay",
          "xref": "x",
          "y": "cancellation_policy",
          "yref": "y"
         },
         {
          "font": {
           "color": "#FFFFFF"
          },
          "showarrow": false,
          "text": "nan",
          "x": "booking_window",
          "xref": "x",
          "y": "cancellation_policy",
          "yref": "y"
         },
         {
          "font": {
           "color": "#FFFFFF"
          },
          "showarrow": false,
          "text": "nan",
          "x": "seasonality",
          "xref": "x",
          "y": "cancellation_policy",
          "yref": "y"
         },
         {
          "font": {
           "color": "#FFFFFF"
          },
          "showarrow": false,
          "text": "nan",
          "x": "average_daily_rate",
          "xref": "x",
          "y": "cancellation_policy",
          "yref": "y"
         },
         {
          "font": {
           "color": "#FFFFFF"
          },
          "showarrow": false,
          "text": "nan",
          "x": "status",
          "xref": "x",
          "y": "cancellation_policy",
          "yref": "y"
         },
         {
          "font": {
           "color": "#FFFFFF"
          },
          "showarrow": false,
          "text": "nan",
          "x": "bedroom",
          "xref": "x",
          "y": "cancellation_policy",
          "yref": "y"
         },
         {
          "font": {
           "color": "#FFFFFF"
          },
          "showarrow": false,
          "text": "nan",
          "x": "bathroom",
          "xref": "x",
          "y": "cancellation_policy",
          "yref": "y"
         },
         {
          "font": {
           "color": "#FFFFFF"
          },
          "showarrow": false,
          "text": "nan",
          "x": "beds",
          "xref": "x",
          "y": "cancellation_policy",
          "yref": "y"
         },
         {
          "font": {
           "color": "#FFFFFF"
          },
          "showarrow": false,
          "text": "nan",
          "x": "capacity",
          "xref": "x",
          "y": "cancellation_policy",
          "yref": "y"
         },
         {
          "font": {
           "color": "#FFFFFF"
          },
          "showarrow": false,
          "text": "nan",
          "x": "avg_daily_rate_per_unit",
          "xref": "x",
          "y": "cancellation_policy",
          "yref": "y"
         },
         {
          "font": {
           "color": "#FFFFFF"
          },
          "showarrow": false,
          "text": "nan",
          "x": "wifi",
          "xref": "x",
          "y": "cancellation_policy",
          "yref": "y"
         },
         {
          "font": {
           "color": "#FFFFFF"
          },
          "showarrow": false,
          "text": "nan",
          "x": "tv",
          "xref": "x",
          "y": "cancellation_policy",
          "yref": "y"
         },
         {
          "font": {
           "color": "#FFFFFF"
          },
          "showarrow": false,
          "text": "nan",
          "x": "cable_tv",
          "xref": "x",
          "y": "cancellation_policy",
          "yref": "y"
         },
         {
          "font": {
           "color": "#FFFFFF"
          },
          "showarrow": false,
          "text": "nan",
          "x": "ac",
          "xref": "x",
          "y": "cancellation_policy",
          "yref": "y"
         },
         {
          "font": {
           "color": "#FFFFFF"
          },
          "showarrow": false,
          "text": "nan",
          "x": "workspace",
          "xref": "x",
          "y": "cancellation_policy",
          "yref": "y"
         },
         {
          "font": {
           "color": "#FFFFFF"
          },
          "showarrow": false,
          "text": "nan",
          "x": "pool",
          "xref": "x",
          "y": "cancellation_policy",
          "yref": "y"
         },
         {
          "font": {
           "color": "#FFFFFF"
          },
          "showarrow": false,
          "text": "nan",
          "x": "parking",
          "xref": "x",
          "y": "cancellation_policy",
          "yref": "y"
         },
         {
          "font": {
           "color": "#FFFFFF"
          },
          "showarrow": false,
          "text": "nan",
          "x": "gym",
          "xref": "x",
          "y": "cancellation_policy",
          "yref": "y"
         },
         {
          "font": {
           "color": "#FFFFFF"
          },
          "showarrow": false,
          "text": "nan",
          "x": "kitchen",
          "xref": "x",
          "y": "cancellation_policy",
          "yref": "y"
         },
         {
          "font": {
           "color": "#FFFFFF"
          },
          "showarrow": false,
          "text": "nan",
          "x": "airport_pickup_price_idr",
          "xref": "x",
          "y": "cancellation_policy",
          "yref": "y"
         },
         {
          "font": {
           "color": "#FFFFFF"
          },
          "showarrow": false,
          "text": "0.31",
          "x": "booking_guest_number",
          "xref": "x",
          "y": "booking_earned_in_idr",
          "yref": "y"
         },
         {
          "font": {
           "color": "#FFFFFF"
          },
          "showarrow": false,
          "text": "0.54",
          "x": "booking_earned",
          "xref": "x",
          "y": "booking_earned_in_idr",
          "yref": "y"
         },
         {
          "font": {
           "color": "#FFFFFF"
          },
          "showarrow": false,
          "text": "0.26",
          "x": "booking_currency",
          "xref": "x",
          "y": "booking_earned_in_idr",
          "yref": "y"
         },
         {
          "font": {
           "color": "#FFFFFF"
          },
          "showarrow": false,
          "text": "0.02",
          "x": "review_sentiment_score",
          "xref": "x",
          "y": "booking_earned_in_idr",
          "yref": "y"
         },
         {
          "font": {
           "color": "#FFFFFF"
          },
          "showarrow": false,
          "text": "nan",
          "x": "cancellation_policy",
          "xref": "x",
          "y": "booking_earned_in_idr",
          "yref": "y"
         },
         {
          "font": {
           "color": "#FFFFFF"
          },
          "showarrow": false,
          "text": "1.0",
          "x": "booking_earned_in_idr",
          "xref": "x",
          "y": "booking_earned_in_idr",
          "yref": "y"
         },
         {
          "font": {
           "color": "#FFFFFF"
          },
          "showarrow": false,
          "text": "0.45",
          "x": "length_of_stay",
          "xref": "x",
          "y": "booking_earned_in_idr",
          "yref": "y"
         },
         {
          "font": {
           "color": "#FFFFFF"
          },
          "showarrow": false,
          "text": "0.28",
          "x": "booking_window",
          "xref": "x",
          "y": "booking_earned_in_idr",
          "yref": "y"
         },
         {
          "font": {
           "color": "#FFFFFF"
          },
          "showarrow": false,
          "text": "-0.0",
          "x": "seasonality",
          "xref": "x",
          "y": "booking_earned_in_idr",
          "yref": "y"
         },
         {
          "font": {
           "color": "#FFFFFF"
          },
          "showarrow": false,
          "text": "0.7",
          "x": "average_daily_rate",
          "xref": "x",
          "y": "booking_earned_in_idr",
          "yref": "y"
         },
         {
          "font": {
           "color": "#FFFFFF"
          },
          "showarrow": false,
          "text": "0.04",
          "x": "status",
          "xref": "x",
          "y": "booking_earned_in_idr",
          "yref": "y"
         },
         {
          "font": {
           "color": "#FFFFFF"
          },
          "showarrow": false,
          "text": "0.22",
          "x": "bedroom",
          "xref": "x",
          "y": "booking_earned_in_idr",
          "yref": "y"
         },
         {
          "font": {
           "color": "#FFFFFF"
          },
          "showarrow": false,
          "text": "0.25",
          "x": "bathroom",
          "xref": "x",
          "y": "booking_earned_in_idr",
          "yref": "y"
         },
         {
          "font": {
           "color": "#FFFFFF"
          },
          "showarrow": false,
          "text": "0.24",
          "x": "beds",
          "xref": "x",
          "y": "booking_earned_in_idr",
          "yref": "y"
         },
         {
          "font": {
           "color": "#FFFFFF"
          },
          "showarrow": false,
          "text": "0.37",
          "x": "capacity",
          "xref": "x",
          "y": "booking_earned_in_idr",
          "yref": "y"
         },
         {
          "font": {
           "color": "#FFFFFF"
          },
          "showarrow": false,
          "text": "0.55",
          "x": "avg_daily_rate_per_unit",
          "xref": "x",
          "y": "booking_earned_in_idr",
          "yref": "y"
         },
         {
          "font": {
           "color": "#FFFFFF"
          },
          "showarrow": false,
          "text": "0.0",
          "x": "wifi",
          "xref": "x",
          "y": "booking_earned_in_idr",
          "yref": "y"
         },
         {
          "font": {
           "color": "#FFFFFF"
          },
          "showarrow": false,
          "text": "0.05",
          "x": "tv",
          "xref": "x",
          "y": "booking_earned_in_idr",
          "yref": "y"
         },
         {
          "font": {
           "color": "#FFFFFF"
          },
          "showarrow": false,
          "text": "0.07",
          "x": "cable_tv",
          "xref": "x",
          "y": "booking_earned_in_idr",
          "yref": "y"
         },
         {
          "font": {
           "color": "#FFFFFF"
          },
          "showarrow": false,
          "text": "0.02",
          "x": "ac",
          "xref": "x",
          "y": "booking_earned_in_idr",
          "yref": "y"
         },
         {
          "font": {
           "color": "#FFFFFF"
          },
          "showarrow": false,
          "text": "0.06",
          "x": "workspace",
          "xref": "x",
          "y": "booking_earned_in_idr",
          "yref": "y"
         },
         {
          "font": {
           "color": "#FFFFFF"
          },
          "showarrow": false,
          "text": "0.1",
          "x": "pool",
          "xref": "x",
          "y": "booking_earned_in_idr",
          "yref": "y"
         },
         {
          "font": {
           "color": "#FFFFFF"
          },
          "showarrow": false,
          "text": "-0.02",
          "x": "parking",
          "xref": "x",
          "y": "booking_earned_in_idr",
          "yref": "y"
         },
         {
          "font": {
           "color": "#FFFFFF"
          },
          "showarrow": false,
          "text": "-0.01",
          "x": "gym",
          "xref": "x",
          "y": "booking_earned_in_idr",
          "yref": "y"
         },
         {
          "font": {
           "color": "#FFFFFF"
          },
          "showarrow": false,
          "text": "0.21",
          "x": "kitchen",
          "xref": "x",
          "y": "booking_earned_in_idr",
          "yref": "y"
         },
         {
          "font": {
           "color": "#FFFFFF"
          },
          "showarrow": false,
          "text": "0.01",
          "x": "airport_pickup_price_idr",
          "xref": "x",
          "y": "booking_earned_in_idr",
          "yref": "y"
         },
         {
          "font": {
           "color": "#FFFFFF"
          },
          "showarrow": false,
          "text": "0.0",
          "x": "booking_guest_number",
          "xref": "x",
          "y": "length_of_stay",
          "yref": "y"
         },
         {
          "font": {
           "color": "#FFFFFF"
          },
          "showarrow": false,
          "text": "0.38",
          "x": "booking_earned",
          "xref": "x",
          "y": "length_of_stay",
          "yref": "y"
         },
         {
          "font": {
           "color": "#FFFFFF"
          },
          "showarrow": false,
          "text": "0.03",
          "x": "booking_currency",
          "xref": "x",
          "y": "length_of_stay",
          "yref": "y"
         },
         {
          "font": {
           "color": "#FFFFFF"
          },
          "showarrow": false,
          "text": "0.02",
          "x": "review_sentiment_score",
          "xref": "x",
          "y": "length_of_stay",
          "yref": "y"
         },
         {
          "font": {
           "color": "#FFFFFF"
          },
          "showarrow": false,
          "text": "nan",
          "x": "cancellation_policy",
          "xref": "x",
          "y": "length_of_stay",
          "yref": "y"
         },
         {
          "font": {
           "color": "#FFFFFF"
          },
          "showarrow": false,
          "text": "0.45",
          "x": "booking_earned_in_idr",
          "xref": "x",
          "y": "length_of_stay",
          "yref": "y"
         },
         {
          "font": {
           "color": "#FFFFFF"
          },
          "showarrow": false,
          "text": "1.0",
          "x": "length_of_stay",
          "xref": "x",
          "y": "length_of_stay",
          "yref": "y"
         },
         {
          "font": {
           "color": "#FFFFFF"
          },
          "showarrow": false,
          "text": "0.13",
          "x": "booking_window",
          "xref": "x",
          "y": "length_of_stay",
          "yref": "y"
         },
         {
          "font": {
           "color": "#FFFFFF"
          },
          "showarrow": false,
          "text": "0.01",
          "x": "seasonality",
          "xref": "x",
          "y": "length_of_stay",
          "yref": "y"
         },
         {
          "font": {
           "color": "#FFFFFF"
          },
          "showarrow": false,
          "text": "0.02",
          "x": "average_daily_rate",
          "xref": "x",
          "y": "length_of_stay",
          "yref": "y"
         },
         {
          "font": {
           "color": "#FFFFFF"
          },
          "showarrow": false,
          "text": "0.02",
          "x": "status",
          "xref": "x",
          "y": "length_of_stay",
          "yref": "y"
         },
         {
          "font": {
           "color": "#FFFFFF"
          },
          "showarrow": false,
          "text": "0.03",
          "x": "bedroom",
          "xref": "x",
          "y": "length_of_stay",
          "yref": "y"
         },
         {
          "font": {
           "color": "#FFFFFF"
          },
          "showarrow": false,
          "text": "0.03",
          "x": "bathroom",
          "xref": "x",
          "y": "length_of_stay",
          "yref": "y"
         },
         {
          "font": {
           "color": "#FFFFFF"
          },
          "showarrow": false,
          "text": "0.02",
          "x": "beds",
          "xref": "x",
          "y": "length_of_stay",
          "yref": "y"
         },
         {
          "font": {
           "color": "#FFFFFF"
          },
          "showarrow": false,
          "text": "0.01",
          "x": "capacity",
          "xref": "x",
          "y": "length_of_stay",
          "yref": "y"
         },
         {
          "font": {
           "color": "#FFFFFF"
          },
          "showarrow": false,
          "text": "0.02",
          "x": "avg_daily_rate_per_unit",
          "xref": "x",
          "y": "length_of_stay",
          "yref": "y"
         },
         {
          "font": {
           "color": "#FFFFFF"
          },
          "showarrow": false,
          "text": "-0.01",
          "x": "wifi",
          "xref": "x",
          "y": "length_of_stay",
          "yref": "y"
         },
         {
          "font": {
           "color": "#FFFFFF"
          },
          "showarrow": false,
          "text": "0.03",
          "x": "tv",
          "xref": "x",
          "y": "length_of_stay",
          "yref": "y"
         },
         {
          "font": {
           "color": "#FFFFFF"
          },
          "showarrow": false,
          "text": "0.01",
          "x": "cable_tv",
          "xref": "x",
          "y": "length_of_stay",
          "yref": "y"
         },
         {
          "font": {
           "color": "#FFFFFF"
          },
          "showarrow": false,
          "text": "-0.0",
          "x": "ac",
          "xref": "x",
          "y": "length_of_stay",
          "yref": "y"
         },
         {
          "font": {
           "color": "#FFFFFF"
          },
          "showarrow": false,
          "text": "0.03",
          "x": "workspace",
          "xref": "x",
          "y": "length_of_stay",
          "yref": "y"
         },
         {
          "font": {
           "color": "#FFFFFF"
          },
          "showarrow": false,
          "text": "0.05",
          "x": "pool",
          "xref": "x",
          "y": "length_of_stay",
          "yref": "y"
         },
         {
          "font": {
           "color": "#FFFFFF"
          },
          "showarrow": false,
          "text": "0.0",
          "x": "parking",
          "xref": "x",
          "y": "length_of_stay",
          "yref": "y"
         },
         {
          "font": {
           "color": "#FFFFFF"
          },
          "showarrow": false,
          "text": "0.02",
          "x": "gym",
          "xref": "x",
          "y": "length_of_stay",
          "yref": "y"
         },
         {
          "font": {
           "color": "#FFFFFF"
          },
          "showarrow": false,
          "text": "0.11",
          "x": "kitchen",
          "xref": "x",
          "y": "length_of_stay",
          "yref": "y"
         },
         {
          "font": {
           "color": "#FFFFFF"
          },
          "showarrow": false,
          "text": "-0.02",
          "x": "airport_pickup_price_idr",
          "xref": "x",
          "y": "length_of_stay",
          "yref": "y"
         },
         {
          "font": {
           "color": "#FFFFFF"
          },
          "showarrow": false,
          "text": "0.2",
          "x": "booking_guest_number",
          "xref": "x",
          "y": "booking_window",
          "yref": "y"
         },
         {
          "font": {
           "color": "#FFFFFF"
          },
          "showarrow": false,
          "text": "0.21",
          "x": "booking_earned",
          "xref": "x",
          "y": "booking_window",
          "yref": "y"
         },
         {
          "font": {
           "color": "#FFFFFF"
          },
          "showarrow": false,
          "text": "0.11",
          "x": "booking_currency",
          "xref": "x",
          "y": "booking_window",
          "yref": "y"
         },
         {
          "font": {
           "color": "#FFFFFF"
          },
          "showarrow": false,
          "text": "-0.0",
          "x": "review_sentiment_score",
          "xref": "x",
          "y": "booking_window",
          "yref": "y"
         },
         {
          "font": {
           "color": "#FFFFFF"
          },
          "showarrow": false,
          "text": "nan",
          "x": "cancellation_policy",
          "xref": "x",
          "y": "booking_window",
          "yref": "y"
         },
         {
          "font": {
           "color": "#FFFFFF"
          },
          "showarrow": false,
          "text": "0.28",
          "x": "booking_earned_in_idr",
          "xref": "x",
          "y": "booking_window",
          "yref": "y"
         },
         {
          "font": {
           "color": "#FFFFFF"
          },
          "showarrow": false,
          "text": "0.13",
          "x": "length_of_stay",
          "xref": "x",
          "y": "booking_window",
          "yref": "y"
         },
         {
          "font": {
           "color": "#FFFFFF"
          },
          "showarrow": false,
          "text": "1.0",
          "x": "booking_window",
          "xref": "x",
          "y": "booking_window",
          "yref": "y"
         },
         {
          "font": {
           "color": "#FFFFFF"
          },
          "showarrow": false,
          "text": "-0.05",
          "x": "seasonality",
          "xref": "x",
          "y": "booking_window",
          "yref": "y"
         },
         {
          "font": {
           "color": "#FFFFFF"
          },
          "showarrow": false,
          "text": "0.23",
          "x": "average_daily_rate",
          "xref": "x",
          "y": "booking_window",
          "yref": "y"
         },
         {
          "font": {
           "color": "#FFFFFF"
          },
          "showarrow": false,
          "text": "-0.02",
          "x": "status",
          "xref": "x",
          "y": "booking_window",
          "yref": "y"
         },
         {
          "font": {
           "color": "#FFFFFF"
          },
          "showarrow": false,
          "text": "0.08",
          "x": "bedroom",
          "xref": "x",
          "y": "booking_window",
          "yref": "y"
         },
         {
          "font": {
           "color": "#FFFFFF"
          },
          "showarrow": false,
          "text": "0.06",
          "x": "bathroom",
          "xref": "x",
          "y": "booking_window",
          "yref": "y"
         },
         {
          "font": {
           "color": "#FFFFFF"
          },
          "showarrow": false,
          "text": "0.07",
          "x": "beds",
          "xref": "x",
          "y": "booking_window",
          "yref": "y"
         },
         {
          "font": {
           "color": "#FFFFFF"
          },
          "showarrow": false,
          "text": "0.09",
          "x": "capacity",
          "xref": "x",
          "y": "booking_window",
          "yref": "y"
         },
         {
          "font": {
           "color": "#FFFFFF"
          },
          "showarrow": false,
          "text": "0.2",
          "x": "avg_daily_rate_per_unit",
          "xref": "x",
          "y": "booking_window",
          "yref": "y"
         },
         {
          "font": {
           "color": "#FFFFFF"
          },
          "showarrow": false,
          "text": "0.03",
          "x": "wifi",
          "xref": "x",
          "y": "booking_window",
          "yref": "y"
         },
         {
          "font": {
           "color": "#FFFFFF"
          },
          "showarrow": false,
          "text": "0.1",
          "x": "tv",
          "xref": "x",
          "y": "booking_window",
          "yref": "y"
         },
         {
          "font": {
           "color": "#FFFFFF"
          },
          "showarrow": false,
          "text": "0.02",
          "x": "cable_tv",
          "xref": "x",
          "y": "booking_window",
          "yref": "y"
         },
         {
          "font": {
           "color": "#FFFFFF"
          },
          "showarrow": false,
          "text": "0.02",
          "x": "ac",
          "xref": "x",
          "y": "booking_window",
          "yref": "y"
         },
         {
          "font": {
           "color": "#FFFFFF"
          },
          "showarrow": false,
          "text": "0.02",
          "x": "workspace",
          "xref": "x",
          "y": "booking_window",
          "yref": "y"
         },
         {
          "font": {
           "color": "#FFFFFF"
          },
          "showarrow": false,
          "text": "0.09",
          "x": "pool",
          "xref": "x",
          "y": "booking_window",
          "yref": "y"
         },
         {
          "font": {
           "color": "#FFFFFF"
          },
          "showarrow": false,
          "text": "-0.02",
          "x": "parking",
          "xref": "x",
          "y": "booking_window",
          "yref": "y"
         },
         {
          "font": {
           "color": "#FFFFFF"
          },
          "showarrow": false,
          "text": "-0.02",
          "x": "gym",
          "xref": "x",
          "y": "booking_window",
          "yref": "y"
         },
         {
          "font": {
           "color": "#FFFFFF"
          },
          "showarrow": false,
          "text": "0.08",
          "x": "kitchen",
          "xref": "x",
          "y": "booking_window",
          "yref": "y"
         },
         {
          "font": {
           "color": "#FFFFFF"
          },
          "showarrow": false,
          "text": "-0.01",
          "x": "airport_pickup_price_idr",
          "xref": "x",
          "y": "booking_window",
          "yref": "y"
         },
         {
          "font": {
           "color": "#FFFFFF"
          },
          "showarrow": false,
          "text": "0.04",
          "x": "booking_guest_number",
          "xref": "x",
          "y": "seasonality",
          "yref": "y"
         },
         {
          "font": {
           "color": "#FFFFFF"
          },
          "showarrow": false,
          "text": "-0.03",
          "x": "booking_earned",
          "xref": "x",
          "y": "seasonality",
          "yref": "y"
         },
         {
          "font": {
           "color": "#FFFFFF"
          },
          "showarrow": false,
          "text": "0.06",
          "x": "booking_currency",
          "xref": "x",
          "y": "seasonality",
          "yref": "y"
         },
         {
          "font": {
           "color": "#FFFFFF"
          },
          "showarrow": false,
          "text": "0.02",
          "x": "review_sentiment_score",
          "xref": "x",
          "y": "seasonality",
          "yref": "y"
         },
         {
          "font": {
           "color": "#FFFFFF"
          },
          "showarrow": false,
          "text": "nan",
          "x": "cancellation_policy",
          "xref": "x",
          "y": "seasonality",
          "yref": "y"
         },
         {
          "font": {
           "color": "#FFFFFF"
          },
          "showarrow": false,
          "text": "-0.0",
          "x": "booking_earned_in_idr",
          "xref": "x",
          "y": "seasonality",
          "yref": "y"
         },
         {
          "font": {
           "color": "#FFFFFF"
          },
          "showarrow": false,
          "text": "0.01",
          "x": "length_of_stay",
          "xref": "x",
          "y": "seasonality",
          "yref": "y"
         },
         {
          "font": {
           "color": "#FFFFFF"
          },
          "showarrow": false,
          "text": "-0.05",
          "x": "booking_window",
          "xref": "x",
          "y": "seasonality",
          "yref": "y"
         },
         {
          "font": {
           "color": "#FFFFFF"
          },
          "showarrow": false,
          "text": "1.0",
          "x": "seasonality",
          "xref": "x",
          "y": "seasonality",
          "yref": "y"
         },
         {
          "font": {
           "color": "#FFFFFF"
          },
          "showarrow": false,
          "text": "-0.01",
          "x": "average_daily_rate",
          "xref": "x",
          "y": "seasonality",
          "yref": "y"
         },
         {
          "font": {
           "color": "#FFFFFF"
          },
          "showarrow": false,
          "text": "0.03",
          "x": "status",
          "xref": "x",
          "y": "seasonality",
          "yref": "y"
         },
         {
          "font": {
           "color": "#FFFFFF"
          },
          "showarrow": false,
          "text": "0.02",
          "x": "bedroom",
          "xref": "x",
          "y": "seasonality",
          "yref": "y"
         },
         {
          "font": {
           "color": "#FFFFFF"
          },
          "showarrow": false,
          "text": "-0.01",
          "x": "bathroom",
          "xref": "x",
          "y": "seasonality",
          "yref": "y"
         },
         {
          "font": {
           "color": "#FFFFFF"
          },
          "showarrow": false,
          "text": "-0.0",
          "x": "beds",
          "xref": "x",
          "y": "seasonality",
          "yref": "y"
         },
         {
          "font": {
           "color": "#FFFFFF"
          },
          "showarrow": false,
          "text": "0.02",
          "x": "capacity",
          "xref": "x",
          "y": "seasonality",
          "yref": "y"
         },
         {
          "font": {
           "color": "#FFFFFF"
          },
          "showarrow": false,
          "text": "0.05",
          "x": "avg_daily_rate_per_unit",
          "xref": "x",
          "y": "seasonality",
          "yref": "y"
         },
         {
          "font": {
           "color": "#FFFFFF"
          },
          "showarrow": false,
          "text": "-0.0",
          "x": "wifi",
          "xref": "x",
          "y": "seasonality",
          "yref": "y"
         },
         {
          "font": {
           "color": "#FFFFFF"
          },
          "showarrow": false,
          "text": "0.03",
          "x": "tv",
          "xref": "x",
          "y": "seasonality",
          "yref": "y"
         },
         {
          "font": {
           "color": "#FFFFFF"
          },
          "showarrow": false,
          "text": "0.04",
          "x": "cable_tv",
          "xref": "x",
          "y": "seasonality",
          "yref": "y"
         },
         {
          "font": {
           "color": "#FFFFFF"
          },
          "showarrow": false,
          "text": "0.04",
          "x": "ac",
          "xref": "x",
          "y": "seasonality",
          "yref": "y"
         },
         {
          "font": {
           "color": "#FFFFFF"
          },
          "showarrow": false,
          "text": "0.05",
          "x": "workspace",
          "xref": "x",
          "y": "seasonality",
          "yref": "y"
         },
         {
          "font": {
           "color": "#FFFFFF"
          },
          "showarrow": false,
          "text": "0.04",
          "x": "pool",
          "xref": "x",
          "y": "seasonality",
          "yref": "y"
         },
         {
          "font": {
           "color": "#FFFFFF"
          },
          "showarrow": false,
          "text": "0.03",
          "x": "parking",
          "xref": "x",
          "y": "seasonality",
          "yref": "y"
         },
         {
          "font": {
           "color": "#FFFFFF"
          },
          "showarrow": false,
          "text": "-0.01",
          "x": "gym",
          "xref": "x",
          "y": "seasonality",
          "yref": "y"
         },
         {
          "font": {
           "color": "#FFFFFF"
          },
          "showarrow": false,
          "text": "0.01",
          "x": "kitchen",
          "xref": "x",
          "y": "seasonality",
          "yref": "y"
         },
         {
          "font": {
           "color": "#FFFFFF"
          },
          "showarrow": false,
          "text": "-0.0",
          "x": "airport_pickup_price_idr",
          "xref": "x",
          "y": "seasonality",
          "yref": "y"
         },
         {
          "font": {
           "color": "#FFFFFF"
          },
          "showarrow": false,
          "text": "0.4",
          "x": "booking_guest_number",
          "xref": "x",
          "y": "average_daily_rate",
          "yref": "y"
         },
         {
          "font": {
           "color": "#FFFFFF"
          },
          "showarrow": false,
          "text": "0.33",
          "x": "booking_earned",
          "xref": "x",
          "y": "average_daily_rate",
          "yref": "y"
         },
         {
          "font": {
           "color": "#FFFFFF"
          },
          "showarrow": false,
          "text": "0.33",
          "x": "booking_currency",
          "xref": "x",
          "y": "average_daily_rate",
          "yref": "y"
         },
         {
          "font": {
           "color": "#FFFFFF"
          },
          "showarrow": false,
          "text": "0.01",
          "x": "review_sentiment_score",
          "xref": "x",
          "y": "average_daily_rate",
          "yref": "y"
         },
         {
          "font": {
           "color": "#FFFFFF"
          },
          "showarrow": false,
          "text": "nan",
          "x": "cancellation_policy",
          "xref": "x",
          "y": "average_daily_rate",
          "yref": "y"
         },
         {
          "font": {
           "color": "#FFFFFF"
          },
          "showarrow": false,
          "text": "0.7",
          "x": "booking_earned_in_idr",
          "xref": "x",
          "y": "average_daily_rate",
          "yref": "y"
         },
         {
          "font": {
           "color": "#FFFFFF"
          },
          "showarrow": false,
          "text": "0.02",
          "x": "length_of_stay",
          "xref": "x",
          "y": "average_daily_rate",
          "yref": "y"
         },
         {
          "font": {
           "color": "#FFFFFF"
          },
          "showarrow": false,
          "text": "0.23",
          "x": "booking_window",
          "xref": "x",
          "y": "average_daily_rate",
          "yref": "y"
         },
         {
          "font": {
           "color": "#FFFFFF"
          },
          "showarrow": false,
          "text": "-0.01",
          "x": "seasonality",
          "xref": "x",
          "y": "average_daily_rate",
          "yref": "y"
         },
         {
          "font": {
           "color": "#FFFFFF"
          },
          "showarrow": false,
          "text": "1.0",
          "x": "average_daily_rate",
          "xref": "x",
          "y": "average_daily_rate",
          "yref": "y"
         },
         {
          "font": {
           "color": "#FFFFFF"
          },
          "showarrow": false,
          "text": "0.04",
          "x": "status",
          "xref": "x",
          "y": "average_daily_rate",
          "yref": "y"
         },
         {
          "font": {
           "color": "#FFFFFF"
          },
          "showarrow": false,
          "text": "0.29",
          "x": "bedroom",
          "xref": "x",
          "y": "average_daily_rate",
          "yref": "y"
         },
         {
          "font": {
           "color": "#FFFFFF"
          },
          "showarrow": false,
          "text": "0.33",
          "x": "bathroom",
          "xref": "x",
          "y": "average_daily_rate",
          "yref": "y"
         },
         {
          "font": {
           "color": "#FFFFFF"
          },
          "showarrow": false,
          "text": "0.32",
          "x": "beds",
          "xref": "x",
          "y": "average_daily_rate",
          "yref": "y"
         },
         {
          "font": {
           "color": "#FFFFFF"
          },
          "showarrow": false,
          "text": "0.57",
          "x": "capacity",
          "xref": "x",
          "y": "average_daily_rate",
          "yref": "y"
         },
         {
          "font": {
           "color": "#FFFFFF"
          },
          "showarrow": false,
          "text": "0.81",
          "x": "avg_daily_rate_per_unit",
          "xref": "x",
          "y": "average_daily_rate",
          "yref": "y"
         },
         {
          "font": {
           "color": "#FFFFFF"
          },
          "showarrow": false,
          "text": "0.01",
          "x": "wifi",
          "xref": "x",
          "y": "average_daily_rate",
          "yref": "y"
         },
         {
          "font": {
           "color": "#FFFFFF"
          },
          "showarrow": false,
          "text": "0.03",
          "x": "tv",
          "xref": "x",
          "y": "average_daily_rate",
          "yref": "y"
         },
         {
          "font": {
           "color": "#FFFFFF"
          },
          "showarrow": false,
          "text": "0.09",
          "x": "cable_tv",
          "xref": "x",
          "y": "average_daily_rate",
          "yref": "y"
         },
         {
          "font": {
           "color": "#FFFFFF"
          },
          "showarrow": false,
          "text": "0.03",
          "x": "ac",
          "xref": "x",
          "y": "average_daily_rate",
          "yref": "y"
         },
         {
          "font": {
           "color": "#FFFFFF"
          },
          "showarrow": false,
          "text": "0.06",
          "x": "workspace",
          "xref": "x",
          "y": "average_daily_rate",
          "yref": "y"
         },
         {
          "font": {
           "color": "#FFFFFF"
          },
          "showarrow": false,
          "text": "0.12",
          "x": "pool",
          "xref": "x",
          "y": "average_daily_rate",
          "yref": "y"
         },
         {
          "font": {
           "color": "#FFFFFF"
          },
          "showarrow": false,
          "text": "-0.04",
          "x": "parking",
          "xref": "x",
          "y": "average_daily_rate",
          "yref": "y"
         },
         {
          "font": {
           "color": "#FFFFFF"
          },
          "showarrow": false,
          "text": "-0.02",
          "x": "gym",
          "xref": "x",
          "y": "average_daily_rate",
          "yref": "y"
         },
         {
          "font": {
           "color": "#FFFFFF"
          },
          "showarrow": false,
          "text": "0.2",
          "x": "kitchen",
          "xref": "x",
          "y": "average_daily_rate",
          "yref": "y"
         },
         {
          "font": {
           "color": "#FFFFFF"
          },
          "showarrow": false,
          "text": "0.03",
          "x": "airport_pickup_price_idr",
          "xref": "x",
          "y": "average_daily_rate",
          "yref": "y"
         },
         {
          "font": {
           "color": "#FFFFFF"
          },
          "showarrow": false,
          "text": "0.05",
          "x": "booking_guest_number",
          "xref": "x",
          "y": "status",
          "yref": "y"
         },
         {
          "font": {
           "color": "#FFFFFF"
          },
          "showarrow": false,
          "text": "0.05",
          "x": "booking_earned",
          "xref": "x",
          "y": "status",
          "yref": "y"
         },
         {
          "font": {
           "color": "#FFFFFF"
          },
          "showarrow": false,
          "text": "0.04",
          "x": "booking_currency",
          "xref": "x",
          "y": "status",
          "yref": "y"
         },
         {
          "font": {
           "color": "#FFFFFF"
          },
          "showarrow": false,
          "text": "-0.02",
          "x": "review_sentiment_score",
          "xref": "x",
          "y": "status",
          "yref": "y"
         },
         {
          "font": {
           "color": "#FFFFFF"
          },
          "showarrow": false,
          "text": "nan",
          "x": "cancellation_policy",
          "xref": "x",
          "y": "status",
          "yref": "y"
         },
         {
          "font": {
           "color": "#FFFFFF"
          },
          "showarrow": false,
          "text": "0.04",
          "x": "booking_earned_in_idr",
          "xref": "x",
          "y": "status",
          "yref": "y"
         },
         {
          "font": {
           "color": "#FFFFFF"
          },
          "showarrow": false,
          "text": "0.02",
          "x": "length_of_stay",
          "xref": "x",
          "y": "status",
          "yref": "y"
         },
         {
          "font": {
           "color": "#FFFFFF"
          },
          "showarrow": false,
          "text": "-0.02",
          "x": "booking_window",
          "xref": "x",
          "y": "status",
          "yref": "y"
         },
         {
          "font": {
           "color": "#FFFFFF"
          },
          "showarrow": false,
          "text": "0.03",
          "x": "seasonality",
          "xref": "x",
          "y": "status",
          "yref": "y"
         },
         {
          "font": {
           "color": "#FFFFFF"
          },
          "showarrow": false,
          "text": "0.04",
          "x": "average_daily_rate",
          "xref": "x",
          "y": "status",
          "yref": "y"
         },
         {
          "font": {
           "color": "#FFFFFF"
          },
          "showarrow": false,
          "text": "1.0",
          "x": "status",
          "xref": "x",
          "y": "status",
          "yref": "y"
         },
         {
          "font": {
           "color": "#FFFFFF"
          },
          "showarrow": false,
          "text": "0.12",
          "x": "bedroom",
          "xref": "x",
          "y": "status",
          "yref": "y"
         },
         {
          "font": {
           "color": "#FFFFFF"
          },
          "showarrow": false,
          "text": "-0.13",
          "x": "bathroom",
          "xref": "x",
          "y": "status",
          "yref": "y"
         },
         {
          "font": {
           "color": "#FFFFFF"
          },
          "showarrow": false,
          "text": "-0.11",
          "x": "beds",
          "xref": "x",
          "y": "status",
          "yref": "y"
         },
         {
          "font": {
           "color": "#FFFFFF"
          },
          "showarrow": false,
          "text": "-0.0",
          "x": "capacity",
          "xref": "x",
          "y": "status",
          "yref": "y"
         },
         {
          "font": {
           "color": "#FFFFFF"
          },
          "showarrow": false,
          "text": "0.05",
          "x": "avg_daily_rate_per_unit",
          "xref": "x",
          "y": "status",
          "yref": "y"
         },
         {
          "font": {
           "color": "#FFFFFF"
          },
          "showarrow": false,
          "text": "-0.08",
          "x": "wifi",
          "xref": "x",
          "y": "status",
          "yref": "y"
         },
         {
          "font": {
           "color": "#FFFFFF"
          },
          "showarrow": false,
          "text": "-0.11",
          "x": "tv",
          "xref": "x",
          "y": "status",
          "yref": "y"
         },
         {
          "font": {
           "color": "#FFFFFF"
          },
          "showarrow": false,
          "text": "-0.04",
          "x": "cable_tv",
          "xref": "x",
          "y": "status",
          "yref": "y"
         },
         {
          "font": {
           "color": "#FFFFFF"
          },
          "showarrow": false,
          "text": "0.12",
          "x": "ac",
          "xref": "x",
          "y": "status",
          "yref": "y"
         },
         {
          "font": {
           "color": "#FFFFFF"
          },
          "showarrow": false,
          "text": "0.03",
          "x": "workspace",
          "xref": "x",
          "y": "status",
          "yref": "y"
         },
         {
          "font": {
           "color": "#FFFFFF"
          },
          "showarrow": false,
          "text": "0.15",
          "x": "pool",
          "xref": "x",
          "y": "status",
          "yref": "y"
         },
         {
          "font": {
           "color": "#FFFFFF"
          },
          "showarrow": false,
          "text": "0.19",
          "x": "parking",
          "xref": "x",
          "y": "status",
          "yref": "y"
         },
         {
          "font": {
           "color": "#FFFFFF"
          },
          "showarrow": false,
          "text": "-0.0",
          "x": "gym",
          "xref": "x",
          "y": "status",
          "yref": "y"
         },
         {
          "font": {
           "color": "#FFFFFF"
          },
          "showarrow": false,
          "text": "0.01",
          "x": "kitchen",
          "xref": "x",
          "y": "status",
          "yref": "y"
         },
         {
          "font": {
           "color": "#FFFFFF"
          },
          "showarrow": false,
          "text": "0.03",
          "x": "airport_pickup_price_idr",
          "xref": "x",
          "y": "status",
          "yref": "y"
         },
         {
          "font": {
           "color": "#FFFFFF"
          },
          "showarrow": false,
          "text": "0.22",
          "x": "booking_guest_number",
          "xref": "x",
          "y": "bedroom",
          "yref": "y"
         },
         {
          "font": {
           "color": "#FFFFFF"
          },
          "showarrow": false,
          "text": "0.04",
          "x": "booking_earned",
          "xref": "x",
          "y": "bedroom",
          "yref": "y"
         },
         {
          "font": {
           "color": "#FFFFFF"
          },
          "showarrow": false,
          "text": "0.17",
          "x": "booking_currency",
          "xref": "x",
          "y": "bedroom",
          "yref": "y"
         },
         {
          "font": {
           "color": "#FFFFFF"
          },
          "showarrow": false,
          "text": "-0.05",
          "x": "review_sentiment_score",
          "xref": "x",
          "y": "bedroom",
          "yref": "y"
         },
         {
          "font": {
           "color": "#FFFFFF"
          },
          "showarrow": false,
          "text": "nan",
          "x": "cancellation_policy",
          "xref": "x",
          "y": "bedroom",
          "yref": "y"
         },
         {
          "font": {
           "color": "#FFFFFF"
          },
          "showarrow": false,
          "text": "0.22",
          "x": "booking_earned_in_idr",
          "xref": "x",
          "y": "bedroom",
          "yref": "y"
         },
         {
          "font": {
           "color": "#FFFFFF"
          },
          "showarrow": false,
          "text": "0.03",
          "x": "length_of_stay",
          "xref": "x",
          "y": "bedroom",
          "yref": "y"
         },
         {
          "font": {
           "color": "#FFFFFF"
          },
          "showarrow": false,
          "text": "0.08",
          "x": "booking_window",
          "xref": "x",
          "y": "bedroom",
          "yref": "y"
         },
         {
          "font": {
           "color": "#FFFFFF"
          },
          "showarrow": false,
          "text": "0.02",
          "x": "seasonality",
          "xref": "x",
          "y": "bedroom",
          "yref": "y"
         },
         {
          "font": {
           "color": "#FFFFFF"
          },
          "showarrow": false,
          "text": "0.29",
          "x": "average_daily_rate",
          "xref": "x",
          "y": "bedroom",
          "yref": "y"
         },
         {
          "font": {
           "color": "#FFFFFF"
          },
          "showarrow": false,
          "text": "0.12",
          "x": "status",
          "xref": "x",
          "y": "bedroom",
          "yref": "y"
         },
         {
          "font": {
           "color": "#FFFFFF"
          },
          "showarrow": false,
          "text": "1.0",
          "x": "bedroom",
          "xref": "x",
          "y": "bedroom",
          "yref": "y"
         },
         {
          "font": {
           "color": "#FFFFFF"
          },
          "showarrow": false,
          "text": "0.82",
          "x": "bathroom",
          "xref": "x",
          "y": "bedroom",
          "yref": "y"
         },
         {
          "font": {
           "color": "#FFFFFF"
          },
          "showarrow": false,
          "text": "0.88",
          "x": "beds",
          "xref": "x",
          "y": "bedroom",
          "yref": "y"
         },
         {
          "font": {
           "color": "#FFFFFF"
          },
          "showarrow": false,
          "text": "0.73",
          "x": "capacity",
          "xref": "x",
          "y": "bedroom",
          "yref": "y"
         },
         {
          "font": {
           "color": "#FFFFFF"
          },
          "showarrow": false,
          "text": "0.37",
          "x": "avg_daily_rate_per_unit",
          "xref": "x",
          "y": "bedroom",
          "yref": "y"
         },
         {
          "font": {
           "color": "#FFFFFF"
          },
          "showarrow": false,
          "text": "-0.08",
          "x": "wifi",
          "xref": "x",
          "y": "bedroom",
          "yref": "y"
         },
         {
          "font": {
           "color": "#FFFFFF"
          },
          "showarrow": false,
          "text": "0.14",
          "x": "tv",
          "xref": "x",
          "y": "bedroom",
          "yref": "y"
         },
         {
          "font": {
           "color": "#FFFFFF"
          },
          "showarrow": false,
          "text": "0.11",
          "x": "cable_tv",
          "xref": "x",
          "y": "bedroom",
          "yref": "y"
         },
         {
          "font": {
           "color": "#FFFFFF"
          },
          "showarrow": false,
          "text": "0.03",
          "x": "ac",
          "xref": "x",
          "y": "bedroom",
          "yref": "y"
         },
         {
          "font": {
           "color": "#FFFFFF"
          },
          "showarrow": false,
          "text": "0.06",
          "x": "workspace",
          "xref": "x",
          "y": "bedroom",
          "yref": "y"
         },
         {
          "font": {
           "color": "#FFFFFF"
          },
          "showarrow": false,
          "text": "0.02",
          "x": "pool",
          "xref": "x",
          "y": "bedroom",
          "yref": "y"
         },
         {
          "font": {
           "color": "#FFFFFF"
          },
          "showarrow": false,
          "text": "-0.03",
          "x": "parking",
          "xref": "x",
          "y": "bedroom",
          "yref": "y"
         },
         {
          "font": {
           "color": "#FFFFFF"
          },
          "showarrow": false,
          "text": "-0.01",
          "x": "gym",
          "xref": "x",
          "y": "bedroom",
          "yref": "y"
         },
         {
          "font": {
           "color": "#FFFFFF"
          },
          "showarrow": false,
          "text": "0.31",
          "x": "kitchen",
          "xref": "x",
          "y": "bedroom",
          "yref": "y"
         },
         {
          "font": {
           "color": "#FFFFFF"
          },
          "showarrow": false,
          "text": "0.04",
          "x": "airport_pickup_price_idr",
          "xref": "x",
          "y": "bedroom",
          "yref": "y"
         },
         {
          "font": {
           "color": "#FFFFFF"
          },
          "showarrow": false,
          "text": "0.31",
          "x": "booking_guest_number",
          "xref": "x",
          "y": "bathroom",
          "yref": "y"
         },
         {
          "font": {
           "color": "#FFFFFF"
          },
          "showarrow": false,
          "text": "0.11",
          "x": "booking_earned",
          "xref": "x",
          "y": "bathroom",
          "yref": "y"
         },
         {
          "font": {
           "color": "#FFFFFF"
          },
          "showarrow": false,
          "text": "0.06",
          "x": "booking_currency",
          "xref": "x",
          "y": "bathroom",
          "yref": "y"
         },
         {
          "font": {
           "color": "#FFFFFF"
          },
          "showarrow": false,
          "text": "-0.02",
          "x": "review_sentiment_score",
          "xref": "x",
          "y": "bathroom",
          "yref": "y"
         },
         {
          "font": {
           "color": "#FFFFFF"
          },
          "showarrow": false,
          "text": "nan",
          "x": "cancellation_policy",
          "xref": "x",
          "y": "bathroom",
          "yref": "y"
         },
         {
          "font": {
           "color": "#FFFFFF"
          },
          "showarrow": false,
          "text": "0.25",
          "x": "booking_earned_in_idr",
          "xref": "x",
          "y": "bathroom",
          "yref": "y"
         },
         {
          "font": {
           "color": "#FFFFFF"
          },
          "showarrow": false,
          "text": "0.03",
          "x": "length_of_stay",
          "xref": "x",
          "y": "bathroom",
          "yref": "y"
         },
         {
          "font": {
           "color": "#FFFFFF"
          },
          "showarrow": false,
          "text": "0.06",
          "x": "booking_window",
          "xref": "x",
          "y": "bathroom",
          "yref": "y"
         },
         {
          "font": {
           "color": "#FFFFFF"
          },
          "showarrow": false,
          "text": "-0.01",
          "x": "seasonality",
          "xref": "x",
          "y": "bathroom",
          "yref": "y"
         },
         {
          "font": {
           "color": "#FFFFFF"
          },
          "showarrow": false,
          "text": "0.33",
          "x": "average_daily_rate",
          "xref": "x",
          "y": "bathroom",
          "yref": "y"
         },
         {
          "font": {
           "color": "#FFFFFF"
          },
          "showarrow": false,
          "text": "-0.13",
          "x": "status",
          "xref": "x",
          "y": "bathroom",
          "yref": "y"
         },
         {
          "font": {
           "color": "#FFFFFF"
          },
          "showarrow": false,
          "text": "0.82",
          "x": "bedroom",
          "xref": "x",
          "y": "bathroom",
          "yref": "y"
         },
         {
          "font": {
           "color": "#FFFFFF"
          },
          "showarrow": false,
          "text": "1.0",
          "x": "bathroom",
          "xref": "x",
          "y": "bathroom",
          "yref": "y"
         },
         {
          "font": {
           "color": "#FFFFFF"
          },
          "showarrow": false,
          "text": "0.93",
          "x": "beds",
          "xref": "x",
          "y": "bathroom",
          "yref": "y"
         },
         {
          "font": {
           "color": "#FFFFFF"
          },
          "showarrow": false,
          "text": "0.68",
          "x": "capacity",
          "xref": "x",
          "y": "bathroom",
          "yref": "y"
         },
         {
          "font": {
           "color": "#FFFFFF"
          },
          "showarrow": false,
          "text": "0.42",
          "x": "avg_daily_rate_per_unit",
          "xref": "x",
          "y": "bathroom",
          "yref": "y"
         },
         {
          "font": {
           "color": "#FFFFFF"
          },
          "showarrow": false,
          "text": "-0.03",
          "x": "wifi",
          "xref": "x",
          "y": "bathroom",
          "yref": "y"
         },
         {
          "font": {
           "color": "#FFFFFF"
          },
          "showarrow": false,
          "text": "0.14",
          "x": "tv",
          "xref": "x",
          "y": "bathroom",
          "yref": "y"
         },
         {
          "font": {
           "color": "#FFFFFF"
          },
          "showarrow": false,
          "text": "0.12",
          "x": "cable_tv",
          "xref": "x",
          "y": "bathroom",
          "yref": "y"
         },
         {
          "font": {
           "color": "#FFFFFF"
          },
          "showarrow": false,
          "text": "-0.1",
          "x": "ac",
          "xref": "x",
          "y": "bathroom",
          "yref": "y"
         },
         {
          "font": {
           "color": "#FFFFFF"
          },
          "showarrow": false,
          "text": "0.04",
          "x": "workspace",
          "xref": "x",
          "y": "bathroom",
          "yref": "y"
         },
         {
          "font": {
           "color": "#FFFFFF"
          },
          "showarrow": false,
          "text": "0.05",
          "x": "pool",
          "xref": "x",
          "y": "bathroom",
          "yref": "y"
         },
         {
          "font": {
           "color": "#FFFFFF"
          },
          "showarrow": false,
          "text": "-0.02",
          "x": "parking",
          "xref": "x",
          "y": "bathroom",
          "yref": "y"
         },
         {
          "font": {
           "color": "#FFFFFF"
          },
          "showarrow": false,
          "text": "-0.05",
          "x": "gym",
          "xref": "x",
          "y": "bathroom",
          "yref": "y"
         },
         {
          "font": {
           "color": "#FFFFFF"
          },
          "showarrow": false,
          "text": "0.27",
          "x": "kitchen",
          "xref": "x",
          "y": "bathroom",
          "yref": "y"
         },
         {
          "font": {
           "color": "#FFFFFF"
          },
          "showarrow": false,
          "text": "-0.03",
          "x": "airport_pickup_price_idr",
          "xref": "x",
          "y": "bathroom",
          "yref": "y"
         },
         {
          "font": {
           "color": "#FFFFFF"
          },
          "showarrow": false,
          "text": "0.33",
          "x": "booking_guest_number",
          "xref": "x",
          "y": "beds",
          "yref": "y"
         },
         {
          "font": {
           "color": "#FFFFFF"
          },
          "showarrow": false,
          "text": "0.1",
          "x": "booking_earned",
          "xref": "x",
          "y": "beds",
          "yref": "y"
         },
         {
          "font": {
           "color": "#FFFFFF"
          },
          "showarrow": false,
          "text": "0.05",
          "x": "booking_currency",
          "xref": "x",
          "y": "beds",
          "yref": "y"
         },
         {
          "font": {
           "color": "#FFFFFF"
          },
          "showarrow": false,
          "text": "-0.02",
          "x": "review_sentiment_score",
          "xref": "x",
          "y": "beds",
          "yref": "y"
         },
         {
          "font": {
           "color": "#FFFFFF"
          },
          "showarrow": false,
          "text": "nan",
          "x": "cancellation_policy",
          "xref": "x",
          "y": "beds",
          "yref": "y"
         },
         {
          "font": {
           "color": "#FFFFFF"
          },
          "showarrow": false,
          "text": "0.24",
          "x": "booking_earned_in_idr",
          "xref": "x",
          "y": "beds",
          "yref": "y"
         },
         {
          "font": {
           "color": "#FFFFFF"
          },
          "showarrow": false,
          "text": "0.02",
          "x": "length_of_stay",
          "xref": "x",
          "y": "beds",
          "yref": "y"
         },
         {
          "font": {
           "color": "#FFFFFF"
          },
          "showarrow": false,
          "text": "0.07",
          "x": "booking_window",
          "xref": "x",
          "y": "beds",
          "yref": "y"
         },
         {
          "font": {
           "color": "#FFFFFF"
          },
          "showarrow": false,
          "text": "-0.0",
          "x": "seasonality",
          "xref": "x",
          "y": "beds",
          "yref": "y"
         },
         {
          "font": {
           "color": "#FFFFFF"
          },
          "showarrow": false,
          "text": "0.32",
          "x": "average_daily_rate",
          "xref": "x",
          "y": "beds",
          "yref": "y"
         },
         {
          "font": {
           "color": "#FFFFFF"
          },
          "showarrow": false,
          "text": "-0.11",
          "x": "status",
          "xref": "x",
          "y": "beds",
          "yref": "y"
         },
         {
          "font": {
           "color": "#FFFFFF"
          },
          "showarrow": false,
          "text": "0.88",
          "x": "bedroom",
          "xref": "x",
          "y": "beds",
          "yref": "y"
         },
         {
          "font": {
           "color": "#FFFFFF"
          },
          "showarrow": false,
          "text": "0.93",
          "x": "bathroom",
          "xref": "x",
          "y": "beds",
          "yref": "y"
         },
         {
          "font": {
           "color": "#FFFFFF"
          },
          "showarrow": false,
          "text": "1.0",
          "x": "beds",
          "xref": "x",
          "y": "beds",
          "yref": "y"
         },
         {
          "font": {
           "color": "#FFFFFF"
          },
          "showarrow": false,
          "text": "0.73",
          "x": "capacity",
          "xref": "x",
          "y": "beds",
          "yref": "y"
         },
         {
          "font": {
           "color": "#FFFFFF"
          },
          "showarrow": false,
          "text": "0.41",
          "x": "avg_daily_rate_per_unit",
          "xref": "x",
          "y": "beds",
          "yref": "y"
         },
         {
          "font": {
           "color": "#FFFFFF"
          },
          "showarrow": false,
          "text": "-0.09",
          "x": "wifi",
          "xref": "x",
          "y": "beds",
          "yref": "y"
         },
         {
          "font": {
           "color": "#FFFFFF"
          },
          "showarrow": false,
          "text": "0.11",
          "x": "tv",
          "xref": "x",
          "y": "beds",
          "yref": "y"
         },
         {
          "font": {
           "color": "#FFFFFF"
          },
          "showarrow": false,
          "text": "0.07",
          "x": "cable_tv",
          "xref": "x",
          "y": "beds",
          "yref": "y"
         },
         {
          "font": {
           "color": "#FFFFFF"
          },
          "showarrow": false,
          "text": "0.03",
          "x": "ac",
          "xref": "x",
          "y": "beds",
          "yref": "y"
         },
         {
          "font": {
           "color": "#FFFFFF"
          },
          "showarrow": false,
          "text": "0.05",
          "x": "workspace",
          "xref": "x",
          "y": "beds",
          "yref": "y"
         },
         {
          "font": {
           "color": "#FFFFFF"
          },
          "showarrow": false,
          "text": "0.02",
          "x": "pool",
          "xref": "x",
          "y": "beds",
          "yref": "y"
         },
         {
          "font": {
           "color": "#FFFFFF"
          },
          "showarrow": false,
          "text": "-0.03",
          "x": "parking",
          "xref": "x",
          "y": "beds",
          "yref": "y"
         },
         {
          "font": {
           "color": "#FFFFFF"
          },
          "showarrow": false,
          "text": "-0.05",
          "x": "gym",
          "xref": "x",
          "y": "beds",
          "yref": "y"
         },
         {
          "font": {
           "color": "#FFFFFF"
          },
          "showarrow": false,
          "text": "0.29",
          "x": "kitchen",
          "xref": "x",
          "y": "beds",
          "yref": "y"
         },
         {
          "font": {
           "color": "#FFFFFF"
          },
          "showarrow": false,
          "text": "-0.05",
          "x": "airport_pickup_price_idr",
          "xref": "x",
          "y": "beds",
          "yref": "y"
         },
         {
          "font": {
           "color": "#FFFFFF"
          },
          "showarrow": false,
          "text": "0.22",
          "x": "booking_guest_number",
          "xref": "x",
          "y": "capacity",
          "yref": "y"
         },
         {
          "font": {
           "color": "#FFFFFF"
          },
          "showarrow": false,
          "text": "0.09",
          "x": "booking_earned",
          "xref": "x",
          "y": "capacity",
          "yref": "y"
         },
         {
          "font": {
           "color": "#FFFFFF"
          },
          "showarrow": false,
          "text": "0.27",
          "x": "booking_currency",
          "xref": "x",
          "y": "capacity",
          "yref": "y"
         },
         {
          "font": {
           "color": "#FFFFFF"
          },
          "showarrow": false,
          "text": "0.01",
          "x": "review_sentiment_score",
          "xref": "x",
          "y": "capacity",
          "yref": "y"
         },
         {
          "font": {
           "color": "#FFFFFF"
          },
          "showarrow": false,
          "text": "nan",
          "x": "cancellation_policy",
          "xref": "x",
          "y": "capacity",
          "yref": "y"
         },
         {
          "font": {
           "color": "#FFFFFF"
          },
          "showarrow": false,
          "text": "0.37",
          "x": "booking_earned_in_idr",
          "xref": "x",
          "y": "capacity",
          "yref": "y"
         },
         {
          "font": {
           "color": "#FFFFFF"
          },
          "showarrow": false,
          "text": "0.01",
          "x": "length_of_stay",
          "xref": "x",
          "y": "capacity",
          "yref": "y"
         },
         {
          "font": {
           "color": "#FFFFFF"
          },
          "showarrow": false,
          "text": "0.09",
          "x": "booking_window",
          "xref": "x",
          "y": "capacity",
          "yref": "y"
         },
         {
          "font": {
           "color": "#FFFFFF"
          },
          "showarrow": false,
          "text": "0.02",
          "x": "seasonality",
          "xref": "x",
          "y": "capacity",
          "yref": "y"
         },
         {
          "font": {
           "color": "#FFFFFF"
          },
          "showarrow": false,
          "text": "0.57",
          "x": "average_daily_rate",
          "xref": "x",
          "y": "capacity",
          "yref": "y"
         },
         {
          "font": {
           "color": "#FFFFFF"
          },
          "showarrow": false,
          "text": "-0.0",
          "x": "status",
          "xref": "x",
          "y": "capacity",
          "yref": "y"
         },
         {
          "font": {
           "color": "#FFFFFF"
          },
          "showarrow": false,
          "text": "0.73",
          "x": "bedroom",
          "xref": "x",
          "y": "capacity",
          "yref": "y"
         },
         {
          "font": {
           "color": "#FFFFFF"
          },
          "showarrow": false,
          "text": "0.68",
          "x": "bathroom",
          "xref": "x",
          "y": "capacity",
          "yref": "y"
         },
         {
          "font": {
           "color": "#FFFFFF"
          },
          "showarrow": false,
          "text": "0.73",
          "x": "beds",
          "xref": "x",
          "y": "capacity",
          "yref": "y"
         },
         {
          "font": {
           "color": "#FFFFFF"
          },
          "showarrow": false,
          "text": "1.0",
          "x": "capacity",
          "xref": "x",
          "y": "capacity",
          "yref": "y"
         },
         {
          "font": {
           "color": "#FFFFFF"
          },
          "showarrow": false,
          "text": "0.73",
          "x": "avg_daily_rate_per_unit",
          "xref": "x",
          "y": "capacity",
          "yref": "y"
         },
         {
          "font": {
           "color": "#FFFFFF"
          },
          "showarrow": false,
          "text": "-0.08",
          "x": "wifi",
          "xref": "x",
          "y": "capacity",
          "yref": "y"
         },
         {
          "font": {
           "color": "#FFFFFF"
          },
          "showarrow": false,
          "text": "0.06",
          "x": "tv",
          "xref": "x",
          "y": "capacity",
          "yref": "y"
         },
         {
          "font": {
           "color": "#FFFFFF"
          },
          "showarrow": false,
          "text": "0.13",
          "x": "cable_tv",
          "xref": "x",
          "y": "capacity",
          "yref": "y"
         },
         {
          "font": {
           "color": "#FFFFFF"
          },
          "showarrow": false,
          "text": "0.04",
          "x": "ac",
          "xref": "x",
          "y": "capacity",
          "yref": "y"
         },
         {
          "font": {
           "color": "#FFFFFF"
          },
          "showarrow": false,
          "text": "0.08",
          "x": "workspace",
          "xref": "x",
          "y": "capacity",
          "yref": "y"
         },
         {
          "font": {
           "color": "#FFFFFF"
          },
          "showarrow": false,
          "text": "0.04",
          "x": "pool",
          "xref": "x",
          "y": "capacity",
          "yref": "y"
         },
         {
          "font": {
           "color": "#FFFFFF"
          },
          "showarrow": false,
          "text": "-0.0",
          "x": "parking",
          "xref": "x",
          "y": "capacity",
          "yref": "y"
         },
         {
          "font": {
           "color": "#FFFFFF"
          },
          "showarrow": false,
          "text": "0.02",
          "x": "gym",
          "xref": "x",
          "y": "capacity",
          "yref": "y"
         },
         {
          "font": {
           "color": "#FFFFFF"
          },
          "showarrow": false,
          "text": "0.33",
          "x": "kitchen",
          "xref": "x",
          "y": "capacity",
          "yref": "y"
         },
         {
          "font": {
           "color": "#FFFFFF"
          },
          "showarrow": false,
          "text": "-0.03",
          "x": "airport_pickup_price_idr",
          "xref": "x",
          "y": "capacity",
          "yref": "y"
         },
         {
          "font": {
           "color": "#FFFFFF"
          },
          "showarrow": false,
          "text": "0.42",
          "x": "booking_guest_number",
          "xref": "x",
          "y": "avg_daily_rate_per_unit",
          "yref": "y"
         },
         {
          "font": {
           "color": "#FFFFFF"
          },
          "showarrow": false,
          "text": "0.15",
          "x": "booking_earned",
          "xref": "x",
          "y": "avg_daily_rate_per_unit",
          "yref": "y"
         },
         {
          "font": {
           "color": "#FFFFFF"
          },
          "showarrow": false,
          "text": "0.41",
          "x": "booking_currency",
          "xref": "x",
          "y": "avg_daily_rate_per_unit",
          "yref": "y"
         },
         {
          "font": {
           "color": "#FFFFFF"
          },
          "showarrow": false,
          "text": "-0.0",
          "x": "review_sentiment_score",
          "xref": "x",
          "y": "avg_daily_rate_per_unit",
          "yref": "y"
         },
         {
          "font": {
           "color": "#FFFFFF"
          },
          "showarrow": false,
          "text": "nan",
          "x": "cancellation_policy",
          "xref": "x",
          "y": "avg_daily_rate_per_unit",
          "yref": "y"
         },
         {
          "font": {
           "color": "#FFFFFF"
          },
          "showarrow": false,
          "text": "0.55",
          "x": "booking_earned_in_idr",
          "xref": "x",
          "y": "avg_daily_rate_per_unit",
          "yref": "y"
         },
         {
          "font": {
           "color": "#FFFFFF"
          },
          "showarrow": false,
          "text": "0.02",
          "x": "length_of_stay",
          "xref": "x",
          "y": "avg_daily_rate_per_unit",
          "yref": "y"
         },
         {
          "font": {
           "color": "#FFFFFF"
          },
          "showarrow": false,
          "text": "0.2",
          "x": "booking_window",
          "xref": "x",
          "y": "avg_daily_rate_per_unit",
          "yref": "y"
         },
         {
          "font": {
           "color": "#FFFFFF"
          },
          "showarrow": false,
          "text": "0.05",
          "x": "seasonality",
          "xref": "x",
          "y": "avg_daily_rate_per_unit",
          "yref": "y"
         },
         {
          "font": {
           "color": "#FFFFFF"
          },
          "showarrow": false,
          "text": "0.81",
          "x": "average_daily_rate",
          "xref": "x",
          "y": "avg_daily_rate_per_unit",
          "yref": "y"
         },
         {
          "font": {
           "color": "#FFFFFF"
          },
          "showarrow": false,
          "text": "0.05",
          "x": "status",
          "xref": "x",
          "y": "avg_daily_rate_per_unit",
          "yref": "y"
         },
         {
          "font": {
           "color": "#FFFFFF"
          },
          "showarrow": false,
          "text": "0.37",
          "x": "bedroom",
          "xref": "x",
          "y": "avg_daily_rate_per_unit",
          "yref": "y"
         },
         {
          "font": {
           "color": "#FFFFFF"
          },
          "showarrow": false,
          "text": "0.42",
          "x": "bathroom",
          "xref": "x",
          "y": "avg_daily_rate_per_unit",
          "yref": "y"
         },
         {
          "font": {
           "color": "#FFFFFF"
          },
          "showarrow": false,
          "text": "0.41",
          "x": "beds",
          "xref": "x",
          "y": "avg_daily_rate_per_unit",
          "yref": "y"
         },
         {
          "font": {
           "color": "#FFFFFF"
          },
          "showarrow": false,
          "text": "0.73",
          "x": "capacity",
          "xref": "x",
          "y": "avg_daily_rate_per_unit",
          "yref": "y"
         },
         {
          "font": {
           "color": "#FFFFFF"
          },
          "showarrow": false,
          "text": "1.0",
          "x": "avg_daily_rate_per_unit",
          "xref": "x",
          "y": "avg_daily_rate_per_unit",
          "yref": "y"
         },
         {
          "font": {
           "color": "#FFFFFF"
          },
          "showarrow": false,
          "text": "0.01",
          "x": "wifi",
          "xref": "x",
          "y": "avg_daily_rate_per_unit",
          "yref": "y"
         },
         {
          "font": {
           "color": "#FFFFFF"
          },
          "showarrow": false,
          "text": "0.03",
          "x": "tv",
          "xref": "x",
          "y": "avg_daily_rate_per_unit",
          "yref": "y"
         },
         {
          "font": {
           "color": "#FFFFFF"
          },
          "showarrow": false,
          "text": "0.12",
          "x": "cable_tv",
          "xref": "x",
          "y": "avg_daily_rate_per_unit",
          "yref": "y"
         },
         {
          "font": {
           "color": "#FFFFFF"
          },
          "showarrow": false,
          "text": "0.03",
          "x": "ac",
          "xref": "x",
          "y": "avg_daily_rate_per_unit",
          "yref": "y"
         },
         {
          "font": {
           "color": "#FFFFFF"
          },
          "showarrow": false,
          "text": "0.08",
          "x": "workspace",
          "xref": "x",
          "y": "avg_daily_rate_per_unit",
          "yref": "y"
         },
         {
          "font": {
           "color": "#FFFFFF"
          },
          "showarrow": false,
          "text": "0.16",
          "x": "pool",
          "xref": "x",
          "y": "avg_daily_rate_per_unit",
          "yref": "y"
         },
         {
          "font": {
           "color": "#FFFFFF"
          },
          "showarrow": false,
          "text": "-0.05",
          "x": "parking",
          "xref": "x",
          "y": "avg_daily_rate_per_unit",
          "yref": "y"
         },
         {
          "font": {
           "color": "#FFFFFF"
          },
          "showarrow": false,
          "text": "-0.03",
          "x": "gym",
          "xref": "x",
          "y": "avg_daily_rate_per_unit",
          "yref": "y"
         },
         {
          "font": {
           "color": "#FFFFFF"
          },
          "showarrow": false,
          "text": "0.26",
          "x": "kitchen",
          "xref": "x",
          "y": "avg_daily_rate_per_unit",
          "yref": "y"
         },
         {
          "font": {
           "color": "#FFFFFF"
          },
          "showarrow": false,
          "text": "0.04",
          "x": "airport_pickup_price_idr",
          "xref": "x",
          "y": "avg_daily_rate_per_unit",
          "yref": "y"
         },
         {
          "font": {
           "color": "#FFFFFF"
          },
          "showarrow": false,
          "text": "-0.01",
          "x": "booking_guest_number",
          "xref": "x",
          "y": "wifi",
          "yref": "y"
         },
         {
          "font": {
           "color": "#FFFFFF"
          },
          "showarrow": false,
          "text": "-0.02",
          "x": "booking_earned",
          "xref": "x",
          "y": "wifi",
          "yref": "y"
         },
         {
          "font": {
           "color": "#FFFFFF"
          },
          "showarrow": false,
          "text": "0.04",
          "x": "booking_currency",
          "xref": "x",
          "y": "wifi",
          "yref": "y"
         },
         {
          "font": {
           "color": "#FFFFFF"
          },
          "showarrow": false,
          "text": "0.03",
          "x": "review_sentiment_score",
          "xref": "x",
          "y": "wifi",
          "yref": "y"
         },
         {
          "font": {
           "color": "#FFFFFF"
          },
          "showarrow": false,
          "text": "nan",
          "x": "cancellation_policy",
          "xref": "x",
          "y": "wifi",
          "yref": "y"
         },
         {
          "font": {
           "color": "#FFFFFF"
          },
          "showarrow": false,
          "text": "0.0",
          "x": "booking_earned_in_idr",
          "xref": "x",
          "y": "wifi",
          "yref": "y"
         },
         {
          "font": {
           "color": "#FFFFFF"
          },
          "showarrow": false,
          "text": "-0.01",
          "x": "length_of_stay",
          "xref": "x",
          "y": "wifi",
          "yref": "y"
         },
         {
          "font": {
           "color": "#FFFFFF"
          },
          "showarrow": false,
          "text": "0.03",
          "x": "booking_window",
          "xref": "x",
          "y": "wifi",
          "yref": "y"
         },
         {
          "font": {
           "color": "#FFFFFF"
          },
          "showarrow": false,
          "text": "-0.0",
          "x": "seasonality",
          "xref": "x",
          "y": "wifi",
          "yref": "y"
         },
         {
          "font": {
           "color": "#FFFFFF"
          },
          "showarrow": false,
          "text": "0.01",
          "x": "average_daily_rate",
          "xref": "x",
          "y": "wifi",
          "yref": "y"
         },
         {
          "font": {
           "color": "#FFFFFF"
          },
          "showarrow": false,
          "text": "-0.08",
          "x": "status",
          "xref": "x",
          "y": "wifi",
          "yref": "y"
         },
         {
          "font": {
           "color": "#FFFFFF"
          },
          "showarrow": false,
          "text": "-0.08",
          "x": "bedroom",
          "xref": "x",
          "y": "wifi",
          "yref": "y"
         },
         {
          "font": {
           "color": "#FFFFFF"
          },
          "showarrow": false,
          "text": "-0.03",
          "x": "bathroom",
          "xref": "x",
          "y": "wifi",
          "yref": "y"
         },
         {
          "font": {
           "color": "#FFFFFF"
          },
          "showarrow": false,
          "text": "-0.09",
          "x": "beds",
          "xref": "x",
          "y": "wifi",
          "yref": "y"
         },
         {
          "font": {
           "color": "#FFFFFF"
          },
          "showarrow": false,
          "text": "-0.08",
          "x": "capacity",
          "xref": "x",
          "y": "wifi",
          "yref": "y"
         },
         {
          "font": {
           "color": "#FFFFFF"
          },
          "showarrow": false,
          "text": "0.01",
          "x": "avg_daily_rate_per_unit",
          "xref": "x",
          "y": "wifi",
          "yref": "y"
         },
         {
          "font": {
           "color": "#FFFFFF"
          },
          "showarrow": false,
          "text": "1.0",
          "x": "wifi",
          "xref": "x",
          "y": "wifi",
          "yref": "y"
         },
         {
          "font": {
           "color": "#FFFFFF"
          },
          "showarrow": false,
          "text": "-0.09",
          "x": "tv",
          "xref": "x",
          "y": "wifi",
          "yref": "y"
         },
         {
          "font": {
           "color": "#FFFFFF"
          },
          "showarrow": false,
          "text": "0.05",
          "x": "cable_tv",
          "xref": "x",
          "y": "wifi",
          "yref": "y"
         },
         {
          "font": {
           "color": "#FFFFFF"
          },
          "showarrow": false,
          "text": "-0.01",
          "x": "ac",
          "xref": "x",
          "y": "wifi",
          "yref": "y"
         },
         {
          "font": {
           "color": "#FFFFFF"
          },
          "showarrow": false,
          "text": "-0.03",
          "x": "workspace",
          "xref": "x",
          "y": "wifi",
          "yref": "y"
         },
         {
          "font": {
           "color": "#FFFFFF"
          },
          "showarrow": false,
          "text": "0.11",
          "x": "pool",
          "xref": "x",
          "y": "wifi",
          "yref": "y"
         },
         {
          "font": {
           "color": "#FFFFFF"
          },
          "showarrow": false,
          "text": "0.15",
          "x": "parking",
          "xref": "x",
          "y": "wifi",
          "yref": "y"
         },
         {
          "font": {
           "color": "#FFFFFF"
          },
          "showarrow": false,
          "text": "-0.02",
          "x": "gym",
          "xref": "x",
          "y": "wifi",
          "yref": "y"
         },
         {
          "font": {
           "color": "#FFFFFF"
          },
          "showarrow": false,
          "text": "-0.08",
          "x": "kitchen",
          "xref": "x",
          "y": "wifi",
          "yref": "y"
         },
         {
          "font": {
           "color": "#FFFFFF"
          },
          "showarrow": false,
          "text": "0.17",
          "x": "airport_pickup_price_idr",
          "xref": "x",
          "y": "wifi",
          "yref": "y"
         },
         {
          "font": {
           "color": "#FFFFFF"
          },
          "showarrow": false,
          "text": "0.15",
          "x": "booking_guest_number",
          "xref": "x",
          "y": "tv",
          "yref": "y"
         },
         {
          "font": {
           "color": "#FFFFFF"
          },
          "showarrow": false,
          "text": "0.05",
          "x": "booking_earned",
          "xref": "x",
          "y": "tv",
          "yref": "y"
         },
         {
          "font": {
           "color": "#FFFFFF"
          },
          "showarrow": false,
          "text": "-0.07",
          "x": "booking_currency",
          "xref": "x",
          "y": "tv",
          "yref": "y"
         },
         {
          "font": {
           "color": "#FFFFFF"
          },
          "showarrow": false,
          "text": "-0.01",
          "x": "review_sentiment_score",
          "xref": "x",
          "y": "tv",
          "yref": "y"
         },
         {
          "font": {
           "color": "#FFFFFF"
          },
          "showarrow": false,
          "text": "nan",
          "x": "cancellation_policy",
          "xref": "x",
          "y": "tv",
          "yref": "y"
         },
         {
          "font": {
           "color": "#FFFFFF"
          },
          "showarrow": false,
          "text": "0.05",
          "x": "booking_earned_in_idr",
          "xref": "x",
          "y": "tv",
          "yref": "y"
         },
         {
          "font": {
           "color": "#FFFFFF"
          },
          "showarrow": false,
          "text": "0.03",
          "x": "length_of_stay",
          "xref": "x",
          "y": "tv",
          "yref": "y"
         },
         {
          "font": {
           "color": "#FFFFFF"
          },
          "showarrow": false,
          "text": "0.1",
          "x": "booking_window",
          "xref": "x",
          "y": "tv",
          "yref": "y"
         },
         {
          "font": {
           "color": "#FFFFFF"
          },
          "showarrow": false,
          "text": "0.03",
          "x": "seasonality",
          "xref": "x",
          "y": "tv",
          "yref": "y"
         },
         {
          "font": {
           "color": "#FFFFFF"
          },
          "showarrow": false,
          "text": "0.03",
          "x": "average_daily_rate",
          "xref": "x",
          "y": "tv",
          "yref": "y"
         },
         {
          "font": {
           "color": "#FFFFFF"
          },
          "showarrow": false,
          "text": "-0.11",
          "x": "status",
          "xref": "x",
          "y": "tv",
          "yref": "y"
         },
         {
          "font": {
           "color": "#FFFFFF"
          },
          "showarrow": false,
          "text": "0.14",
          "x": "bedroom",
          "xref": "x",
          "y": "tv",
          "yref": "y"
         },
         {
          "font": {
           "color": "#FFFFFF"
          },
          "showarrow": false,
          "text": "0.14",
          "x": "bathroom",
          "xref": "x",
          "y": "tv",
          "yref": "y"
         },
         {
          "font": {
           "color": "#FFFFFF"
          },
          "showarrow": false,
          "text": "0.11",
          "x": "beds",
          "xref": "x",
          "y": "tv",
          "yref": "y"
         },
         {
          "font": {
           "color": "#FFFFFF"
          },
          "showarrow": false,
          "text": "0.06",
          "x": "capacity",
          "xref": "x",
          "y": "tv",
          "yref": "y"
         },
         {
          "font": {
           "color": "#FFFFFF"
          },
          "showarrow": false,
          "text": "0.03",
          "x": "avg_daily_rate_per_unit",
          "xref": "x",
          "y": "tv",
          "yref": "y"
         },
         {
          "font": {
           "color": "#FFFFFF"
          },
          "showarrow": false,
          "text": "-0.09",
          "x": "wifi",
          "xref": "x",
          "y": "tv",
          "yref": "y"
         },
         {
          "font": {
           "color": "#FFFFFF"
          },
          "showarrow": false,
          "text": "1.0",
          "x": "tv",
          "xref": "x",
          "y": "tv",
          "yref": "y"
         },
         {
          "font": {
           "color": "#FFFFFF"
          },
          "showarrow": false,
          "text": "0.45",
          "x": "cable_tv",
          "xref": "x",
          "y": "tv",
          "yref": "y"
         },
         {
          "font": {
           "color": "#FFFFFF"
          },
          "showarrow": false,
          "text": "0.09",
          "x": "ac",
          "xref": "x",
          "y": "tv",
          "yref": "y"
         },
         {
          "font": {
           "color": "#FFFFFF"
          },
          "showarrow": false,
          "text": "0.05",
          "x": "workspace",
          "xref": "x",
          "y": "tv",
          "yref": "y"
         },
         {
          "font": {
           "color": "#FFFFFF"
          },
          "showarrow": false,
          "text": "0.14",
          "x": "pool",
          "xref": "x",
          "y": "tv",
          "yref": "y"
         },
         {
          "font": {
           "color": "#FFFFFF"
          },
          "showarrow": false,
          "text": "0.07",
          "x": "parking",
          "xref": "x",
          "y": "tv",
          "yref": "y"
         },
         {
          "font": {
           "color": "#FFFFFF"
          },
          "showarrow": false,
          "text": "0.07",
          "x": "gym",
          "xref": "x",
          "y": "tv",
          "yref": "y"
         },
         {
          "font": {
           "color": "#FFFFFF"
          },
          "showarrow": false,
          "text": "0.17",
          "x": "kitchen",
          "xref": "x",
          "y": "tv",
          "yref": "y"
         },
         {
          "font": {
           "color": "#FFFFFF"
          },
          "showarrow": false,
          "text": "-0.15",
          "x": "airport_pickup_price_idr",
          "xref": "x",
          "y": "tv",
          "yref": "y"
         },
         {
          "font": {
           "color": "#FFFFFF"
          },
          "showarrow": false,
          "text": "0.01",
          "x": "booking_guest_number",
          "xref": "x",
          "y": "cable_tv",
          "yref": "y"
         },
         {
          "font": {
           "color": "#FFFFFF"
          },
          "showarrow": false,
          "text": "-0.03",
          "x": "booking_earned",
          "xref": "x",
          "y": "cable_tv",
          "yref": "y"
         },
         {
          "font": {
           "color": "#FFFFFF"
          },
          "showarrow": false,
          "text": "0.03",
          "x": "booking_currency",
          "xref": "x",
          "y": "cable_tv",
          "yref": "y"
         },
         {
          "font": {
           "color": "#FFFFFF"
          },
          "showarrow": false,
          "text": "-0.02",
          "x": "review_sentiment_score",
          "xref": "x",
          "y": "cable_tv",
          "yref": "y"
         },
         {
          "font": {
           "color": "#FFFFFF"
          },
          "showarrow": false,
          "text": "nan",
          "x": "cancellation_policy",
          "xref": "x",
          "y": "cable_tv",
          "yref": "y"
         },
         {
          "font": {
           "color": "#FFFFFF"
          },
          "showarrow": false,
          "text": "0.07",
          "x": "booking_earned_in_idr",
          "xref": "x",
          "y": "cable_tv",
          "yref": "y"
         },
         {
          "font": {
           "color": "#FFFFFF"
          },
          "showarrow": false,
          "text": "0.01",
          "x": "length_of_stay",
          "xref": "x",
          "y": "cable_tv",
          "yref": "y"
         },
         {
          "font": {
           "color": "#FFFFFF"
          },
          "showarrow": false,
          "text": "0.02",
          "x": "booking_window",
          "xref": "x",
          "y": "cable_tv",
          "yref": "y"
         },
         {
          "font": {
           "color": "#FFFFFF"
          },
          "showarrow": false,
          "text": "0.04",
          "x": "seasonality",
          "xref": "x",
          "y": "cable_tv",
          "yref": "y"
         },
         {
          "font": {
           "color": "#FFFFFF"
          },
          "showarrow": false,
          "text": "0.09",
          "x": "average_daily_rate",
          "xref": "x",
          "y": "cable_tv",
          "yref": "y"
         },
         {
          "font": {
           "color": "#FFFFFF"
          },
          "showarrow": false,
          "text": "-0.04",
          "x": "status",
          "xref": "x",
          "y": "cable_tv",
          "yref": "y"
         },
         {
          "font": {
           "color": "#FFFFFF"
          },
          "showarrow": false,
          "text": "0.11",
          "x": "bedroom",
          "xref": "x",
          "y": "cable_tv",
          "yref": "y"
         },
         {
          "font": {
           "color": "#FFFFFF"
          },
          "showarrow": false,
          "text": "0.12",
          "x": "bathroom",
          "xref": "x",
          "y": "cable_tv",
          "yref": "y"
         },
         {
          "font": {
           "color": "#FFFFFF"
          },
          "showarrow": false,
          "text": "0.07",
          "x": "beds",
          "xref": "x",
          "y": "cable_tv",
          "yref": "y"
         },
         {
          "font": {
           "color": "#FFFFFF"
          },
          "showarrow": false,
          "text": "0.13",
          "x": "capacity",
          "xref": "x",
          "y": "cable_tv",
          "yref": "y"
         },
         {
          "font": {
           "color": "#FFFFFF"
          },
          "showarrow": false,
          "text": "0.12",
          "x": "avg_daily_rate_per_unit",
          "xref": "x",
          "y": "cable_tv",
          "yref": "y"
         },
         {
          "font": {
           "color": "#FFFFFF"
          },
          "showarrow": false,
          "text": "0.05",
          "x": "wifi",
          "xref": "x",
          "y": "cable_tv",
          "yref": "y"
         },
         {
          "font": {
           "color": "#FFFFFF"
          },
          "showarrow": false,
          "text": "0.45",
          "x": "tv",
          "xref": "x",
          "y": "cable_tv",
          "yref": "y"
         },
         {
          "font": {
           "color": "#FFFFFF"
          },
          "showarrow": false,
          "text": "1.0",
          "x": "cable_tv",
          "xref": "x",
          "y": "cable_tv",
          "yref": "y"
         },
         {
          "font": {
           "color": "#FFFFFF"
          },
          "showarrow": false,
          "text": "0.05",
          "x": "ac",
          "xref": "x",
          "y": "cable_tv",
          "yref": "y"
         },
         {
          "font": {
           "color": "#FFFFFF"
          },
          "showarrow": false,
          "text": "0.14",
          "x": "workspace",
          "xref": "x",
          "y": "cable_tv",
          "yref": "y"
         },
         {
          "font": {
           "color": "#FFFFFF"
          },
          "showarrow": false,
          "text": "0.22",
          "x": "pool",
          "xref": "x",
          "y": "cable_tv",
          "yref": "y"
         },
         {
          "font": {
           "color": "#FFFFFF"
          },
          "showarrow": false,
          "text": "0.1",
          "x": "parking",
          "xref": "x",
          "y": "cable_tv",
          "yref": "y"
         },
         {
          "font": {
           "color": "#FFFFFF"
          },
          "showarrow": false,
          "text": "0.09",
          "x": "gym",
          "xref": "x",
          "y": "cable_tv",
          "yref": "y"
         },
         {
          "font": {
           "color": "#FFFFFF"
          },
          "showarrow": false,
          "text": "-0.05",
          "x": "kitchen",
          "xref": "x",
          "y": "cable_tv",
          "yref": "y"
         },
         {
          "font": {
           "color": "#FFFFFF"
          },
          "showarrow": false,
          "text": "-0.04",
          "x": "airport_pickup_price_idr",
          "xref": "x",
          "y": "cable_tv",
          "yref": "y"
         },
         {
          "font": {
           "color": "#FFFFFF"
          },
          "showarrow": false,
          "text": "0.03",
          "x": "booking_guest_number",
          "xref": "x",
          "y": "ac",
          "yref": "y"
         },
         {
          "font": {
           "color": "#FFFFFF"
          },
          "showarrow": false,
          "text": "0.05",
          "x": "booking_earned",
          "xref": "x",
          "y": "ac",
          "yref": "y"
         },
         {
          "font": {
           "color": "#FFFFFF"
          },
          "showarrow": false,
          "text": "-0.17",
          "x": "booking_currency",
          "xref": "x",
          "y": "ac",
          "yref": "y"
         },
         {
          "font": {
           "color": "#FFFFFF"
          },
          "showarrow": false,
          "text": "0.04",
          "x": "review_sentiment_score",
          "xref": "x",
          "y": "ac",
          "yref": "y"
         },
         {
          "font": {
           "color": "#FFFFFF"
          },
          "showarrow": false,
          "text": "nan",
          "x": "cancellation_policy",
          "xref": "x",
          "y": "ac",
          "yref": "y"
         },
         {
          "font": {
           "color": "#FFFFFF"
          },
          "showarrow": false,
          "text": "0.02",
          "x": "booking_earned_in_idr",
          "xref": "x",
          "y": "ac",
          "yref": "y"
         },
         {
          "font": {
           "color": "#FFFFFF"
          },
          "showarrow": false,
          "text": "-0.0",
          "x": "length_of_stay",
          "xref": "x",
          "y": "ac",
          "yref": "y"
         },
         {
          "font": {
           "color": "#FFFFFF"
          },
          "showarrow": false,
          "text": "0.02",
          "x": "booking_window",
          "xref": "x",
          "y": "ac",
          "yref": "y"
         },
         {
          "font": {
           "color": "#FFFFFF"
          },
          "showarrow": false,
          "text": "0.04",
          "x": "seasonality",
          "xref": "x",
          "y": "ac",
          "yref": "y"
         },
         {
          "font": {
           "color": "#FFFFFF"
          },
          "showarrow": false,
          "text": "0.03",
          "x": "average_daily_rate",
          "xref": "x",
          "y": "ac",
          "yref": "y"
         },
         {
          "font": {
           "color": "#FFFFFF"
          },
          "showarrow": false,
          "text": "0.12",
          "x": "status",
          "xref": "x",
          "y": "ac",
          "yref": "y"
         },
         {
          "font": {
           "color": "#FFFFFF"
          },
          "showarrow": false,
          "text": "0.03",
          "x": "bedroom",
          "xref": "x",
          "y": "ac",
          "yref": "y"
         },
         {
          "font": {
           "color": "#FFFFFF"
          },
          "showarrow": false,
          "text": "-0.1",
          "x": "bathroom",
          "xref": "x",
          "y": "ac",
          "yref": "y"
         },
         {
          "font": {
           "color": "#FFFFFF"
          },
          "showarrow": false,
          "text": "0.03",
          "x": "beds",
          "xref": "x",
          "y": "ac",
          "yref": "y"
         },
         {
          "font": {
           "color": "#FFFFFF"
          },
          "showarrow": false,
          "text": "0.04",
          "x": "capacity",
          "xref": "x",
          "y": "ac",
          "yref": "y"
         },
         {
          "font": {
           "color": "#FFFFFF"
          },
          "showarrow": false,
          "text": "0.03",
          "x": "avg_daily_rate_per_unit",
          "xref": "x",
          "y": "ac",
          "yref": "y"
         },
         {
          "font": {
           "color": "#FFFFFF"
          },
          "showarrow": false,
          "text": "-0.01",
          "x": "wifi",
          "xref": "x",
          "y": "ac",
          "yref": "y"
         },
         {
          "font": {
           "color": "#FFFFFF"
          },
          "showarrow": false,
          "text": "0.09",
          "x": "tv",
          "xref": "x",
          "y": "ac",
          "yref": "y"
         },
         {
          "font": {
           "color": "#FFFFFF"
          },
          "showarrow": false,
          "text": "0.05",
          "x": "cable_tv",
          "xref": "x",
          "y": "ac",
          "yref": "y"
         },
         {
          "font": {
           "color": "#FFFFFF"
          },
          "showarrow": false,
          "text": "1.0",
          "x": "ac",
          "xref": "x",
          "y": "ac",
          "yref": "y"
         },
         {
          "font": {
           "color": "#FFFFFF"
          },
          "showarrow": false,
          "text": "-0.02",
          "x": "workspace",
          "xref": "x",
          "y": "ac",
          "yref": "y"
         },
         {
          "font": {
           "color": "#FFFFFF"
          },
          "showarrow": false,
          "text": "0.2",
          "x": "pool",
          "xref": "x",
          "y": "ac",
          "yref": "y"
         },
         {
          "font": {
           "color": "#FFFFFF"
          },
          "showarrow": false,
          "text": "0.35",
          "x": "parking",
          "xref": "x",
          "y": "ac",
          "yref": "y"
         },
         {
          "font": {
           "color": "#FFFFFF"
          },
          "showarrow": false,
          "text": "0.01",
          "x": "gym",
          "xref": "x",
          "y": "ac",
          "yref": "y"
         },
         {
          "font": {
           "color": "#FFFFFF"
          },
          "showarrow": false,
          "text": "0.06",
          "x": "kitchen",
          "xref": "x",
          "y": "ac",
          "yref": "y"
         },
         {
          "font": {
           "color": "#FFFFFF"
          },
          "showarrow": false,
          "text": "-0.07",
          "x": "airport_pickup_price_idr",
          "xref": "x",
          "y": "ac",
          "yref": "y"
         },
         {
          "font": {
           "color": "#FFFFFF"
          },
          "showarrow": false,
          "text": "0.04",
          "x": "booking_guest_number",
          "xref": "x",
          "y": "workspace",
          "yref": "y"
         },
         {
          "font": {
           "color": "#FFFFFF"
          },
          "showarrow": false,
          "text": "0.05",
          "x": "booking_earned",
          "xref": "x",
          "y": "workspace",
          "yref": "y"
         },
         {
          "font": {
           "color": "#FFFFFF"
          },
          "showarrow": false,
          "text": "0.02",
          "x": "booking_currency",
          "xref": "x",
          "y": "workspace",
          "yref": "y"
         },
         {
          "font": {
           "color": "#FFFFFF"
          },
          "showarrow": false,
          "text": "-0.01",
          "x": "review_sentiment_score",
          "xref": "x",
          "y": "workspace",
          "yref": "y"
         },
         {
          "font": {
           "color": "#FFFFFF"
          },
          "showarrow": false,
          "text": "nan",
          "x": "cancellation_policy",
          "xref": "x",
          "y": "workspace",
          "yref": "y"
         },
         {
          "font": {
           "color": "#FFFFFF"
          },
          "showarrow": false,
          "text": "0.06",
          "x": "booking_earned_in_idr",
          "xref": "x",
          "y": "workspace",
          "yref": "y"
         },
         {
          "font": {
           "color": "#FFFFFF"
          },
          "showarrow": false,
          "text": "0.03",
          "x": "length_of_stay",
          "xref": "x",
          "y": "workspace",
          "yref": "y"
         },
         {
          "font": {
           "color": "#FFFFFF"
          },
          "showarrow": false,
          "text": "0.02",
          "x": "booking_window",
          "xref": "x",
          "y": "workspace",
          "yref": "y"
         },
         {
          "font": {
           "color": "#FFFFFF"
          },
          "showarrow": false,
          "text": "0.05",
          "x": "seasonality",
          "xref": "x",
          "y": "workspace",
          "yref": "y"
         },
         {
          "font": {
           "color": "#FFFFFF"
          },
          "showarrow": false,
          "text": "0.06",
          "x": "average_daily_rate",
          "xref": "x",
          "y": "workspace",
          "yref": "y"
         },
         {
          "font": {
           "color": "#FFFFFF"
          },
          "showarrow": false,
          "text": "0.03",
          "x": "status",
          "xref": "x",
          "y": "workspace",
          "yref": "y"
         },
         {
          "font": {
           "color": "#FFFFFF"
          },
          "showarrow": false,
          "text": "0.06",
          "x": "bedroom",
          "xref": "x",
          "y": "workspace",
          "yref": "y"
         },
         {
          "font": {
           "color": "#FFFFFF"
          },
          "showarrow": false,
          "text": "0.04",
          "x": "bathroom",
          "xref": "x",
          "y": "workspace",
          "yref": "y"
         },
         {
          "font": {
           "color": "#FFFFFF"
          },
          "showarrow": false,
          "text": "0.05",
          "x": "beds",
          "xref": "x",
          "y": "workspace",
          "yref": "y"
         },
         {
          "font": {
           "color": "#FFFFFF"
          },
          "showarrow": false,
          "text": "0.08",
          "x": "capacity",
          "xref": "x",
          "y": "workspace",
          "yref": "y"
         },
         {
          "font": {
           "color": "#FFFFFF"
          },
          "showarrow": false,
          "text": "0.08",
          "x": "avg_daily_rate_per_unit",
          "xref": "x",
          "y": "workspace",
          "yref": "y"
         },
         {
          "font": {
           "color": "#FFFFFF"
          },
          "showarrow": false,
          "text": "-0.03",
          "x": "wifi",
          "xref": "x",
          "y": "workspace",
          "yref": "y"
         },
         {
          "font": {
           "color": "#FFFFFF"
          },
          "showarrow": false,
          "text": "0.05",
          "x": "tv",
          "xref": "x",
          "y": "workspace",
          "yref": "y"
         },
         {
          "font": {
           "color": "#FFFFFF"
          },
          "showarrow": false,
          "text": "0.14",
          "x": "cable_tv",
          "xref": "x",
          "y": "workspace",
          "yref": "y"
         },
         {
          "font": {
           "color": "#FFFFFF"
          },
          "showarrow": false,
          "text": "-0.02",
          "x": "ac",
          "xref": "x",
          "y": "workspace",
          "yref": "y"
         },
         {
          "font": {
           "color": "#FFFFFF"
          },
          "showarrow": false,
          "text": "1.0",
          "x": "workspace",
          "xref": "x",
          "y": "workspace",
          "yref": "y"
         },
         {
          "font": {
           "color": "#FFFFFF"
          },
          "showarrow": false,
          "text": "0.2",
          "x": "pool",
          "xref": "x",
          "y": "workspace",
          "yref": "y"
         },
         {
          "font": {
           "color": "#FFFFFF"
          },
          "showarrow": false,
          "text": "0.13",
          "x": "parking",
          "xref": "x",
          "y": "workspace",
          "yref": "y"
         },
         {
          "font": {
           "color": "#FFFFFF"
          },
          "showarrow": false,
          "text": "-0.07",
          "x": "gym",
          "xref": "x",
          "y": "workspace",
          "yref": "y"
         },
         {
          "font": {
           "color": "#FFFFFF"
          },
          "showarrow": false,
          "text": "0.11",
          "x": "kitchen",
          "xref": "x",
          "y": "workspace",
          "yref": "y"
         },
         {
          "font": {
           "color": "#FFFFFF"
          },
          "showarrow": false,
          "text": "-0.08",
          "x": "airport_pickup_price_idr",
          "xref": "x",
          "y": "workspace",
          "yref": "y"
         },
         {
          "font": {
           "color": "#FFFFFF"
          },
          "showarrow": false,
          "text": "0.04",
          "x": "booking_guest_number",
          "xref": "x",
          "y": "pool",
          "yref": "y"
         },
         {
          "font": {
           "color": "#FFFFFF"
          },
          "showarrow": false,
          "text": "0.11",
          "x": "booking_earned",
          "xref": "x",
          "y": "pool",
          "yref": "y"
         },
         {
          "font": {
           "color": "#FFFFFF"
          },
          "showarrow": false,
          "text": "0.04",
          "x": "booking_currency",
          "xref": "x",
          "y": "pool",
          "yref": "y"
         },
         {
          "font": {
           "color": "#FFFFFF"
          },
          "showarrow": false,
          "text": "0.03",
          "x": "review_sentiment_score",
          "xref": "x",
          "y": "pool",
          "yref": "y"
         },
         {
          "font": {
           "color": "#FFFFFF"
          },
          "showarrow": false,
          "text": "nan",
          "x": "cancellation_policy",
          "xref": "x",
          "y": "pool",
          "yref": "y"
         },
         {
          "font": {
           "color": "#FFFFFF"
          },
          "showarrow": false,
          "text": "0.1",
          "x": "booking_earned_in_idr",
          "xref": "x",
          "y": "pool",
          "yref": "y"
         },
         {
          "font": {
           "color": "#FFFFFF"
          },
          "showarrow": false,
          "text": "0.05",
          "x": "length_of_stay",
          "xref": "x",
          "y": "pool",
          "yref": "y"
         },
         {
          "font": {
           "color": "#FFFFFF"
          },
          "showarrow": false,
          "text": "0.09",
          "x": "booking_window",
          "xref": "x",
          "y": "pool",
          "yref": "y"
         },
         {
          "font": {
           "color": "#FFFFFF"
          },
          "showarrow": false,
          "text": "0.04",
          "x": "seasonality",
          "xref": "x",
          "y": "pool",
          "yref": "y"
         },
         {
          "font": {
           "color": "#FFFFFF"
          },
          "showarrow": false,
          "text": "0.12",
          "x": "average_daily_rate",
          "xref": "x",
          "y": "pool",
          "yref": "y"
         },
         {
          "font": {
           "color": "#FFFFFF"
          },
          "showarrow": false,
          "text": "0.15",
          "x": "status",
          "xref": "x",
          "y": "pool",
          "yref": "y"
         },
         {
          "font": {
           "color": "#FFFFFF"
          },
          "showarrow": false,
          "text": "0.02",
          "x": "bedroom",
          "xref": "x",
          "y": "pool",
          "yref": "y"
         },
         {
          "font": {
           "color": "#FFFFFF"
          },
          "showarrow": false,
          "text": "0.05",
          "x": "bathroom",
          "xref": "x",
          "y": "pool",
          "yref": "y"
         },
         {
          "font": {
           "color": "#FFFFFF"
          },
          "showarrow": false,
          "text": "0.02",
          "x": "beds",
          "xref": "x",
          "y": "pool",
          "yref": "y"
         },
         {
          "font": {
           "color": "#FFFFFF"
          },
          "showarrow": false,
          "text": "0.04",
          "x": "capacity",
          "xref": "x",
          "y": "pool",
          "yref": "y"
         },
         {
          "font": {
           "color": "#FFFFFF"
          },
          "showarrow": false,
          "text": "0.16",
          "x": "avg_daily_rate_per_unit",
          "xref": "x",
          "y": "pool",
          "yref": "y"
         },
         {
          "font": {
           "color": "#FFFFFF"
          },
          "showarrow": false,
          "text": "0.11",
          "x": "wifi",
          "xref": "x",
          "y": "pool",
          "yref": "y"
         },
         {
          "font": {
           "color": "#FFFFFF"
          },
          "showarrow": false,
          "text": "0.14",
          "x": "tv",
          "xref": "x",
          "y": "pool",
          "yref": "y"
         },
         {
          "font": {
           "color": "#FFFFFF"
          },
          "showarrow": false,
          "text": "0.22",
          "x": "cable_tv",
          "xref": "x",
          "y": "pool",
          "yref": "y"
         },
         {
          "font": {
           "color": "#FFFFFF"
          },
          "showarrow": false,
          "text": "0.2",
          "x": "ac",
          "xref": "x",
          "y": "pool",
          "yref": "y"
         },
         {
          "font": {
           "color": "#FFFFFF"
          },
          "showarrow": false,
          "text": "0.2",
          "x": "workspace",
          "xref": "x",
          "y": "pool",
          "yref": "y"
         },
         {
          "font": {
           "color": "#FFFFFF"
          },
          "showarrow": false,
          "text": "1.0",
          "x": "pool",
          "xref": "x",
          "y": "pool",
          "yref": "y"
         },
         {
          "font": {
           "color": "#FFFFFF"
          },
          "showarrow": false,
          "text": "0.27",
          "x": "parking",
          "xref": "x",
          "y": "pool",
          "yref": "y"
         },
         {
          "font": {
           "color": "#FFFFFF"
          },
          "showarrow": false,
          "text": "0.04",
          "x": "gym",
          "xref": "x",
          "y": "pool",
          "yref": "y"
         },
         {
          "font": {
           "color": "#FFFFFF"
          },
          "showarrow": false,
          "text": "0.05",
          "x": "kitchen",
          "xref": "x",
          "y": "pool",
          "yref": "y"
         },
         {
          "font": {
           "color": "#FFFFFF"
          },
          "showarrow": false,
          "text": "0.02",
          "x": "airport_pickup_price_idr",
          "xref": "x",
          "y": "pool",
          "yref": "y"
         },
         {
          "font": {
           "color": "#FFFFFF"
          },
          "showarrow": false,
          "text": "0.01",
          "x": "booking_guest_number",
          "xref": "x",
          "y": "parking",
          "yref": "y"
         },
         {
          "font": {
           "color": "#FFFFFF"
          },
          "showarrow": false,
          "text": "0.05",
          "x": "booking_earned",
          "xref": "x",
          "y": "parking",
          "yref": "y"
         },
         {
          "font": {
           "color": "#FFFFFF"
          },
          "showarrow": false,
          "text": "-0.18",
          "x": "booking_currency",
          "xref": "x",
          "y": "parking",
          "yref": "y"
         },
         {
          "font": {
           "color": "#FFFFFF"
          },
          "showarrow": false,
          "text": "0.01",
          "x": "review_sentiment_score",
          "xref": "x",
          "y": "parking",
          "yref": "y"
         },
         {
          "font": {
           "color": "#FFFFFF"
          },
          "showarrow": false,
          "text": "nan",
          "x": "cancellation_policy",
          "xref": "x",
          "y": "parking",
          "yref": "y"
         },
         {
          "font": {
           "color": "#FFFFFF"
          },
          "showarrow": false,
          "text": "-0.02",
          "x": "booking_earned_in_idr",
          "xref": "x",
          "y": "parking",
          "yref": "y"
         },
         {
          "font": {
           "color": "#FFFFFF"
          },
          "showarrow": false,
          "text": "0.0",
          "x": "length_of_stay",
          "xref": "x",
          "y": "parking",
          "yref": "y"
         },
         {
          "font": {
           "color": "#FFFFFF"
          },
          "showarrow": false,
          "text": "-0.02",
          "x": "booking_window",
          "xref": "x",
          "y": "parking",
          "yref": "y"
         },
         {
          "font": {
           "color": "#FFFFFF"
          },
          "showarrow": false,
          "text": "0.03",
          "x": "seasonality",
          "xref": "x",
          "y": "parking",
          "yref": "y"
         },
         {
          "font": {
           "color": "#FFFFFF"
          },
          "showarrow": false,
          "text": "-0.04",
          "x": "average_daily_rate",
          "xref": "x",
          "y": "parking",
          "yref": "y"
         },
         {
          "font": {
           "color": "#FFFFFF"
          },
          "showarrow": false,
          "text": "0.19",
          "x": "status",
          "xref": "x",
          "y": "parking",
          "yref": "y"
         },
         {
          "font": {
           "color": "#FFFFFF"
          },
          "showarrow": false,
          "text": "-0.03",
          "x": "bedroom",
          "xref": "x",
          "y": "parking",
          "yref": "y"
         },
         {
          "font": {
           "color": "#FFFFFF"
          },
          "showarrow": false,
          "text": "-0.02",
          "x": "bathroom",
          "xref": "x",
          "y": "parking",
          "yref": "y"
         },
         {
          "font": {
           "color": "#FFFFFF"
          },
          "showarrow": false,
          "text": "-0.03",
          "x": "beds",
          "xref": "x",
          "y": "parking",
          "yref": "y"
         },
         {
          "font": {
           "color": "#FFFFFF"
          },
          "showarrow": false,
          "text": "-0.0",
          "x": "capacity",
          "xref": "x",
          "y": "parking",
          "yref": "y"
         },
         {
          "font": {
           "color": "#FFFFFF"
          },
          "showarrow": false,
          "text": "-0.05",
          "x": "avg_daily_rate_per_unit",
          "xref": "x",
          "y": "parking",
          "yref": "y"
         },
         {
          "font": {
           "color": "#FFFFFF"
          },
          "showarrow": false,
          "text": "0.15",
          "x": "wifi",
          "xref": "x",
          "y": "parking",
          "yref": "y"
         },
         {
          "font": {
           "color": "#FFFFFF"
          },
          "showarrow": false,
          "text": "0.07",
          "x": "tv",
          "xref": "x",
          "y": "parking",
          "yref": "y"
         },
         {
          "font": {
           "color": "#FFFFFF"
          },
          "showarrow": false,
          "text": "0.1",
          "x": "cable_tv",
          "xref": "x",
          "y": "parking",
          "yref": "y"
         },
         {
          "font": {
           "color": "#FFFFFF"
          },
          "showarrow": false,
          "text": "0.35",
          "x": "ac",
          "xref": "x",
          "y": "parking",
          "yref": "y"
         },
         {
          "font": {
           "color": "#FFFFFF"
          },
          "showarrow": false,
          "text": "0.13",
          "x": "workspace",
          "xref": "x",
          "y": "parking",
          "yref": "y"
         },
         {
          "font": {
           "color": "#FFFFFF"
          },
          "showarrow": false,
          "text": "0.27",
          "x": "pool",
          "xref": "x",
          "y": "parking",
          "yref": "y"
         },
         {
          "font": {
           "color": "#FFFFFF"
          },
          "showarrow": false,
          "text": "1.0",
          "x": "parking",
          "xref": "x",
          "y": "parking",
          "yref": "y"
         },
         {
          "font": {
           "color": "#FFFFFF"
          },
          "showarrow": false,
          "text": "-0.11",
          "x": "gym",
          "xref": "x",
          "y": "parking",
          "yref": "y"
         },
         {
          "font": {
           "color": "#FFFFFF"
          },
          "showarrow": false,
          "text": "0.0",
          "x": "kitchen",
          "xref": "x",
          "y": "parking",
          "yref": "y"
         },
         {
          "font": {
           "color": "#FFFFFF"
          },
          "showarrow": false,
          "text": "0.08",
          "x": "airport_pickup_price_idr",
          "xref": "x",
          "y": "parking",
          "yref": "y"
         },
         {
          "font": {
           "color": "#FFFFFF"
          },
          "showarrow": false,
          "text": "-0.02",
          "x": "booking_guest_number",
          "xref": "x",
          "y": "gym",
          "yref": "y"
         },
         {
          "font": {
           "color": "#FFFFFF"
          },
          "showarrow": false,
          "text": "-0.0",
          "x": "booking_earned",
          "xref": "x",
          "y": "gym",
          "yref": "y"
         },
         {
          "font": {
           "color": "#FFFFFF"
          },
          "showarrow": false,
          "text": "-0.03",
          "x": "booking_currency",
          "xref": "x",
          "y": "gym",
          "yref": "y"
         },
         {
          "font": {
           "color": "#FFFFFF"
          },
          "showarrow": false,
          "text": "0.0",
          "x": "review_sentiment_score",
          "xref": "x",
          "y": "gym",
          "yref": "y"
         },
         {
          "font": {
           "color": "#FFFFFF"
          },
          "showarrow": false,
          "text": "nan",
          "x": "cancellation_policy",
          "xref": "x",
          "y": "gym",
          "yref": "y"
         },
         {
          "font": {
           "color": "#FFFFFF"
          },
          "showarrow": false,
          "text": "-0.01",
          "x": "booking_earned_in_idr",
          "xref": "x",
          "y": "gym",
          "yref": "y"
         },
         {
          "font": {
           "color": "#FFFFFF"
          },
          "showarrow": false,
          "text": "0.02",
          "x": "length_of_stay",
          "xref": "x",
          "y": "gym",
          "yref": "y"
         },
         {
          "font": {
           "color": "#FFFFFF"
          },
          "showarrow": false,
          "text": "-0.02",
          "x": "booking_window",
          "xref": "x",
          "y": "gym",
          "yref": "y"
         },
         {
          "font": {
           "color": "#FFFFFF"
          },
          "showarrow": false,
          "text": "-0.01",
          "x": "seasonality",
          "xref": "x",
          "y": "gym",
          "yref": "y"
         },
         {
          "font": {
           "color": "#FFFFFF"
          },
          "showarrow": false,
          "text": "-0.02",
          "x": "average_daily_rate",
          "xref": "x",
          "y": "gym",
          "yref": "y"
         },
         {
          "font": {
           "color": "#FFFFFF"
          },
          "showarrow": false,
          "text": "-0.0",
          "x": "status",
          "xref": "x",
          "y": "gym",
          "yref": "y"
         },
         {
          "font": {
           "color": "#FFFFFF"
          },
          "showarrow": false,
          "text": "-0.01",
          "x": "bedroom",
          "xref": "x",
          "y": "gym",
          "yref": "y"
         },
         {
          "font": {
           "color": "#FFFFFF"
          },
          "showarrow": false,
          "text": "-0.05",
          "x": "bathroom",
          "xref": "x",
          "y": "gym",
          "yref": "y"
         },
         {
          "font": {
           "color": "#FFFFFF"
          },
          "showarrow": false,
          "text": "-0.05",
          "x": "beds",
          "xref": "x",
          "y": "gym",
          "yref": "y"
         },
         {
          "font": {
           "color": "#FFFFFF"
          },
          "showarrow": false,
          "text": "0.02",
          "x": "capacity",
          "xref": "x",
          "y": "gym",
          "yref": "y"
         },
         {
          "font": {
           "color": "#FFFFFF"
          },
          "showarrow": false,
          "text": "-0.03",
          "x": "avg_daily_rate_per_unit",
          "xref": "x",
          "y": "gym",
          "yref": "y"
         },
         {
          "font": {
           "color": "#FFFFFF"
          },
          "showarrow": false,
          "text": "-0.02",
          "x": "wifi",
          "xref": "x",
          "y": "gym",
          "yref": "y"
         },
         {
          "font": {
           "color": "#FFFFFF"
          },
          "showarrow": false,
          "text": "0.07",
          "x": "tv",
          "xref": "x",
          "y": "gym",
          "yref": "y"
         },
         {
          "font": {
           "color": "#FFFFFF"
          },
          "showarrow": false,
          "text": "0.09",
          "x": "cable_tv",
          "xref": "x",
          "y": "gym",
          "yref": "y"
         },
         {
          "font": {
           "color": "#FFFFFF"
          },
          "showarrow": false,
          "text": "0.01",
          "x": "ac",
          "xref": "x",
          "y": "gym",
          "yref": "y"
         },
         {
          "font": {
           "color": "#FFFFFF"
          },
          "showarrow": false,
          "text": "-0.07",
          "x": "workspace",
          "xref": "x",
          "y": "gym",
          "yref": "y"
         },
         {
          "font": {
           "color": "#FFFFFF"
          },
          "showarrow": false,
          "text": "0.04",
          "x": "pool",
          "xref": "x",
          "y": "gym",
          "yref": "y"
         },
         {
          "font": {
           "color": "#FFFFFF"
          },
          "showarrow": false,
          "text": "-0.11",
          "x": "parking",
          "xref": "x",
          "y": "gym",
          "yref": "y"
         },
         {
          "font": {
           "color": "#FFFFFF"
          },
          "showarrow": false,
          "text": "1.0",
          "x": "gym",
          "xref": "x",
          "y": "gym",
          "yref": "y"
         },
         {
          "font": {
           "color": "#FFFFFF"
          },
          "showarrow": false,
          "text": "0.05",
          "x": "kitchen",
          "xref": "x",
          "y": "gym",
          "yref": "y"
         },
         {
          "font": {
           "color": "#FFFFFF"
          },
          "showarrow": false,
          "text": "-0.11",
          "x": "airport_pickup_price_idr",
          "xref": "x",
          "y": "gym",
          "yref": "y"
         },
         {
          "font": {
           "color": "#FFFFFF"
          },
          "showarrow": false,
          "text": "0.18",
          "x": "booking_guest_number",
          "xref": "x",
          "y": "kitchen",
          "yref": "y"
         },
         {
          "font": {
           "color": "#FFFFFF"
          },
          "showarrow": false,
          "text": "0.13",
          "x": "booking_earned",
          "xref": "x",
          "y": "kitchen",
          "yref": "y"
         },
         {
          "font": {
           "color": "#FFFFFF"
          },
          "showarrow": false,
          "text": "-0.01",
          "x": "booking_currency",
          "xref": "x",
          "y": "kitchen",
          "yref": "y"
         },
         {
          "font": {
           "color": "#FFFFFF"
          },
          "showarrow": false,
          "text": "0.02",
          "x": "review_sentiment_score",
          "xref": "x",
          "y": "kitchen",
          "yref": "y"
         },
         {
          "font": {
           "color": "#FFFFFF"
          },
          "showarrow": false,
          "text": "nan",
          "x": "cancellation_policy",
          "xref": "x",
          "y": "kitchen",
          "yref": "y"
         },
         {
          "font": {
           "color": "#FFFFFF"
          },
          "showarrow": false,
          "text": "0.21",
          "x": "booking_earned_in_idr",
          "xref": "x",
          "y": "kitchen",
          "yref": "y"
         },
         {
          "font": {
           "color": "#FFFFFF"
          },
          "showarrow": false,
          "text": "0.11",
          "x": "length_of_stay",
          "xref": "x",
          "y": "kitchen",
          "yref": "y"
         },
         {
          "font": {
           "color": "#FFFFFF"
          },
          "showarrow": false,
          "text": "0.08",
          "x": "booking_window",
          "xref": "x",
          "y": "kitchen",
          "yref": "y"
         },
         {
          "font": {
           "color": "#FFFFFF"
          },
          "showarrow": false,
          "text": "0.01",
          "x": "seasonality",
          "xref": "x",
          "y": "kitchen",
          "yref": "y"
         },
         {
          "font": {
           "color": "#FFFFFF"
          },
          "showarrow": false,
          "text": "0.2",
          "x": "average_daily_rate",
          "xref": "x",
          "y": "kitchen",
          "yref": "y"
         },
         {
          "font": {
           "color": "#FFFFFF"
          },
          "showarrow": false,
          "text": "0.01",
          "x": "status",
          "xref": "x",
          "y": "kitchen",
          "yref": "y"
         },
         {
          "font": {
           "color": "#FFFFFF"
          },
          "showarrow": false,
          "text": "0.31",
          "x": "bedroom",
          "xref": "x",
          "y": "kitchen",
          "yref": "y"
         },
         {
          "font": {
           "color": "#FFFFFF"
          },
          "showarrow": false,
          "text": "0.27",
          "x": "bathroom",
          "xref": "x",
          "y": "kitchen",
          "yref": "y"
         },
         {
          "font": {
           "color": "#FFFFFF"
          },
          "showarrow": false,
          "text": "0.29",
          "x": "beds",
          "xref": "x",
          "y": "kitchen",
          "yref": "y"
         },
         {
          "font": {
           "color": "#FFFFFF"
          },
          "showarrow": false,
          "text": "0.33",
          "x": "capacity",
          "xref": "x",
          "y": "kitchen",
          "yref": "y"
         },
         {
          "font": {
           "color": "#FFFFFF"
          },
          "showarrow": false,
          "text": "0.26",
          "x": "avg_daily_rate_per_unit",
          "xref": "x",
          "y": "kitchen",
          "yref": "y"
         },
         {
          "font": {
           "color": "#FFFFFF"
          },
          "showarrow": false,
          "text": "-0.08",
          "x": "wifi",
          "xref": "x",
          "y": "kitchen",
          "yref": "y"
         },
         {
          "font": {
           "color": "#FFFFFF"
          },
          "showarrow": false,
          "text": "0.17",
          "x": "tv",
          "xref": "x",
          "y": "kitchen",
          "yref": "y"
         },
         {
          "font": {
           "color": "#FFFFFF"
          },
          "showarrow": false,
          "text": "-0.05",
          "x": "cable_tv",
          "xref": "x",
          "y": "kitchen",
          "yref": "y"
         },
         {
          "font": {
           "color": "#FFFFFF"
          },
          "showarrow": false,
          "text": "0.06",
          "x": "ac",
          "xref": "x",
          "y": "kitchen",
          "yref": "y"
         },
         {
          "font": {
           "color": "#FFFFFF"
          },
          "showarrow": false,
          "text": "0.11",
          "x": "workspace",
          "xref": "x",
          "y": "kitchen",
          "yref": "y"
         },
         {
          "font": {
           "color": "#FFFFFF"
          },
          "showarrow": false,
          "text": "0.05",
          "x": "pool",
          "xref": "x",
          "y": "kitchen",
          "yref": "y"
         },
         {
          "font": {
           "color": "#FFFFFF"
          },
          "showarrow": false,
          "text": "0.0",
          "x": "parking",
          "xref": "x",
          "y": "kitchen",
          "yref": "y"
         },
         {
          "font": {
           "color": "#FFFFFF"
          },
          "showarrow": false,
          "text": "0.05",
          "x": "gym",
          "xref": "x",
          "y": "kitchen",
          "yref": "y"
         },
         {
          "font": {
           "color": "#FFFFFF"
          },
          "showarrow": false,
          "text": "1.0",
          "x": "kitchen",
          "xref": "x",
          "y": "kitchen",
          "yref": "y"
         },
         {
          "font": {
           "color": "#FFFFFF"
          },
          "showarrow": false,
          "text": "-0.16",
          "x": "airport_pickup_price_idr",
          "xref": "x",
          "y": "kitchen",
          "yref": "y"
         },
         {
          "font": {
           "color": "#FFFFFF"
          },
          "showarrow": false,
          "text": "-0.01",
          "x": "booking_guest_number",
          "xref": "x",
          "y": "airport_pickup_price_idr",
          "yref": "y"
         },
         {
          "font": {
           "color": "#FFFFFF"
          },
          "showarrow": false,
          "text": "0.0",
          "x": "booking_earned",
          "xref": "x",
          "y": "airport_pickup_price_idr",
          "yref": "y"
         },
         {
          "font": {
           "color": "#FFFFFF"
          },
          "showarrow": false,
          "text": "0.02",
          "x": "booking_currency",
          "xref": "x",
          "y": "airport_pickup_price_idr",
          "yref": "y"
         },
         {
          "font": {
           "color": "#FFFFFF"
          },
          "showarrow": false,
          "text": "0.0",
          "x": "review_sentiment_score",
          "xref": "x",
          "y": "airport_pickup_price_idr",
          "yref": "y"
         },
         {
          "font": {
           "color": "#FFFFFF"
          },
          "showarrow": false,
          "text": "nan",
          "x": "cancellation_policy",
          "xref": "x",
          "y": "airport_pickup_price_idr",
          "yref": "y"
         },
         {
          "font": {
           "color": "#FFFFFF"
          },
          "showarrow": false,
          "text": "0.01",
          "x": "booking_earned_in_idr",
          "xref": "x",
          "y": "airport_pickup_price_idr",
          "yref": "y"
         },
         {
          "font": {
           "color": "#FFFFFF"
          },
          "showarrow": false,
          "text": "-0.02",
          "x": "length_of_stay",
          "xref": "x",
          "y": "airport_pickup_price_idr",
          "yref": "y"
         },
         {
          "font": {
           "color": "#FFFFFF"
          },
          "showarrow": false,
          "text": "-0.01",
          "x": "booking_window",
          "xref": "x",
          "y": "airport_pickup_price_idr",
          "yref": "y"
         },
         {
          "font": {
           "color": "#FFFFFF"
          },
          "showarrow": false,
          "text": "-0.0",
          "x": "seasonality",
          "xref": "x",
          "y": "airport_pickup_price_idr",
          "yref": "y"
         },
         {
          "font": {
           "color": "#FFFFFF"
          },
          "showarrow": false,
          "text": "0.03",
          "x": "average_daily_rate",
          "xref": "x",
          "y": "airport_pickup_price_idr",
          "yref": "y"
         },
         {
          "font": {
           "color": "#FFFFFF"
          },
          "showarrow": false,
          "text": "0.03",
          "x": "status",
          "xref": "x",
          "y": "airport_pickup_price_idr",
          "yref": "y"
         },
         {
          "font": {
           "color": "#FFFFFF"
          },
          "showarrow": false,
          "text": "0.04",
          "x": "bedroom",
          "xref": "x",
          "y": "airport_pickup_price_idr",
          "yref": "y"
         },
         {
          "font": {
           "color": "#FFFFFF"
          },
          "showarrow": false,
          "text": "-0.03",
          "x": "bathroom",
          "xref": "x",
          "y": "airport_pickup_price_idr",
          "yref": "y"
         },
         {
          "font": {
           "color": "#FFFFFF"
          },
          "showarrow": false,
          "text": "-0.05",
          "x": "beds",
          "xref": "x",
          "y": "airport_pickup_price_idr",
          "yref": "y"
         },
         {
          "font": {
           "color": "#FFFFFF"
          },
          "showarrow": false,
          "text": "-0.03",
          "x": "capacity",
          "xref": "x",
          "y": "airport_pickup_price_idr",
          "yref": "y"
         },
         {
          "font": {
           "color": "#FFFFFF"
          },
          "showarrow": false,
          "text": "0.04",
          "x": "avg_daily_rate_per_unit",
          "xref": "x",
          "y": "airport_pickup_price_idr",
          "yref": "y"
         },
         {
          "font": {
           "color": "#FFFFFF"
          },
          "showarrow": false,
          "text": "0.17",
          "x": "wifi",
          "xref": "x",
          "y": "airport_pickup_price_idr",
          "yref": "y"
         },
         {
          "font": {
           "color": "#FFFFFF"
          },
          "showarrow": false,
          "text": "-0.15",
          "x": "tv",
          "xref": "x",
          "y": "airport_pickup_price_idr",
          "yref": "y"
         },
         {
          "font": {
           "color": "#FFFFFF"
          },
          "showarrow": false,
          "text": "-0.04",
          "x": "cable_tv",
          "xref": "x",
          "y": "airport_pickup_price_idr",
          "yref": "y"
         },
         {
          "font": {
           "color": "#FFFFFF"
          },
          "showarrow": false,
          "text": "-0.07",
          "x": "ac",
          "xref": "x",
          "y": "airport_pickup_price_idr",
          "yref": "y"
         },
         {
          "font": {
           "color": "#FFFFFF"
          },
          "showarrow": false,
          "text": "-0.08",
          "x": "workspace",
          "xref": "x",
          "y": "airport_pickup_price_idr",
          "yref": "y"
         },
         {
          "font": {
           "color": "#FFFFFF"
          },
          "showarrow": false,
          "text": "0.02",
          "x": "pool",
          "xref": "x",
          "y": "airport_pickup_price_idr",
          "yref": "y"
         },
         {
          "font": {
           "color": "#FFFFFF"
          },
          "showarrow": false,
          "text": "0.08",
          "x": "parking",
          "xref": "x",
          "y": "airport_pickup_price_idr",
          "yref": "y"
         },
         {
          "font": {
           "color": "#FFFFFF"
          },
          "showarrow": false,
          "text": "-0.11",
          "x": "gym",
          "xref": "x",
          "y": "airport_pickup_price_idr",
          "yref": "y"
         },
         {
          "font": {
           "color": "#FFFFFF"
          },
          "showarrow": false,
          "text": "-0.16",
          "x": "kitchen",
          "xref": "x",
          "y": "airport_pickup_price_idr",
          "yref": "y"
         },
         {
          "font": {
           "color": "#FFFFFF"
          },
          "showarrow": false,
          "text": "1.0",
          "x": "airport_pickup_price_idr",
          "xref": "x",
          "y": "airport_pickup_price_idr",
          "yref": "y"
         }
        ],
        "height": 750,
        "margin": {
         "b": 100,
         "l": 150,
         "r": 100,
         "t": 100
        },
        "template": {
         "data": {
          "bar": [
           {
            "error_x": {
             "color": "#2a3f5f"
            },
            "error_y": {
             "color": "#2a3f5f"
            },
            "marker": {
             "line": {
              "color": "#E5ECF6",
              "width": 0.5
             },
             "pattern": {
              "fillmode": "overlay",
              "size": 10,
              "solidity": 0.2
             }
            },
            "type": "bar"
           }
          ],
          "barpolar": [
           {
            "marker": {
             "line": {
              "color": "#E5ECF6",
              "width": 0.5
             },
             "pattern": {
              "fillmode": "overlay",
              "size": 10,
              "solidity": 0.2
             }
            },
            "type": "barpolar"
           }
          ],
          "carpet": [
           {
            "aaxis": {
             "endlinecolor": "#2a3f5f",
             "gridcolor": "white",
             "linecolor": "white",
             "minorgridcolor": "white",
             "startlinecolor": "#2a3f5f"
            },
            "baxis": {
             "endlinecolor": "#2a3f5f",
             "gridcolor": "white",
             "linecolor": "white",
             "minorgridcolor": "white",
             "startlinecolor": "#2a3f5f"
            },
            "type": "carpet"
           }
          ],
          "choropleth": [
           {
            "colorbar": {
             "outlinewidth": 0,
             "ticks": ""
            },
            "type": "choropleth"
           }
          ],
          "contour": [
           {
            "colorbar": {
             "outlinewidth": 0,
             "ticks": ""
            },
            "colorscale": [
             [
              0,
              "#0d0887"
             ],
             [
              0.1111111111111111,
              "#46039f"
             ],
             [
              0.2222222222222222,
              "#7201a8"
             ],
             [
              0.3333333333333333,
              "#9c179e"
             ],
             [
              0.4444444444444444,
              "#bd3786"
             ],
             [
              0.5555555555555556,
              "#d8576b"
             ],
             [
              0.6666666666666666,
              "#ed7953"
             ],
             [
              0.7777777777777778,
              "#fb9f3a"
             ],
             [
              0.8888888888888888,
              "#fdca26"
             ],
             [
              1,
              "#f0f921"
             ]
            ],
            "type": "contour"
           }
          ],
          "contourcarpet": [
           {
            "colorbar": {
             "outlinewidth": 0,
             "ticks": ""
            },
            "type": "contourcarpet"
           }
          ],
          "heatmap": [
           {
            "colorbar": {
             "outlinewidth": 0,
             "ticks": ""
            },
            "colorscale": [
             [
              0,
              "#0d0887"
             ],
             [
              0.1111111111111111,
              "#46039f"
             ],
             [
              0.2222222222222222,
              "#7201a8"
             ],
             [
              0.3333333333333333,
              "#9c179e"
             ],
             [
              0.4444444444444444,
              "#bd3786"
             ],
             [
              0.5555555555555556,
              "#d8576b"
             ],
             [
              0.6666666666666666,
              "#ed7953"
             ],
             [
              0.7777777777777778,
              "#fb9f3a"
             ],
             [
              0.8888888888888888,
              "#fdca26"
             ],
             [
              1,
              "#f0f921"
             ]
            ],
            "type": "heatmap"
           }
          ],
          "heatmapgl": [
           {
            "colorbar": {
             "outlinewidth": 0,
             "ticks": ""
            },
            "colorscale": [
             [
              0,
              "#0d0887"
             ],
             [
              0.1111111111111111,
              "#46039f"
             ],
             [
              0.2222222222222222,
              "#7201a8"
             ],
             [
              0.3333333333333333,
              "#9c179e"
             ],
             [
              0.4444444444444444,
              "#bd3786"
             ],
             [
              0.5555555555555556,
              "#d8576b"
             ],
             [
              0.6666666666666666,
              "#ed7953"
             ],
             [
              0.7777777777777778,
              "#fb9f3a"
             ],
             [
              0.8888888888888888,
              "#fdca26"
             ],
             [
              1,
              "#f0f921"
             ]
            ],
            "type": "heatmapgl"
           }
          ],
          "histogram": [
           {
            "marker": {
             "pattern": {
              "fillmode": "overlay",
              "size": 10,
              "solidity": 0.2
             }
            },
            "type": "histogram"
           }
          ],
          "histogram2d": [
           {
            "colorbar": {
             "outlinewidth": 0,
             "ticks": ""
            },
            "colorscale": [
             [
              0,
              "#0d0887"
             ],
             [
              0.1111111111111111,
              "#46039f"
             ],
             [
              0.2222222222222222,
              "#7201a8"
             ],
             [
              0.3333333333333333,
              "#9c179e"
             ],
             [
              0.4444444444444444,
              "#bd3786"
             ],
             [
              0.5555555555555556,
              "#d8576b"
             ],
             [
              0.6666666666666666,
              "#ed7953"
             ],
             [
              0.7777777777777778,
              "#fb9f3a"
             ],
             [
              0.8888888888888888,
              "#fdca26"
             ],
             [
              1,
              "#f0f921"
             ]
            ],
            "type": "histogram2d"
           }
          ],
          "histogram2dcontour": [
           {
            "colorbar": {
             "outlinewidth": 0,
             "ticks": ""
            },
            "colorscale": [
             [
              0,
              "#0d0887"
             ],
             [
              0.1111111111111111,
              "#46039f"
             ],
             [
              0.2222222222222222,
              "#7201a8"
             ],
             [
              0.3333333333333333,
              "#9c179e"
             ],
             [
              0.4444444444444444,
              "#bd3786"
             ],
             [
              0.5555555555555556,
              "#d8576b"
             ],
             [
              0.6666666666666666,
              "#ed7953"
             ],
             [
              0.7777777777777778,
              "#fb9f3a"
             ],
             [
              0.8888888888888888,
              "#fdca26"
             ],
             [
              1,
              "#f0f921"
             ]
            ],
            "type": "histogram2dcontour"
           }
          ],
          "mesh3d": [
           {
            "colorbar": {
             "outlinewidth": 0,
             "ticks": ""
            },
            "type": "mesh3d"
           }
          ],
          "parcoords": [
           {
            "line": {
             "colorbar": {
              "outlinewidth": 0,
              "ticks": ""
             }
            },
            "type": "parcoords"
           }
          ],
          "pie": [
           {
            "automargin": true,
            "type": "pie"
           }
          ],
          "scatter": [
           {
            "fillpattern": {
             "fillmode": "overlay",
             "size": 10,
             "solidity": 0.2
            },
            "type": "scatter"
           }
          ],
          "scatter3d": [
           {
            "line": {
             "colorbar": {
              "outlinewidth": 0,
              "ticks": ""
             }
            },
            "marker": {
             "colorbar": {
              "outlinewidth": 0,
              "ticks": ""
             }
            },
            "type": "scatter3d"
           }
          ],
          "scattercarpet": [
           {
            "marker": {
             "colorbar": {
              "outlinewidth": 0,
              "ticks": ""
             }
            },
            "type": "scattercarpet"
           }
          ],
          "scattergeo": [
           {
            "marker": {
             "colorbar": {
              "outlinewidth": 0,
              "ticks": ""
             }
            },
            "type": "scattergeo"
           }
          ],
          "scattergl": [
           {
            "marker": {
             "colorbar": {
              "outlinewidth": 0,
              "ticks": ""
             }
            },
            "type": "scattergl"
           }
          ],
          "scattermapbox": [
           {
            "marker": {
             "colorbar": {
              "outlinewidth": 0,
              "ticks": ""
             }
            },
            "type": "scattermapbox"
           }
          ],
          "scatterpolar": [
           {
            "marker": {
             "colorbar": {
              "outlinewidth": 0,
              "ticks": ""
             }
            },
            "type": "scatterpolar"
           }
          ],
          "scatterpolargl": [
           {
            "marker": {
             "colorbar": {
              "outlinewidth": 0,
              "ticks": ""
             }
            },
            "type": "scatterpolargl"
           }
          ],
          "scatterternary": [
           {
            "marker": {
             "colorbar": {
              "outlinewidth": 0,
              "ticks": ""
             }
            },
            "type": "scatterternary"
           }
          ],
          "surface": [
           {
            "colorbar": {
             "outlinewidth": 0,
             "ticks": ""
            },
            "colorscale": [
             [
              0,
              "#0d0887"
             ],
             [
              0.1111111111111111,
              "#46039f"
             ],
             [
              0.2222222222222222,
              "#7201a8"
             ],
             [
              0.3333333333333333,
              "#9c179e"
             ],
             [
              0.4444444444444444,
              "#bd3786"
             ],
             [
              0.5555555555555556,
              "#d8576b"
             ],
             [
              0.6666666666666666,
              "#ed7953"
             ],
             [
              0.7777777777777778,
              "#fb9f3a"
             ],
             [
              0.8888888888888888,
              "#fdca26"
             ],
             [
              1,
              "#f0f921"
             ]
            ],
            "type": "surface"
           }
          ],
          "table": [
           {
            "cells": {
             "fill": {
              "color": "#EBF0F8"
             },
             "line": {
              "color": "white"
             }
            },
            "header": {
             "fill": {
              "color": "#C8D4E3"
             },
             "line": {
              "color": "white"
             }
            },
            "type": "table"
           }
          ]
         },
         "layout": {
          "annotationdefaults": {
           "arrowcolor": "#2a3f5f",
           "arrowhead": 0,
           "arrowwidth": 1
          },
          "autotypenumbers": "strict",
          "coloraxis": {
           "colorbar": {
            "outlinewidth": 0,
            "ticks": ""
           }
          },
          "colorscale": {
           "diverging": [
            [
             0,
             "#8e0152"
            ],
            [
             0.1,
             "#c51b7d"
            ],
            [
             0.2,
             "#de77ae"
            ],
            [
             0.3,
             "#f1b6da"
            ],
            [
             0.4,
             "#fde0ef"
            ],
            [
             0.5,
             "#f7f7f7"
            ],
            [
             0.6,
             "#e6f5d0"
            ],
            [
             0.7,
             "#b8e186"
            ],
            [
             0.8,
             "#7fbc41"
            ],
            [
             0.9,
             "#4d9221"
            ],
            [
             1,
             "#276419"
            ]
           ],
           "sequential": [
            [
             0,
             "#0d0887"
            ],
            [
             0.1111111111111111,
             "#46039f"
            ],
            [
             0.2222222222222222,
             "#7201a8"
            ],
            [
             0.3333333333333333,
             "#9c179e"
            ],
            [
             0.4444444444444444,
             "#bd3786"
            ],
            [
             0.5555555555555556,
             "#d8576b"
            ],
            [
             0.6666666666666666,
             "#ed7953"
            ],
            [
             0.7777777777777778,
             "#fb9f3a"
            ],
            [
             0.8888888888888888,
             "#fdca26"
            ],
            [
             1,
             "#f0f921"
            ]
           ],
           "sequentialminus": [
            [
             0,
             "#0d0887"
            ],
            [
             0.1111111111111111,
             "#46039f"
            ],
            [
             0.2222222222222222,
             "#7201a8"
            ],
            [
             0.3333333333333333,
             "#9c179e"
            ],
            [
             0.4444444444444444,
             "#bd3786"
            ],
            [
             0.5555555555555556,
             "#d8576b"
            ],
            [
             0.6666666666666666,
             "#ed7953"
            ],
            [
             0.7777777777777778,
             "#fb9f3a"
            ],
            [
             0.8888888888888888,
             "#fdca26"
            ],
            [
             1,
             "#f0f921"
            ]
           ]
          },
          "colorway": [
           "#636efa",
           "#EF553B",
           "#00cc96",
           "#ab63fa",
           "#FFA15A",
           "#19d3f3",
           "#FF6692",
           "#B6E880",
           "#FF97FF",
           "#FECB52"
          ],
          "font": {
           "color": "#2a3f5f"
          },
          "geo": {
           "bgcolor": "white",
           "lakecolor": "white",
           "landcolor": "#E5ECF6",
           "showlakes": true,
           "showland": true,
           "subunitcolor": "white"
          },
          "hoverlabel": {
           "align": "left"
          },
          "hovermode": "closest",
          "mapbox": {
           "style": "light"
          },
          "paper_bgcolor": "white",
          "plot_bgcolor": "#E5ECF6",
          "polar": {
           "angularaxis": {
            "gridcolor": "white",
            "linecolor": "white",
            "ticks": ""
           },
           "bgcolor": "#E5ECF6",
           "radialaxis": {
            "gridcolor": "white",
            "linecolor": "white",
            "ticks": ""
           }
          },
          "scene": {
           "xaxis": {
            "backgroundcolor": "#E5ECF6",
            "gridcolor": "white",
            "gridwidth": 2,
            "linecolor": "white",
            "showbackground": true,
            "ticks": "",
            "zerolinecolor": "white"
           },
           "yaxis": {
            "backgroundcolor": "#E5ECF6",
            "gridcolor": "white",
            "gridwidth": 2,
            "linecolor": "white",
            "showbackground": true,
            "ticks": "",
            "zerolinecolor": "white"
           },
           "zaxis": {
            "backgroundcolor": "#E5ECF6",
            "gridcolor": "white",
            "gridwidth": 2,
            "linecolor": "white",
            "showbackground": true,
            "ticks": "",
            "zerolinecolor": "white"
           }
          },
          "shapedefaults": {
           "line": {
            "color": "#2a3f5f"
           }
          },
          "ternary": {
           "aaxis": {
            "gridcolor": "white",
            "linecolor": "white",
            "ticks": ""
           },
           "baxis": {
            "gridcolor": "white",
            "linecolor": "white",
            "ticks": ""
           },
           "bgcolor": "#E5ECF6",
           "caxis": {
            "gridcolor": "white",
            "linecolor": "white",
            "ticks": ""
           }
          },
          "title": {
           "x": 0.05
          },
          "xaxis": {
           "automargin": true,
           "gridcolor": "white",
           "linecolor": "white",
           "ticks": "",
           "title": {
            "standoff": 15
           },
           "zerolinecolor": "white",
           "zerolinewidth": 2
          },
          "yaxis": {
           "automargin": true,
           "gridcolor": "white",
           "linecolor": "white",
           "ticks": "",
           "title": {
            "standoff": 15
           },
           "zerolinecolor": "white",
           "zerolinewidth": 2
          }
         }
        },
        "title": {
         "font": {
          "size": 24
         },
         "text": "<b>Correlation Matrix (cont. features)<b>",
         "x": 0.5
        },
        "width": 1000,
        "xaxis": {
         "dtick": 1,
         "gridcolor": "rgb(0, 0, 0)",
         "showgrid": false,
         "side": "bottom",
         "ticks": ""
        },
        "yaxis": {
         "autorange": "reversed",
         "dtick": 1,
         "showgrid": false,
         "ticks": "",
         "ticksuffix": "  "
        }
       }
      }
     },
     "metadata": {},
     "output_type": "display_data"
    }
   ],
   "source": [
    "cols = [col for col in df.columns if df[col].dtype != 'object'][1:]\n",
    "corr = df[cols].corr()\n",
    "\n",
    "fig = ff.create_annotated_heatmap(\n",
    "    z=corr.to_numpy().round(2),\n",
    "    x=list(corr.index.values),\n",
    "    y=list(corr.columns.values),       \n",
    "    xgap=3, ygap=3,\n",
    "    zmin=-1, zmax=1,\n",
    "    colorscale='earth',\n",
    "    colorbar_thickness=30,\n",
    "    colorbar_ticklen=3,\n",
    ")\n",
    "fig.update_layout(title_text='<b>Correlation Matrix (cont. features)<b>',\n",
    "                  title_x=0.5,\n",
    "                  titlefont={'size': 24},\n",
    "                  width=1000, height=750,\n",
    "                  margin=dict(l=150, r=100, b=100, t=100),\n",
    "                  xaxis_showgrid=False,\n",
    "                  xaxis={'side': 'bottom'},\n",
    "                  yaxis_showgrid=False,\n",
    "                  yaxis_autorange='reversed',                   \n",
    "                  paper_bgcolor=None,\n",
    "                  )\n",
    "fig.show()\n"
   ]
  },
  {
   "cell_type": "code",
   "execution_count": null,
   "metadata": {},
   "outputs": [],
   "source": []
  },
  {
   "cell_type": "markdown",
   "metadata": {},
   "source": [
    "## **4 Data Pre-Prosessing**\n",
    "\n",
    "**Data Pre-Prosessing** adalah tahapan untuk menghilangkan beberapa permasalahan yang bisa mengganggu saat pemrosesan data. Hal tersebut karena banyak data yang formatnya tidak konsisten. Data preprocessing merupakan teknik sebelum melakukan modeling.\n"
   ]
  },
  {
   "cell_type": "code",
   "execution_count": 187,
   "metadata": {},
   "outputs": [],
   "source": [
    "def replace_outliers(column, lower_bound, upper_bound):\n",
    "    mask = (column < lower_bound) | (column > upper_bound)\n",
    "    column[mask] = column.clip(lower=lower_bound, upper=upper_bound)\n",
    "\n",
    "# Define columns and their corresponding bounds\n",
    "columns_and_bounds = {\n",
    "    'average_daily_rate': (357199.5, 2374200.75 )}\n",
    "\n",
    "# Replace outliers for each column\n",
    "for column, (lower_bound, upper_bound) in columns_and_bounds.items():\n",
    "    replace_outliers(raw_data['average_daily_rate'], lower_bound, upper_bound)\n"
   ]
  },
  {
   "cell_type": "code",
   "execution_count": 188,
   "metadata": {},
   "outputs": [],
   "source": [
    "\n",
    "raw_data['booking_check_in'] = pd.to_datetime(raw_data['booking_check_in'])\n",
    "raw_data['booking_check_out'] = pd.to_datetime(raw_data['booking_check_out'])\n",
    "\n",
    "def convert_to_minutes(time_str):\n",
    "    if pd.isna(time_str):\n",
    "        return None\n",
    "    if 'hour' in time_str:\n",
    "        hours = int(time_str.split()[0])\n",
    "        return hours * 60\n",
    "    elif 'minute' in time_str:\n",
    "        minutes = int(time_str.split()[0])\n",
    "        return minutes\n",
    "    else:\n",
    "        return None\n",
    "\n",
    "raw_data['area_distance_to_airport'] = raw_data['area_distance_to_airport'].apply(convert_to_minutes)\n",
    "\n",
    "raw_data['booking_check_in_date'] = raw_data['booking_check_in'].dt.day\n",
    "raw_data['booking_check_in_month'] = raw_data['booking_check_in'].dt.month\n",
    "raw_data['booking_check_in_year'] = raw_data['booking_check_in'].dt.year\n",
    "\n",
    "raw_data['booking_check_out_date'] = raw_data['booking_check_out'].dt.day\n",
    "raw_data['booking_check_out_month'] = raw_data['booking_check_out'].dt.month\n",
    "raw_data['booking_check_out_year'] = raw_data['booking_check_out'].dt.year\n",
    "\n"
   ]
  },
  {
   "cell_type": "code",
   "execution_count": 189,
   "metadata": {},
   "outputs": [],
   "source": [
    "raw_data = raw_data.drop(['booking_id','booking_check_in','booking_check_out','booking_received_timestamp','cancellation_policy','status','booking_window'\n",
    "], axis = 1)\n"
   ]
  },
  {
   "cell_type": "code",
   "execution_count": 190,
   "metadata": {},
   "outputs": [
    {
     "data": {
      "text/plain": [
       "booking_status                  0\n",
       "booking_guest_number        47810\n",
       "booking_earned                  0\n",
       "booking_currency                0\n",
       "listing_id                      0\n",
       "review_sentiment            50795\n",
       "review_sentiment_score      50795\n",
       "booking_earned_in_idr           0\n",
       "length_of_stay                  0\n",
       "seasonality                     0\n",
       "average_daily_rate              0\n",
       "unit_id                        14\n",
       "bedroom                       513\n",
       "bathroom                    11595\n",
       "beds                        11595\n",
       "capacity                    15556\n",
       "property_id                   447\n",
       "avg_daily_rate_per_unit         0\n",
       "wifi                        14743\n",
       "tv                          14743\n",
       "cable_tv                    14743\n",
       "ac                          14743\n",
       "workspace                   14743\n",
       "pool                        14743\n",
       "parking                     14743\n",
       "gym                         14743\n",
       "kitchen                     14743\n",
       "property_id1                  578\n",
       "area_id                       578\n",
       "area_name                     578\n",
       "area_distance_to_airport     1469\n",
       "airport_pickup_price_idr     8781\n",
       "booking_check_in_date           0\n",
       "booking_check_in_month          0\n",
       "booking_check_in_year           0\n",
       "booking_check_out_date          0\n",
       "booking_check_out_month         0\n",
       "booking_check_out_year          0\n",
       "dtype: int64"
      ]
     },
     "execution_count": 190,
     "metadata": {},
     "output_type": "execute_result"
    }
   ],
   "source": [
    "raw_data.isnull().sum()"
   ]
  },
  {
   "cell_type": "code",
   "execution_count": 191,
   "metadata": {},
   "outputs": [
    {
     "name": "stdout",
     "output_type": "stream",
     "text": [
      "   unit_id  review_sentiment  listing_id  property_id  area_id  area_name\n",
      "0      335                 2        1817          154       11         13\n",
      "1      334                 2        1893          192       11         13\n",
      "2      334                 2        1893          192       11         13\n",
      "3      335                 2        1817          154       11         13\n",
      "4      335                 2        1817          154       11         13\n"
     ]
    }
   ],
   "source": [
    "from sklearn.preprocessing import LabelEncoder\n",
    "\n",
    "# Inisialisasi LabelEncoder\n",
    "label_encoder = LabelEncoder()\n",
    "\n",
    "# Menggunakan LabelEncoder untuk kolom unit_id\n",
    "raw_data['listing_id'] = label_encoder.fit_transform(raw_data['listing_id'])\n",
    "\n",
    "raw_data['review_sentiment'] = label_encoder.fit_transform(raw_data['review_sentiment'])\n",
    "\n",
    "raw_data['property_id1'] = label_encoder.fit_transform(raw_data['property_id1'])\n",
    "\n",
    "raw_data['unit_id'] = label_encoder.fit_transform(raw_data['unit_id'])\n",
    "\n",
    "raw_data['unit_id'] = label_encoder.fit_transform(raw_data['unit_id'])\n",
    "\n",
    "raw_data['property_id'] = label_encoder.fit_transform(raw_data['property_id'])\n",
    "\n",
    "raw_data['area_id'] = label_encoder.fit_transform(raw_data['area_id'])\n",
    "\n",
    "raw_data['area_name'] = label_encoder.fit_transform(raw_data['area_name'])\n",
    "\n",
    "print(raw_data[['unit_id', 'review_sentiment','listing_id','property_id', 'area_id', 'area_name']].head())\n"
   ]
  },
  {
   "cell_type": "code",
   "execution_count": 192,
   "metadata": {},
   "outputs": [
    {
     "name": "stdout",
     "output_type": "stream",
     "text": [
      "\n",
      "Jumlah nilai yang hilang setelah imputasi:\n",
      " booking_status                  0\n",
      "booking_guest_number            0\n",
      "booking_earned                  0\n",
      "booking_currency                0\n",
      "listing_id                      0\n",
      "review_sentiment                0\n",
      "review_sentiment_score      50795\n",
      "booking_earned_in_idr           0\n",
      "length_of_stay                  0\n",
      "seasonality                     0\n",
      "average_daily_rate              0\n",
      "unit_id                         0\n",
      "bedroom                         0\n",
      "bathroom                        0\n",
      "beds                            0\n",
      "capacity                        0\n",
      "property_id                     0\n",
      "avg_daily_rate_per_unit         0\n",
      "wifi                            0\n",
      "tv                              0\n",
      "cable_tv                        0\n",
      "ac                              0\n",
      "workspace                       0\n",
      "pool                            0\n",
      "parking                         0\n",
      "gym                             0\n",
      "kitchen                         0\n",
      "property_id1                    0\n",
      "area_id                         0\n",
      "area_name                       0\n",
      "area_distance_to_airport     1469\n",
      "airport_pickup_price_idr     8781\n",
      "booking_check_in_date           0\n",
      "booking_check_in_month          0\n",
      "booking_check_in_year           0\n",
      "booking_check_out_date          0\n",
      "booking_check_out_month         0\n",
      "booking_check_out_year          0\n",
      "cluster                         0\n",
      "dtype: int64\n"
     ]
    }
   ],
   "source": [
    "from sklearn.cluster import KMeans\n",
    "from sklearn.impute import SimpleImputer\n",
    "from sklearn.preprocessing import StandardScaler\n",
    "# Memilih kolom yang akan digunakan untuk clustering\n",
    "columns_for_clustering = ['bedroom', 'bathroom', 'beds', 'capacity','wifi','tv','cable_tv','ac','workspace','pool',\n",
    "                          'booking_guest_number','parking','gym','kitchen']\n",
    "\n",
    "# Mengisi nilai yang hilang sementara dengan SimpleImputer (mean strategy)\n",
    "imputer = SimpleImputer(strategy='mean')\n",
    "data_imputed = imputer.fit_transform(raw_data[columns_for_clustering])\n",
    "\n",
    "# Normalisasi data sebelum clustering\n",
    "scaler = StandardScaler()\n",
    "data_scaled = scaler.fit_transform(data_imputed)\n",
    "\n",
    "# Menentukan jumlah cluster (misalnya, 5)\n",
    "kmeans = KMeans(n_clusters=5, random_state=42)\n",
    "clusters = kmeans.fit_predict(data_scaled)\n",
    "\n",
    "# Menambahkan kolom cluster ke DataFrame asli\n",
    "raw_data['cluster'] = clusters\n",
    "\n",
    "# Mengisi nilai yang hilang dengan centroid dari masing-masing cluster\n",
    "for column in columns_for_clustering:\n",
    "    for cluster in range(5):\n",
    "        cluster_mean = raw_data[raw_data['cluster'] == cluster][column].mean()\n",
    "        raw_data.loc[(raw_data[column].isnull()) & (raw_data['cluster'] == cluster), column] = cluster_mean\n",
    "\n",
    "# Mengecek kembali nilai yang hilang setelah imputasi\n",
    "print(\"\\nJumlah nilai yang hilang setelah imputasi:\\n\", raw_data.isnull().sum())\n",
    "\n",
    "# Menghapus kolom cluster karena sudah tidak diperlukan\n",
    "raw_data.drop(columns=['cluster'], inplace=True)"
   ]
  },
  {
   "cell_type": "code",
   "execution_count": 193,
   "metadata": {},
   "outputs": [
    {
     "name": "stdout",
     "output_type": "stream",
     "text": [
      "\n",
      "Jumlah nilai yang hilang setelah imputasi:\n",
      " booking_status                  0\n",
      "booking_guest_number            0\n",
      "booking_earned                  0\n",
      "booking_currency                0\n",
      "listing_id                      0\n",
      "review_sentiment                0\n",
      "review_sentiment_score      50795\n",
      "booking_earned_in_idr           0\n",
      "length_of_stay                  0\n",
      "seasonality                     0\n",
      "average_daily_rate              0\n",
      "unit_id                         0\n",
      "bedroom                         0\n",
      "bathroom                        0\n",
      "beds                            0\n",
      "capacity                        0\n",
      "property_id                     0\n",
      "avg_daily_rate_per_unit         0\n",
      "wifi                            0\n",
      "tv                              0\n",
      "cable_tv                        0\n",
      "ac                              0\n",
      "workspace                       0\n",
      "pool                            0\n",
      "parking                         0\n",
      "gym                             0\n",
      "kitchen                         0\n",
      "property_id1                    0\n",
      "area_id                         0\n",
      "area_name                       0\n",
      "area_distance_to_airport     1469\n",
      "airport_pickup_price_idr     8781\n",
      "booking_check_in_date           0\n",
      "booking_check_in_month          0\n",
      "booking_check_in_year           0\n",
      "booking_check_out_date          0\n",
      "booking_check_out_month         0\n",
      "booking_check_out_year          0\n",
      "cluster                         0\n",
      "dtype: int64\n"
     ]
    }
   ],
   "source": [
    "from sklearn.cluster import KMeans\n",
    "from sklearn.impute import SimpleImputer\n",
    "from sklearn.preprocessing import StandardScaler\n",
    "# Memilih kolom yang akan digunakan untuk clustering\n",
    "columns_for_clustering = ['booking_check_in_date','booking_check_in_month','booking_check_in_year',\n",
    "                          'booking_check_in_year','booking_check_out_month','booking_check_out_year']\n",
    "\n",
    "# Mengisi nilai yang hilang sementara dengan SimpleImputer (mean strategy)\n",
    "imputer = SimpleImputer(strategy='mean')\n",
    "data_imputed = imputer.fit_transform(raw_data[columns_for_clustering])\n",
    "\n",
    "# Normalisasi data sebelum clustering\n",
    "scaler = StandardScaler()\n",
    "data_scaled = scaler.fit_transform(data_imputed)\n",
    "\n",
    "# Menentukan jumlah cluster (misalnya, 5)\n",
    "kmeans = KMeans(n_clusters=5, random_state=42)\n",
    "clusters = kmeans.fit_predict(data_scaled)\n",
    "\n",
    "# Menambahkan kolom cluster ke DataFrame asli\n",
    "raw_data['cluster'] = clusters\n",
    "\n",
    "# Mengisi nilai yang hilang dengan centroid dari masing-masing cluster\n",
    "for column in columns_for_clustering:\n",
    "    for cluster in range(5):\n",
    "        cluster_mean = raw_data[raw_data['cluster'] == cluster][column].mean()\n",
    "        raw_data.loc[(raw_data[column].isnull()) & (raw_data['cluster'] == cluster), column] = cluster_mean\n",
    "\n",
    "# Mengecek kembali nilai yang hilang setelah imputasi\n",
    "print(\"\\nJumlah nilai yang hilang setelah imputasi:\\n\", raw_data.isnull().sum())\n",
    "\n",
    "# Menghapus kolom cluster karena sudah tidak diperlukan\n",
    "raw_data.drop(columns=['cluster'], inplace=True)"
   ]
  },
  {
   "cell_type": "markdown",
   "metadata": {},
   "source": []
  },
  {
   "cell_type": "code",
   "execution_count": 194,
   "metadata": {},
   "outputs": [
    {
     "name": "stdout",
     "output_type": "stream",
     "text": [
      "Hasil imputasi untuk kolom area_distance_to_airport dan airport_pickup_price_idr:\n",
      "   airport_pickup_price_idr  area_distance_to_airport  review_sentiment_score\n",
      "0                  325000.0                      45.0                0.655466\n",
      "1                  325000.0                      45.0                0.656976\n",
      "2                  325000.0                      45.0                0.687372\n",
      "3                  325000.0                      45.0                0.979358\n",
      "4                  325000.0                      45.0                0.670770\n"
     ]
    },
    {
     "data": {
      "text/plain": [
       "booking_status              0\n",
       "booking_guest_number        0\n",
       "booking_earned              0\n",
       "booking_currency            0\n",
       "listing_id                  0\n",
       "review_sentiment            0\n",
       "review_sentiment_score      0\n",
       "booking_earned_in_idr       0\n",
       "length_of_stay              0\n",
       "seasonality                 0\n",
       "average_daily_rate          0\n",
       "unit_id                     0\n",
       "bedroom                     0\n",
       "bathroom                    0\n",
       "beds                        0\n",
       "capacity                    0\n",
       "property_id                 0\n",
       "avg_daily_rate_per_unit     0\n",
       "wifi                        0\n",
       "tv                          0\n",
       "cable_tv                    0\n",
       "ac                          0\n",
       "workspace                   0\n",
       "pool                        0\n",
       "parking                     0\n",
       "gym                         0\n",
       "kitchen                     0\n",
       "property_id1                0\n",
       "area_id                     0\n",
       "area_name                   0\n",
       "area_distance_to_airport    0\n",
       "airport_pickup_price_idr    0\n",
       "booking_check_in_date       0\n",
       "booking_check_in_month      0\n",
       "booking_check_in_year       0\n",
       "booking_check_out_date      0\n",
       "booking_check_out_month     0\n",
       "booking_check_out_year      0\n",
       "dtype: int64"
      ]
     },
     "execution_count": 194,
     "metadata": {},
     "output_type": "execute_result"
    }
   ],
   "source": [
    "from sklearn.experimental import enable_iterative_imputer\n",
    "from sklearn.impute import IterativeImputer\n",
    "import pandas as pd\n",
    "import numpy as np\n",
    "from sklearn.preprocessing import StandardScaler\n",
    "columns_to_impute = [ 'airport_pickup_price_idr','area_distance_to_airport','review_sentiment_score']\n",
    "imputer = IterativeImputer(max_iter=10, random_state=0)\n",
    "\n",
    "# Memilih subset data untuk kolom-kolom yang akan diimputasi\n",
    "data_to_impute = raw_data[columns_to_impute]\n",
    "\n",
    "# Melakukan imputasi\n",
    "data_imputed = imputer.fit_transform(data_to_impute)\n",
    "\n",
    "# Mengganti nilai yang telah diimputasi kembali ke dataset asli\n",
    "raw_data[columns_to_impute] = data_imputed\n",
    "\n",
    "# Menampilkan hasil imputasi\n",
    "print(\"Hasil imputasi untuk kolom area_distance_to_airport dan airport_pickup_price_idr:\")\n",
    "print(raw_data[columns_to_impute].head())\n",
    "raw_data.isnull().sum()"
   ]
  },
  {
   "cell_type": "code",
   "execution_count": 195,
   "metadata": {},
   "outputs": [
    {
     "name": "stdout",
     "output_type": "stream",
     "text": [
      "<class 'pandas.core.frame.DataFrame'>\n",
      "RangeIndex: 56825 entries, 0 to 56824\n",
      "Data columns (total 38 columns):\n",
      " #   Column                    Non-Null Count  Dtype  \n",
      "---  ------                    --------------  -----  \n",
      " 0   booking_status            56825 non-null  int64  \n",
      " 1   booking_guest_number      56825 non-null  float64\n",
      " 2   booking_earned            56825 non-null  float64\n",
      " 3   booking_currency          56825 non-null  int64  \n",
      " 4   listing_id                56825 non-null  int32  \n",
      " 5   review_sentiment          56825 non-null  int32  \n",
      " 6   review_sentiment_score    56825 non-null  float64\n",
      " 7   booking_earned_in_idr     56825 non-null  float64\n",
      " 8   length_of_stay            56825 non-null  int64  \n",
      " 9   seasonality               56825 non-null  int64  \n",
      " 10  average_daily_rate        56825 non-null  float64\n",
      " 11  unit_id                   56825 non-null  int64  \n",
      " 12  bedroom                   56825 non-null  float64\n",
      " 13  bathroom                  56825 non-null  float64\n",
      " 14  beds                      56825 non-null  float64\n",
      " 15  capacity                  56825 non-null  float64\n",
      " 16  property_id               56825 non-null  int32  \n",
      " 17  avg_daily_rate_per_unit   56825 non-null  float64\n",
      " 18  wifi                      56825 non-null  float64\n",
      " 19  tv                        56825 non-null  float64\n",
      " 20  cable_tv                  56825 non-null  float64\n",
      " 21  ac                        56825 non-null  float64\n",
      " 22  workspace                 56825 non-null  float64\n",
      " 23  pool                      56825 non-null  float64\n",
      " 24  parking                   56825 non-null  float64\n",
      " 25  gym                       56825 non-null  float64\n",
      " 26  kitchen                   56825 non-null  float64\n",
      " 27  property_id1              56825 non-null  int32  \n",
      " 28  area_id                   56825 non-null  int32  \n",
      " 29  area_name                 56825 non-null  int32  \n",
      " 30  area_distance_to_airport  56825 non-null  float64\n",
      " 31  airport_pickup_price_idr  56825 non-null  float64\n",
      " 32  booking_check_in_date     56825 non-null  float64\n",
      " 33  booking_check_in_month    56825 non-null  float64\n",
      " 34  booking_check_in_year     56825 non-null  float64\n",
      " 35  booking_check_out_date    56825 non-null  int32  \n",
      " 36  booking_check_out_month   56825 non-null  float64\n",
      " 37  booking_check_out_year    56825 non-null  float64\n",
      "dtypes: float64(26), int32(7), int64(5)\n",
      "memory usage: 15.0 MB\n"
     ]
    }
   ],
   "source": [
    "data = raw_data\n",
    "data.info()"
   ]
  },
  {
   "cell_type": "code",
   "execution_count": 196,
   "metadata": {},
   "outputs": [
    {
     "data": {
      "text/plain": [
       "booking_status              0\n",
       "booking_guest_number        0\n",
       "booking_earned              0\n",
       "booking_currency            0\n",
       "listing_id                  0\n",
       "review_sentiment            0\n",
       "review_sentiment_score      0\n",
       "booking_earned_in_idr       0\n",
       "length_of_stay              0\n",
       "seasonality                 0\n",
       "average_daily_rate          0\n",
       "unit_id                     0\n",
       "bedroom                     0\n",
       "bathroom                    0\n",
       "beds                        0\n",
       "capacity                    0\n",
       "property_id                 0\n",
       "avg_daily_rate_per_unit     0\n",
       "wifi                        0\n",
       "tv                          0\n",
       "cable_tv                    0\n",
       "ac                          0\n",
       "workspace                   0\n",
       "pool                        0\n",
       "parking                     0\n",
       "gym                         0\n",
       "kitchen                     0\n",
       "property_id1                0\n",
       "area_id                     0\n",
       "area_name                   0\n",
       "area_distance_to_airport    0\n",
       "airport_pickup_price_idr    0\n",
       "booking_check_in_date       0\n",
       "booking_check_in_month      0\n",
       "booking_check_in_year       0\n",
       "booking_check_out_date      0\n",
       "booking_check_out_month     0\n",
       "booking_check_out_year      0\n",
       "dtype: int64"
      ]
     },
     "execution_count": 196,
     "metadata": {},
     "output_type": "execute_result"
    }
   ],
   "source": [
    "data.isnull().sum()"
   ]
  },
  {
   "cell_type": "code",
   "execution_count": null,
   "metadata": {},
   "outputs": [],
   "source": []
  },
  {
   "cell_type": "code",
   "execution_count": 197,
   "metadata": {},
   "outputs": [
    {
     "name": "stdout",
     "output_type": "stream",
     "text": [
      "Dimensi data latih: (45460, 37) (45460,)\n",
      "Dimensi data uji: (11365, 37) (11365,)\n"
     ]
    }
   ],
   "source": [
    "from sklearn.model_selection import train_test_split\n",
    "\n",
    "# Memisahkan fitur-fitur dan target\n",
    "X = data.drop(columns=['average_daily_rate'])\n",
    "y = data['average_daily_rate']\n",
    "\n",
    "# Memisahkan data menjadi data latih dan data uji\n",
    "X_train, X_test, y_train, y_test = train_test_split(X, y, test_size=0.2, random_state=42)\n",
    "\n",
    "# Menampilkan dimensi dari data latih dan data uji\n",
    "print(\"Dimensi data latih:\", X_train.shape, y_train.shape)\n",
    "print(\"Dimensi data uji:\", X_test.shape, y_test.shape)"
   ]
  },
  {
   "cell_type": "code",
   "execution_count": 198,
   "metadata": {},
   "outputs": [],
   "source": [
    "y = data['average_daily_rate']\n",
    "x = data.drop('average_daily_rate', axis=1)"
   ]
  },
  {
   "cell_type": "code",
   "execution_count": 199,
   "metadata": {},
   "outputs": [],
   "source": [
    "from sklearn.preprocessing import MinMaxScaler\n",
    "# Inisialisasi MinMaxScaler\n",
    "scaler = MinMaxScaler()\n",
    "\n",
    "# Terapkan normalisasi Min-Max pada fitur numerik\n",
    "x_scaled = pd.DataFrame(scaler.fit_transform(x), columns=x.columns)\n",
    "\n",
    "# Gabungkan kembali fitur yang sudah dinormalisasi dengan label\n",
    "data_normalized = pd.concat([x_scaled, y.reset_index(drop=True)], axis=1)"
   ]
  },
  {
   "cell_type": "code",
   "execution_count": 200,
   "metadata": {},
   "outputs": [],
   "source": [
    "# apply polynomial since the features are not very linear with the label, and set the degree to 2 to prevent overfitting\n",
    "poly = PolynomialFeatures(degree=2, include_bias=False)\n",
    "X_train_poly = poly.fit_transform(x)"
   ]
  },
  {
   "cell_type": "markdown",
   "metadata": {},
   "source": [
    "### MODELING"
   ]
  },
  {
   "cell_type": "code",
   "execution_count": 201,
   "metadata": {},
   "outputs": [
    {
     "name": "stdout",
     "output_type": "stream",
     "text": [
      "[LightGBM] [Info] Auto-choosing col-wise multi-threading, the overhead of testing was 0.112939 seconds.\n",
      "You can set `force_col_wise=true` to remove the overhead.\n",
      "[LightGBM] [Info] Total Bins 2510\n",
      "[LightGBM] [Info] Number of data points in the train set: 45460, number of used features: 37\n",
      "[LightGBM] [Info] Start training from score 858746.172524\n",
      "FOLD 0 | MAE: 14200.18632 | R²: 0.99845\n",
      "[LightGBM] [Info] Auto-choosing col-wise multi-threading, the overhead of testing was 0.034075 seconds.\n",
      "You can set `force_col_wise=true` to remove the overhead.\n",
      "[LightGBM] [Info] Total Bins 2511\n",
      "[LightGBM] [Info] Number of data points in the train set: 45460, number of used features: 37\n",
      "[LightGBM] [Info] Start training from score 856555.623528\n",
      "FOLD 1 | MAE: 13376.85792 | R²: 0.99870\n",
      "[LightGBM] [Info] Auto-choosing row-wise multi-threading, the overhead of testing was 0.012604 seconds.\n",
      "You can set `force_row_wise=true` to remove the overhead.\n",
      "And if memory is not enough, you can set `force_col_wise=true`.\n",
      "[LightGBM] [Info] Total Bins 2504\n",
      "[LightGBM] [Info] Number of data points in the train set: 45460, number of used features: 37\n",
      "[LightGBM] [Info] Start training from score 857100.856236\n",
      "FOLD 2 | MAE: 13460.09112 | R²: 0.99836\n",
      "[LightGBM] [Info] Auto-choosing row-wise multi-threading, the overhead of testing was 0.009396 seconds.\n",
      "You can set `force_row_wise=true` to remove the overhead.\n",
      "And if memory is not enough, you can set `force_col_wise=true`.\n",
      "[LightGBM] [Info] Total Bins 2510\n",
      "[LightGBM] [Info] Number of data points in the train set: 45460, number of used features: 37\n",
      "[LightGBM] [Info] Start training from score 858196.616651\n",
      "FOLD 3 | MAE: 13289.69725 | R²: 0.99853\n",
      "[LightGBM] [Info] Auto-choosing row-wise multi-threading, the overhead of testing was 0.009407 seconds.\n",
      "You can set `force_row_wise=true` to remove the overhead.\n",
      "And if memory is not enough, you can set `force_col_wise=true`.\n",
      "[LightGBM] [Info] Total Bins 2510\n",
      "[LightGBM] [Info] Number of data points in the train set: 45460, number of used features: 37\n",
      "[LightGBM] [Info] Start training from score 858964.221338\n",
      "FOLD 4 | MAE: 13760.97539 | R²: 0.99764\n",
      "[LightGBM] [Info] Auto-choosing row-wise multi-threading, the overhead of testing was 0.008490 seconds.\n",
      "You can set `force_row_wise=true` to remove the overhead.\n",
      "And if memory is not enough, you can set `force_col_wise=true`.\n",
      "[LightGBM] [Info] Total Bins 2508\n",
      "[LightGBM] [Info] Number of data points in the train set: 45460, number of used features: 37\n",
      "[LightGBM] [Info] Start training from score 858745.617896\n",
      "FOLD 5 | MAE: 13893.97170 | R²: 0.99810\n",
      "[LightGBM] [Info] Auto-choosing row-wise multi-threading, the overhead of testing was 0.014059 seconds.\n",
      "You can set `force_row_wise=true` to remove the overhead.\n",
      "And if memory is not enough, you can set `force_col_wise=true`.\n",
      "[LightGBM] [Info] Total Bins 2510\n",
      "[LightGBM] [Info] Number of data points in the train set: 45460, number of used features: 37\n",
      "[LightGBM] [Info] Start training from score 858201.708569\n",
      "FOLD 6 | MAE: 14366.28388 | R²: 0.99829\n",
      "[LightGBM] [Info] Auto-choosing row-wise multi-threading, the overhead of testing was 0.009445 seconds.\n",
      "You can set `force_row_wise=true` to remove the overhead.\n",
      "And if memory is not enough, you can set `force_col_wise=true`.\n",
      "[LightGBM] [Info] Total Bins 2508\n",
      "[LightGBM] [Info] Number of data points in the train set: 45460, number of used features: 37\n",
      "[LightGBM] [Info] Start training from score 857576.234167\n",
      "FOLD 7 | MAE: 13869.62064 | R²: 0.99846\n",
      "[LightGBM] [Info] Auto-choosing row-wise multi-threading, the overhead of testing was 0.008987 seconds.\n",
      "You can set `force_row_wise=true` to remove the overhead.\n",
      "And if memory is not enough, you can set `force_col_wise=true`.\n",
      "[LightGBM] [Info] Total Bins 2507\n",
      "[LightGBM] [Info] Number of data points in the train set: 45460, number of used features: 37\n",
      "[LightGBM] [Info] Start training from score 857649.507736\n",
      "FOLD 8 | MAE: 13395.35543 | R²: 0.99863\n",
      "[LightGBM] [Info] Auto-choosing row-wise multi-threading, the overhead of testing was 0.007619 seconds.\n",
      "You can set `force_row_wise=true` to remove the overhead.\n",
      "And if memory is not enough, you can set `force_col_wise=true`.\n",
      "[LightGBM] [Info] Total Bins 2505\n",
      "[LightGBM] [Info] Number of data points in the train set: 45460, number of used features: 37\n",
      "[LightGBM] [Info] Start training from score 857390.421911\n",
      "FOLD 9 | MAE: 13632.11192 | R²: 0.99809\n",
      "Average MAE across all folds lgbm: 13724.51516\n",
      "Average R² across all folds lgbm: 0.99833\n",
      "FOLD 0 | MAE: 12560.28284 | R²: 0.99863\n",
      "FOLD 1 | MAE: 13646.85536 | R²: 0.99854\n",
      "FOLD 2 | MAE: 13630.89289 | R²: 0.99816\n",
      "FOLD 3 | MAE: 12773.84518 | R²: 0.99833\n",
      "FOLD 4 | MAE: 12303.73920 | R²: 0.99804\n",
      "FOLD 5 | MAE: 13424.49354 | R²: 0.99805\n",
      "FOLD 6 | MAE: 13272.75865 | R²: 0.99825\n",
      "FOLD 7 | MAE: 13346.65274 | R²: 0.99837\n",
      "FOLD 8 | MAE: 12896.17562 | R²: 0.99853\n",
      "FOLD 9 | MAE: 13491.85758 | R²: 0.99797\n",
      "Average MAE across all folds xgboost: 13134.75536\n",
      "Average R² across all folds xgboost: 0.99829\n",
      "FOLD 0 | MAE: 13485.33748 | R²: 0.99843\n",
      "FOLD 1 | MAE: 13654.65451 | R²: 0.99854\n",
      "FOLD 2 | MAE: 14328.97458 | R²: 0.99800\n",
      "FOLD 3 | MAE: 14046.48577 | R²: 0.99832\n",
      "FOLD 4 | MAE: 13882.95698 | R²: 0.99767\n",
      "FOLD 5 | MAE: 14455.08830 | R²: 0.99787\n",
      "FOLD 6 | MAE: 14233.97304 | R²: 0.99829\n",
      "FOLD 7 | MAE: 13662.66437 | R²: 0.99855\n",
      "FOLD 8 | MAE: 13366.16095 | R²: 0.99855\n",
      "FOLD 9 | MAE: 13794.79103 | R²: 0.99807\n",
      "Average MAE across all folds hist gradient boosting: 13891.10870\n",
      "Average R² across all folds hist gradient boosting: 0.99823\n",
      "FOLD 0 | MAE: 4327.54434 | R²: 0.99682\n",
      "FOLD 1 | MAE: 4387.42886 | R²: 0.99676\n",
      "FOLD 2 | MAE: 4936.48998 | R²: 0.99402\n",
      "FOLD 3 | MAE: 4815.94279 | R²: 0.99597\n",
      "FOLD 4 | MAE: 4436.32026 | R²: 0.99598\n",
      "FOLD 5 | MAE: 5754.84845 | R²: 0.99480\n",
      "FOLD 6 | MAE: 4322.06649 | R²: 0.99738\n",
      "FOLD 7 | MAE: 4902.77495 | R²: 0.99568\n",
      "FOLD 8 | MAE: 4115.66290 | R²: 0.99707\n",
      "FOLD 9 | MAE: 5091.76802 | R²: 0.99612\n",
      "Average MAE across all folds decision tree: 4709.08470\n",
      "Average R² across all folds decision tree: 0.99606\n",
      "FOLD 0 | MAE: 3241.58488 | R²: 0.99880\n",
      "FOLD 1 | MAE: 3570.90052 | R²: 0.99880\n",
      "FOLD 2 | MAE: 4188.88659 | R²: 0.99770\n",
      "FOLD 3 | MAE: 3572.89053 | R²: 0.99870\n",
      "FOLD 4 | MAE: 3666.30780 | R²: 0.99742\n",
      "FOLD 5 | MAE: 4427.73388 | R²: 0.99786\n",
      "FOLD 6 | MAE: 3490.05450 | R²: 0.99827\n",
      "FOLD 7 | MAE: 3281.50191 | R²: 0.99867\n",
      "FOLD 8 | MAE: 3498.46262 | R²: 0.99842\n",
      "FOLD 9 | MAE: 4221.40615 | R²: 0.99776\n",
      "Average MAE across all folds bagging: 3715.97294\n",
      "Average R² across all folds bagging: 0.99824\n",
      "FOLD 0 | MAE: 889.16238 | R²: 0.99977\n",
      "FOLD 1 | MAE: 883.49780 | R²: 0.99985\n",
      "FOLD 2 | MAE: 1060.16603 | R²: 0.99946\n",
      "FOLD 3 | MAE: 1147.94610 | R²: 0.99960\n",
      "FOLD 4 | MAE: 1493.99353 | R²: 0.99871\n",
      "FOLD 5 | MAE: 1164.13751 | R²: 0.99925\n",
      "FOLD 6 | MAE: 994.75934 | R²: 0.99970\n",
      "FOLD 7 | MAE: 1007.23610 | R²: 0.99971\n",
      "FOLD 8 | MAE: 924.41490 | R²: 0.99980\n",
      "FOLD 9 | MAE: 1111.49597 | R²: 0.99942\n",
      "Average MAE across all folds adaboost: 1067.68097\n",
      "Average R² across all folds adaboost: 0.99953\n",
      "FOLD 0 | MAE Val: 12477.62016 | R² Val: 0.99892 | MAE Train: 12639.57762 | R² Train: 0.99874\n",
      "FOLD 1 | MAE Val: 12421.93066 | R² Val: 0.99901 | MAE Train: 12653.50000 | R² Train: 0.99872\n",
      "FOLD 2 | MAE Val: 12506.32353 | R² Val: 0.99872 | MAE Train: 12632.40178 | R² Train: 0.99879\n",
      "FOLD 3 | MAE Val: 13289.69725 | R² Val: 0.99853 | MAE Train: 12436.55835 | R² Train: 0.99884\n",
      "FOLD 4 | MAE Val: 12340.35904 | R² Val: 0.99869 | MAE Train: 12673.89290 | R² Train: 0.99880\n",
      "FOLD 5 | MAE Val: 12612.55062 | R² Val: 0.99860 | MAE Train: 12605.84501 | R² Train: 0.99882\n",
      "FOLD 6 | MAE Val: 12722.39894 | R² Val: 0.99877 | MAE Train: 12578.38293 | R² Train: 0.99878\n",
      "FOLD 7 | MAE Val: 12474.87148 | R² Val: 0.99891 | MAE Train: 12640.26479 | R² Train: 0.99874\n",
      "FOLD 8 | MAE Val: 12463.25572 | R² Val: 0.99895 | MAE Train: 12643.16873 | R² Train: 0.99873\n",
      "FOLD 9 | MAE Val: 12762.85389 | R² Val: 0.99865 | MAE Train: 12568.26919 | R² Train: 0.99881\n",
      "Average MAE Val: 12607.18613 | Average R² Val: 0.99878 | Average MAE Train: 12607.18613 | Average R² Train: 0.99878\n",
      "FOLD 0 | MAE Val: 11233.19060 | R² Val: 0.99915 | MAE Train: 11498.15526 | R² Train: 0.99888\n",
      "FOLD 1 | MAE Val: 11343.30472 | R² Val: 0.99913 | MAE Train: 11470.62673 | R² Train: 0.99888\n",
      "FOLD 2 | MAE Val: 11225.65992 | R² Val: 0.99914 | MAE Train: 11500.03793 | R² Train: 0.99888\n",
      "FOLD 3 | MAE Val: 11119.91719 | R² Val: 0.99918 | MAE Train: 11526.47361 | R² Train: 0.99887\n",
      "FOLD 4 | MAE Val: 12303.73920 | R² Val: 0.99804 | MAE Train: 11230.51811 | R² Train: 0.99915\n",
      "FOLD 5 | MAE Val: 11458.46095 | R² Val: 0.99899 | MAE Train: 11441.83767 | R² Train: 0.99891\n",
      "FOLD 6 | MAE Val: 11464.11763 | R² Val: 0.99904 | MAE Train: 11440.42350 | R² Train: 0.99890\n",
      "FOLD 7 | MAE Val: 11354.88911 | R² Val: 0.99909 | MAE Train: 11467.73063 | R² Train: 0.99889\n",
      "FOLD 8 | MAE Val: 11472.43251 | R² Val: 0.99898 | MAE Train: 11438.34478 | R² Train: 0.99892\n",
      "FOLD 9 | MAE Val: 11475.91143 | R² Val: 0.99855 | MAE Train: 11437.47505 | R² Train: 0.99902\n",
      "Average MAE Val: 11445.16233 | Average R² Val: 0.99893 | Average MAE Train: 11445.16233 | Average R² Train: 0.99893\n",
      "FOLD 0 | MAE Val: 12996.52498 | R² Val: 0.99878 | MAE Train: 13004.79067 | R² Train: 0.99858\n",
      "FOLD 1 | MAE Val: 12976.16784 | R² Val: 0.99876 | MAE Train: 13009.87995 | R² Train: 0.99859\n",
      "FOLD 2 | MAE Val: 13021.32373 | R² Val: 0.99854 | MAE Train: 12998.59098 | R² Train: 0.99864\n",
      "FOLD 3 | MAE Val: 13022.50385 | R² Val: 0.99875 | MAE Train: 12998.29595 | R² Train: 0.99859\n",
      "FOLD 4 | MAE Val: 12999.16725 | R² Val: 0.99828 | MAE Train: 13004.13010 | R² Train: 0.99871\n",
      "FOLD 5 | MAE Val: 12984.94574 | R² Val: 0.99846 | MAE Train: 13007.68548 | R² Train: 0.99867\n",
      "FOLD 6 | MAE Val: 13020.64213 | R² Val: 0.99877 | MAE Train: 12998.76138 | R² Train: 0.99859\n",
      "FOLD 7 | MAE Val: 12747.59411 | R² Val: 0.99881 | MAE Train: 13067.02338 | R² Train: 0.99858\n",
      "FOLD 8 | MAE Val: 13366.16095 | R² Val: 0.99855 | MAE Train: 12912.38167 | R² Train: 0.99864\n",
      "FOLD 9 | MAE Val: 12896.34472 | R² Val: 0.99854 | MAE Train: 13029.83573 | R² Train: 0.99865\n",
      "Average MAE Val: 13003.13753 | Average R² Val: 0.99862 | Average MAE Train: 13003.13753 | Average R² Train: 0.99862\n",
      "FOLD 0 | MAE Val: 950.43413 | R² Val: 0.99915 | MAE Train: 791.30719 | R² Train: 0.99948\n",
      "FOLD 1 | MAE Val: 760.52773 | R² Val: 0.99947 | MAE Train: 838.78379 | R² Train: 0.99940\n",
      "FOLD 2 | MAE Val: 904.15437 | R² Val: 0.99928 | MAE Train: 802.87713 | R² Train: 0.99945\n",
      "FOLD 3 | MAE Val: 586.53327 | R² Val: 0.99978 | MAE Train: 882.28241 | R² Train: 0.99932\n",
      "FOLD 4 | MAE Val: 914.01340 | R² Val: 0.99938 | MAE Train: 800.41238 | R² Train: 0.99942\n",
      "FOLD 5 | MAE Val: 0.00000 | R² Val: 1.00000 | MAE Train: 1028.91573 | R² Train: 0.99926\n",
      "FOLD 6 | MAE Val: 0.00000 | R² Val: 1.00000 | MAE Train: 1028.91573 | R² Train: 0.99927\n",
      "FOLD 7 | MAE Val: 0.00000 | R² Val: 1.00000 | MAE Train: 1028.91573 | R² Train: 0.99926\n",
      "FOLD 8 | MAE Val: 4115.66290 | R² Val: 0.99707 | MAE Train: 0.00000 | R² Train: 1.00000\n",
      "FOLD 9 | MAE Val: 0.00000 | R² Val: 1.00000 | MAE Train: 1028.91573 | R² Train: 0.99926\n",
      "Average MAE Val: 823.13258 | Average R² Val: 0.99941 | Average MAE Train: 823.13258 | Average R² Train: 0.99941\n",
      "FOLD 0 | MAE Val: 3241.58488 | R² Val: 0.99880 | MAE Train: 1342.93547 | R² Train: 0.99976\n",
      "FOLD 1 | MAE Val: 1354.02517 | R² Val: 0.99982 | MAE Train: 1814.82540 | R² Train: 0.99951\n",
      "FOLD 2 | MAE Val: 1367.41236 | R² Val: 0.99973 | MAE Train: 1811.47860 | R² Train: 0.99953\n",
      "FOLD 3 | MAE Val: 1224.75412 | R² Val: 0.99985 | MAE Train: 1847.14316 | R² Train: 0.99950\n",
      "FOLD 4 | MAE Val: 1425.55022 | R² Val: 0.99963 | MAE Train: 1796.94413 | R² Train: 0.99955\n",
      "FOLD 5 | MAE Val: 1783.63401 | R² Val: 0.99958 | MAE Train: 1707.42319 | R² Train: 0.99957\n",
      "FOLD 6 | MAE Val: 1613.03029 | R² Val: 0.99964 | MAE Train: 1750.07412 | R² Train: 0.99955\n",
      "FOLD 7 | MAE Val: 1581.11881 | R² Val: 0.99970 | MAE Train: 1758.05199 | R² Train: 0.99954\n",
      "FOLD 8 | MAE Val: 1732.15831 | R² Val: 0.99946 | MAE Train: 1720.29211 | R² Train: 0.99960\n",
      "FOLD 9 | MAE Val: 1903.38533 | R² Val: 0.99947 | MAE Train: 1677.48536 | R² Train: 0.99960\n",
      "Average MAE Val: 1722.66535 | Average R² Val: 0.99957 | Average MAE Train: 1722.66535 | Average R² Train: 0.99957\n",
      "FOLD 0 | MAE Val: 55.90536 | R² Val: 1.00000 | MAE Train: 261.30366 | R² Train: 0.99996\n",
      "FOLD 1 | MAE Val: 883.49780 | R² Val: 0.99985 | MAE Train: 54.40555 | R² Train: 1.00000\n",
      "FOLD 2 | MAE Val: 56.14899 | R² Val: 1.00000 | MAE Train: 261.24276 | R² Train: 0.99996\n",
      "FOLD 3 | MAE Val: 51.66317 | R² Val: 1.00000 | MAE Train: 262.36421 | R² Train: 0.99996\n",
      "FOLD 4 | MAE Val: 53.90469 | R² Val: 1.00000 | MAE Train: 261.80383 | R² Train: 0.99996\n",
      "FOLD 5 | MAE Val: 221.46903 | R² Val: 0.99997 | MAE Train: 219.91275 | R² Train: 0.99997\n",
      "FOLD 6 | MAE Val: 261.26780 | R² Val: 0.99997 | MAE Train: 209.96305 | R² Train: 0.99997\n",
      "FOLD 7 | MAE Val: 239.38864 | R² Val: 0.99993 | MAE Train: 215.43284 | R² Train: 0.99998\n",
      "FOLD 8 | MAE Val: 193.63599 | R² Val: 0.99998 | MAE Train: 226.87101 | R² Train: 0.99996\n",
      "FOLD 9 | MAE Val: 185.35855 | R² Val: 0.99998 | MAE Train: 228.94037 | R² Train: 0.99996\n",
      "Average MAE Val: 220.22400 | Average R² Val: 0.99997 | Average MAE Train: 220.22400 | Average R² Train: 0.99997\n",
      "Final MAE: 770.96466 | Final R²: 0.99987\n",
      "                feature    importance\n",
      "0                  LGBM  9.518909e-08\n",
      "1               XGBoost  9.303643e-08\n",
      "2  HistGradientBoosting  8.758099e-08\n",
      "3          DecisionTree  1.064950e-02\n",
      "4               Bagging  3.447066e-03\n",
      "5              AdaBoost  9.859032e-01\n"
     ]
    }
   ],
   "source": [
    "import numpy as np\n",
    "from sklearn.model_selection import RepeatedKFold\n",
    "from sklearn.tree import DecisionTreeRegressor\n",
    "from sklearn.ensemble import RandomForestRegressor, HistGradientBoostingRegressor, BaggingRegressor, AdaBoostRegressor\n",
    "from sklearn.metrics import mean_absolute_error, r2_score\n",
    "import pandas as pd\n",
    "import lightgbm as lgb\n",
    "import xgboost as xgb\n",
    "\n",
    "class Model:\n",
    "    def __init__(self, x, y, n_splits, repeated, rdm_seed, model, params):\n",
    "        self.x = x\n",
    "        self.y = y\n",
    "        self.n_splits = n_splits\n",
    "        self.repeated = repeated\n",
    "        self.rdm_seed = rdm_seed\n",
    "        self.model = model\n",
    "        self.params = params\n",
    "        self.cv_splitter = None\n",
    "        self.best_model = None\n",
    "        self.best_mae = float('inf')\n",
    "        self.best_r2 = float('-inf')\n",
    "\n",
    "    def split_data(self):\n",
    "        cv = RepeatedKFold(n_splits=self.n_splits, n_repeats=self.repeated, random_state=self.rdm_seed)\n",
    "        for fold, (train_idx, val_idx) in enumerate(cv.split(self.x, self.y)):\n",
    "            X_train = self.x[train_idx]\n",
    "            X_val = self.x[val_idx]\n",
    "            y_train = self.y[train_idx]\n",
    "            y_val = self.y[val_idx]\n",
    "            yield X_train, X_val, y_train, y_val\n",
    "\n",
    "    def fit(self, key):\n",
    "        if key == 'lgbm':\n",
    "            self._fit_lgbm()\n",
    "        elif key == 'xgboost':\n",
    "            self._fit_xgboost()\n",
    "        elif key == 'hist_gradient_boosting':\n",
    "            self._fit_hist_gradient_boosting()\n",
    "        elif key == 'decision_tree':\n",
    "            self._fit_decision_tree()\n",
    "        elif key == 'bagging':\n",
    "            self._fit_bagging()\n",
    "        elif key == 'adaboost':\n",
    "            self._fit_adaboost()\n",
    "\n",
    "    def _fit_lgbm(self):\n",
    "        mae_per_fold = []\n",
    "        r2_per_fold = []\n",
    "        self.cv_splitter = self.split_data()\n",
    "\n",
    "        for fold, (X_train, X_val, y_train, y_val) in enumerate(self.cv_splitter):\n",
    "            model = lgb.LGBMRegressor(**self.params)\n",
    "            model.fit(X_train, y_train)\n",
    "            y_val_preds = model.predict(X_val)\n",
    "            val_mae = mean_absolute_error(y_val, y_val_preds)\n",
    "            val_r2 = r2_score(y_val, y_val_preds)\n",
    "\n",
    "            if val_mae < self.best_mae:\n",
    "                self.best_mae = val_mae\n",
    "                self.best_model = model\n",
    "            if val_r2 > self.best_r2:\n",
    "                self.best_r2 = val_r2\n",
    "\n",
    "            print(f\"FOLD {fold} | MAE: {val_mae:.5f} | R²: {val_r2:.5f}\")\n",
    "            mae_per_fold.append(val_mae)\n",
    "            r2_per_fold.append(val_r2)\n",
    "\n",
    "        print(f\"Average MAE across all folds lgbm: {np.mean(mae_per_fold):.5f}\")\n",
    "        print(f\"Average R² across all folds lgbm: {np.mean(r2_per_fold):.5f}\")\n",
    "\n",
    "    def _fit_xgboost(self):\n",
    "        mae_per_fold = []\n",
    "        r2_per_fold = []\n",
    "        self.cv_splitter = self.split_data()\n",
    "\n",
    "        for fold, (X_train, X_val, y_train, y_val) in enumerate(self.cv_splitter):\n",
    "            model = xgb.XGBRegressor(**self.params)\n",
    "            model.fit(X_train, y_train)\n",
    "            y_val_preds = model.predict(X_val)\n",
    "            val_mae = mean_absolute_error(y_val, y_val_preds)\n",
    "            val_r2 = r2_score(y_val, y_val_preds)\n",
    "\n",
    "            if val_mae < self.best_mae:\n",
    "                self.best_mae = val_mae\n",
    "                self.best_model = model\n",
    "            if val_r2 > self.best_r2:\n",
    "                self.best_r2 = val_r2\n",
    "\n",
    "            print(f\"FOLD {fold} | MAE: {val_mae:.5f} | R²: {val_r2:.5f}\")\n",
    "            mae_per_fold.append(val_mae)\n",
    "            r2_per_fold.append(val_r2)\n",
    "\n",
    "        print(f\"Average MAE across all folds xgboost: {np.mean(mae_per_fold):.5f}\")\n",
    "        print(f\"Average R² across all folds xgboost: {np.mean(r2_per_fold):.5f}\")\n",
    "\n",
    "    def _fit_hist_gradient_boosting(self):\n",
    "        mae_per_fold = []\n",
    "        r2_per_fold = []\n",
    "        self.cv_splitter = self.split_data()\n",
    "\n",
    "        for fold, (X_train, X_val, y_train, y_val) in enumerate(self.cv_splitter):\n",
    "            model = HistGradientBoostingRegressor(**self.params)\n",
    "            model.fit(X_train, y_train)\n",
    "\n",
    "            y_val_preds = model.predict(X_val)\n",
    "            val_mae = mean_absolute_error(y_val, y_val_preds)\n",
    "            val_r2 = r2_score(y_val, y_val_preds)\n",
    "\n",
    "            if val_mae < self.best_mae:\n",
    "                self.best_mae = val_mae\n",
    "                self.best_model = model\n",
    "            if val_r2 > self.best_r2:\n",
    "                self.best_r2 = val_r2\n",
    "\n",
    "            print(f\"FOLD {fold} | MAE: {val_mae:.5f} | R²: {val_r2:.5f}\")\n",
    "            mae_per_fold.append(val_mae)\n",
    "            r2_per_fold.append(val_r2)\n",
    "\n",
    "        print(f\"Average MAE across all folds hist gradient boosting: {np.mean(mae_per_fold):.5f}\")\n",
    "        print(f\"Average R² across all folds hist gradient boosting: {np.mean(r2_per_fold):.5f}\")\n",
    "\n",
    "    def _fit_decision_tree(self):\n",
    "        mae_per_fold = []\n",
    "        r2_per_fold = []\n",
    "        self.cv_splitter = self.split_data()\n",
    "\n",
    "        for fold, (X_train, X_val, y_train, y_val) in enumerate(self.cv_splitter):\n",
    "            model = DecisionTreeRegressor(**self.params)\n",
    "            model.fit(X_train, y_train)\n",
    "\n",
    "            y_val_preds = model.predict(X_val)\n",
    "            val_mae = mean_absolute_error(y_val, y_val_preds)\n",
    "            val_r2 = r2_score(y_val, y_val_preds)\n",
    "\n",
    "            if val_mae < self.best_mae:\n",
    "                self.best_mae = val_mae\n",
    "                self.best_model = model\n",
    "            if val_r2 > self.best_r2:\n",
    "                self.best_r2 = val_r2\n",
    "\n",
    "            print(f\"FOLD {fold} | MAE: {val_mae:.5f} | R²: {val_r2:.5f}\")\n",
    "            mae_per_fold.append(val_mae)\n",
    "            r2_per_fold.append(val_r2)\n",
    "\n",
    "        print(f\"Average MAE across all folds decision tree: {np.mean(mae_per_fold):.5f}\")\n",
    "        print(f\"Average R² across all folds decision tree: {np.mean(r2_per_fold):.5f}\")\n",
    "\n",
    "    def _fit_bagging(self):\n",
    "        mae_per_fold = []\n",
    "        r2_per_fold = []\n",
    "        self.cv_splitter = self.split_data()\n",
    "\n",
    "        for fold, (X_train, X_val, y_train, y_val) in enumerate(self.cv_splitter):\n",
    "            model = BaggingRegressor(base_estimator=DecisionTreeRegressor(), **self.params)\n",
    "            model.fit(X_train, y_train)\n",
    "            y_val_preds = model.predict(X_val)\n",
    "            val_mae = mean_absolute_error(y_val, y_val_preds)\n",
    "            val_r2 = r2_score(y_val, y_val_preds)\n",
    "\n",
    "            if val_mae < self.best_mae:\n",
    "                self.best_mae = val_mae\n",
    "                self.best_model = model\n",
    "            if val_r2 > self.best_r2:\n",
    "                self.best_r2 = val_r2\n",
    "\n",
    "            print(f\"FOLD {fold} | MAE: {val_mae:.5f} | R²: {val_r2:.5f}\")\n",
    "            mae_per_fold.append(val_mae)\n",
    "            r2_per_fold.append(val_r2)\n",
    "\n",
    "        print(f\"Average MAE across all folds bagging: {np.mean(mae_per_fold):.5f}\")\n",
    "        print(f\"Average R² across all folds bagging: {np.mean(r2_per_fold):.5f}\")\n",
    "\n",
    "    def _fit_adaboost(self):\n",
    "        mae_per_fold = []\n",
    "        r2_per_fold = []\n",
    "        self.cv_splitter = self.split_data()\n",
    "\n",
    "        for fold, (X_train, X_val, y_train, y_val) in enumerate(self.cv_splitter):\n",
    "            model = AdaBoostRegressor(base_estimator=DecisionTreeRegressor(), **self.params)\n",
    "            model.fit(X_train, y_train)\n",
    "            y_val_preds = model.predict(X_val)\n",
    "            val_mae = mean_absolute_error(y_val, y_val_preds)\n",
    "            val_r2 = r2_score(y_val, y_val_preds)\n",
    "\n",
    "            if val_mae < self.best_mae:\n",
    "                self.best_mae = val_mae\n",
    "                self.best_model = model\n",
    "            if val_r2 > self.best_r2:\n",
    "                self.best_r2 = val_r2\n",
    "\n",
    "            print(f\"FOLD {fold} | MAE: {val_mae:.5f} | R²: {val_r2:.5f}\")\n",
    "            mae_per_fold.append(val_mae)\n",
    "            r2_per_fold.append(val_r2)\n",
    "\n",
    "        print(f\"Average MAE across all folds adaboost: {np.mean(mae_per_fold):.5f}\")\n",
    "        print(f\"Average R² across all folds adaboost: {np.mean(r2_per_fold):.5f}\")\n",
    "\n",
    "    def predict(self):\n",
    "        self.cv_splitter = self.split_data()\n",
    "        all_mae = []\n",
    "        all_r2 = []\n",
    "        all_mae_train = []\n",
    "        all_r2_train = []\n",
    "        y_preds_list = []\n",
    "        y_val_list = []\n",
    "        for fold, (X_train, X_val, y_train, y_val) in enumerate(self.cv_splitter):\n",
    "            if self.best_model is None:\n",
    "                raise ValueError(\"Model has not been trained yet. Call 'fit()' method first.\")\n",
    "            else:\n",
    "                y_preds = self.best_model.predict(X_val)\n",
    "                mae = mean_absolute_error(y_val, y_preds)\n",
    "                r2 = r2_score(y_val, y_preds)\n",
    "                all_mae.append(mae)\n",
    "                all_r2.append(r2)\n",
    "                y_preds_list.append(y_preds)\n",
    "                y_val_list.append(y_val)\n",
    "\n",
    "                train_preds = self.best_model.predict(X_train)\n",
    "                train_mae = mean_absolute_error(y_train, train_preds)\n",
    "                train_r2 = r2_score(y_train, train_preds)\n",
    "                all_mae_train.append(train_mae)\n",
    "                all_r2_train.append(train_r2)\n",
    "                print(f\"FOLD {fold} | MAE Val: {mae:.5f} | R² Val: {r2:.5f} | MAE Train: {train_mae:.5f} | R² Train: {train_r2:.5f}\")\n",
    "\n",
    "        avg_mae = np.mean(all_mae)\n",
    "        avg_r2 = np.mean(all_r2)\n",
    "        avg_mae_train = np.mean(all_mae_train)\n",
    "        avg_r2_train = np.mean(all_r2_train)\n",
    "        print(f'Average MAE Val: {avg_mae:.5f} | Average R² Val: {avg_r2:.5f} | Average MAE Train: {avg_mae_train:.5f} | Average R² Train: {avg_r2_train:.5f}')\n",
    "        return all_mae, all_r2, y_preds_list, y_val_list\n",
    "\n",
    "    def feature_importance(self):\n",
    "        if hasattr(self.best_model, 'feature_importances_'):\n",
    "            feature_importances = self.best_model.feature_importances_\n",
    "            feature_names = list(x.columns)\n",
    "            feature_importances_df = pd.DataFrame({'feature': feature_names, 'importance': feature_importances})\n",
    "            feature_importances_df = feature_importances_df.sort_values('importance', ascending=False)\n",
    "            return feature_importances_df\n",
    "        else:\n",
    "            raise ValueError(\"The best model does not support feature importance\")\n",
    "\n",
    "    def inverse(self, y_preds, y_val):\n",
    "        y_preds = np.expm1(y_preds)\n",
    "        y_val = np.expm1(y_val)\n",
    "        return y_preds, y_val\n",
    "\n",
    "# Siapkan data\n",
    "\n",
    "# Memisahkan fitur-fitur dan target\n",
    "X = data.drop(columns=['average_daily_rate'])\n",
    "y = data['average_daily_rate']\n",
    "\n",
    "# Definisikan parameter model\n",
    "params_lgbm = {'n_estimators': 100, 'learning_rate': 0.1, 'random_state': 42}\n",
    "params_xgboost = {'n_estimators': 100, 'learning_rate': 0.1, 'random_state': 42}\n",
    "params_hgb = {'max_iter': 100, 'learning_rate': 0.1, 'random_state': 42}\n",
    "params_dt = {'random_state': 42}\n",
    "params_bagging = {'n_estimators': 100, 'random_state': 42}\n",
    "params_adaboost = {'n_estimators': 100, 'random_state': 42}\n",
    "\n",
    "# Inisialisasi model\n",
    "model_lgbm = Model(X.values, y.values, n_splits=5, repeated=2, rdm_seed=42, model='lgbm', params=params_lgbm)\n",
    "model_xgboost = Model(X.values, y.values, n_splits=5, repeated=2, rdm_seed=42, model='xgboost', params=params_xgboost)\n",
    "model_hgb = Model(X.values, y.values, n_splits=5, repeated=2, rdm_seed=42, model='hist_gradient_boosting', params=params_hgb)\n",
    "model_dt = Model(X.values, y.values, n_splits=5, repeated=2, rdm_seed=42, model='decision_tree', params=params_dt)\n",
    "model_bagging = Model(X.values, y.values, n_splits=5, repeated=2, rdm_seed=42, model='bagging', params=params_bagging)\n",
    "model_adaboost = Model(X.values, y.values, n_splits=5, repeated=2, rdm_seed=42, model='adaboost', params=params_adaboost)\n",
    "\n",
    "# Fit model\n",
    "model_lgbm.fit('lgbm')\n",
    "model_xgboost.fit('xgboost')\n",
    "model_hgb.fit('hist_gradient_boosting')\n",
    "model_dt.fit('decision_tree')\n",
    "model_bagging.fit('bagging')\n",
    "model_adaboost.fit('adaboost')\n",
    "\n",
    "# Prediksi\n",
    "mae_lgbm, r2_lgbm, preds_lgbm, y_vals_lgbm = model_lgbm.predict()\n",
    "mae_xgboost, r2_xgboost, preds_xgboost, y_vals_xgboost = model_xgboost.predict()\n",
    "mae_hgb, r2_hgb, preds_hgb, y_vals_hgb = model_hgb.predict()\n",
    "mae_dt, r2_dt, preds_dt, y_vals_dt = model_dt.predict()\n",
    "mae_bagging, r2_bagging, preds_bagging, y_vals_bagging = model_bagging.predict()\n",
    "mae_adaboost, r2_adaboost, preds_adaboost, y_vals_adaboost = model_adaboost.predict()\n",
    "\n",
    "# Stack prediksi sebagai fitur baru untuk meta model\n",
    "stacked_features_train = np.column_stack((preds_lgbm[0], preds_xgboost[0], preds_hgb[0], preds_dt[0], preds_bagging[0], preds_adaboost[0]))\n",
    "stacked_features_val = np.column_stack((preds_lgbm[1], preds_xgboost[1], preds_hgb[1], preds_dt[1], preds_bagging[1], preds_adaboost[1]))\n",
    "\n",
    "# Definisikan model meta menggunakan RandomForestRegressor\n",
    "meta_model = RandomForestRegressor(n_estimators=100, random_state=42)\n",
    "\n",
    "# Latih meta model\n",
    "meta_model.fit(stacked_features_train, y_vals_lgbm[0])\n",
    "\n",
    "# Prediksi menggunakan meta model\n",
    "final_preds = meta_model.predict(stacked_features_val)\n",
    "\n",
    "# Evaluasi model meta\n",
    "final_mae = mean_absolute_error(y_vals_lgbm[1], final_preds)\n",
    "final_r2 = r2_score(y_vals_lgbm[1], final_preds)\n",
    "print(f'Final MAE: {final_mae:.5f} | Final R²: {final_r2:.5f}')\n",
    "\n",
    "# Feature importance dari meta model\n",
    "feature_importances = meta_model.feature_importances_\n",
    "feature_names = ['LGBM', 'XGBoost', 'HistGradientBoosting', 'DecisionTree', 'Bagging', 'AdaBoost']\n",
    "feature_importances_df = pd.DataFrame({'feature': feature_names, 'importance': feature_importances})\n",
    "\n",
    "print(feature_importances_df)\n"
   ]
  },
  {
   "cell_type": "code",
   "execution_count": 202,
   "metadata": {},
   "outputs": [],
   "source": [
    "from sklearn.metrics import mean_absolute_error, r2_score\n",
    "import numpy as np\n",
    "from sklearn.linear_model import BayesianRidge\n",
    "from sklearn.model_selection import RepeatedKFold\n",
    "import pandas as pd\n",
    "\n",
    "class Model:\n",
    "    def __init__(self, x, y, n_splits, repeated, rdm_seed, model, params):\n",
    "        self.x = x\n",
    "        self.y = y\n",
    "        self.n_splits = n_splits\n",
    "        self.repeated = repeated\n",
    "        self.rdm_seed = rdm_seed\n",
    "        self.model = model\n",
    "        self.params = params\n",
    "        self.cv_splitter = None\n",
    "        self.best_model = None\n",
    "        self.best_rmse = float('inf')\n",
    "        self.best_mae = float('inf')  # Initialize best_mae attribute\n",
    "\n",
    "    def split_data(self):\n",
    "        cv = RepeatedKFold(n_splits=self.n_splits, n_repeats=self.repeated, random_state=self.rdm_seed)\n",
    "        for fold, (train_idx, val_idx) in enumerate(cv.split(self.x, self.y)):\n",
    "            X_train = self.x[train_idx]\n",
    "            X_val = self.x[val_idx]\n",
    "            y_train = self.y[train_idx]\n",
    "            y_val = self.y[val_idx]\n",
    "            yield X_train, X_val, y_train, y_val\n",
    "\n",
    "    def fit(self, key):\n",
    "        mae_per_fold = []\n",
    "        r2_per_fold = []\n",
    "        self.cv_splitter = self.split_data()\n",
    "\n",
    "        for fold, (X_train, X_val, y_train, y_val) in enumerate(self.cv_splitter):\n",
    "            model = self.model(**self.params)  # Define model outside if-elif block\n",
    "            if key == 'xgb':\n",
    "                model.fit(X_train, y_train, eval_set=[(X_val, y_val)], eval_metric='mae', early_stopping_rounds=100, verbose=False)\n",
    "\n",
    "            elif key == 'lgb':\n",
    "                model.fit(X_train, y_train, eval_set=[(X_val, y_val)], eval_metric='mae')\n",
    "\n",
    "\n",
    "            y_val_preds = model.predict(X_val)\n",
    "            mae = mean_absolute_error(y_val, y_val_preds)\n",
    "            r2 = r2_score(y_val, y_val_preds)\n",
    "\n",
    "            print(f\"FOLD {fold} | MAE: {mae:.5f} | R2: {r2:.5f}\")\n",
    "            mae_per_fold.append(mae)\n",
    "            r2_per_fold.append(r2)\n",
    "\n",
    "            # Select the model with the lowest MAE\n",
    "            if mae < self.best_mae:\n",
    "                self.best_mae = mae\n",
    "                self.best_model = model\n",
    "\n",
    "        print(f\"Average MAE across all folds: {np.mean(mae_per_fold):.5f}\")\n",
    "        print(f\"Average R2 across all folds: {np.mean(r2_per_fold):.5f}\")\n",
    "\n",
    "    def predict(self):\n",
    "        if self.best_model is None:\n",
    "            raise ValueError(\"Model has not been trained yet. Call 'fit()' method first.\")\n",
    "\n",
    "        all_mae = []\n",
    "        all_r2 = []\n",
    "        y_preds_list = []\n",
    "        y_val_list = []\n",
    "\n",
    "        for fold, (X_train, X_val, y_train, y_val) in enumerate(self.split_data()):\n",
    "            y_preds = self.best_model.predict(X_val)\n",
    "            mae = mean_absolute_error(y_val, y_preds)\n",
    "            r2 = r2_score(y_val, y_preds)\n",
    "            all_mae.append(mae)\n",
    "            all_r2.append(r2)\n",
    "            y_preds_list.append(y_preds)\n",
    "            y_val_list.append(y_val)\n",
    "\n",
    "            print(f\"FOLD {fold} | MAE: {mae:.5f} | R2: {r2:.5f}\")\n",
    "\n",
    "        avg_mae = np.mean(all_mae)\n",
    "        avg_r2 = np.mean(all_r2)\n",
    "        print(f'Average MAE Val: {avg_mae:.5f} | Average R2 Val: {avg_r2:.5f}')\n",
    "        return all_mae, all_r2, y_preds_list, y_val_list\n",
    "\n",
    "    def feature_importance(self):\n",
    "        feature_importances = self.best_model.feature_importances_\n",
    "        n_original_features = len(x.columns)\n",
    "        polynomial_feature_indices = np.arange(n_original_features, self.x.shape[1])\n",
    "        polynomial_feature_names = [f\"Poly_{i}\" for i in polynomial_feature_indices]\n",
    "        all_feature_names = list(x.columns) + polynomial_feature_names\n",
    "        feature_importances_df = pd.DataFrame({'feature_weight': feature_importances}, index=all_feature_names)\n",
    "        feature_importances_df = feature_importances_df.sort_values('feature_weight', ascending=False)\n",
    "        return feature_importances_df\n",
    "\n",
    "    def inverse(self, y_preds, y_val):\n",
    "        y_preds = np.expm1(y_preds)\n",
    "        y_val = np.expm1(y_val)\n",
    "        return y_preds, y_val\n"
   ]
  },
  {
   "cell_type": "code",
   "execution_count": 203,
   "metadata": {},
   "outputs": [
    {
     "name": "stdout",
     "output_type": "stream",
     "text": [
      "FOLD 0 | MAE: 16026.44081 | R2: 0.99762\n",
      "FOLD 1 | MAE: 15258.42396 | R2: 0.99779\n",
      "FOLD 2 | MAE: 15620.71961 | R2: 0.99783\n",
      "FOLD 3 | MAE: 15771.25243 | R2: 0.99787\n",
      "FOLD 4 | MAE: 16286.84065 | R2: 0.99714\n",
      "FOLD 5 | MAE: 16136.18801 | R2: 0.99750\n",
      "FOLD 6 | MAE: 15393.52528 | R2: 0.99778\n",
      "FOLD 7 | MAE: 15525.34822 | R2: 0.99757\n",
      "FOLD 8 | MAE: 15451.54215 | R2: 0.99769\n",
      "FOLD 9 | MAE: 14977.96128 | R2: 0.99678\n",
      "FOLD 10 | MAE: 15748.57873 | R2: 0.99776\n",
      "FOLD 11 | MAE: 15157.59419 | R2: 0.99685\n",
      "FOLD 12 | MAE: 15727.09335 | R2: 0.99725\n",
      "FOLD 13 | MAE: 15547.68393 | R2: 0.99791\n",
      "FOLD 14 | MAE: 15332.28343 | R2: 0.99788\n",
      "FOLD 15 | MAE: 15123.47310 | R2: 0.99814\n",
      "FOLD 16 | MAE: 16104.52246 | R2: 0.99761\n",
      "FOLD 17 | MAE: 14737.94530 | R2: 0.99783\n",
      "FOLD 18 | MAE: 15438.23266 | R2: 0.99783\n",
      "FOLD 19 | MAE: 16226.11306 | R2: 0.99690\n",
      "FOLD 20 | MAE: 15195.76442 | R2: 0.99728\n",
      "FOLD 21 | MAE: 15684.45743 | R2: 0.99738\n",
      "FOLD 22 | MAE: 16162.57184 | R2: 0.99742\n",
      "FOLD 23 | MAE: 15806.12479 | R2: 0.99794\n",
      "FOLD 24 | MAE: 15286.01887 | R2: 0.99726\n",
      "FOLD 25 | MAE: 15034.51368 | R2: 0.99752\n",
      "FOLD 26 | MAE: 14820.24689 | R2: 0.99803\n",
      "FOLD 27 | MAE: 15957.09343 | R2: 0.99770\n",
      "FOLD 28 | MAE: 15652.54630 | R2: 0.99789\n",
      "FOLD 29 | MAE: 16070.49537 | R2: 0.99680\n",
      "Average MAE across all folds: 15575.38652\n",
      "Average R2 across all folds: 0.99756\n",
      "FOLD 0 | MAE: 11077.26334 | R2: 0.99913\n",
      "FOLD 1 | MAE: 11147.94673 | R2: 0.99910\n",
      "FOLD 2 | MAE: 10879.88572 | R2: 0.99927\n",
      "FOLD 3 | MAE: 10994.01843 | R2: 0.99925\n",
      "FOLD 4 | MAE: 11200.92341 | R2: 0.99916\n",
      "FOLD 5 | MAE: 11431.78624 | R2: 0.99909\n",
      "FOLD 6 | MAE: 11168.46267 | R2: 0.99917\n",
      "FOLD 7 | MAE: 11056.77148 | R2: 0.99910\n",
      "FOLD 8 | MAE: 11541.68618 | R2: 0.99909\n",
      "FOLD 9 | MAE: 10936.55836 | R2: 0.99913\n",
      "FOLD 10 | MAE: 10768.85359 | R2: 0.99928\n",
      "FOLD 11 | MAE: 10687.58975 | R2: 0.99930\n",
      "FOLD 12 | MAE: 10770.10853 | R2: 0.99928\n",
      "FOLD 13 | MAE: 10863.24004 | R2: 0.99931\n",
      "FOLD 14 | MAE: 10474.29530 | R2: 0.99934\n",
      "FOLD 15 | MAE: 10777.46304 | R2: 0.99930\n",
      "FOLD 16 | MAE: 10798.36568 | R2: 0.99928\n",
      "FOLD 17 | MAE: 14737.94530 | R2: 0.99783\n",
      "FOLD 18 | MAE: 10772.07811 | R2: 0.99926\n",
      "FOLD 19 | MAE: 10785.66875 | R2: 0.99932\n",
      "FOLD 20 | MAE: 11110.19584 | R2: 0.99916\n",
      "FOLD 21 | MAE: 11166.78585 | R2: 0.99921\n",
      "FOLD 22 | MAE: 11225.97639 | R2: 0.99916\n",
      "FOLD 23 | MAE: 11057.33032 | R2: 0.99917\n",
      "FOLD 24 | MAE: 11003.54619 | R2: 0.99912\n",
      "FOLD 25 | MAE: 11255.27716 | R2: 0.99915\n",
      "FOLD 26 | MAE: 11048.77709 | R2: 0.99906\n",
      "FOLD 27 | MAE: 11074.03863 | R2: 0.99923\n",
      "FOLD 28 | MAE: 11332.31400 | R2: 0.99906\n",
      "FOLD 29 | MAE: 11161.01466 | R2: 0.99917\n",
      "Average MAE Val: 11143.53889 | Average R2 Val: 0.99915\n"
     ]
    }
   ],
   "source": [
    "params = {'random_state':42}\n",
    "\n",
    "\n",
    "model_xgb = Model(X_train_poly, y, 10, 3, 42, XGBRegressor, params)\n",
    "model_xgb.fit('xgb')\n",
    "\n",
    "feature_importances_xgb = model_xgb.feature_importance()\n",
    "\n",
    "\n",
    "all_mae_xgb,all_r2_xgb, y_preds, y_val = model_xgb.predict()"
   ]
  },
  {
   "cell_type": "code",
   "execution_count": 204,
   "metadata": {},
   "outputs": [
    {
     "name": "stdout",
     "output_type": "stream",
     "text": [
      "FOLD 0 | MAE: 14618.58859 | R2: 0.99781\n",
      "FOLD 1 | MAE: 13895.60263 | R2: 0.99849\n",
      "FOLD 2 | MAE: 14032.77588 | R2: 0.99850\n",
      "FOLD 3 | MAE: 14002.62912 | R2: 0.99861\n",
      "FOLD 4 | MAE: 14600.64049 | R2: 0.99757\n",
      "FOLD 5 | MAE: 14334.46146 | R2: 0.99832\n",
      "FOLD 6 | MAE: 14085.96757 | R2: 0.99834\n",
      "FOLD 7 | MAE: 13713.73608 | R2: 0.99815\n",
      "FOLD 8 | MAE: 14025.41585 | R2: 0.99824\n",
      "FOLD 9 | MAE: 13771.38572 | R2: 0.99775\n",
      "FOLD 10 | MAE: 13485.91199 | R2: 0.99861\n",
      "FOLD 11 | MAE: 15045.69533 | R2: 0.99692\n",
      "FOLD 12 | MAE: 14672.07434 | R2: 0.99775\n",
      "FOLD 13 | MAE: 14045.23347 | R2: 0.99848\n",
      "FOLD 14 | MAE: 13488.92086 | R2: 0.99861\n",
      "FOLD 15 | MAE: 13786.65649 | R2: 0.99855\n",
      "FOLD 16 | MAE: 13872.28947 | R2: 0.99851\n",
      "FOLD 17 | MAE: 13775.48540 | R2: 0.99844\n",
      "FOLD 18 | MAE: 14206.63679 | R2: 0.99826\n",
      "FOLD 19 | MAE: 14713.71184 | R2: 0.99770\n",
      "FOLD 20 | MAE: 13997.56553 | R2: 0.99794\n",
      "FOLD 21 | MAE: 13990.11243 | R2: 0.99783\n",
      "FOLD 22 | MAE: 14071.22813 | R2: 0.99820\n",
      "FOLD 23 | MAE: 14531.59334 | R2: 0.99845\n",
      "FOLD 24 | MAE: 13969.52464 | R2: 0.99826\n",
      "FOLD 25 | MAE: 13989.23161 | R2: 0.99810\n",
      "FOLD 26 | MAE: 14089.98275 | R2: 0.99826\n",
      "FOLD 27 | MAE: 13680.65986 | R2: 0.99832\n",
      "FOLD 28 | MAE: 14288.98430 | R2: 0.99850\n",
      "FOLD 29 | MAE: 14315.23179 | R2: 0.99756\n",
      "Average MAE across all folds: 14103.26446\n",
      "Average R2 across all folds: 0.99817\n",
      "FOLD 0 | MAE: 12373.47871 | R2: 0.99884\n",
      "FOLD 1 | MAE: 12857.01106 | R2: 0.99887\n",
      "FOLD 2 | MAE: 12217.71647 | R2: 0.99905\n",
      "FOLD 3 | MAE: 12424.08272 | R2: 0.99904\n",
      "FOLD 4 | MAE: 12561.58481 | R2: 0.99863\n",
      "FOLD 5 | MAE: 12245.17591 | R2: 0.99901\n",
      "FOLD 6 | MAE: 12218.34834 | R2: 0.99896\n",
      "FOLD 7 | MAE: 12568.50129 | R2: 0.99885\n",
      "FOLD 8 | MAE: 12425.06466 | R2: 0.99892\n",
      "FOLD 9 | MAE: 12153.14239 | R2: 0.99879\n",
      "FOLD 10 | MAE: 13485.91199 | R2: 0.99861\n",
      "FOLD 11 | MAE: 12494.75733 | R2: 0.99857\n",
      "FOLD 12 | MAE: 12311.32607 | R2: 0.99882\n",
      "FOLD 13 | MAE: 12110.45481 | R2: 0.99905\n",
      "FOLD 14 | MAE: 12149.58386 | R2: 0.99903\n",
      "FOLD 15 | MAE: 12018.51745 | R2: 0.99907\n",
      "FOLD 16 | MAE: 12342.16300 | R2: 0.99901\n",
      "FOLD 17 | MAE: 12125.75910 | R2: 0.99902\n",
      "FOLD 18 | MAE: 12447.26967 | R2: 0.99894\n",
      "FOLD 19 | MAE: 12558.34227 | R2: 0.99884\n",
      "FOLD 20 | MAE: 12564.35465 | R2: 0.99880\n",
      "FOLD 21 | MAE: 12457.04371 | R2: 0.99866\n",
      "FOLD 22 | MAE: 12373.21859 | R2: 0.99896\n",
      "FOLD 23 | MAE: 12487.47004 | R2: 0.99899\n",
      "FOLD 24 | MAE: 12425.71460 | R2: 0.99895\n",
      "FOLD 25 | MAE: 12082.57876 | R2: 0.99901\n",
      "FOLD 26 | MAE: 12385.48557 | R2: 0.99888\n",
      "FOLD 27 | MAE: 12406.53051 | R2: 0.99897\n",
      "FOLD 28 | MAE: 12364.16941 | R2: 0.99899\n",
      "FOLD 29 | MAE: 12497.56270 | R2: 0.99876\n",
      "Average MAE Val: 12404.41068 | Average R2 Val: 0.99890\n"
     ]
    }
   ],
   "source": [
    "params = {'random_state':42,'verbosity':-1}\n",
    "model_lgbm = Model(X_train_poly, y, 10, 3, 42, lgbm.LGBMRegressor, params)\n",
    "\n",
    "\n",
    "# Fit the model using RepeatedKFold\n",
    "model_lgbm.fit('lgb')\n",
    "\n",
    "all_mae_lgb,all_r2_lgb, y_preds, y_val = model_lgbm.predict()\n",
    "feature_importances_lgbm = model_lgbm.feature_importance()\n"
   ]
  },
  {
   "cell_type": "code",
   "execution_count": 205,
   "metadata": {},
   "outputs": [
    {
     "data": {
      "text/html": [
       "<pre style=\"white-space:pre;overflow-x:auto;line-height:normal;font-family:Menlo,'DejaVu Sans Mono',consolas,'Courier New',monospace\"><span style=\"font-weight: bold\">Model: \"sequential_1\"</span>\n",
       "</pre>\n"
      ],
      "text/plain": [
       "\u001b[1mModel: \"sequential_1\"\u001b[0m\n"
      ]
     },
     "metadata": {},
     "output_type": "display_data"
    },
    {
     "data": {
      "text/html": [
       "<pre style=\"white-space:pre;overflow-x:auto;line-height:normal;font-family:Menlo,'DejaVu Sans Mono',consolas,'Courier New',monospace\">┏━━━━━━━━━━━━━━━━━━━━━━━━━━━━━━━━━┳━━━━━━━━━━━━━━━━━━━━━━━━┳━━━━━━━━━━━━━━━┓\n",
       "┃<span style=\"font-weight: bold\"> Layer (type)                    </span>┃<span style=\"font-weight: bold\"> Output Shape           </span>┃<span style=\"font-weight: bold\">       Param # </span>┃\n",
       "┡━━━━━━━━━━━━━━━━━━━━━━━━━━━━━━━━━╇━━━━━━━━━━━━━━━━━━━━━━━━╇━━━━━━━━━━━━━━━┩\n",
       "│ dense_6 (<span style=\"color: #0087ff; text-decoration-color: #0087ff\">Dense</span>)                 │ (<span style=\"color: #00d7ff; text-decoration-color: #00d7ff\">None</span>, <span style=\"color: #00af00; text-decoration-color: #00af00\">1024</span>)           │        <span style=\"color: #00af00; text-decoration-color: #00af00\">38,912</span> │\n",
       "├─────────────────────────────────┼────────────────────────┼───────────────┤\n",
       "│ dropout_4 (<span style=\"color: #0087ff; text-decoration-color: #0087ff\">Dropout</span>)             │ (<span style=\"color: #00d7ff; text-decoration-color: #00d7ff\">None</span>, <span style=\"color: #00af00; text-decoration-color: #00af00\">1024</span>)           │             <span style=\"color: #00af00; text-decoration-color: #00af00\">0</span> │\n",
       "├─────────────────────────────────┼────────────────────────┼───────────────┤\n",
       "│ dense_7 (<span style=\"color: #0087ff; text-decoration-color: #0087ff\">Dense</span>)                 │ (<span style=\"color: #00d7ff; text-decoration-color: #00d7ff\">None</span>, <span style=\"color: #00af00; text-decoration-color: #00af00\">512</span>)            │       <span style=\"color: #00af00; text-decoration-color: #00af00\">524,800</span> │\n",
       "├─────────────────────────────────┼────────────────────────┼───────────────┤\n",
       "│ dropout_5 (<span style=\"color: #0087ff; text-decoration-color: #0087ff\">Dropout</span>)             │ (<span style=\"color: #00d7ff; text-decoration-color: #00d7ff\">None</span>, <span style=\"color: #00af00; text-decoration-color: #00af00\">512</span>)            │             <span style=\"color: #00af00; text-decoration-color: #00af00\">0</span> │\n",
       "├─────────────────────────────────┼────────────────────────┼───────────────┤\n",
       "│ dense_8 (<span style=\"color: #0087ff; text-decoration-color: #0087ff\">Dense</span>)                 │ (<span style=\"color: #00d7ff; text-decoration-color: #00d7ff\">None</span>, <span style=\"color: #00af00; text-decoration-color: #00af00\">256</span>)            │       <span style=\"color: #00af00; text-decoration-color: #00af00\">131,328</span> │\n",
       "├─────────────────────────────────┼────────────────────────┼───────────────┤\n",
       "│ dropout_6 (<span style=\"color: #0087ff; text-decoration-color: #0087ff\">Dropout</span>)             │ (<span style=\"color: #00d7ff; text-decoration-color: #00d7ff\">None</span>, <span style=\"color: #00af00; text-decoration-color: #00af00\">256</span>)            │             <span style=\"color: #00af00; text-decoration-color: #00af00\">0</span> │\n",
       "├─────────────────────────────────┼────────────────────────┼───────────────┤\n",
       "│ dense_9 (<span style=\"color: #0087ff; text-decoration-color: #0087ff\">Dense</span>)                 │ (<span style=\"color: #00d7ff; text-decoration-color: #00d7ff\">None</span>, <span style=\"color: #00af00; text-decoration-color: #00af00\">128</span>)            │        <span style=\"color: #00af00; text-decoration-color: #00af00\">32,896</span> │\n",
       "├─────────────────────────────────┼────────────────────────┼───────────────┤\n",
       "│ dropout_7 (<span style=\"color: #0087ff; text-decoration-color: #0087ff\">Dropout</span>)             │ (<span style=\"color: #00d7ff; text-decoration-color: #00d7ff\">None</span>, <span style=\"color: #00af00; text-decoration-color: #00af00\">128</span>)            │             <span style=\"color: #00af00; text-decoration-color: #00af00\">0</span> │\n",
       "├─────────────────────────────────┼────────────────────────┼───────────────┤\n",
       "│ dense_10 (<span style=\"color: #0087ff; text-decoration-color: #0087ff\">Dense</span>)                │ (<span style=\"color: #00d7ff; text-decoration-color: #00d7ff\">None</span>, <span style=\"color: #00af00; text-decoration-color: #00af00\">64</span>)             │         <span style=\"color: #00af00; text-decoration-color: #00af00\">8,256</span> │\n",
       "├─────────────────────────────────┼────────────────────────┼───────────────┤\n",
       "│ dense_11 (<span style=\"color: #0087ff; text-decoration-color: #0087ff\">Dense</span>)                │ (<span style=\"color: #00d7ff; text-decoration-color: #00d7ff\">None</span>, <span style=\"color: #00af00; text-decoration-color: #00af00\">1</span>)              │            <span style=\"color: #00af00; text-decoration-color: #00af00\">65</span> │\n",
       "└─────────────────────────────────┴────────────────────────┴───────────────┘\n",
       "</pre>\n"
      ],
      "text/plain": [
       "┏━━━━━━━━━━━━━━━━━━━━━━━━━━━━━━━━━┳━━━━━━━━━━━━━━━━━━━━━━━━┳━━━━━━━━━━━━━━━┓\n",
       "┃\u001b[1m \u001b[0m\u001b[1mLayer (type)                   \u001b[0m\u001b[1m \u001b[0m┃\u001b[1m \u001b[0m\u001b[1mOutput Shape          \u001b[0m\u001b[1m \u001b[0m┃\u001b[1m \u001b[0m\u001b[1m      Param #\u001b[0m\u001b[1m \u001b[0m┃\n",
       "┡━━━━━━━━━━━━━━━━━━━━━━━━━━━━━━━━━╇━━━━━━━━━━━━━━━━━━━━━━━━╇━━━━━━━━━━━━━━━┩\n",
       "│ dense_6 (\u001b[38;5;33mDense\u001b[0m)                 │ (\u001b[38;5;45mNone\u001b[0m, \u001b[38;5;34m1024\u001b[0m)           │        \u001b[38;5;34m38,912\u001b[0m │\n",
       "├─────────────────────────────────┼────────────────────────┼───────────────┤\n",
       "│ dropout_4 (\u001b[38;5;33mDropout\u001b[0m)             │ (\u001b[38;5;45mNone\u001b[0m, \u001b[38;5;34m1024\u001b[0m)           │             \u001b[38;5;34m0\u001b[0m │\n",
       "├─────────────────────────────────┼────────────────────────┼───────────────┤\n",
       "│ dense_7 (\u001b[38;5;33mDense\u001b[0m)                 │ (\u001b[38;5;45mNone\u001b[0m, \u001b[38;5;34m512\u001b[0m)            │       \u001b[38;5;34m524,800\u001b[0m │\n",
       "├─────────────────────────────────┼────────────────────────┼───────────────┤\n",
       "│ dropout_5 (\u001b[38;5;33mDropout\u001b[0m)             │ (\u001b[38;5;45mNone\u001b[0m, \u001b[38;5;34m512\u001b[0m)            │             \u001b[38;5;34m0\u001b[0m │\n",
       "├─────────────────────────────────┼────────────────────────┼───────────────┤\n",
       "│ dense_8 (\u001b[38;5;33mDense\u001b[0m)                 │ (\u001b[38;5;45mNone\u001b[0m, \u001b[38;5;34m256\u001b[0m)            │       \u001b[38;5;34m131,328\u001b[0m │\n",
       "├─────────────────────────────────┼────────────────────────┼───────────────┤\n",
       "│ dropout_6 (\u001b[38;5;33mDropout\u001b[0m)             │ (\u001b[38;5;45mNone\u001b[0m, \u001b[38;5;34m256\u001b[0m)            │             \u001b[38;5;34m0\u001b[0m │\n",
       "├─────────────────────────────────┼────────────────────────┼───────────────┤\n",
       "│ dense_9 (\u001b[38;5;33mDense\u001b[0m)                 │ (\u001b[38;5;45mNone\u001b[0m, \u001b[38;5;34m128\u001b[0m)            │        \u001b[38;5;34m32,896\u001b[0m │\n",
       "├─────────────────────────────────┼────────────────────────┼───────────────┤\n",
       "│ dropout_7 (\u001b[38;5;33mDropout\u001b[0m)             │ (\u001b[38;5;45mNone\u001b[0m, \u001b[38;5;34m128\u001b[0m)            │             \u001b[38;5;34m0\u001b[0m │\n",
       "├─────────────────────────────────┼────────────────────────┼───────────────┤\n",
       "│ dense_10 (\u001b[38;5;33mDense\u001b[0m)                │ (\u001b[38;5;45mNone\u001b[0m, \u001b[38;5;34m64\u001b[0m)             │         \u001b[38;5;34m8,256\u001b[0m │\n",
       "├─────────────────────────────────┼────────────────────────┼───────────────┤\n",
       "│ dense_11 (\u001b[38;5;33mDense\u001b[0m)                │ (\u001b[38;5;45mNone\u001b[0m, \u001b[38;5;34m1\u001b[0m)              │            \u001b[38;5;34m65\u001b[0m │\n",
       "└─────────────────────────────────┴────────────────────────┴───────────────┘\n"
      ]
     },
     "metadata": {},
     "output_type": "display_data"
    },
    {
     "data": {
      "text/html": [
       "<pre style=\"white-space:pre;overflow-x:auto;line-height:normal;font-family:Menlo,'DejaVu Sans Mono',consolas,'Courier New',monospace\"><span style=\"font-weight: bold\"> Total params: </span><span style=\"color: #00af00; text-decoration-color: #00af00\">736,257</span> (2.81 MB)\n",
       "</pre>\n"
      ],
      "text/plain": [
       "\u001b[1m Total params: \u001b[0m\u001b[38;5;34m736,257\u001b[0m (2.81 MB)\n"
      ]
     },
     "metadata": {},
     "output_type": "display_data"
    },
    {
     "data": {
      "text/html": [
       "<pre style=\"white-space:pre;overflow-x:auto;line-height:normal;font-family:Menlo,'DejaVu Sans Mono',consolas,'Courier New',monospace\"><span style=\"font-weight: bold\"> Trainable params: </span><span style=\"color: #00af00; text-decoration-color: #00af00\">736,257</span> (2.81 MB)\n",
       "</pre>\n"
      ],
      "text/plain": [
       "\u001b[1m Trainable params: \u001b[0m\u001b[38;5;34m736,257\u001b[0m (2.81 MB)\n"
      ]
     },
     "metadata": {},
     "output_type": "display_data"
    },
    {
     "data": {
      "text/html": [
       "<pre style=\"white-space:pre;overflow-x:auto;line-height:normal;font-family:Menlo,'DejaVu Sans Mono',consolas,'Courier New',monospace\"><span style=\"font-weight: bold\"> Non-trainable params: </span><span style=\"color: #00af00; text-decoration-color: #00af00\">0</span> (0.00 B)\n",
       "</pre>\n"
      ],
      "text/plain": [
       "\u001b[1m Non-trainable params: \u001b[0m\u001b[38;5;34m0\u001b[0m (0.00 B)\n"
      ]
     },
     "metadata": {},
     "output_type": "display_data"
    },
    {
     "name": "stdout",
     "output_type": "stream",
     "text": [
      "Epoch 1/100\n",
      "\u001b[1m1137/1137\u001b[0m \u001b[32m━━━━━━━━━━━━━━━━━━━━\u001b[0m\u001b[37m\u001b[0m \u001b[1m22s\u001b[0m 16ms/step - loss: 337571643392.0000 - mae: 371593.9375 - val_loss: 107436834816.0000 - val_mae: 208068.9531\n",
      "Epoch 2/100\n",
      "\u001b[1m1137/1137\u001b[0m \u001b[32m━━━━━━━━━━━━━━━━━━━━\u001b[0m\u001b[37m\u001b[0m \u001b[1m19s\u001b[0m 15ms/step - loss: 107433771008.0000 - mae: 216082.1406 - val_loss: 87769604096.0000 - val_mae: 185136.1875\n",
      "Epoch 3/100\n",
      "\u001b[1m1137/1137\u001b[0m \u001b[32m━━━━━━━━━━━━━━━━━━━━\u001b[0m\u001b[37m\u001b[0m \u001b[1m18s\u001b[0m 15ms/step - loss: 98554863616.0000 - mae: 204030.3594 - val_loss: 62343684096.0000 - val_mae: 150853.9062\n",
      "Epoch 4/100\n",
      "\u001b[1m1137/1137\u001b[0m \u001b[32m━━━━━━━━━━━━━━━━━━━━\u001b[0m\u001b[37m\u001b[0m \u001b[1m18s\u001b[0m 16ms/step - loss: 79093473280.0000 - mae: 189591.4219 - val_loss: 49459286016.0000 - val_mae: 133579.2188\n",
      "Epoch 5/100\n",
      "\u001b[1m1137/1137\u001b[0m \u001b[32m━━━━━━━━━━━━━━━━━━━━\u001b[0m\u001b[37m\u001b[0m \u001b[1m20s\u001b[0m 15ms/step - loss: 64909271040.0000 - mae: 176002.1875 - val_loss: 38060396544.0000 - val_mae: 113593.0078\n",
      "Epoch 6/100\n",
      "\u001b[1m1137/1137\u001b[0m \u001b[32m━━━━━━━━━━━━━━━━━━━━\u001b[0m\u001b[37m\u001b[0m \u001b[1m21s\u001b[0m 16ms/step - loss: 53722947584.0000 - mae: 157584.1406 - val_loss: 32216074240.0000 - val_mae: 102688.2031\n",
      "Epoch 7/100\n",
      "\u001b[1m1137/1137\u001b[0m \u001b[32m━━━━━━━━━━━━━━━━━━━━\u001b[0m\u001b[37m\u001b[0m \u001b[1m18s\u001b[0m 16ms/step - loss: 48938545152.0000 - mae: 146636.2188 - val_loss: 24050685952.0000 - val_mae: 88507.2031\n",
      "Epoch 8/100\n",
      "\u001b[1m1137/1137\u001b[0m \u001b[32m━━━━━━━━━━━━━━━━━━━━\u001b[0m\u001b[37m\u001b[0m \u001b[1m20s\u001b[0m 15ms/step - loss: 42022395904.0000 - mae: 138194.6719 - val_loss: 20603746304.0000 - val_mae: 84522.9766\n",
      "Epoch 9/100\n",
      "\u001b[1m1137/1137\u001b[0m \u001b[32m━━━━━━━━━━━━━━━━━━━━\u001b[0m\u001b[37m\u001b[0m \u001b[1m18s\u001b[0m 16ms/step - loss: 35464593408.0000 - mae: 130220.9453 - val_loss: 19416580096.0000 - val_mae: 80655.4062\n",
      "Epoch 10/100\n",
      "\u001b[1m1137/1137\u001b[0m \u001b[32m━━━━━━━━━━━━━━━━━━━━\u001b[0m\u001b[37m\u001b[0m \u001b[1m21s\u001b[0m 16ms/step - loss: 35176828928.0000 - mae: 127263.0156 - val_loss: 14564711424.0000 - val_mae: 73964.9219\n",
      "Epoch 11/100\n",
      "\u001b[1m1137/1137\u001b[0m \u001b[32m━━━━━━━━━━━━━━━━━━━━\u001b[0m\u001b[37m\u001b[0m \u001b[1m21s\u001b[0m 16ms/step - loss: 32211388416.0000 - mae: 121277.8750 - val_loss: 15881574400.0000 - val_mae: 78037.9453\n",
      "Epoch 12/100\n",
      "\u001b[1m1137/1137\u001b[0m \u001b[32m━━━━━━━━━━━━━━━━━━━━\u001b[0m\u001b[37m\u001b[0m \u001b[1m23s\u001b[0m 17ms/step - loss: 30494636032.0000 - mae: 119483.1875 - val_loss: 11473812480.0000 - val_mae: 65942.1328\n",
      "Epoch 13/100\n",
      "\u001b[1m1137/1137\u001b[0m \u001b[32m━━━━━━━━━━━━━━━━━━━━\u001b[0m\u001b[37m\u001b[0m \u001b[1m19s\u001b[0m 17ms/step - loss: 27177803776.0000 - mae: 114376.6953 - val_loss: 9273041920.0000 - val_mae: 57892.5625\n",
      "Epoch 14/100\n",
      "\u001b[1m1137/1137\u001b[0m \u001b[32m━━━━━━━━━━━━━━━━━━━━\u001b[0m\u001b[37m\u001b[0m \u001b[1m19s\u001b[0m 17ms/step - loss: 28980301824.0000 - mae: 114166.8828 - val_loss: 9141168128.0000 - val_mae: 56895.7461\n",
      "Epoch 15/100\n",
      "\u001b[1m1137/1137\u001b[0m \u001b[32m━━━━━━━━━━━━━━━━━━━━\u001b[0m\u001b[37m\u001b[0m \u001b[1m19s\u001b[0m 17ms/step - loss: 25925122048.0000 - mae: 110633.7812 - val_loss: 13888705536.0000 - val_mae: 74551.6641\n",
      "Epoch 16/100\n",
      "\u001b[1m1137/1137\u001b[0m \u001b[32m━━━━━━━━━━━━━━━━━━━━\u001b[0m\u001b[37m\u001b[0m \u001b[1m21s\u001b[0m 17ms/step - loss: 25793853440.0000 - mae: 109048.6484 - val_loss: 10041074688.0000 - val_mae: 63914.6016\n",
      "Epoch 17/100\n",
      "\u001b[1m1137/1137\u001b[0m \u001b[32m━━━━━━━━━━━━━━━━━━━━\u001b[0m\u001b[37m\u001b[0m \u001b[1m20s\u001b[0m 17ms/step - loss: 22353860608.0000 - mae: 103520.5703 - val_loss: 8197502464.0000 - val_mae: 56791.1719\n",
      "Epoch 18/100\n",
      "\u001b[1m1137/1137\u001b[0m \u001b[32m━━━━━━━━━━━━━━━━━━━━\u001b[0m\u001b[37m\u001b[0m \u001b[1m19s\u001b[0m 17ms/step - loss: 24802707456.0000 - mae: 106808.3281 - val_loss: 7743156736.0000 - val_mae: 53991.0508\n",
      "Epoch 19/100\n",
      "\u001b[1m1137/1137\u001b[0m \u001b[32m━━━━━━━━━━━━━━━━━━━━\u001b[0m\u001b[37m\u001b[0m \u001b[1m21s\u001b[0m 18ms/step - loss: 23613800448.0000 - mae: 105213.0781 - val_loss: 8041249280.0000 - val_mae: 55625.7070\n",
      "Epoch 20/100\n",
      "\u001b[1m1137/1137\u001b[0m \u001b[32m━━━━━━━━━━━━━━━━━━━━\u001b[0m\u001b[37m\u001b[0m \u001b[1m28s\u001b[0m 24ms/step - loss: 21487775744.0000 - mae: 100101.8594 - val_loss: 7268435968.0000 - val_mae: 51734.7930\n",
      "Epoch 21/100\n",
      "\u001b[1m1137/1137\u001b[0m \u001b[32m━━━━━━━━━━━━━━━━━━━━\u001b[0m\u001b[37m\u001b[0m \u001b[1m34s\u001b[0m 18ms/step - loss: 22044948480.0000 - mae: 101516.2188 - val_loss: 10122775552.0000 - val_mae: 63784.4883\n",
      "Epoch 22/100\n",
      "\u001b[1m1137/1137\u001b[0m \u001b[32m━━━━━━━━━━━━━━━━━━━━\u001b[0m\u001b[37m\u001b[0m \u001b[1m20s\u001b[0m 17ms/step - loss: 20231407616.0000 - mae: 98201.4453 - val_loss: 5752011264.0000 - val_mae: 48639.0430\n",
      "Epoch 23/100\n",
      "\u001b[1m1137/1137\u001b[0m \u001b[32m━━━━━━━━━━━━━━━━━━━━\u001b[0m\u001b[37m\u001b[0m \u001b[1m20s\u001b[0m 17ms/step - loss: 20607741952.0000 - mae: 98621.7500 - val_loss: 8283780608.0000 - val_mae: 60600.6016\n",
      "Epoch 24/100\n",
      "\u001b[1m1137/1137\u001b[0m \u001b[32m━━━━━━━━━━━━━━━━━━━━\u001b[0m\u001b[37m\u001b[0m \u001b[1m20s\u001b[0m 17ms/step - loss: 20093106176.0000 - mae: 97405.3750 - val_loss: 5106355200.0000 - val_mae: 44462.0625\n",
      "Epoch 25/100\n",
      "\u001b[1m1137/1137\u001b[0m \u001b[32m━━━━━━━━━━━━━━━━━━━━\u001b[0m\u001b[37m\u001b[0m \u001b[1m20s\u001b[0m 17ms/step - loss: 20377982976.0000 - mae: 97293.1797 - val_loss: 5087038464.0000 - val_mae: 44753.0938\n",
      "Epoch 26/100\n",
      "\u001b[1m1137/1137\u001b[0m \u001b[32m━━━━━━━━━━━━━━━━━━━━\u001b[0m\u001b[37m\u001b[0m \u001b[1m20s\u001b[0m 17ms/step - loss: 19370186752.0000 - mae: 95273.6719 - val_loss: 5964442624.0000 - val_mae: 50008.8398\n",
      "Epoch 27/100\n",
      "\u001b[1m1137/1137\u001b[0m \u001b[32m━━━━━━━━━━━━━━━━━━━━\u001b[0m\u001b[37m\u001b[0m \u001b[1m20s\u001b[0m 17ms/step - loss: 19163080704.0000 - mae: 94705.6641 - val_loss: 4104353024.0000 - val_mae: 40259.3945\n",
      "Epoch 28/100\n",
      "\u001b[1m1137/1137\u001b[0m \u001b[32m━━━━━━━━━━━━━━━━━━━━\u001b[0m\u001b[37m\u001b[0m \u001b[1m19s\u001b[0m 17ms/step - loss: 19600754688.0000 - mae: 95209.7344 - val_loss: 6361097728.0000 - val_mae: 49353.1797\n",
      "Epoch 29/100\n",
      "\u001b[1m1137/1137\u001b[0m \u001b[32m━━━━━━━━━━━━━━━━━━━━\u001b[0m\u001b[37m\u001b[0m \u001b[1m20s\u001b[0m 17ms/step - loss: 18880825344.0000 - mae: 93174.6172 - val_loss: 4409112064.0000 - val_mae: 40752.5391\n",
      "Epoch 30/100\n",
      "\u001b[1m1137/1137\u001b[0m \u001b[32m━━━━━━━━━━━━━━━━━━━━\u001b[0m\u001b[37m\u001b[0m \u001b[1m20s\u001b[0m 17ms/step - loss: 18440218624.0000 - mae: 92652.0938 - val_loss: 4581487616.0000 - val_mae: 44134.0078\n",
      "Epoch 31/100\n",
      "\u001b[1m1137/1137\u001b[0m \u001b[32m━━━━━━━━━━━━━━━━━━━━\u001b[0m\u001b[37m\u001b[0m \u001b[1m21s\u001b[0m 18ms/step - loss: 18228148224.0000 - mae: 91399.6406 - val_loss: 4026027520.0000 - val_mae: 38538.4453\n",
      "Epoch 32/100\n",
      "\u001b[1m1137/1137\u001b[0m \u001b[32m━━━━━━━━━━━━━━━━━━━━\u001b[0m\u001b[37m\u001b[0m \u001b[1m22s\u001b[0m 19ms/step - loss: 18779490304.0000 - mae: 92280.6328 - val_loss: 4058652928.0000 - val_mae: 41569.8672\n",
      "Epoch 33/100\n",
      "\u001b[1m1137/1137\u001b[0m \u001b[32m━━━━━━━━━━━━━━━━━━━━\u001b[0m\u001b[37m\u001b[0m \u001b[1m22s\u001b[0m 19ms/step - loss: 17905876992.0000 - mae: 90229.6406 - val_loss: 4124390656.0000 - val_mae: 40001.9180\n",
      "Epoch 34/100\n",
      "\u001b[1m1137/1137\u001b[0m \u001b[32m━━━━━━━━━━━━━━━━━━━━\u001b[0m\u001b[37m\u001b[0m \u001b[1m20s\u001b[0m 18ms/step - loss: 17949581312.0000 - mae: 90881.3281 - val_loss: 5742218752.0000 - val_mae: 51356.6875\n",
      "Epoch 35/100\n",
      "\u001b[1m1137/1137\u001b[0m \u001b[32m━━━━━━━━━━━━━━━━━━━━\u001b[0m\u001b[37m\u001b[0m \u001b[1m21s\u001b[0m 18ms/step - loss: 17461098496.0000 - mae: 90212.2031 - val_loss: 4119576832.0000 - val_mae: 38981.9609\n",
      "Epoch 36/100\n",
      "\u001b[1m1137/1137\u001b[0m \u001b[32m━━━━━━━━━━━━━━━━━━━━\u001b[0m\u001b[37m\u001b[0m \u001b[1m20s\u001b[0m 18ms/step - loss: 17322514432.0000 - mae: 89677.2812 - val_loss: 4645976064.0000 - val_mae: 44813.3945\n",
      "Epoch 37/100\n",
      "\u001b[1m1137/1137\u001b[0m \u001b[32m━━━━━━━━━━━━━━━━━━━━\u001b[0m\u001b[37m\u001b[0m \u001b[1m20s\u001b[0m 17ms/step - loss: 16764421120.0000 - mae: 88887.4922 - val_loss: 3470938624.0000 - val_mae: 37716.2109\n",
      "Epoch 38/100\n",
      "\u001b[1m1137/1137\u001b[0m \u001b[32m━━━━━━━━━━━━━━━━━━━━\u001b[0m\u001b[37m\u001b[0m \u001b[1m20s\u001b[0m 17ms/step - loss: 16284365824.0000 - mae: 87259.3516 - val_loss: 3764902912.0000 - val_mae: 36155.7852\n",
      "Epoch 39/100\n",
      "\u001b[1m1137/1137\u001b[0m \u001b[32m━━━━━━━━━━━━━━━━━━━━\u001b[0m\u001b[37m\u001b[0m \u001b[1m20s\u001b[0m 17ms/step - loss: 17129221120.0000 - mae: 88486.6641 - val_loss: 4501196800.0000 - val_mae: 40202.0273\n",
      "Epoch 40/100\n",
      "\u001b[1m1137/1137\u001b[0m \u001b[32m━━━━━━━━━━━━━━━━━━━━\u001b[0m\u001b[37m\u001b[0m \u001b[1m20s\u001b[0m 18ms/step - loss: 16984786944.0000 - mae: 87926.8203 - val_loss: 2620749568.0000 - val_mae: 31988.6875\n",
      "Epoch 41/100\n",
      "\u001b[1m1137/1137\u001b[0m \u001b[32m━━━━━━━━━━━━━━━━━━━━\u001b[0m\u001b[37m\u001b[0m \u001b[1m20s\u001b[0m 18ms/step - loss: 17295284224.0000 - mae: 87961.0391 - val_loss: 4393542656.0000 - val_mae: 41747.7969\n",
      "Epoch 42/100\n",
      "\u001b[1m1137/1137\u001b[0m \u001b[32m━━━━━━━━━━━━━━━━━━━━\u001b[0m\u001b[37m\u001b[0m \u001b[1m19s\u001b[0m 17ms/step - loss: 15873544192.0000 - mae: 86227.7109 - val_loss: 3775131136.0000 - val_mae: 37760.4844\n",
      "Epoch 43/100\n",
      "\u001b[1m1137/1137\u001b[0m \u001b[32m━━━━━━━━━━━━━━━━━━━━\u001b[0m\u001b[37m\u001b[0m \u001b[1m20s\u001b[0m 18ms/step - loss: 16189630464.0000 - mae: 86385.6016 - val_loss: 2681016832.0000 - val_mae: 31951.5254\n",
      "Epoch 44/100\n",
      "\u001b[1m1137/1137\u001b[0m \u001b[32m━━━━━━━━━━━━━━━━━━━━\u001b[0m\u001b[37m\u001b[0m \u001b[1m20s\u001b[0m 18ms/step - loss: 15850689536.0000 - mae: 85193.5000 - val_loss: 3331568640.0000 - val_mae: 38025.2930\n",
      "Epoch 45/100\n",
      "\u001b[1m1137/1137\u001b[0m \u001b[32m━━━━━━━━━━━━━━━━━━━━\u001b[0m\u001b[37m\u001b[0m \u001b[1m20s\u001b[0m 17ms/step - loss: 15670742016.0000 - mae: 85369.3984 - val_loss: 3677736448.0000 - val_mae: 36531.8555\n",
      "Epoch 46/100\n",
      "\u001b[1m1137/1137\u001b[0m \u001b[32m━━━━━━━━━━━━━━━━━━━━\u001b[0m\u001b[37m\u001b[0m \u001b[1m20s\u001b[0m 17ms/step - loss: 15612641280.0000 - mae: 84714.9844 - val_loss: 4362127872.0000 - val_mae: 44768.7539\n",
      "Epoch 47/100\n",
      "\u001b[1m1137/1137\u001b[0m \u001b[32m━━━━━━━━━━━━━━━━━━━━\u001b[0m\u001b[37m\u001b[0m \u001b[1m20s\u001b[0m 17ms/step - loss: 15077496832.0000 - mae: 83778.8047 - val_loss: 3583380736.0000 - val_mae: 38733.2422\n",
      "Epoch 48/100\n",
      "\u001b[1m1137/1137\u001b[0m \u001b[32m━━━━━━━━━━━━━━━━━━━━\u001b[0m\u001b[37m\u001b[0m \u001b[1m21s\u001b[0m 18ms/step - loss: 15889912832.0000 - mae: 84956.7344 - val_loss: 5023939584.0000 - val_mae: 49152.4961\n",
      "Epoch 49/100\n",
      "\u001b[1m1137/1137\u001b[0m \u001b[32m━━━━━━━━━━━━━━━━━━━━\u001b[0m\u001b[37m\u001b[0m \u001b[1m20s\u001b[0m 17ms/step - loss: 15719101440.0000 - mae: 85362.4922 - val_loss: 4232382464.0000 - val_mae: 38394.8906\n",
      "Epoch 50/100\n",
      "\u001b[1m1137/1137\u001b[0m \u001b[32m━━━━━━━━━━━━━━━━━━━━\u001b[0m\u001b[37m\u001b[0m \u001b[1m21s\u001b[0m 18ms/step - loss: 15352669184.0000 - mae: 84295.4375 - val_loss: 5560217600.0000 - val_mae: 52524.9102\n",
      "\u001b[1m356/356\u001b[0m \u001b[32m━━━━━━━━━━━━━━━━━━━━\u001b[0m\u001b[37m\u001b[0m \u001b[1m1s\u001b[0m 4ms/step - loss: 2477923840.0000 - mae: 31697.5117\n",
      "Test Loss (MSE): 2349549568.0\n",
      "Test MAE: 31302.7265625\n",
      "\u001b[1m356/356\u001b[0m \u001b[32m━━━━━━━━━━━━━━━━━━━━\u001b[0m\u001b[37m\u001b[0m \u001b[1m2s\u001b[0m 4ms/step\n"
     ]
    },
    {
     "data": {
      "image/png": "[encoded data removed]",
      "text/plain": [
       "<Figure size 800x550 with 1 Axes>"
      ]
     },
     "metadata": {},
     "output_type": "display_data"
    }
   ],
   "source": [
    "import tensorflow as tf\n",
    "from sklearn.preprocessing import StandardScaler\n",
    "import matplotlib.pyplot as plt\n",
    "\n",
    "# Normalize the features\n",
    "scaler = StandardScaler()\n",
    "X_train_scaled = scaler.fit_transform(X_train)\n",
    "X_test_scaled = scaler.transform(X_test)\n",
    "\n",
    "# Define the TensorFlow model\n",
    "def build_model():\n",
    "    model = tf.keras.Sequential([\n",
    "        tf.keras.layers.Dense(1024, activation='relu', input_shape=(X_train_scaled.shape[1],)),\n",
    "        tf.keras.layers.Dropout(0.5),  # Adding dropout for regularization\n",
    "        tf.keras.layers.Dense(512, activation='relu'),\n",
    "        tf.keras.layers.Dropout(0.4),  # Adding dropout for regularization\n",
    "        tf.keras.layers.Dense(256, activation='relu'),\n",
    "        tf.keras.layers.Dropout(0.3),  # Adding dropout for regularization\n",
    "        tf.keras.layers.Dense(128, activation='relu'),\n",
    "        tf.keras.layers.Dropout(0.2),  # Adding dropout for regularization\n",
    "        tf.keras.layers.Dense(64, activation='relu'),\n",
    "        tf.keras.layers.Dense(1)  # Output layer for regression\n",
    "    ])\n",
    "    model.compile(optimizer=tf.keras.optimizers.Adam(learning_rate=0.001),\n",
    "                  loss='mean_squared_error',\n",
    "                  metrics=['mae'])\n",
    "    return model\n",
    "\n",
    "# Custom callback to stop training when target is reached\n",
    "class TargetCallback(tf.keras.callbacks.Callback):\n",
    "    def on_epoch_end(self, epoch, logs={}):\n",
    "        if logs.get('mae') < 0.1 and logs.get('val_mae') < 0.1:\n",
    "            print(\"\\n\\nTarget tercapai\\n\")\n",
    "            self.model.stop_training = True\n",
    "\n",
    "# Build the model\n",
    "model = build_model()\n",
    "\n",
    "# Print the model summary\n",
    "model.summary()\n",
    "\n",
    "# Define early stopping callback\n",
    "early_stopping = tf.keras.callbacks.EarlyStopping(monitor='val_loss', patience=10, restore_best_weights=True)\n",
    "\n",
    "# Define the custom callback\n",
    "target_callback = TargetCallback()\n",
    "\n",
    "# Train the model\n",
    "history = model.fit(X_train_scaled, y_train,\n",
    "                    validation_split=0.2,\n",
    "                    epochs=100,\n",
    "                    batch_size=32,\n",
    "                    callbacks=[early_stopping, target_callback])\n",
    "\n",
    "# Evaluate the model on the test set\n",
    "test_loss, test_mae = model.evaluate(X_test_scaled, y_test)\n",
    "print(f'Test Loss (MSE): {test_loss}')\n",
    "print(f'Test MAE: {test_mae}')\n",
    "\n",
    "# If you want to make predictions\n",
    "predictions = model.predict(X_test_scaled)\n",
    "\n",
    "# Plot training history\n",
    "plt.plot(history.history['loss'], label='Training Loss')\n",
    "plt.plot(history.history['val_loss'], label='Validation Loss')\n",
    "plt.xlabel('Epoch')\n",
    "plt.ylabel('Loss')\n",
    "plt.legend()\n",
    "plt.show()\n"
   ]
  },
  {
   "cell_type": "markdown",
   "metadata": {},
   "source": [
    "### Features Importance"
   ]
  },
  {
   "cell_type": "code",
   "execution_count": 206,
   "metadata": {},
   "outputs": [
    {
     "name": "stdout",
     "output_type": "stream",
     "text": [
      "Feature importances for AdaBoost model:\n",
      "                     feature    importance\n",
      "7      booking_earned_in_idr  4.560820e-01\n",
      "8             length_of_stay  2.799065e-01\n",
      "16   avg_daily_rate_per_unit  2.242822e-01\n",
      "2             booking_earned  1.010732e-02\n",
      "10                   unit_id  4.575543e-03\n",
      "31     booking_check_in_date  2.659723e-03\n",
      "6     review_sentiment_score  2.283705e-03\n",
      "1       booking_guest_number  2.040547e-03\n",
      "4                 listing_id  2.011296e-03\n",
      "35   booking_check_out_month  1.963622e-03\n",
      "27                   area_id  1.876066e-03\n",
      "34    booking_check_out_date  1.860357e-03\n",
      "23                   parking  1.598998e-03\n",
      "12                  bathroom  1.530080e-03\n",
      "32    booking_check_in_month  1.295792e-03\n",
      "14                  capacity  8.682751e-04\n",
      "28                 area_name  7.563185e-04\n",
      "15               property_id  6.774620e-04\n",
      "11                   bedroom  6.661980e-04\n",
      "26              property_id1  5.784890e-04\n",
      "36    booking_check_out_year  4.723831e-04\n",
      "9                seasonality  4.195197e-04\n",
      "33     booking_check_in_year  2.885566e-04\n",
      "29  area_distance_to_airport  2.506487e-04\n",
      "13                      beds  2.089611e-04\n",
      "3           booking_currency  1.796889e-04\n",
      "30  airport_pickup_price_idr  1.236644e-04\n",
      "0             booking_status  1.042545e-04\n",
      "18                        tv  7.533755e-05\n",
      "5           review_sentiment  5.401625e-05\n",
      "19                  cable_tv  5.256690e-05\n",
      "21                 workspace  4.988595e-05\n",
      "25                   kitchen  4.582725e-05\n",
      "17                      wifi  2.634259e-05\n",
      "22                      pool  2.610328e-05\n",
      "20                        ac  1.741092e-06\n",
      "24                       gym  7.139560e-08\n"
     ]
    },
    {
     "data": {
      "image/png": "[encoded data removed]",
      "text/plain": [
       "<Figure size 1000x600 with 1 Axes>"
      ]
     },
     "metadata": {},
     "output_type": "display_data"
    }
   ],
   "source": [
    "import matplotlib.pyplot as plt\n",
    "\n",
    "# Asumsi model_adaboost sudah di-fit dan siap digunakan untuk mengambil feature importances\n",
    "print(\"Feature importances for AdaBoost model:\")\n",
    "feature_importances_adaboost = model_adaboost.feature_importance()\n",
    "print(feature_importances_adaboost)\n",
    "\n",
    "# Membuat bar chart untuk feature importances\n",
    "if isinstance(feature_importances_adaboost, pd.DataFrame):\n",
    "    # Ambil 10 fitur teratas\n",
    "    top_10_features = feature_importances_adaboost.nlargest(10, 'importance')\n",
    "\n",
    "    fig, ax = plt.subplots(figsize=(10, 6))\n",
    "\n",
    "    bars = ax.barh(top_10_features['feature'], top_10_features['importance'], color='gray')\n",
    "    \n",
    "    # Warna khusus untuk fitur terpenting dan fitur terakhir\n",
    "    bars[0].set_color('lightseagreen')\n",
    "    bars[-1].set_color('lightsalmon')\n",
    "\n",
    "    ax.set_xlabel('Feature Importance')\n",
    "    ax.set_title('Top 10 Feature Importances for AdaBoost Model')\n",
    "    ax.invert_yaxis()  # Membalik sumbu y agar fitur dengan importance tertinggi berada di atas\n",
    "    ax.xaxis.grid(False)\n",
    "    ax.yaxis.grid(False)\n",
    "\n",
    "    plt.show()\n",
    "else:\n",
    "    print(\"The best model does not support feature importance or there was an error.\")\n"
   ]
  },
  {
   "cell_type": "code",
   "execution_count": 207,
   "metadata": {},
   "outputs": [
    {
     "name": "stdout",
     "output_type": "stream",
     "text": [
      "Feature importances for Decision Tree Model model:\n",
      "                     feature    importance\n",
      "16   avg_daily_rate_per_unit  6.337091e-01\n",
      "7      booking_earned_in_idr  2.584965e-01\n",
      "8             length_of_stay  1.041452e-01\n",
      "2             booking_earned  1.983595e-03\n",
      "10                   unit_id  2.665556e-04\n",
      "29  area_distance_to_airport  2.276562e-04\n",
      "4                 listing_id  1.818352e-04\n",
      "14                  capacity  1.786943e-04\n",
      "31     booking_check_in_date  1.367735e-04\n",
      "34    booking_check_out_date  9.674681e-05\n",
      "32    booking_check_in_month  8.765863e-05\n",
      "35   booking_check_out_month  8.456838e-05\n",
      "27                   area_id  7.320198e-05\n",
      "15               property_id  7.100383e-05\n",
      "33     booking_check_in_year  5.689561e-05\n",
      "22                      pool  4.209109e-05\n",
      "12                  bathroom  2.643271e-05\n",
      "0             booking_status  2.529020e-05\n",
      "9                seasonality  2.333294e-05\n",
      "36    booking_check_out_year  1.876314e-05\n",
      "25                   kitchen  1.267829e-05\n",
      "26              property_id1  1.079103e-05\n",
      "11                   bedroom  9.948568e-06\n",
      "6     review_sentiment_score  8.490690e-06\n",
      "17                      wifi  7.702148e-06\n",
      "28                 area_name  7.538308e-06\n",
      "3           booking_currency  3.256828e-06\n",
      "18                        tv  1.825712e-06\n",
      "30  airport_pickup_price_idr  1.633522e-06\n",
      "23                   parking  1.233959e-06\n",
      "21                 workspace  1.184854e-06\n",
      "13                      beds  1.122696e-06\n",
      "1       booking_guest_number  5.504851e-07\n",
      "19                  cable_tv  1.093097e-07\n",
      "5           review_sentiment  7.374473e-08\n",
      "20                        ac  2.005906e-10\n",
      "24                       gym  4.303260e-12\n"
     ]
    },
    {
     "data": {
      "image/png": "[encoded data removed]",
      "text/plain": [
       "<Figure size 1000x600 with 1 Axes>"
      ]
     },
     "metadata": {},
     "output_type": "display_data"
    }
   ],
   "source": [
    "import matplotlib.pyplot as plt\n",
    "\n",
    "# Asumsi model_adaboost sudah di-fit dan siap digunakan untuk mengambil feature importances\n",
    "print(\"Feature importances for Decision Tree Model model:\")\n",
    "feature_importances_dt = model_dt.feature_importance()\n",
    "print(feature_importances_dt)\n",
    "\n",
    "# Membuat bar chart untuk feature importances\n",
    "if isinstance(feature_importances_dt, pd.DataFrame):\n",
    "    # Ambil 10 fitur teratas\n",
    "    top_10_features = feature_importances_dt.nlargest(10, 'importance')\n",
    "\n",
    "    fig, ax = plt.subplots(figsize=(10, 6))\n",
    "\n",
    "    bars = ax.barh(top_10_features['feature'], top_10_features['importance'], color='gray')\n",
    "    \n",
    "    # Warna khusus untuk fitur terpenting dan fitur terakhir\n",
    "    bars[0].set_color('lightseagreen')\n",
    "    bars[-1].set_color('lightsalmon')\n",
    "\n",
    "    ax.set_xlabel('Feature Importance')\n",
    "    ax.set_title('Top 10 Feature Importances for Decision Tree Model')\n",
    "    ax.invert_yaxis()  # Membalik sumbu y agar fitur dengan importance tertinggi berada di atas\n",
    "    ax.xaxis.grid(False)\n",
    "    ax.yaxis.grid(False)\n",
    "\n",
    "    plt.show()\n",
    "else:\n",
    "    print(\"The best model does not support feature importance or there was an error.\")\n"
   ]
  }
 ],
 "metadata": {
  "kernelspec": {
   "display_name": "Python 3",
   "language": "python",
   "name": "python3"
  },
  "language_info": {
   "codemirror_mode": {
    "name": "ipython",
    "version": 3
   },
   "file_extension": ".py",
   "mimetype": "text/x-python",
   "name": "python",
   "nbconvert_exporter": "python",
   "pygments_lexer": "ipython3",
   "version": "3.11.0"
  }
 },
 "nbformat": 4,
 "nbformat_minor": 2
}
